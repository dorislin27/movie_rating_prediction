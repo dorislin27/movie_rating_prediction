{
 "cells": [
  {
   "cell_type": "markdown",
   "metadata": {},
   "source": [
    "# Data Preparation"
   ]
  },
  {
   "cell_type": "code",
   "execution_count": 1,
   "metadata": {},
   "outputs": [],
   "source": [
    "# import modules\n",
    "import pandas as pd\n",
    "import numpy as np\n",
    "import matplotlib.pyplot as plt\n",
    "import seaborn as sns"
   ]
  },
  {
   "cell_type": "markdown",
   "metadata": {},
   "source": [
    "### Load Data Sets"
   ]
  },
  {
   "cell_type": "code",
   "execution_count": 2,
   "metadata": {},
   "outputs": [
    {
     "name": "stderr",
     "output_type": "stream",
     "text": [
      "/anaconda3/lib/python3.7/site-packages/IPython/core/interactiveshell.py:3049: DtypeWarning: Columns (10) have mixed types. Specify dtype option on import or set low_memory=False.\n",
      "  interactivity=interactivity, compiler=compiler, result=result)\n"
     ]
    }
   ],
   "source": [
    "# read the movie data sets into DataFrame\n",
    "metadata = pd.read_csv('/Users/dorislin/Desktop/movie rating predictor/the-movies-dataset/movies_metadata.csv')\n",
    "credits =  pd.read_csv('/Users/dorislin/Desktop/movie rating predictor/the-movies-dataset/credits.csv')\n",
    "keywords =  pd.read_csv('/Users/dorislin/Desktop/movie rating predictor/the-movies-dataset/keywords.csv')"
   ]
  },
  {
   "cell_type": "code",
   "execution_count": 3,
   "metadata": {},
   "outputs": [],
   "source": [
    "# read the rating data sets into DataFrame\n",
    "ratings = pd.read_csv('/Users/dorislin/Desktop/movie rating predictor/the-movies-dataset/ratings.csv')\n",
    "links = pd.read_csv('/Users/dorislin/Desktop/movie rating predictor/the-movies-dataset/links.csv')"
   ]
  },
  {
   "cell_type": "markdown",
   "metadata": {},
   "source": [
    "### Merge Data Sets into a Single DataFrame\n",
    "- TMDb 'id' is used as the key column to combine datasets"
   ]
  },
  {
   "cell_type": "code",
   "execution_count": 4,
   "metadata": {},
   "outputs": [],
   "source": [
    "# ensure data accuracy of 'id'\n",
    "metadata[metadata['id'].str.contains('-') == True]\n",
    "\n",
    "# swap values between 'id' and 'release_date' for misplaced observations\n",
    "swap_condition = metadata['id'].str.contains('-') == True\n",
    "ary=np.where(swap_condition,[metadata.release_date,metadata.id],[metadata.id,metadata.release_date])\n",
    "metadata.id = ary[0]\n",
    "metadata.release_date = ary[1]\n",
    "\n",
    "# convert the data type of 'id' from string to int\n",
    "metadata['id'] = metadata['id'].astype(int)"
   ]
  },
  {
   "cell_type": "code",
   "execution_count": 5,
   "metadata": {},
   "outputs": [],
   "source": [
    "# merge three datasets with movie features into movie\n",
    "movie = metadata.merge(credits.merge(keywords, on='id'), on='id')\n",
    "movie = movie.drop(movie.index[(movie.title.isna()== True)])"
   ]
  },
  {
   "cell_type": "markdown",
   "metadata": {},
   "source": [
    "#### Preprocessing Raw Data - Ratings\n",
    "1.Each observation is ratings dataset is a rating record given by a user to a movie. We need to compute certain values, including \n",
    "- 'average_rating': By dividing the sum of rating by the vote number for each movie, we'll get our target variable for this project.\n",
    "- 'votes_per_user': By counting how many votes each user gives, the number helps to identify frequent raters.\n",
    "- 'votes_per_movie': By counting how many votes each movie receives, the number helps to identify the most-voted movie.\n",
    "\n",
    "2.The ratings data need to merge with links dataset to get the 'id' column before merging with movie dataset."
   ]
  },
  {
   "cell_type": "code",
   "execution_count": 6,
   "metadata": {},
   "outputs": [],
   "source": [
    "# get average_rating\n",
    "ratings['average_rating'] = ratings.groupby('movieId')['rating'].transform(np.mean)\n",
    "# get votes_per_user\n",
    "ratings['votes_per_user'] = ratings.groupby('userId')['movieId'].transform('count')\n",
    "# votes_per_movie\n",
    "ratings['votes_per_movie'] = ratings.groupby('movieId')['userId'].transform('count')"
   ]
  },
  {
   "cell_type": "code",
   "execution_count": 7,
   "metadata": {},
   "outputs": [
    {
     "data": {
      "text/html": [
       "<div>\n",
       "<style scoped>\n",
       "    .dataframe tbody tr th:only-of-type {\n",
       "        vertical-align: middle;\n",
       "    }\n",
       "\n",
       "    .dataframe tbody tr th {\n",
       "        vertical-align: top;\n",
       "    }\n",
       "\n",
       "    .dataframe thead th {\n",
       "        text-align: right;\n",
       "    }\n",
       "</style>\n",
       "<table border=\"1\" class=\"dataframe\">\n",
       "  <thead>\n",
       "    <tr style=\"text-align: right;\">\n",
       "      <th></th>\n",
       "      <th>userId</th>\n",
       "      <th>movieId</th>\n",
       "      <th>rating</th>\n",
       "      <th>timestamp</th>\n",
       "      <th>average_rating</th>\n",
       "      <th>votes_per_user</th>\n",
       "      <th>votes_per_movie</th>\n",
       "    </tr>\n",
       "  </thead>\n",
       "  <tbody>\n",
       "    <tr>\n",
       "      <th>0</th>\n",
       "      <td>1</td>\n",
       "      <td>110</td>\n",
       "      <td>1.0</td>\n",
       "      <td>1425941529</td>\n",
       "      <td>4.016057</td>\n",
       "      <td>27</td>\n",
       "      <td>66512</td>\n",
       "    </tr>\n",
       "    <tr>\n",
       "      <th>1</th>\n",
       "      <td>1</td>\n",
       "      <td>147</td>\n",
       "      <td>4.5</td>\n",
       "      <td>1425942435</td>\n",
       "      <td>3.595933</td>\n",
       "      <td>27</td>\n",
       "      <td>4967</td>\n",
       "    </tr>\n",
       "    <tr>\n",
       "      <th>2</th>\n",
       "      <td>1</td>\n",
       "      <td>858</td>\n",
       "      <td>5.0</td>\n",
       "      <td>1425941523</td>\n",
       "      <td>4.339811</td>\n",
       "      <td>27</td>\n",
       "      <td>57070</td>\n",
       "    </tr>\n",
       "    <tr>\n",
       "      <th>3</th>\n",
       "      <td>1</td>\n",
       "      <td>1221</td>\n",
       "      <td>5.0</td>\n",
       "      <td>1425941546</td>\n",
       "      <td>4.263475</td>\n",
       "      <td>27</td>\n",
       "      <td>36679</td>\n",
       "    </tr>\n",
       "    <tr>\n",
       "      <th>4</th>\n",
       "      <td>1</td>\n",
       "      <td>1246</td>\n",
       "      <td>5.0</td>\n",
       "      <td>1425941556</td>\n",
       "      <td>3.912803</td>\n",
       "      <td>27</td>\n",
       "      <td>25752</td>\n",
       "    </tr>\n",
       "  </tbody>\n",
       "</table>\n",
       "</div>"
      ],
      "text/plain": [
       "   userId  movieId  rating   timestamp  average_rating  votes_per_user  \\\n",
       "0       1      110     1.0  1425941529        4.016057              27   \n",
       "1       1      147     4.5  1425942435        3.595933              27   \n",
       "2       1      858     5.0  1425941523        4.339811              27   \n",
       "3       1     1221     5.0  1425941546        4.263475              27   \n",
       "4       1     1246     5.0  1425941556        3.912803              27   \n",
       "\n",
       "   votes_per_movie  \n",
       "0            66512  \n",
       "1             4967  \n",
       "2            57070  \n",
       "3            36679  \n",
       "4            25752  "
      ]
     },
     "execution_count": 7,
     "metadata": {},
     "output_type": "execute_result"
    }
   ],
   "source": [
    "ratings.head()"
   ]
  },
  {
   "cell_type": "code",
   "execution_count": 8,
   "metadata": {},
   "outputs": [],
   "source": [
    "# merge ratings with links in order to acquire movieId column\n",
    "ratings_clean = pd.merge(ratings,links,on='movieId')\n",
    "# ignore the user data for now, keep one column for one movie rating record\n",
    "ratings_clean = ratings_clean.drop_duplicates('tmdbId')[['tmdbId','votes_per_movie','average_rating']]"
   ]
  },
  {
   "cell_type": "code",
   "execution_count": 9,
   "metadata": {},
   "outputs": [],
   "source": [
    "# prepare for the merge\n",
    "ratings_clean  = ratings_clean.loc[pd.notnull(ratings_clean['tmdbId']) != False]"
   ]
  },
  {
   "cell_type": "code",
   "execution_count": 10,
   "metadata": {},
   "outputs": [],
   "source": [
    "# prepare for the combination\n",
    "ratings_clean.rename(columns = {'tmdbId':'id'}, inplace = True)\n",
    "ratings_clean = ratings_clean.astype({'id': 'int64'})"
   ]
  },
  {
   "cell_type": "code",
   "execution_count": 11,
   "metadata": {},
   "outputs": [
    {
     "data": {
      "text/html": [
       "<div>\n",
       "<style scoped>\n",
       "    .dataframe tbody tr th:only-of-type {\n",
       "        vertical-align: middle;\n",
       "    }\n",
       "\n",
       "    .dataframe tbody tr th {\n",
       "        vertical-align: top;\n",
       "    }\n",
       "\n",
       "    .dataframe thead th {\n",
       "        text-align: right;\n",
       "    }\n",
       "</style>\n",
       "<table border=\"1\" class=\"dataframe\">\n",
       "  <thead>\n",
       "    <tr style=\"text-align: right;\">\n",
       "      <th></th>\n",
       "      <th>id</th>\n",
       "      <th>votes_per_movie</th>\n",
       "      <th>average_rating</th>\n",
       "    </tr>\n",
       "  </thead>\n",
       "  <tbody>\n",
       "    <tr>\n",
       "      <th>0</th>\n",
       "      <td>197</td>\n",
       "      <td>66512</td>\n",
       "      <td>4.016057</td>\n",
       "    </tr>\n",
       "    <tr>\n",
       "      <th>66512</th>\n",
       "      <td>10474</td>\n",
       "      <td>4967</td>\n",
       "      <td>3.595933</td>\n",
       "    </tr>\n",
       "    <tr>\n",
       "      <th>71479</th>\n",
       "      <td>238</td>\n",
       "      <td>57070</td>\n",
       "      <td>4.339811</td>\n",
       "    </tr>\n",
       "    <tr>\n",
       "      <th>128549</th>\n",
       "      <td>240</td>\n",
       "      <td>36679</td>\n",
       "      <td>4.263475</td>\n",
       "    </tr>\n",
       "    <tr>\n",
       "      <th>165228</th>\n",
       "      <td>207</td>\n",
       "      <td>25752</td>\n",
       "      <td>3.912803</td>\n",
       "    </tr>\n",
       "  </tbody>\n",
       "</table>\n",
       "</div>"
      ],
      "text/plain": [
       "           id  votes_per_movie  average_rating\n",
       "0         197            66512        4.016057\n",
       "66512   10474             4967        3.595933\n",
       "71479     238            57070        4.339811\n",
       "128549    240            36679        4.263475\n",
       "165228    207            25752        3.912803"
      ]
     },
     "execution_count": 11,
     "metadata": {},
     "output_type": "execute_result"
    }
   ],
   "source": [
    "ratings_clean.head()"
   ]
  },
  {
   "cell_type": "code",
   "execution_count": 12,
   "metadata": {},
   "outputs": [
    {
     "data": {
      "text/plain": [
       "(45879, 29)"
      ]
     },
     "execution_count": 12,
     "metadata": {},
     "output_type": "execute_result"
    }
   ],
   "source": [
    "# merge the movie dateset with rating dataset\n",
    "df_initial = pd.merge(ratings_clean,movie,on='id')\n",
    "df_initial.shape"
   ]
  },
  {
   "cell_type": "markdown",
   "metadata": {},
   "source": [
    "#### Computing our target variable: Weighted Rating, using IMDB Formula\n",
    "- v: number of votes for the movie \n",
    "    - which is the value in column 'votes_per_movie'\n",
    "- m: the minimum votes required to be listed in the chart\n",
    "- R: average rating of the movie\n",
    "    - which is the value in column 'average_rating'\n",
    "- C: the mean rating of overall movies"
   ]
  },
  {
   "cell_type": "code",
   "execution_count": 13,
   "metadata": {},
   "outputs": [
    {
     "data": {
      "text/plain": [
       "67.0"
      ]
     },
     "execution_count": 13,
     "metadata": {},
     "output_type": "execute_result"
    }
   ],
   "source": [
    "# m is the minumum votes required to be listed in the chart\n",
    "m = df_initial['votes_per_movie'].quantile(0.75)\n",
    "m"
   ]
  },
  {
   "cell_type": "code",
   "execution_count": 14,
   "metadata": {},
   "outputs": [
    {
     "data": {
      "text/plain": [
       "3.0588446332765327"
      ]
     },
     "execution_count": 14,
     "metadata": {},
     "output_type": "execute_result"
    }
   ],
   "source": [
    "# C is the mean rating across the whole report\n",
    "C = df_initial['average_rating'].mean()\n",
    "C"
   ]
  },
  {
   "cell_type": "code",
   "execution_count": 15,
   "metadata": {},
   "outputs": [
    {
     "data": {
      "text/plain": [
       "(11479, 29)"
      ]
     },
     "execution_count": 15,
     "metadata": {},
     "output_type": "execute_result"
    }
   ],
   "source": [
    "# filter the movies qualified for the chart\n",
    "df = df_initial[df_initial['votes_per_movie'] >= m]\n",
    "df.shape"
   ]
  },
  {
   "cell_type": "code",
   "execution_count": 16,
   "metadata": {},
   "outputs": [],
   "source": [
    "# calculate weighted_rating\n",
    "def weighted_rating(x):\n",
    "    v = x['votes_per_movie']\n",
    "    R = x['average_rating']\n",
    "    return (v/(v+m) * R) + (m/(m+v) * C)"
   ]
  },
  {
   "cell_type": "code",
   "execution_count": 17,
   "metadata": {},
   "outputs": [
    {
     "name": "stderr",
     "output_type": "stream",
     "text": [
      "/anaconda3/lib/python3.7/site-packages/ipykernel_launcher.py:1: SettingWithCopyWarning: \n",
      "A value is trying to be set on a copy of a slice from a DataFrame.\n",
      "Try using .loc[row_indexer,col_indexer] = value instead\n",
      "\n",
      "See the caveats in the documentation: http://pandas.pydata.org/pandas-docs/stable/indexing.html#indexing-view-versus-copy\n",
      "  \"\"\"Entry point for launching an IPython kernel.\n"
     ]
    }
   ],
   "source": [
    "df['weighted_rating'] = df.apply(weighted_rating, axis=1)"
   ]
  },
  {
   "cell_type": "markdown",
   "metadata": {},
   "source": [
    "# Data Cleaning"
   ]
  },
  {
   "cell_type": "code",
   "execution_count": 18,
   "metadata": {},
   "outputs": [
    {
     "data": {
      "text/html": [
       "<div>\n",
       "<style scoped>\n",
       "    .dataframe tbody tr th:only-of-type {\n",
       "        vertical-align: middle;\n",
       "    }\n",
       "\n",
       "    .dataframe tbody tr th {\n",
       "        vertical-align: top;\n",
       "    }\n",
       "\n",
       "    .dataframe thead th {\n",
       "        text-align: right;\n",
       "    }\n",
       "</style>\n",
       "<table border=\"1\" class=\"dataframe\">\n",
       "  <thead>\n",
       "    <tr style=\"text-align: right;\">\n",
       "      <th></th>\n",
       "      <th>id</th>\n",
       "      <th>votes_per_movie</th>\n",
       "      <th>average_rating</th>\n",
       "      <th>adult</th>\n",
       "      <th>belongs_to_collection</th>\n",
       "      <th>budget</th>\n",
       "      <th>genres</th>\n",
       "      <th>homepage</th>\n",
       "      <th>imdb_id</th>\n",
       "      <th>original_language</th>\n",
       "      <th>...</th>\n",
       "      <th>status</th>\n",
       "      <th>tagline</th>\n",
       "      <th>title</th>\n",
       "      <th>video</th>\n",
       "      <th>vote_average</th>\n",
       "      <th>vote_count</th>\n",
       "      <th>cast</th>\n",
       "      <th>crew</th>\n",
       "      <th>keywords</th>\n",
       "      <th>weighted_rating</th>\n",
       "    </tr>\n",
       "  </thead>\n",
       "  <tbody>\n",
       "    <tr>\n",
       "      <th>0</th>\n",
       "      <td>197</td>\n",
       "      <td>66512</td>\n",
       "      <td>4.016057</td>\n",
       "      <td>False</td>\n",
       "      <td>NaN</td>\n",
       "      <td>72000000</td>\n",
       "      <td>[{'id': 28, 'name': 'Action'}, {'id': 18, 'nam...</td>\n",
       "      <td>NaN</td>\n",
       "      <td>tt0112573</td>\n",
       "      <td>en</td>\n",
       "      <td>...</td>\n",
       "      <td>Released</td>\n",
       "      <td>Every man dies. Not every man truly lives.</td>\n",
       "      <td>Braveheart</td>\n",
       "      <td>False</td>\n",
       "      <td>7.7</td>\n",
       "      <td>3404.0</td>\n",
       "      <td>[{'cast_id': 5, 'character': 'William Wallace'...</td>\n",
       "      <td>[{'credit_id': '52fe4225c3a36847f80079c1', 'de...</td>\n",
       "      <td>[{'id': 30, 'name': 'individual'}, {'id': 388,...</td>\n",
       "      <td>4.015094</td>\n",
       "    </tr>\n",
       "    <tr>\n",
       "      <th>1</th>\n",
       "      <td>10474</td>\n",
       "      <td>4967</td>\n",
       "      <td>3.595933</td>\n",
       "      <td>False</td>\n",
       "      <td>NaN</td>\n",
       "      <td>0</td>\n",
       "      <td>[{'id': 18, 'name': 'Drama'}, {'id': 80, 'name...</td>\n",
       "      <td>NaN</td>\n",
       "      <td>tt0112461</td>\n",
       "      <td>en</td>\n",
       "      <td>...</td>\n",
       "      <td>Released</td>\n",
       "      <td>The true story of the death of innocence and t...</td>\n",
       "      <td>The Basketball Diaries</td>\n",
       "      <td>False</td>\n",
       "      <td>7.2</td>\n",
       "      <td>472.0</td>\n",
       "      <td>[{'cast_id': 9, 'character': 'Jim Carroll', 'c...</td>\n",
       "      <td>[{'credit_id': '52fe43779251416c7501167d', 'de...</td>\n",
       "      <td>[{'id': 6075, 'name': 'sport'}, {'id': 6496, '...</td>\n",
       "      <td>3.588785</td>\n",
       "    </tr>\n",
       "    <tr>\n",
       "      <th>2</th>\n",
       "      <td>238</td>\n",
       "      <td>57070</td>\n",
       "      <td>4.339811</td>\n",
       "      <td>False</td>\n",
       "      <td>{'id': 230, 'name': 'The Godfather Collection'...</td>\n",
       "      <td>6000000</td>\n",
       "      <td>[{'id': 18, 'name': 'Drama'}, {'id': 80, 'name...</td>\n",
       "      <td>http://www.thegodfather.com/</td>\n",
       "      <td>tt0068646</td>\n",
       "      <td>en</td>\n",
       "      <td>...</td>\n",
       "      <td>Released</td>\n",
       "      <td>An offer you can't refuse.</td>\n",
       "      <td>The Godfather</td>\n",
       "      <td>False</td>\n",
       "      <td>8.5</td>\n",
       "      <td>6024.0</td>\n",
       "      <td>[{'cast_id': 5, 'character': 'Don Vito Corleon...</td>\n",
       "      <td>[{'credit_id': '52fe422bc3a36847f80093db', 'de...</td>\n",
       "      <td>[{'id': 131, 'name': 'italy'}, {'id': 699, 'na...</td>\n",
       "      <td>4.338309</td>\n",
       "    </tr>\n",
       "    <tr>\n",
       "      <th>3</th>\n",
       "      <td>240</td>\n",
       "      <td>36679</td>\n",
       "      <td>4.263475</td>\n",
       "      <td>False</td>\n",
       "      <td>{'id': 230, 'name': 'The Godfather Collection'...</td>\n",
       "      <td>13000000</td>\n",
       "      <td>[{'id': 18, 'name': 'Drama'}, {'id': 80, 'name...</td>\n",
       "      <td>NaN</td>\n",
       "      <td>tt0071562</td>\n",
       "      <td>en</td>\n",
       "      <td>...</td>\n",
       "      <td>Released</td>\n",
       "      <td>I don't feel I have to wipe everybody out, Tom...</td>\n",
       "      <td>The Godfather: Part II</td>\n",
       "      <td>False</td>\n",
       "      <td>8.3</td>\n",
       "      <td>3418.0</td>\n",
       "      <td>[{'cast_id': 8, 'character': 'Don Michael Corl...</td>\n",
       "      <td>[{'credit_id': '52fe422bc3a36847f80094dd', 'de...</td>\n",
       "      <td>[{'id': 700, 'name': 'italo-american'}, {'id':...</td>\n",
       "      <td>4.261279</td>\n",
       "    </tr>\n",
       "    <tr>\n",
       "      <th>4</th>\n",
       "      <td>207</td>\n",
       "      <td>25752</td>\n",
       "      <td>3.912803</td>\n",
       "      <td>False</td>\n",
       "      <td>NaN</td>\n",
       "      <td>16400000</td>\n",
       "      <td>[{'id': 18, 'name': 'Drama'}]</td>\n",
       "      <td>NaN</td>\n",
       "      <td>tt0097165</td>\n",
       "      <td>en</td>\n",
       "      <td>...</td>\n",
       "      <td>Released</td>\n",
       "      <td>He was their inspiration. He made their lives ...</td>\n",
       "      <td>Dead Poets Society</td>\n",
       "      <td>False</td>\n",
       "      <td>8.1</td>\n",
       "      <td>2786.0</td>\n",
       "      <td>[{'cast_id': 3, 'character': 'John Keating', '...</td>\n",
       "      <td>[{'credit_id': '52fe4227c3a36847f8008045', 'de...</td>\n",
       "      <td>[{'id': 30, 'name': 'individual'}, {'id': 490,...</td>\n",
       "      <td>3.910587</td>\n",
       "    </tr>\n",
       "  </tbody>\n",
       "</table>\n",
       "<p>5 rows × 30 columns</p>\n",
       "</div>"
      ],
      "text/plain": [
       "      id  votes_per_movie  average_rating  adult  \\\n",
       "0    197            66512        4.016057  False   \n",
       "1  10474             4967        3.595933  False   \n",
       "2    238            57070        4.339811  False   \n",
       "3    240            36679        4.263475  False   \n",
       "4    207            25752        3.912803  False   \n",
       "\n",
       "                               belongs_to_collection    budget  \\\n",
       "0                                                NaN  72000000   \n",
       "1                                                NaN         0   \n",
       "2  {'id': 230, 'name': 'The Godfather Collection'...   6000000   \n",
       "3  {'id': 230, 'name': 'The Godfather Collection'...  13000000   \n",
       "4                                                NaN  16400000   \n",
       "\n",
       "                                              genres  \\\n",
       "0  [{'id': 28, 'name': 'Action'}, {'id': 18, 'nam...   \n",
       "1  [{'id': 18, 'name': 'Drama'}, {'id': 80, 'name...   \n",
       "2  [{'id': 18, 'name': 'Drama'}, {'id': 80, 'name...   \n",
       "3  [{'id': 18, 'name': 'Drama'}, {'id': 80, 'name...   \n",
       "4                      [{'id': 18, 'name': 'Drama'}]   \n",
       "\n",
       "                       homepage    imdb_id original_language  ...    status  \\\n",
       "0                           NaN  tt0112573                en  ...  Released   \n",
       "1                           NaN  tt0112461                en  ...  Released   \n",
       "2  http://www.thegodfather.com/  tt0068646                en  ...  Released   \n",
       "3                           NaN  tt0071562                en  ...  Released   \n",
       "4                           NaN  tt0097165                en  ...  Released   \n",
       "\n",
       "                                             tagline                   title  \\\n",
       "0         Every man dies. Not every man truly lives.              Braveheart   \n",
       "1  The true story of the death of innocence and t...  The Basketball Diaries   \n",
       "2                         An offer you can't refuse.           The Godfather   \n",
       "3  I don't feel I have to wipe everybody out, Tom...  The Godfather: Part II   \n",
       "4  He was their inspiration. He made their lives ...      Dead Poets Society   \n",
       "\n",
       "   video vote_average vote_count  \\\n",
       "0  False          7.7     3404.0   \n",
       "1  False          7.2      472.0   \n",
       "2  False          8.5     6024.0   \n",
       "3  False          8.3     3418.0   \n",
       "4  False          8.1     2786.0   \n",
       "\n",
       "                                                cast  \\\n",
       "0  [{'cast_id': 5, 'character': 'William Wallace'...   \n",
       "1  [{'cast_id': 9, 'character': 'Jim Carroll', 'c...   \n",
       "2  [{'cast_id': 5, 'character': 'Don Vito Corleon...   \n",
       "3  [{'cast_id': 8, 'character': 'Don Michael Corl...   \n",
       "4  [{'cast_id': 3, 'character': 'John Keating', '...   \n",
       "\n",
       "                                                crew  \\\n",
       "0  [{'credit_id': '52fe4225c3a36847f80079c1', 'de...   \n",
       "1  [{'credit_id': '52fe43779251416c7501167d', 'de...   \n",
       "2  [{'credit_id': '52fe422bc3a36847f80093db', 'de...   \n",
       "3  [{'credit_id': '52fe422bc3a36847f80094dd', 'de...   \n",
       "4  [{'credit_id': '52fe4227c3a36847f8008045', 'de...   \n",
       "\n",
       "                                            keywords weighted_rating  \n",
       "0  [{'id': 30, 'name': 'individual'}, {'id': 388,...        4.015094  \n",
       "1  [{'id': 6075, 'name': 'sport'}, {'id': 6496, '...        3.588785  \n",
       "2  [{'id': 131, 'name': 'italy'}, {'id': 699, 'na...        4.338309  \n",
       "3  [{'id': 700, 'name': 'italo-american'}, {'id':...        4.261279  \n",
       "4  [{'id': 30, 'name': 'individual'}, {'id': 490,...        3.910587  \n",
       "\n",
       "[5 rows x 30 columns]"
      ]
     },
     "execution_count": 18,
     "metadata": {},
     "output_type": "execute_result"
    }
   ],
   "source": [
    "df.head()"
   ]
  },
  {
   "cell_type": "code",
   "execution_count": 19,
   "metadata": {},
   "outputs": [
    {
     "data": {
      "text/plain": [
       "Index(['id', 'votes_per_movie', 'average_rating', 'adult',\n",
       "       'belongs_to_collection', 'budget', 'genres', 'homepage', 'imdb_id',\n",
       "       'original_language', 'original_title', 'overview', 'popularity',\n",
       "       'poster_path', 'production_companies', 'production_countries',\n",
       "       'release_date', 'revenue', 'runtime', 'spoken_languages', 'status',\n",
       "       'tagline', 'title', 'video', 'vote_average', 'vote_count', 'cast',\n",
       "       'crew', 'keywords', 'weighted_rating'],\n",
       "      dtype='object')"
      ]
     },
     "execution_count": 19,
     "metadata": {},
     "output_type": "execute_result"
    }
   ],
   "source": [
    "# original columns\n",
    "df.columns"
   ]
  },
  {
   "cell_type": "code",
   "execution_count": 20,
   "metadata": {},
   "outputs": [
    {
     "data": {
      "text/plain": [
       "(11479, 30)"
      ]
     },
     "execution_count": 20,
     "metadata": {},
     "output_type": "execute_result"
    }
   ],
   "source": [
    "df.shape"
   ]
  },
  {
   "cell_type": "markdown",
   "metadata": {},
   "source": [
    "### Remove Duplicates and Irrelevant Data"
   ]
  },
  {
   "cell_type": "code",
   "execution_count": 21,
   "metadata": {},
   "outputs": [
    {
     "data": {
      "text/plain": [
       "132"
      ]
     },
     "execution_count": 21,
     "metadata": {},
     "output_type": "execute_result"
    }
   ],
   "source": [
    "# 'id' should be unique values, thus it is selected to find duplicate records\n",
    "duplicated_filter = df.duplicated('id') == True\n",
    "# count the number of duplicated rows\n",
    "duplicated_filter.sum()"
   ]
  },
  {
   "cell_type": "code",
   "execution_count": 22,
   "metadata": {},
   "outputs": [
    {
     "name": "stderr",
     "output_type": "stream",
     "text": [
      "/anaconda3/lib/python3.7/site-packages/ipykernel_launcher.py:2: SettingWithCopyWarning: \n",
      "A value is trying to be set on a copy of a slice from a DataFrame\n",
      "\n",
      "See the caveats in the documentation: http://pandas.pydata.org/pandas-docs/stable/indexing.html#indexing-view-versus-copy\n",
      "  \n"
     ]
    }
   ],
   "source": [
    "# remove the duplicates with identical values of 'id'\n",
    "df.drop_duplicates(subset=['id'], inplace = True)"
   ]
  },
  {
   "cell_type": "code",
   "execution_count": 23,
   "metadata": {},
   "outputs": [],
   "source": [
    "# drop irrelevant columns that do not fit to the objectives of this project\n",
    "to_keep_features = ['id','weighted_rating','votes_per_movie', 'average_rating','title', 'budget','revenue', 'release_date', 'runtime', 'genres', 'production_countries','production_companies','original_language','cast','crew','overview', 'keywords']\n",
    "df = df[to_keep_features]"
   ]
  },
  {
   "cell_type": "code",
   "execution_count": 24,
   "metadata": {},
   "outputs": [
    {
     "data": {
      "text/plain": [
       "Index(['id', 'weighted_rating', 'votes_per_movie', 'average_rating', 'title',\n",
       "       'budget', 'revenue', 'release_date', 'runtime', 'genres',\n",
       "       'production_countries', 'production_companies', 'original_language',\n",
       "       'cast', 'crew', 'overview', 'keywords'],\n",
       "      dtype='object')"
      ]
     },
     "execution_count": 24,
     "metadata": {},
     "output_type": "execute_result"
    }
   ],
   "source": [
    "df.columns"
   ]
  },
  {
   "cell_type": "code",
   "execution_count": 25,
   "metadata": {},
   "outputs": [
    {
     "name": "stdout",
     "output_type": "stream",
     "text": [
      "number of rows/observations: 11347\n",
      "number of columns/features: 17\n"
     ]
    }
   ],
   "source": [
    "# get the summary of df\n",
    "print ('number of rows/observations: {}'.format(df.shape[0]))\n",
    "print ('number of columns/features: {}'.format(df.shape[1]))"
   ]
  },
  {
   "cell_type": "code",
   "execution_count": 26,
   "metadata": {},
   "outputs": [
    {
     "data": {
      "text/html": [
       "<div>\n",
       "<style scoped>\n",
       "    .dataframe tbody tr th:only-of-type {\n",
       "        vertical-align: middle;\n",
       "    }\n",
       "\n",
       "    .dataframe tbody tr th {\n",
       "        vertical-align: top;\n",
       "    }\n",
       "\n",
       "    .dataframe thead th {\n",
       "        text-align: right;\n",
       "    }\n",
       "</style>\n",
       "<table border=\"1\" class=\"dataframe\">\n",
       "  <thead>\n",
       "    <tr style=\"text-align: right;\">\n",
       "      <th></th>\n",
       "      <th>id</th>\n",
       "      <th>weighted_rating</th>\n",
       "      <th>votes_per_movie</th>\n",
       "      <th>average_rating</th>\n",
       "      <th>revenue</th>\n",
       "      <th>runtime</th>\n",
       "    </tr>\n",
       "  </thead>\n",
       "  <tbody>\n",
       "    <tr>\n",
       "      <th>count</th>\n",
       "      <td>11347.000000</td>\n",
       "      <td>11347.000000</td>\n",
       "      <td>11347.000000</td>\n",
       "      <td>11347.000000</td>\n",
       "      <td>1.134700e+04</td>\n",
       "      <td>11347.000000</td>\n",
       "    </tr>\n",
       "    <tr>\n",
       "      <th>mean</th>\n",
       "      <td>43715.319820</td>\n",
       "      <td>3.253373</td>\n",
       "      <td>2260.407068</td>\n",
       "      <td>3.281782</td>\n",
       "      <td>4.330111e+07</td>\n",
       "      <td>105.866837</td>\n",
       "    </tr>\n",
       "    <tr>\n",
       "      <th>std</th>\n",
       "      <td>71253.235951</td>\n",
       "      <td>0.420185</td>\n",
       "      <td>5734.215568</td>\n",
       "      <td>0.492631</td>\n",
       "      <td>1.226585e+08</td>\n",
       "      <td>30.771655</td>\n",
       "    </tr>\n",
       "    <tr>\n",
       "      <th>min</th>\n",
       "      <td>2.000000</td>\n",
       "      <td>1.256012</td>\n",
       "      <td>67.000000</td>\n",
       "      <td>0.880342</td>\n",
       "      <td>0.000000e+00</td>\n",
       "      <td>0.000000</td>\n",
       "    </tr>\n",
       "    <tr>\n",
       "      <th>25%</th>\n",
       "      <td>9889.500000</td>\n",
       "      <td>3.010058</td>\n",
       "      <td>156.000000</td>\n",
       "      <td>2.995713</td>\n",
       "      <td>0.000000e+00</td>\n",
       "      <td>92.000000</td>\n",
       "    </tr>\n",
       "    <tr>\n",
       "      <th>50%</th>\n",
       "      <td>17409.000000</td>\n",
       "      <td>3.287304</td>\n",
       "      <td>430.000000</td>\n",
       "      <td>3.356099</td>\n",
       "      <td>3.990000e+02</td>\n",
       "      <td>102.000000</td>\n",
       "    </tr>\n",
       "    <tr>\n",
       "      <th>75%</th>\n",
       "      <td>41022.500000</td>\n",
       "      <td>3.542944</td>\n",
       "      <td>1590.500000</td>\n",
       "      <td>3.649022</td>\n",
       "      <td>2.824636e+07</td>\n",
       "      <td>115.000000</td>\n",
       "    </tr>\n",
       "    <tr>\n",
       "      <th>max</th>\n",
       "      <td>449674.000000</td>\n",
       "      <td>4.428007</td>\n",
       "      <td>91921.000000</td>\n",
       "      <td>4.478780</td>\n",
       "      <td>2.787965e+09</td>\n",
       "      <td>900.000000</td>\n",
       "    </tr>\n",
       "  </tbody>\n",
       "</table>\n",
       "</div>"
      ],
      "text/plain": [
       "                  id  weighted_rating  votes_per_movie  average_rating  \\\n",
       "count   11347.000000     11347.000000     11347.000000    11347.000000   \n",
       "mean    43715.319820         3.253373      2260.407068        3.281782   \n",
       "std     71253.235951         0.420185      5734.215568        0.492631   \n",
       "min         2.000000         1.256012        67.000000        0.880342   \n",
       "25%      9889.500000         3.010058       156.000000        2.995713   \n",
       "50%     17409.000000         3.287304       430.000000        3.356099   \n",
       "75%     41022.500000         3.542944      1590.500000        3.649022   \n",
       "max    449674.000000         4.428007     91921.000000        4.478780   \n",
       "\n",
       "            revenue       runtime  \n",
       "count  1.134700e+04  11347.000000  \n",
       "mean   4.330111e+07    105.866837  \n",
       "std    1.226585e+08     30.771655  \n",
       "min    0.000000e+00      0.000000  \n",
       "25%    0.000000e+00     92.000000  \n",
       "50%    3.990000e+02    102.000000  \n",
       "75%    2.824636e+07    115.000000  \n",
       "max    2.787965e+09    900.000000  "
      ]
     },
     "execution_count": 26,
     "metadata": {},
     "output_type": "execute_result"
    }
   ],
   "source": [
    "original = df.describe()\n",
    "original"
   ]
  },
  {
   "cell_type": "markdown",
   "metadata": {},
   "source": [
    "### Detect Missing Data"
   ]
  },
  {
   "cell_type": "code",
   "execution_count": 27,
   "metadata": {},
   "outputs": [
    {
     "name": "stdout",
     "output_type": "stream",
     "text": [
      "<class 'pandas.core.frame.DataFrame'>\n",
      "Int64Index: 11347 entries, 0 to 24752\n",
      "Data columns (total 17 columns):\n",
      "id                      11347 non-null int64\n",
      "weighted_rating         11347 non-null float64\n",
      "votes_per_movie         11347 non-null int64\n",
      "average_rating          11347 non-null float64\n",
      "title                   11347 non-null object\n",
      "budget                  11347 non-null object\n",
      "revenue                 11347 non-null float64\n",
      "release_date            11346 non-null object\n",
      "runtime                 11347 non-null float64\n",
      "genres                  11347 non-null object\n",
      "production_countries    11347 non-null object\n",
      "production_companies    11347 non-null object\n",
      "original_language       11347 non-null object\n",
      "cast                    11347 non-null object\n",
      "crew                    11347 non-null object\n",
      "overview                11341 non-null object\n",
      "keywords                11347 non-null object\n",
      "dtypes: float64(4), int64(2), object(11)\n",
      "memory usage: 1.6+ MB\n"
     ]
    }
   ],
   "source": [
    "df.info()"
   ]
  },
  {
   "cell_type": "markdown",
   "metadata": {},
   "source": [
    "#### Detect Unstandardized Missing Values"
   ]
  },
  {
   "cell_type": "code",
   "execution_count": 28,
   "metadata": {},
   "outputs": [
    {
     "data": {
      "text/html": [
       "<div>\n",
       "<style scoped>\n",
       "    .dataframe tbody tr th:only-of-type {\n",
       "        vertical-align: middle;\n",
       "    }\n",
       "\n",
       "    .dataframe tbody tr th {\n",
       "        vertical-align: top;\n",
       "    }\n",
       "\n",
       "    .dataframe thead th {\n",
       "        text-align: right;\n",
       "    }\n",
       "</style>\n",
       "<table border=\"1\" class=\"dataframe\">\n",
       "  <thead>\n",
       "    <tr style=\"text-align: right;\">\n",
       "      <th></th>\n",
       "      <th>id</th>\n",
       "      <th>weighted_rating</th>\n",
       "      <th>votes_per_movie</th>\n",
       "      <th>average_rating</th>\n",
       "      <th>title</th>\n",
       "      <th>budget</th>\n",
       "      <th>revenue</th>\n",
       "      <th>release_date</th>\n",
       "      <th>runtime</th>\n",
       "      <th>genres</th>\n",
       "      <th>production_countries</th>\n",
       "      <th>production_companies</th>\n",
       "      <th>original_language</th>\n",
       "      <th>cast</th>\n",
       "      <th>crew</th>\n",
       "      <th>overview</th>\n",
       "      <th>keywords</th>\n",
       "    </tr>\n",
       "  </thead>\n",
       "  <tbody>\n",
       "    <tr>\n",
       "      <th>1</th>\n",
       "      <td>10474</td>\n",
       "      <td>3.588785</td>\n",
       "      <td>4967</td>\n",
       "      <td>3.595933</td>\n",
       "      <td>The Basketball Diaries</td>\n",
       "      <td>0</td>\n",
       "      <td>0.0</td>\n",
       "      <td>1995-04-21</td>\n",
       "      <td>102.0</td>\n",
       "      <td>[{'id': 18, 'name': 'Drama'}, {'id': 80, 'name...</td>\n",
       "      <td>[{'iso_3166_1': 'US', 'name': 'United States o...</td>\n",
       "      <td>[{'name': 'New Line Cinema', 'id': 12}, {'name...</td>\n",
       "      <td>en</td>\n",
       "      <td>[{'cast_id': 9, 'character': 'Jim Carroll', 'c...</td>\n",
       "      <td>[{'credit_id': '52fe43779251416c7501167d', 'de...</td>\n",
       "      <td>Film adaptation of street tough Jim Carroll's ...</td>\n",
       "      <td>[{'id': 6075, 'name': 'sport'}, {'id': 6496, '...</td>\n",
       "    </tr>\n",
       "    <tr>\n",
       "      <th>22</th>\n",
       "      <td>64678</td>\n",
       "      <td>3.325825</td>\n",
       "      <td>318</td>\n",
       "      <td>3.382075</td>\n",
       "      <td>The Art of Getting By</td>\n",
       "      <td>0</td>\n",
       "      <td>1406224.0</td>\n",
       "      <td>2011-06-17</td>\n",
       "      <td>83.0</td>\n",
       "      <td>[{'id': 18, 'name': 'Drama'}, {'id': 10749, 'n...</td>\n",
       "      <td>[{'iso_3166_1': 'US', 'name': 'United States o...</td>\n",
       "      <td>[{'name': 'Goldcrest Films International', 'id...</td>\n",
       "      <td>en</td>\n",
       "      <td>[{'cast_id': 2, 'character': 'George Zinavoy',...</td>\n",
       "      <td>[{'credit_id': '593c6b79c3a3680f590129a9', 'de...</td>\n",
       "      <td>George, a lonely and fatalistic teen who's mad...</td>\n",
       "      <td>[{'id': 490, 'name': 'philosophy'}, {'id': 131...</td>\n",
       "    </tr>\n",
       "    <tr>\n",
       "      <th>27</th>\n",
       "      <td>11862</td>\n",
       "      <td>3.079474</td>\n",
       "      <td>15258</td>\n",
       "      <td>3.079565</td>\n",
       "      <td>Father of the Bride Part II</td>\n",
       "      <td>0</td>\n",
       "      <td>76578911.0</td>\n",
       "      <td>1995-02-10</td>\n",
       "      <td>106.0</td>\n",
       "      <td>[{'id': 35, 'name': 'Comedy'}]</td>\n",
       "      <td>[{'iso_3166_1': 'US', 'name': 'United States o...</td>\n",
       "      <td>[{'name': 'Sandollar Productions', 'id': 5842}...</td>\n",
       "      <td>en</td>\n",
       "      <td>[{'cast_id': 1, 'character': 'George Banks', '...</td>\n",
       "      <td>[{'credit_id': '52fe44959251416c75039ed7', 'de...</td>\n",
       "      <td>Just when George Banks has recovered from his ...</td>\n",
       "      <td>[{'id': 1009, 'name': 'baby'}, {'id': 1599, 'n...</td>\n",
       "    </tr>\n",
       "    <tr>\n",
       "      <th>30</th>\n",
       "      <td>11010</td>\n",
       "      <td>3.960485</td>\n",
       "      <td>13347</td>\n",
       "      <td>3.965011</td>\n",
       "      <td>The Postman</td>\n",
       "      <td>0</td>\n",
       "      <td>0.0</td>\n",
       "      <td>1994-09-22</td>\n",
       "      <td>108.0</td>\n",
       "      <td>[{'id': 35, 'name': 'Comedy'}, {'id': 18, 'nam...</td>\n",
       "      <td>[{'iso_3166_1': 'BE', 'name': 'Belgium'}, {'is...</td>\n",
       "      <td>[]</td>\n",
       "      <td>it</td>\n",
       "      <td>[{'cast_id': 11, 'character': 'Pablo Neruda', ...</td>\n",
       "      <td>[{'credit_id': '52fe43e29251416c75021d97', 'de...</td>\n",
       "      <td>Simple Italian postman learns to love poetry w...</td>\n",
       "      <td>[{'id': 2041, 'name': 'island'}, {'id': 3344, ...</td>\n",
       "    </tr>\n",
       "    <tr>\n",
       "      <th>31</th>\n",
       "      <td>19760</td>\n",
       "      <td>2.844099</td>\n",
       "      <td>2188</td>\n",
       "      <td>2.837523</td>\n",
       "      <td>Two If by Sea</td>\n",
       "      <td>0</td>\n",
       "      <td>0.0</td>\n",
       "      <td>1996-01-12</td>\n",
       "      <td>96.0</td>\n",
       "      <td>[{'id': 35, 'name': 'Comedy'}, {'id': 10749, '...</td>\n",
       "      <td>[{'iso_3166_1': 'US', 'name': 'United States o...</td>\n",
       "      <td>[{'name': 'Warner Bros.', 'id': 6194}, {'name'...</td>\n",
       "      <td>en</td>\n",
       "      <td>[{'cast_id': 1, 'character': 'Roz', 'credit_id...</td>\n",
       "      <td>[{'credit_id': '52fe47ef9251416c750aa5b1', 'de...</td>\n",
       "      <td>Frank O'Brien, a petty thief, and his 7-year-l...</td>\n",
       "      <td>[{'id': 2041, 'name': 'island'}, {'id': 5918, ...</td>\n",
       "    </tr>\n",
       "    <tr>\n",
       "      <th>37</th>\n",
       "      <td>7300</td>\n",
       "      <td>3.304249</td>\n",
       "      <td>3803</td>\n",
       "      <td>3.308572</td>\n",
       "      <td>One Fine Day</td>\n",
       "      <td>0</td>\n",
       "      <td>97529550.0</td>\n",
       "      <td>1996-12-20</td>\n",
       "      <td>108.0</td>\n",
       "      <td>[{'id': 35, 'name': 'Comedy'}, {'id': 10749, '...</td>\n",
       "      <td>[{'iso_3166_1': 'US', 'name': 'United States o...</td>\n",
       "      <td>[{'name': 'Twentieth Century Fox Film Corporat...</td>\n",
       "      <td>en</td>\n",
       "      <td>[{'cast_id': 1, 'character': 'Melanie Parker',...</td>\n",
       "      <td>[{'credit_id': '52fe4478c3a36847f80980eb', 'de...</td>\n",
       "      <td>Melanie Parker, an architect and mother of Sam...</td>\n",
       "      <td>[{'id': 238179, 'name': 'skab under tv'}, {'id...</td>\n",
       "    </tr>\n",
       "    <tr>\n",
       "      <th>56</th>\n",
       "      <td>15592</td>\n",
       "      <td>3.166206</td>\n",
       "      <td>1506</td>\n",
       "      <td>3.170983</td>\n",
       "      <td>Beaches</td>\n",
       "      <td>0</td>\n",
       "      <td>57041866.0</td>\n",
       "      <td>1988-12-21</td>\n",
       "      <td>123.0</td>\n",
       "      <td>[{'id': 35, 'name': 'Comedy'}, {'id': 18, 'nam...</td>\n",
       "      <td>[{'iso_3166_1': 'US', 'name': 'United States o...</td>\n",
       "      <td>[{'name': 'Touchstone Pictures', 'id': 9195}, ...</td>\n",
       "      <td>en</td>\n",
       "      <td>[{'cast_id': 2, 'character': \"Cecilia 'CC' Car...</td>\n",
       "      <td>[{'credit_id': '52fe46699251416c750777ed', 'de...</td>\n",
       "      <td>A privileged rich debutante and a cynical stru...</td>\n",
       "      <td>[{'id': 4959, 'name': 'death of a friend'}, {'...</td>\n",
       "    </tr>\n",
       "    <tr>\n",
       "      <th>58</th>\n",
       "      <td>9409</td>\n",
       "      <td>2.819514</td>\n",
       "      <td>3302</td>\n",
       "      <td>2.814658</td>\n",
       "      <td>Another Stakeout</td>\n",
       "      <td>0</td>\n",
       "      <td>0.0</td>\n",
       "      <td>1993-07-22</td>\n",
       "      <td>105.0</td>\n",
       "      <td>[{'id': 28, 'name': 'Action'}, {'id': 35, 'nam...</td>\n",
       "      <td>[{'iso_3166_1': 'US', 'name': 'United States o...</td>\n",
       "      <td>[{'name': 'Touchstone Pictures', 'id': 9195}]</td>\n",
       "      <td>en</td>\n",
       "      <td>[{'cast_id': 19, 'character': 'Det. Chris Lecc...</td>\n",
       "      <td>[{'credit_id': '52fe44f4c3a36847f80b3ea5', 'de...</td>\n",
       "      <td>Chris and Bill are called upon for their excel...</td>\n",
       "      <td>[{'id': 4171, 'name': 'staatsanwältin'}, {'id'...</td>\n",
       "    </tr>\n",
       "    <tr>\n",
       "      <th>60</th>\n",
       "      <td>9415</td>\n",
       "      <td>3.083595</td>\n",
       "      <td>3216</td>\n",
       "      <td>3.084111</td>\n",
       "      <td>Murder at 1600</td>\n",
       "      <td>0</td>\n",
       "      <td>25804707.0</td>\n",
       "      <td>1997-04-18</td>\n",
       "      <td>107.0</td>\n",
       "      <td>[{'id': 28, 'name': 'Action'}, {'id': 18, 'nam...</td>\n",
       "      <td>[{'iso_3166_1': 'US', 'name': 'United States o...</td>\n",
       "      <td>[{'name': 'Regency Enterprises', 'id': 508}, {...</td>\n",
       "      <td>en</td>\n",
       "      <td>[{'cast_id': 1, 'character': 'Detective Harlan...</td>\n",
       "      <td>[{'credit_id': '52fe44f4c3a36847f80b4109', 'de...</td>\n",
       "      <td>A secretary is found dead in a White House bat...</td>\n",
       "      <td>[{'id': 591, 'name': 'cia'}, {'id': 833, 'name...</td>\n",
       "    </tr>\n",
       "    <tr>\n",
       "      <th>61</th>\n",
       "      <td>9622</td>\n",
       "      <td>2.588782</td>\n",
       "      <td>3486</td>\n",
       "      <td>2.579748</td>\n",
       "      <td>Beverly Hills Ninja</td>\n",
       "      <td>0</td>\n",
       "      <td>0.0</td>\n",
       "      <td>1997-01-17</td>\n",
       "      <td>88.0</td>\n",
       "      <td>[{'id': 28, 'name': 'Action'}, {'id': 35, 'nam...</td>\n",
       "      <td>[{'iso_3166_1': 'US', 'name': 'United States o...</td>\n",
       "      <td>[{'name': 'TriStar Pictures', 'id': 559}, {'na...</td>\n",
       "      <td>en</td>\n",
       "      <td>[{'cast_id': 1, 'character': 'Haru', 'credit_i...</td>\n",
       "      <td>[{'credit_id': '52fe4512c3a36847f80bad61', 'de...</td>\n",
       "      <td>Haru, an orphaned American who washes ashore i...</td>\n",
       "      <td>[{'id': 233, 'name': 'japan'}, {'id': 3075, 'n...</td>\n",
       "    </tr>\n",
       "    <tr>\n",
       "      <th>84</th>\n",
       "      <td>10154</td>\n",
       "      <td>2.862492</td>\n",
       "      <td>5504</td>\n",
       "      <td>2.860102</td>\n",
       "      <td>Mickey Blue Eyes</td>\n",
       "      <td>0</td>\n",
       "      <td>0.0</td>\n",
       "      <td>1999-08-16</td>\n",
       "      <td>102.0</td>\n",
       "      <td>[{'id': 35, 'name': 'Comedy'}, {'id': 80, 'nam...</td>\n",
       "      <td>[{'iso_3166_1': 'GB', 'name': 'United Kingdom'...</td>\n",
       "      <td>[{'name': 'Castle Rock Entertainment', 'id': 9...</td>\n",
       "      <td>en</td>\n",
       "      <td>[{'cast_id': 1, 'character': 'Michael Felgate'...</td>\n",
       "      <td>[{'credit_id': '52fe43379251416c75007d27', 'de...</td>\n",
       "      <td>An English auctioneer proposes to the daughter...</td>\n",
       "      <td>[{'id': 242, 'name': 'new york'}, {'id': 1459,...</td>\n",
       "    </tr>\n",
       "    <tr>\n",
       "      <th>85</th>\n",
       "      <td>1049</td>\n",
       "      <td>3.089412</td>\n",
       "      <td>2158</td>\n",
       "      <td>3.090361</td>\n",
       "      <td>Sommersby</td>\n",
       "      <td>0</td>\n",
       "      <td>140081992.0</td>\n",
       "      <td>1993-02-05</td>\n",
       "      <td>109.0</td>\n",
       "      <td>[{'id': 18, 'name': 'Drama'}, {'id': 53, 'name...</td>\n",
       "      <td>[{'iso_3166_1': 'FR', 'name': 'France'}, {'iso...</td>\n",
       "      <td>[{'name': 'Canal Plus', 'id': 104}, {'name': '...</td>\n",
       "      <td>en</td>\n",
       "      <td>[{'cast_id': 11, 'character': 'Laurel Sommersb...</td>\n",
       "      <td>[{'credit_id': '52fe42e5c3a36847f802b225', 'de...</td>\n",
       "      <td>Set in the south of the United States just aft...</td>\n",
       "      <td>[{'id': 531, 'name': 'southern usa'}, {'id': 1...</td>\n",
       "    </tr>\n",
       "    <tr>\n",
       "      <th>127</th>\n",
       "      <td>2323</td>\n",
       "      <td>3.621076</td>\n",
       "      <td>14188</td>\n",
       "      <td>3.623731</td>\n",
       "      <td>Field of Dreams</td>\n",
       "      <td>0</td>\n",
       "      <td>84431625.0</td>\n",
       "      <td>1989-04-21</td>\n",
       "      <td>107.0</td>\n",
       "      <td>[{'id': 18, 'name': 'Drama'}, {'id': 14, 'name...</td>\n",
       "      <td>[{'iso_3166_1': 'US', 'name': 'United States o...</td>\n",
       "      <td>[{'name': 'Universal Studios', 'id': 13}]</td>\n",
       "      <td>en</td>\n",
       "      <td>[{'cast_id': 1, 'character': 'Ray Kinsella', '...</td>\n",
       "      <td>[{'credit_id': '52fe434ec3a36847f804a51b', 'de...</td>\n",
       "      <td>Ray Kinsella is an Iowa farmer who hears a mys...</td>\n",
       "      <td>[{'id': 802, 'name': 'regret'}, {'id': 818, 'n...</td>\n",
       "    </tr>\n",
       "    <tr>\n",
       "      <th>132</th>\n",
       "      <td>10399</td>\n",
       "      <td>3.737940</td>\n",
       "      <td>1534</td>\n",
       "      <td>3.767601</td>\n",
       "      <td>Mansfield Park</td>\n",
       "      <td>0</td>\n",
       "      <td>0.0</td>\n",
       "      <td>1999-11-12</td>\n",
       "      <td>112.0</td>\n",
       "      <td>[{'id': 18, 'name': 'Drama'}, {'id': 10749, 'n...</td>\n",
       "      <td>[{'iso_3166_1': 'GB', 'name': 'United Kingdom'}]</td>\n",
       "      <td>[{'name': 'BBC Films', 'id': 288}, {'name': 'H...</td>\n",
       "      <td>en</td>\n",
       "      <td>[{'cast_id': 20, 'character': 'Fanny Price', '...</td>\n",
       "      <td>[{'credit_id': '52fe43679251416c7500ef39', 'de...</td>\n",
       "      <td>This fun and sexy comedy tells a timelessly en...</td>\n",
       "      <td>[{'id': 1610, 'name': 'country estate'}, {'id'...</td>\n",
       "    </tr>\n",
       "    <tr>\n",
       "      <th>190</th>\n",
       "      <td>9066</td>\n",
       "      <td>2.614119</td>\n",
       "      <td>11105</td>\n",
       "      <td>2.611436</td>\n",
       "      <td>The Brady Bunch Movie</td>\n",
       "      <td>0</td>\n",
       "      <td>0.0</td>\n",
       "      <td>1995-02-16</td>\n",
       "      <td>84.0</td>\n",
       "      <td>[{'id': 35, 'name': 'Comedy'}]</td>\n",
       "      <td>[{'iso_3166_1': 'US', 'name': 'United States o...</td>\n",
       "      <td>[{'name': 'Paramount Pictures', 'id': 4}]</td>\n",
       "      <td>en</td>\n",
       "      <td>[{'cast_id': 1, 'character': 'Carol Brady', 'c...</td>\n",
       "      <td>[{'credit_id': '52fe44d8c3a36847f80ad5f7', 'de...</td>\n",
       "      <td>The original 70's TV family is now placed in t...</td>\n",
       "      <td>[{'id': 1545, 'name': 'supermarket'}, {'id': 6...</td>\n",
       "    </tr>\n",
       "    <tr>\n",
       "      <th>204</th>\n",
       "      <td>10322</td>\n",
       "      <td>3.952517</td>\n",
       "      <td>7221</td>\n",
       "      <td>3.960809</td>\n",
       "      <td>Being There</td>\n",
       "      <td>0</td>\n",
       "      <td>30177511.0</td>\n",
       "      <td>1979-12-19</td>\n",
       "      <td>130.0</td>\n",
       "      <td>[{'id': 35, 'name': 'Comedy'}, {'id': 18, 'nam...</td>\n",
       "      <td>[{'iso_3166_1': 'US', 'name': 'United States o...</td>\n",
       "      <td>[{'name': 'United Artists', 'id': 60}, {'name'...</td>\n",
       "      <td>en</td>\n",
       "      <td>[{'cast_id': 1, 'character': 'Chance', 'credit...</td>\n",
       "      <td>[{'credit_id': '52fe43599251416c7500ce97', 'de...</td>\n",
       "      <td>A simple-minded gardener named Chance has spen...</td>\n",
       "      <td>[{'id': 521, 'name': 'washington d.c.'}, {'id'...</td>\n",
       "    </tr>\n",
       "    <tr>\n",
       "      <th>208</th>\n",
       "      <td>46027</td>\n",
       "      <td>3.214017</td>\n",
       "      <td>678</td>\n",
       "      <td>3.229351</td>\n",
       "      <td>Night Falls on Manhattan</td>\n",
       "      <td>0</td>\n",
       "      <td>0.0</td>\n",
       "      <td>1996-10-22</td>\n",
       "      <td>113.0</td>\n",
       "      <td>[{'id': 18, 'name': 'Drama'}, {'id': 80, 'name...</td>\n",
       "      <td>[{'iso_3166_1': 'US', 'name': 'United States o...</td>\n",
       "      <td>[{'name': 'Paramount Pictures', 'id': 4}, {'na...</td>\n",
       "      <td>en</td>\n",
       "      <td>[{'cast_id': 4, 'character': 'Sean Casey', 'cr...</td>\n",
       "      <td>[{'credit_id': '561e25d892514142bc001b90', 'de...</td>\n",
       "      <td>A newly elected District attorney finds himsel...</td>\n",
       "      <td>[{'id': 417, 'name': 'corruption'}, {'id': 614...</td>\n",
       "    </tr>\n",
       "    <tr>\n",
       "      <th>215</th>\n",
       "      <td>27472</td>\n",
       "      <td>2.715391</td>\n",
       "      <td>592</td>\n",
       "      <td>2.676520</td>\n",
       "      <td>The Odd Couple II</td>\n",
       "      <td>0</td>\n",
       "      <td>0.0</td>\n",
       "      <td>1998-04-09</td>\n",
       "      <td>97.0</td>\n",
       "      <td>[{'id': 12, 'name': 'Adventure'}, {'id': 35, '...</td>\n",
       "      <td>[{'iso_3166_1': 'US', 'name': 'United States o...</td>\n",
       "      <td>[{'name': 'Paramount Pictures', 'id': 4}]</td>\n",
       "      <td>en</td>\n",
       "      <td>[{'cast_id': 3, 'character': 'Felix Ungar', 'c...</td>\n",
       "      <td>[{'credit_id': '52fe454cc3a368484e0523db', 'de...</td>\n",
       "      <td>30 years after the first film, Oscar and Felix...</td>\n",
       "      <td>[{'id': 7312, 'name': 'road trip'}, {'id': 178...</td>\n",
       "    </tr>\n",
       "    <tr>\n",
       "      <th>221</th>\n",
       "      <td>9442</td>\n",
       "      <td>3.273254</td>\n",
       "      <td>2672</td>\n",
       "      <td>3.278630</td>\n",
       "      <td>Dead Men Don't Wear Plaid</td>\n",
       "      <td>0</td>\n",
       "      <td>18196170.0</td>\n",
       "      <td>1982-05-21</td>\n",
       "      <td>89.0</td>\n",
       "      <td>[{'id': 35, 'name': 'Comedy'}, {'id': 9648, 'n...</td>\n",
       "      <td>[{'iso_3166_1': 'US', 'name': 'United States o...</td>\n",
       "      <td>[{'name': 'Universal Pictures', 'id': 33}, {'n...</td>\n",
       "      <td>en</td>\n",
       "      <td>[{'cast_id': 16, 'character': 'Rigby Reardon',...</td>\n",
       "      <td>[{'credit_id': '52fe44f7c3a36847f80b4c5b', 'de...</td>\n",
       "      <td>Juliet Forrest is convinced that the reported ...</td>\n",
       "      <td>[{'id': 5609, 'name': 'nostalgia'}, {'id': 975...</td>\n",
       "    </tr>\n",
       "    <tr>\n",
       "      <th>223</th>\n",
       "      <td>21873</td>\n",
       "      <td>3.394037</td>\n",
       "      <td>1670</td>\n",
       "      <td>3.407485</td>\n",
       "      <td>My Bodyguard</td>\n",
       "      <td>0</td>\n",
       "      <td>22482952.0</td>\n",
       "      <td>1980-07-11</td>\n",
       "      <td>96.0</td>\n",
       "      <td>[{'id': 18, 'name': 'Drama'}, {'id': 10751, 'n...</td>\n",
       "      <td>[{'iso_3166_1': 'US', 'name': 'United States o...</td>\n",
       "      <td>[{'name': 'Twentieth Century Fox Film Corporat...</td>\n",
       "      <td>en</td>\n",
       "      <td>[{'cast_id': 4, 'character': 'Clifford Peache'...</td>\n",
       "      <td>[{'credit_id': '52fe442bc3a368484e0138a1', 'de...</td>\n",
       "      <td>Clifford Peach (Chris Makepeace), an easygoing...</td>\n",
       "      <td>[{'id': 10624, 'name': 'bully'}]</td>\n",
       "    </tr>\n",
       "    <tr>\n",
       "      <th>227</th>\n",
       "      <td>15596</td>\n",
       "      <td>3.055498</td>\n",
       "      <td>2842</td>\n",
       "      <td>3.055419</td>\n",
       "      <td>Back to School</td>\n",
       "      <td>0</td>\n",
       "      <td>91258000.0</td>\n",
       "      <td>1986-06-13</td>\n",
       "      <td>96.0</td>\n",
       "      <td>[{'id': 35, 'name': 'Comedy'}]</td>\n",
       "      <td>[{'iso_3166_1': 'US', 'name': 'United States o...</td>\n",
       "      <td>[{'name': 'Orion Pictures', 'id': 41}, {'name'...</td>\n",
       "      <td>en</td>\n",
       "      <td>[{'cast_id': 2, 'character': 'Thornton Melon',...</td>\n",
       "      <td>[{'credit_id': '52fe466a9251416c7507791f', 'de...</td>\n",
       "      <td>Self-made millionaire Thornton Melon decides t...</td>\n",
       "      <td>[{'id': 3616, 'name': 'college'}, {'id': 17142...</td>\n",
       "    </tr>\n",
       "    <tr>\n",
       "      <th>230</th>\n",
       "      <td>6396</td>\n",
       "      <td>3.598007</td>\n",
       "      <td>1718</td>\n",
       "      <td>3.619034</td>\n",
       "      <td>SLC Punk</td>\n",
       "      <td>0</td>\n",
       "      <td>299200.0</td>\n",
       "      <td>1998-09-24</td>\n",
       "      <td>97.0</td>\n",
       "      <td>[{'id': 80, 'name': 'Crime'}, {'id': 10749, 'n...</td>\n",
       "      <td>[{'iso_3166_1': 'US', 'name': 'United States o...</td>\n",
       "      <td>[{'name': 'Beyond Films', 'id': 2081}]</td>\n",
       "      <td>en</td>\n",
       "      <td>[{'cast_id': 1, 'character': 'Stevo', 'credit_...</td>\n",
       "      <td>[{'credit_id': '52fe444fc3a36847f808e84b', 'de...</td>\n",
       "      <td>Two former geeks become 1980s punks, then part...</td>\n",
       "      <td>[{'id': 4470, 'name': 'punk'}, {'id': 10183, '...</td>\n",
       "    </tr>\n",
       "    <tr>\n",
       "      <th>232</th>\n",
       "      <td>18784</td>\n",
       "      <td>3.844943</td>\n",
       "      <td>1378</td>\n",
       "      <td>3.883164</td>\n",
       "      <td>Run Silent, Run Deep</td>\n",
       "      <td>0</td>\n",
       "      <td>0.0</td>\n",
       "      <td>1958-03-27</td>\n",
       "      <td>93.0</td>\n",
       "      <td>[{'id': 18, 'name': 'Drama'}, {'id': 10752, 'n...</td>\n",
       "      <td>[{'iso_3166_1': 'US', 'name': 'United States o...</td>\n",
       "      <td>[{'name': 'Hill-Hecht-Lancaster Productions', ...</td>\n",
       "      <td>en</td>\n",
       "      <td>[{'cast_id': 1, 'character': 'Cmdr, Richardson...</td>\n",
       "      <td>[{'credit_id': '52fe479a9251416c7509f4fb', 'de...</td>\n",
       "      <td>The captain of a submarine sunk by the Japanes...</td>\n",
       "      <td>[{'id': 339, 'name': 'submarine'}, {'id': 1956...</td>\n",
       "    </tr>\n",
       "    <tr>\n",
       "      <th>238</th>\n",
       "      <td>11953</td>\n",
       "      <td>3.999335</td>\n",
       "      <td>1522</td>\n",
       "      <td>4.040736</td>\n",
       "      <td>Kagemusha</td>\n",
       "      <td>0</td>\n",
       "      <td>0.0</td>\n",
       "      <td>1980-04-26</td>\n",
       "      <td>180.0</td>\n",
       "      <td>[{'id': 28, 'name': 'Action'}, {'id': 18, 'nam...</td>\n",
       "      <td>[{'iso_3166_1': 'JP', 'name': 'Japan'}]</td>\n",
       "      <td>[{'name': 'Toho Company', 'id': 882}]</td>\n",
       "      <td>ja</td>\n",
       "      <td>[{'cast_id': 1, 'character': 'Shingen Takeda /...</td>\n",
       "      <td>[{'credit_id': '52fe44a89251416c7503c7fd', 'de...</td>\n",
       "      <td>When a warlord dies, a peasant thief is called...</td>\n",
       "      <td>[{'id': 233, 'name': 'japan'}, {'id': 1462, 'n...</td>\n",
       "    </tr>\n",
       "    <tr>\n",
       "      <th>243</th>\n",
       "      <td>11851</td>\n",
       "      <td>3.130268</td>\n",
       "      <td>1322</td>\n",
       "      <td>3.133888</td>\n",
       "      <td>The Presidio</td>\n",
       "      <td>0</td>\n",
       "      <td>20324096.0</td>\n",
       "      <td>1988-06-10</td>\n",
       "      <td>97.0</td>\n",
       "      <td>[{'id': 28, 'name': 'Action'}, {'id': 12, 'nam...</td>\n",
       "      <td>[{'iso_3166_1': 'US', 'name': 'United States o...</td>\n",
       "      <td>[{'name': 'Paramount Pictures', 'id': 4}]</td>\n",
       "      <td>en</td>\n",
       "      <td>[{'cast_id': 1, 'character': 'Lt. Col. Alan Ca...</td>\n",
       "      <td>[{'credit_id': '52fe44939251416c75039973', 'de...</td>\n",
       "      <td>Jay Austin is now a civilian police detective....</td>\n",
       "      <td>[{'id': 271, 'name': 'competition'}, {'id': 58...</td>\n",
       "    </tr>\n",
       "    <tr>\n",
       "      <th>247</th>\n",
       "      <td>23518</td>\n",
       "      <td>3.941178</td>\n",
       "      <td>954</td>\n",
       "      <td>4.003145</td>\n",
       "      <td>Seven Days in May</td>\n",
       "      <td>0</td>\n",
       "      <td>0.0</td>\n",
       "      <td>1964-02-12</td>\n",
       "      <td>118.0</td>\n",
       "      <td>[{'id': 18, 'name': 'Drama'}, {'id': 53, 'name...</td>\n",
       "      <td>[{'iso_3166_1': 'US', 'name': 'United States o...</td>\n",
       "      <td>[{'name': 'Paramount Pictures', 'id': 4}, {'na...</td>\n",
       "      <td>en</td>\n",
       "      <td>[{'cast_id': 1, 'character': 'Gen. James Matto...</td>\n",
       "      <td>[{'credit_id': '52fe446cc3a368484e022273', 'de...</td>\n",
       "      <td>A U.S. Army general alerts the president of a ...</td>\n",
       "      <td>[{'id': 818, 'name': 'based on novel'}, {'id':...</td>\n",
       "    </tr>\n",
       "    <tr>\n",
       "      <th>248</th>\n",
       "      <td>26953</td>\n",
       "      <td>2.767714</td>\n",
       "      <td>706</td>\n",
       "      <td>2.740085</td>\n",
       "      <td>Puppet Master</td>\n",
       "      <td>0</td>\n",
       "      <td>0.0</td>\n",
       "      <td>1989-10-12</td>\n",
       "      <td>85.0</td>\n",
       "      <td>[{'id': 27, 'name': 'Horror'}]</td>\n",
       "      <td>[{'iso_3166_1': 'US', 'name': 'United States o...</td>\n",
       "      <td>[{'name': 'Empire Pictures', 'id': 1212}, {'na...</td>\n",
       "      <td>en</td>\n",
       "      <td>[{'cast_id': 4, 'character': 'Alex Whitaker', ...</td>\n",
       "      <td>[{'credit_id': '52fe4523c3a368484e04aa25', 'de...</td>\n",
       "      <td>Toulon, a puppet maker, discovers an ancient E...</td>\n",
       "      <td>[{'id': 6300, 'name': 'puppet'}, {'id': 9826, ...</td>\n",
       "    </tr>\n",
       "    <tr>\n",
       "      <th>252</th>\n",
       "      <td>11856</td>\n",
       "      <td>2.784078</td>\n",
       "      <td>1758</td>\n",
       "      <td>2.773606</td>\n",
       "      <td>Air America</td>\n",
       "      <td>0</td>\n",
       "      <td>33461269.0</td>\n",
       "      <td>1990-08-10</td>\n",
       "      <td>112.0</td>\n",
       "      <td>[{'id': 28, 'name': 'Action'}, {'id': 12, 'nam...</td>\n",
       "      <td>[{'iso_3166_1': 'US', 'name': 'United States o...</td>\n",
       "      <td>[{'name': 'IndieProd Company Productions', 'id...</td>\n",
       "      <td>en</td>\n",
       "      <td>[{'cast_id': 1, 'character': 'Gene Ryack', 'cr...</td>\n",
       "      <td>[{'credit_id': '52fe44949251416c75039bd1', 'de...</td>\n",
       "      <td>Air America was the CIA's private airline oper...</td>\n",
       "      <td>[{'id': 591, 'name': 'cia'}, {'id': 973, 'name...</td>\n",
       "    </tr>\n",
       "    <tr>\n",
       "      <th>256</th>\n",
       "      <td>19494</td>\n",
       "      <td>3.286606</td>\n",
       "      <td>2192</td>\n",
       "      <td>3.293568</td>\n",
       "      <td>Nine to Five</td>\n",
       "      <td>0</td>\n",
       "      <td>0.0</td>\n",
       "      <td>1980-12-18</td>\n",
       "      <td>110.0</td>\n",
       "      <td>[{'id': 35, 'name': 'Comedy'}]</td>\n",
       "      <td>[{'iso_3166_1': 'US', 'name': 'United States o...</td>\n",
       "      <td>[{'name': 'Twentieth Century Fox Film Corporat...</td>\n",
       "      <td>en</td>\n",
       "      <td>[{'cast_id': 1, 'character': 'Judy Bernly', 'c...</td>\n",
       "      <td>[{'credit_id': '52fe47db9251416c750a7baf', 'de...</td>\n",
       "      <td>Frank Hart is a pig. He takes advantage in the...</td>\n",
       "      <td>[]</td>\n",
       "    </tr>\n",
       "    <tr>\n",
       "      <th>263</th>\n",
       "      <td>10001</td>\n",
       "      <td>2.636913</td>\n",
       "      <td>904</td>\n",
       "      <td>2.605642</td>\n",
       "      <td>Young Einstein</td>\n",
       "      <td>0</td>\n",
       "      <td>0.0</td>\n",
       "      <td>1988-12-15</td>\n",
       "      <td>91.0</td>\n",
       "      <td>[{'id': 35, 'name': 'Comedy'}, {'id': 878, 'na...</td>\n",
       "      <td>[{'iso_3166_1': 'AU', 'name': 'Australia'}]</td>\n",
       "      <td>[{'name': 'Warner Bros.', 'id': 6194}]</td>\n",
       "      <td>en</td>\n",
       "      <td>[{'cast_id': 17, 'character': 'Albert Einstein...</td>\n",
       "      <td>[{'credit_id': '52fe43039251416c75000035', 'de...</td>\n",
       "      <td>Albert Einstein is the son of a Tasmanian appl...</td>\n",
       "      <td>[{'id': 1815, 'name': 'atomic bomb'}, {'id': 2...</td>\n",
       "    </tr>\n",
       "    <tr>\n",
       "      <th>...</th>\n",
       "      <td>...</td>\n",
       "      <td>...</td>\n",
       "      <td>...</td>\n",
       "      <td>...</td>\n",
       "      <td>...</td>\n",
       "      <td>...</td>\n",
       "      <td>...</td>\n",
       "      <td>...</td>\n",
       "      <td>...</td>\n",
       "      <td>...</td>\n",
       "      <td>...</td>\n",
       "      <td>...</td>\n",
       "      <td>...</td>\n",
       "      <td>...</td>\n",
       "      <td>...</td>\n",
       "      <td>...</td>\n",
       "      <td>...</td>\n",
       "    </tr>\n",
       "    <tr>\n",
       "      <th>20592</th>\n",
       "      <td>10309</td>\n",
       "      <td>3.260018</td>\n",
       "      <td>77</td>\n",
       "      <td>3.435065</td>\n",
       "      <td>The Merchant of Four Seasons</td>\n",
       "      <td>0</td>\n",
       "      <td>0.0</td>\n",
       "      <td>1971-11-04</td>\n",
       "      <td>88.0</td>\n",
       "      <td>[{'id': 18, 'name': 'Drama'}]</td>\n",
       "      <td>[{'iso_3166_1': 'DE', 'name': 'Germany'}]</td>\n",
       "      <td>[{'name': 'Tango Film', 'id': 11626}]</td>\n",
       "      <td>de</td>\n",
       "      <td>[{'cast_id': 5, 'character': 'Hans Epp', 'cred...</td>\n",
       "      <td>[{'credit_id': '52fe43569251416c7500c8cd', 'de...</td>\n",
       "      <td>Hans is a street fruit peddler and born-loser....</td>\n",
       "      <td>[{'id': 6789, 'name': 'foreign legionaire'}, {...</td>\n",
       "    </tr>\n",
       "    <tr>\n",
       "      <th>20909</th>\n",
       "      <td>63144</td>\n",
       "      <td>3.353161</td>\n",
       "      <td>73</td>\n",
       "      <td>3.623288</td>\n",
       "      <td>Page One: Inside the New York Times</td>\n",
       "      <td>0</td>\n",
       "      <td>429766.0</td>\n",
       "      <td>2011-04-29</td>\n",
       "      <td>88.0</td>\n",
       "      <td>[{'id': 99, 'name': 'Documentary'}]</td>\n",
       "      <td>[{'iso_3166_1': 'US', 'name': 'United States o...</td>\n",
       "      <td>[{'name': 'Participant Media', 'id': 6735}, {'...</td>\n",
       "      <td>en</td>\n",
       "      <td>[{'cast_id': 1001, 'character': 'Himself', 'cr...</td>\n",
       "      <td>[{'credit_id': '5742780b9251414f520006c5', 'de...</td>\n",
       "      <td>Unprecedented access to the New York Times new...</td>\n",
       "      <td>[]</td>\n",
       "    </tr>\n",
       "    <tr>\n",
       "      <th>20910</th>\n",
       "      <td>84286</td>\n",
       "      <td>3.456422</td>\n",
       "      <td>72</td>\n",
       "      <td>3.826389</td>\n",
       "      <td>How to Survive a Plague</td>\n",
       "      <td>0</td>\n",
       "      <td>0.0</td>\n",
       "      <td>2012-09-20</td>\n",
       "      <td>120.0</td>\n",
       "      <td>[{'id': 99, 'name': 'Documentary'}]</td>\n",
       "      <td>[{'iso_3166_1': 'US', 'name': 'United States o...</td>\n",
       "      <td>[]</td>\n",
       "      <td>en</td>\n",
       "      <td>[{'cast_id': 1001, 'character': 'Himself', 'cr...</td>\n",
       "      <td>[{'credit_id': '52fe48e69251416c9109c0f3', 'de...</td>\n",
       "      <td>A story of two coalitions – ACT UP and TAG (Tr...</td>\n",
       "      <td>[{'id': 9766, 'name': 'hiv'}, {'id': 208647, '...</td>\n",
       "    </tr>\n",
       "    <tr>\n",
       "      <th>20911</th>\n",
       "      <td>209799</td>\n",
       "      <td>3.363555</td>\n",
       "      <td>80</td>\n",
       "      <td>3.618750</td>\n",
       "      <td>The Unknown Known</td>\n",
       "      <td>0</td>\n",
       "      <td>0.0</td>\n",
       "      <td>2013-08-29</td>\n",
       "      <td>102.0</td>\n",
       "      <td>[{'id': 99, 'name': 'Documentary'}]</td>\n",
       "      <td>[{'iso_3166_1': 'US', 'name': 'United States o...</td>\n",
       "      <td>[]</td>\n",
       "      <td>en</td>\n",
       "      <td>[{'cast_id': 2, 'character': 'Himself', 'credi...</td>\n",
       "      <td>[{'credit_id': '52fe4d6dc3a368484e1e8ac3', 'de...</td>\n",
       "      <td>Former United States Secretary of Defense, Don...</td>\n",
       "      <td>[]</td>\n",
       "    </tr>\n",
       "    <tr>\n",
       "      <th>20937</th>\n",
       "      <td>88284</td>\n",
       "      <td>3.350613</td>\n",
       "      <td>84</td>\n",
       "      <td>3.583333</td>\n",
       "      <td>Barbara</td>\n",
       "      <td>0</td>\n",
       "      <td>4129250.0</td>\n",
       "      <td>2012-03-08</td>\n",
       "      <td>105.0</td>\n",
       "      <td>[{'id': 18, 'name': 'Drama'}]</td>\n",
       "      <td>[{'iso_3166_1': 'DE', 'name': 'Germany'}]</td>\n",
       "      <td>[{'name': 'Schramm Film Koerner &amp; Weber', 'id'...</td>\n",
       "      <td>de</td>\n",
       "      <td>[{'cast_id': 2, 'character': 'Barbara', 'credi...</td>\n",
       "      <td>[{'credit_id': '52fe49ef9251416c910bda4b', 'de...</td>\n",
       "      <td>It is the summer of 1980 in East Germany and, ...</td>\n",
       "      <td>[{'id': 1415, 'name': 'small town'}, {'id': 16...</td>\n",
       "    </tr>\n",
       "    <tr>\n",
       "      <th>20961</th>\n",
       "      <td>10116</td>\n",
       "      <td>3.186215</td>\n",
       "      <td>75</td>\n",
       "      <td>3.300000</td>\n",
       "      <td>Shinobi: Heart Under Blade</td>\n",
       "      <td>0</td>\n",
       "      <td>0.0</td>\n",
       "      <td>2005-09-17</td>\n",
       "      <td>107.0</td>\n",
       "      <td>[{'id': 28, 'name': 'Action'}]</td>\n",
       "      <td>[{'iso_3166_1': 'JP', 'name': 'Japan'}]</td>\n",
       "      <td>[{'name': 'Shochiku Company', 'id': 4641}, {'n...</td>\n",
       "      <td>ja</td>\n",
       "      <td>[{'cast_id': 7, 'character': 'Oboro', 'credit_...</td>\n",
       "      <td>[{'credit_id': '52fe432b9251416c75006233', 'de...</td>\n",
       "      <td>Even though Gennosuke and Oboro are from rival...</td>\n",
       "      <td>[{'id': 233, 'name': 'japan'}, {'id': 3075, 'n...</td>\n",
       "    </tr>\n",
       "    <tr>\n",
       "      <th>20990</th>\n",
       "      <td>15802</td>\n",
       "      <td>3.114185</td>\n",
       "      <td>77</td>\n",
       "      <td>3.162338</td>\n",
       "      <td>Tokyo Decadence</td>\n",
       "      <td>0</td>\n",
       "      <td>0.0</td>\n",
       "      <td>1992-01-06</td>\n",
       "      <td>135.0</td>\n",
       "      <td>[{'id': 18, 'name': 'Drama'}]</td>\n",
       "      <td>[{'iso_3166_1': 'JP', 'name': 'Japan'}]</td>\n",
       "      <td>[{'name': 'Cinemabrain', 'id': 14345}, {'name'...</td>\n",
       "      <td>ja</td>\n",
       "      <td>[{'cast_id': 2, 'character': 'Ai', 'credit_id'...</td>\n",
       "      <td>[{'credit_id': '52fe467e9251416c7507a157', 'de...</td>\n",
       "      <td>A submissive hooker goes about her trade, suff...</td>\n",
       "      <td>[{'id': 233, 'name': 'japan'}, {'id': 549, 'na...</td>\n",
       "    </tr>\n",
       "    <tr>\n",
       "      <th>21019</th>\n",
       "      <td>38344</td>\n",
       "      <td>3.269945</td>\n",
       "      <td>68</td>\n",
       "      <td>3.477941</td>\n",
       "      <td>On a Clear Day</td>\n",
       "      <td>0</td>\n",
       "      <td>0.0</td>\n",
       "      <td>2005-08-18</td>\n",
       "      <td>98.0</td>\n",
       "      <td>[{'id': 18, 'name': 'Drama'}]</td>\n",
       "      <td>[{'iso_3166_1': 'GB', 'name': 'United Kingdom'}]</td>\n",
       "      <td>[{'name': 'The Glasgow Film Fund', 'id': 980},...</td>\n",
       "      <td>en</td>\n",
       "      <td>[{'cast_id': 1, 'character': 'Frank', 'credit_...</td>\n",
       "      <td>[{'credit_id': '52fe46ae9251416c9105c283', 'de...</td>\n",
       "      <td>After decades of laboring as a Glasgow shipbui...</td>\n",
       "      <td>[{'id': 5259, 'name': 'english channel'}, {'id...</td>\n",
       "    </tr>\n",
       "    <tr>\n",
       "      <th>21046</th>\n",
       "      <td>194101</td>\n",
       "      <td>3.398318</td>\n",
       "      <td>86</td>\n",
       "      <td>3.662791</td>\n",
       "      <td>The Selfish Giant</td>\n",
       "      <td>0</td>\n",
       "      <td>0.0</td>\n",
       "      <td>2013-05-16</td>\n",
       "      <td>91.0</td>\n",
       "      <td>[{'id': 18, 'name': 'Drama'}]</td>\n",
       "      <td>[{'iso_3166_1': 'GB', 'name': 'United Kingdom'}]</td>\n",
       "      <td>[{'name': 'British Film Institute (BFI)', 'id'...</td>\n",
       "      <td>en</td>\n",
       "      <td>[{'cast_id': 2, 'character': 'Arbor', 'credit_...</td>\n",
       "      <td>[{'credit_id': '566adf45c3a3683f560042ce', 'de...</td>\n",
       "      <td>A hyperactive boy and his best friend, a slow-...</td>\n",
       "      <td>[{'id': 2673, 'name': 'horse'}, {'id': 187056,...</td>\n",
       "    </tr>\n",
       "    <tr>\n",
       "      <th>21050</th>\n",
       "      <td>16919</td>\n",
       "      <td>3.313450</td>\n",
       "      <td>70</td>\n",
       "      <td>3.557143</td>\n",
       "      <td>Global Metal</td>\n",
       "      <td>0</td>\n",
       "      <td>0.0</td>\n",
       "      <td>2008-06-20</td>\n",
       "      <td>93.0</td>\n",
       "      <td>[{'id': 99, 'name': 'Documentary'}, {'id': 104...</td>\n",
       "      <td>[{'iso_3166_1': 'CA', 'name': 'Canada'}]</td>\n",
       "      <td>[{'name': 'Banger Productions', 'id': 3414}]</td>\n",
       "      <td>en</td>\n",
       "      <td>[{'cast_id': 3, 'character': 'Himself', 'credi...</td>\n",
       "      <td>[{'credit_id': '52fe46f79251416c75089703', 'de...</td>\n",
       "      <td>In GLOBAL METAL, directors Scot McFadyen and S...</td>\n",
       "      <td>[{'id': 5540, 'name': 'heavy metal'}, {'id': 6...</td>\n",
       "    </tr>\n",
       "    <tr>\n",
       "      <th>21065</th>\n",
       "      <td>27679</td>\n",
       "      <td>2.716975</td>\n",
       "      <td>71</td>\n",
       "      <td>2.394366</td>\n",
       "      <td>D.C. Cab</td>\n",
       "      <td>0</td>\n",
       "      <td>0.0</td>\n",
       "      <td>1983-12-16</td>\n",
       "      <td>100.0</td>\n",
       "      <td>[{'id': 12, 'name': 'Adventure'}, {'id': 35, '...</td>\n",
       "      <td>[]</td>\n",
       "      <td>[]</td>\n",
       "      <td>en</td>\n",
       "      <td>[{'cast_id': 7, 'character': 'Harold', 'credit...</td>\n",
       "      <td>[{'credit_id': '52fe455fc3a368484e0565d1', 'de...</td>\n",
       "      <td>The tale of a hapless group of cabbies and a r...</td>\n",
       "      <td>[{'id': 189383, 'name': 'yellow cab'}]</td>\n",
       "    </tr>\n",
       "    <tr>\n",
       "      <th>21125</th>\n",
       "      <td>17622</td>\n",
       "      <td>3.303550</td>\n",
       "      <td>114</td>\n",
       "      <td>3.447368</td>\n",
       "      <td>Fifty Dead Men Walking</td>\n",
       "      <td>0</td>\n",
       "      <td>0.0</td>\n",
       "      <td>2008-09-10</td>\n",
       "      <td>117.0</td>\n",
       "      <td>[{'id': 28, 'name': 'Action'}, {'id': 53, 'nam...</td>\n",
       "      <td>[{'iso_3166_1': 'CA', 'name': 'Canada'}, {'iso...</td>\n",
       "      <td>[{'name': 'Téléfilm Canada', 'id': 806}, {'nam...</td>\n",
       "      <td>en</td>\n",
       "      <td>[{'cast_id': 3, 'character': 'Fergus', 'credit...</td>\n",
       "      <td>[{'credit_id': '52fe47389251416c75091d51', 'de...</td>\n",
       "      <td>Based on Martin McGartland's real life story a...</td>\n",
       "      <td>[{'id': 14552, 'name': 'ira'}, {'id': 176516, ...</td>\n",
       "    </tr>\n",
       "    <tr>\n",
       "      <th>21168</th>\n",
       "      <td>78182</td>\n",
       "      <td>3.464376</td>\n",
       "      <td>89</td>\n",
       "      <td>3.769663</td>\n",
       "      <td>Elena</td>\n",
       "      <td>0</td>\n",
       "      <td>0.0</td>\n",
       "      <td>2011-05-21</td>\n",
       "      <td>109.0</td>\n",
       "      <td>[{'id': 18, 'name': 'Drama'}, {'id': 53, 'name...</td>\n",
       "      <td>[{'iso_3166_1': 'RU', 'name': 'Russia'}]</td>\n",
       "      <td>[{'name': 'Non-Stop Productions', 'id': 5630}]</td>\n",
       "      <td>ru</td>\n",
       "      <td>[{'cast_id': 3, 'character': 'Elena', 'credit_...</td>\n",
       "      <td>[{'credit_id': '57727d3ac3a36802cb002149', 'de...</td>\n",
       "      <td>Vladimir is reaching the end of his life and d...</td>\n",
       "      <td>[{'id': 8126, 'name': 'pill'}, {'id': 8181, 'n...</td>\n",
       "    </tr>\n",
       "    <tr>\n",
       "      <th>21210</th>\n",
       "      <td>71065</td>\n",
       "      <td>3.240457</td>\n",
       "      <td>70</td>\n",
       "      <td>3.414286</td>\n",
       "      <td>The Last of the Mohicans</td>\n",
       "      <td>0</td>\n",
       "      <td>0.0</td>\n",
       "      <td>1920-11-21</td>\n",
       "      <td>73.0</td>\n",
       "      <td>[{'id': 12, 'name': 'Adventure'}, {'id': 18, '...</td>\n",
       "      <td>[{'iso_3166_1': 'US', 'name': 'United States o...</td>\n",
       "      <td>[{'name': 'Maurice Tourneur Productions', 'id'...</td>\n",
       "      <td>en</td>\n",
       "      <td>[{'cast_id': 3, 'character': 'Magua', 'credit_...</td>\n",
       "      <td>[{'credit_id': '552452c69251415c7c009dc2', 'de...</td>\n",
       "      <td>As Alice and Cora Munro attempt to find their ...</td>\n",
       "      <td>[]</td>\n",
       "    </tr>\n",
       "    <tr>\n",
       "      <th>21245</th>\n",
       "      <td>81250</td>\n",
       "      <td>3.314189</td>\n",
       "      <td>84</td>\n",
       "      <td>3.517857</td>\n",
       "      <td>Geek Charming</td>\n",
       "      <td>0</td>\n",
       "      <td>0.0</td>\n",
       "      <td>2011-11-11</td>\n",
       "      <td>97.0</td>\n",
       "      <td>[{'id': 35, 'name': 'Comedy'}, {'id': 18, 'nam...</td>\n",
       "      <td>[{'iso_3166_1': 'US', 'name': 'United States o...</td>\n",
       "      <td>[{'name': 'Mandeville Films', 'id': 10227}, {'...</td>\n",
       "      <td>en</td>\n",
       "      <td>[{'cast_id': 2, 'character': 'Dylan Schoenfiel...</td>\n",
       "      <td>[{'credit_id': '52fe48039251416c9107d1c5', 'de...</td>\n",
       "      <td>Dylan Schoenfield is the pink princess of the ...</td>\n",
       "      <td>[{'id': 5800, 'name': 'geek'}, {'id': 6270, 'n...</td>\n",
       "    </tr>\n",
       "    <tr>\n",
       "      <th>21280</th>\n",
       "      <td>11788</td>\n",
       "      <td>3.452824</td>\n",
       "      <td>72</td>\n",
       "      <td>3.819444</td>\n",
       "      <td>Elizabeth I</td>\n",
       "      <td>0</td>\n",
       "      <td>0.0</td>\n",
       "      <td>2005-09-29</td>\n",
       "      <td>223.0</td>\n",
       "      <td>[{'id': 18, 'name': 'Drama'}, {'id': 36, 'name...</td>\n",
       "      <td>[{'iso_3166_1': 'GB', 'name': 'United Kingdom'}]</td>\n",
       "      <td>[{'name': 'Channel 4 Television', 'id': 5778},...</td>\n",
       "      <td>en</td>\n",
       "      <td>[{'cast_id': 1, 'character': 'Queen Elizabeth ...</td>\n",
       "      <td>[{'credit_id': '52fe44869251416c75037d4f', 'de...</td>\n",
       "      <td>HBO miniseries about the the public and privat...</td>\n",
       "      <td>[{'id': 2389, 'name': 'virgin'}, {'id': 2471, ...</td>\n",
       "    </tr>\n",
       "    <tr>\n",
       "      <th>21284</th>\n",
       "      <td>18189</td>\n",
       "      <td>2.555130</td>\n",
       "      <td>68</td>\n",
       "      <td>2.058824</td>\n",
       "      <td>Dirty Love</td>\n",
       "      <td>0</td>\n",
       "      <td>0.0</td>\n",
       "      <td>2005-09-23</td>\n",
       "      <td>91.0</td>\n",
       "      <td>[{'id': 35, 'name': 'Comedy'}]</td>\n",
       "      <td>[{'iso_3166_1': 'US', 'name': 'United States o...</td>\n",
       "      <td>[{'name': 'Big Screen Entertainment Group', 'i...</td>\n",
       "      <td>en</td>\n",
       "      <td>[{'cast_id': 2, 'character': 'Rebecca Sommers'...</td>\n",
       "      <td>[{'credit_id': '52fe47669251416c75097f93', 'de...</td>\n",
       "      <td>A modern day Cinderella story which sees disas...</td>\n",
       "      <td>[{'id': 1003, 'name': 'photographer'}, {'id': ...</td>\n",
       "    </tr>\n",
       "    <tr>\n",
       "      <th>21376</th>\n",
       "      <td>39413</td>\n",
       "      <td>3.430238</td>\n",
       "      <td>70</td>\n",
       "      <td>3.785714</td>\n",
       "      <td>My Afternoons with Margueritte</td>\n",
       "      <td>0</td>\n",
       "      <td>0.0</td>\n",
       "      <td>2010-06-02</td>\n",
       "      <td>82.0</td>\n",
       "      <td>[{'id': 18, 'name': 'Drama'}, {'id': 35, 'name...</td>\n",
       "      <td>[{'iso_3166_1': 'FR', 'name': 'France'}]</td>\n",
       "      <td>[{'name': 'ICE3', 'id': 2585}]</td>\n",
       "      <td>fr</td>\n",
       "      <td>[{'cast_id': 1, 'character': 'Germain', 'credi...</td>\n",
       "      <td>[{'credit_id': '576b3261c3a3681154001047', 'de...</td>\n",
       "      <td>An illiterate and lonely man bonds with an old...</td>\n",
       "      <td>[{'id': 14668, 'name': 'reading aloud'}, {'id'...</td>\n",
       "    </tr>\n",
       "    <tr>\n",
       "      <th>21419</th>\n",
       "      <td>166</td>\n",
       "      <td>3.160888</td>\n",
       "      <td>116</td>\n",
       "      <td>3.219828</td>\n",
       "      <td>The Party</td>\n",
       "      <td>0</td>\n",
       "      <td>0.0</td>\n",
       "      <td>1980-01-01</td>\n",
       "      <td>110.0</td>\n",
       "      <td>[{'id': 18, 'name': 'Drama'}, {'id': 10749, 'n...</td>\n",
       "      <td>[{'iso_3166_1': 'FR', 'name': 'France'}]</td>\n",
       "      <td>[{'name': 'Gaumont', 'id': 9}, {'name': 'Gaumo...</td>\n",
       "      <td>fr</td>\n",
       "      <td>[{'cast_id': 2, 'character': 'François Beretto...</td>\n",
       "      <td>[{'credit_id': '52fe4221c3a36847f800655d', 'de...</td>\n",
       "      <td>Le Boum is the story of a 13-year-old French g...</td>\n",
       "      <td>[{'id': 90, 'name': 'paris'}, {'id': 246, 'nam...</td>\n",
       "    </tr>\n",
       "    <tr>\n",
       "      <th>21461</th>\n",
       "      <td>26508</td>\n",
       "      <td>3.441388</td>\n",
       "      <td>79</td>\n",
       "      <td>3.765823</td>\n",
       "      <td>The War Game</td>\n",
       "      <td>0</td>\n",
       "      <td>0.0</td>\n",
       "      <td>1965-11-01</td>\n",
       "      <td>48.0</td>\n",
       "      <td>[{'id': 878, 'name': 'Science Fiction'}, {'id'...</td>\n",
       "      <td>[{'iso_3166_1': 'GB', 'name': 'United Kingdom'}]</td>\n",
       "      <td>[{'name': 'British Broadcasting Corporation (B...</td>\n",
       "      <td>en</td>\n",
       "      <td>[{'cast_id': 2, 'character': 'Commentator', 'c...</td>\n",
       "      <td>[{'credit_id': '52fe4507c3a368484e0445dd', 'de...</td>\n",
       "      <td>The War Game is a fictional, worst-case-scenar...</td>\n",
       "      <td>[{'id': 15061, 'name': 'docudrama'}]</td>\n",
       "    </tr>\n",
       "    <tr>\n",
       "      <th>21485</th>\n",
       "      <td>251232</td>\n",
       "      <td>3.409307</td>\n",
       "      <td>88</td>\n",
       "      <td>3.676136</td>\n",
       "      <td>Copenhagen</td>\n",
       "      <td>0</td>\n",
       "      <td>0.0</td>\n",
       "      <td>2014-10-03</td>\n",
       "      <td>98.0</td>\n",
       "      <td>[{'id': 12, 'name': 'Adventure'}, {'id': 10749...</td>\n",
       "      <td>[{'iso_3166_1': 'DK', 'name': 'Denmark'}, {'is...</td>\n",
       "      <td>[{'name': 'Heretic Films', 'id': 18852}, {'nam...</td>\n",
       "      <td>en</td>\n",
       "      <td>[{'cast_id': 3, 'character': 'William', 'credi...</td>\n",
       "      <td>[{'credit_id': '52fe4e0e9251416c9112513f', 'de...</td>\n",
       "      <td>After weeks of traveling through Europe, the i...</td>\n",
       "      <td>[]</td>\n",
       "    </tr>\n",
       "    <tr>\n",
       "      <th>21563</th>\n",
       "      <td>2003</td>\n",
       "      <td>2.778990</td>\n",
       "      <td>69</td>\n",
       "      <td>2.507246</td>\n",
       "      <td>Anatomy of Hell</td>\n",
       "      <td>0</td>\n",
       "      <td>0.0</td>\n",
       "      <td>2004-01-28</td>\n",
       "      <td>88.0</td>\n",
       "      <td>[{'id': 18, 'name': 'Drama'}]</td>\n",
       "      <td>[{'iso_3166_1': 'FR', 'name': 'France'}]</td>\n",
       "      <td>[{'name': 'Canal Plus', 'id': 104}, {'name': '...</td>\n",
       "      <td>en</td>\n",
       "      <td>[{'cast_id': 13, 'character': 'Femme', 'credit...</td>\n",
       "      <td>[{'credit_id': '52fe432bc3a36847f803f823', 'de...</td>\n",
       "      <td>A man rescues a woman from a suicide attempt i...</td>\n",
       "      <td>[{'id': 237, 'name': 'gay'}, {'id': 572, 'name...</td>\n",
       "    </tr>\n",
       "    <tr>\n",
       "      <th>21724</th>\n",
       "      <td>26636</td>\n",
       "      <td>2.777353</td>\n",
       "      <td>68</td>\n",
       "      <td>2.500000</td>\n",
       "      <td>Twentynine Palms</td>\n",
       "      <td>0</td>\n",
       "      <td>0.0</td>\n",
       "      <td>2003-09-17</td>\n",
       "      <td>114.0</td>\n",
       "      <td>[{'id': 18, 'name': 'Drama'}, {'id': 53, 'name...</td>\n",
       "      <td>[{'iso_3166_1': 'DE', 'name': 'Germany'}, {'is...</td>\n",
       "      <td>[{'name': '3b productions', 'id': 5609}, {'nam...</td>\n",
       "      <td>en</td>\n",
       "      <td>[{'cast_id': 1, 'character': 'Katia (as Katia ...</td>\n",
       "      <td>[{'credit_id': '59cd0840c3a3682ac0014eb0', 'de...</td>\n",
       "      <td>David, an independent photographer, and Katia,...</td>\n",
       "      <td>[{'id': 5756, 'name': 'man-woman relation'}, {...</td>\n",
       "    </tr>\n",
       "    <tr>\n",
       "      <th>21849</th>\n",
       "      <td>220286</td>\n",
       "      <td>3.009682</td>\n",
       "      <td>82</td>\n",
       "      <td>2.969512</td>\n",
       "      <td>Grand Piano</td>\n",
       "      <td>0</td>\n",
       "      <td>0.0</td>\n",
       "      <td>2013-10-11</td>\n",
       "      <td>90.0</td>\n",
       "      <td>[{'id': 53, 'name': 'Thriller'}, {'id': 9648, ...</td>\n",
       "      <td>[{'iso_3166_1': 'ES', 'name': 'Spain'}, {'iso_...</td>\n",
       "      <td>[{'name': 'Nostromo Pictures', 'id': 11068}, {...</td>\n",
       "      <td>en</td>\n",
       "      <td>[{'cast_id': 2, 'character': 'Tom Selznick', '...</td>\n",
       "      <td>[{'credit_id': '534580a10e0a267bd4001f81', 'de...</td>\n",
       "      <td>Moments before his comeback performance, a con...</td>\n",
       "      <td>[{'id': 520, 'name': 'chicago'}, {'id': 782, '...</td>\n",
       "    </tr>\n",
       "    <tr>\n",
       "      <th>22181</th>\n",
       "      <td>63498</td>\n",
       "      <td>3.262538</td>\n",
       "      <td>68</td>\n",
       "      <td>3.463235</td>\n",
       "      <td>Chico &amp; Rita</td>\n",
       "      <td>0</td>\n",
       "      <td>0.0</td>\n",
       "      <td>2010-11-19</td>\n",
       "      <td>94.0</td>\n",
       "      <td>[{'id': 16, 'name': 'Animation'}, {'id': 10402...</td>\n",
       "      <td>[{'iso_3166_1': 'ES', 'name': 'Spain'}, {'iso_...</td>\n",
       "      <td>[{'name': 'Isle of Man Film', 'id': 2268}, {'n...</td>\n",
       "      <td>en</td>\n",
       "      <td>[{'cast_id': 1002, 'character': 'Ramón (voice)...</td>\n",
       "      <td>[{'credit_id': '52fe46aec3a368484e09de65', 'de...</td>\n",
       "      <td>Chico is a young piano player with big dreams....</td>\n",
       "      <td>[{'id': 701, 'name': 'cuba'}, {'id': 1416, 'na...</td>\n",
       "    </tr>\n",
       "    <tr>\n",
       "      <th>22288</th>\n",
       "      <td>57283</td>\n",
       "      <td>3.357218</td>\n",
       "      <td>119</td>\n",
       "      <td>3.525210</td>\n",
       "      <td>Häxan</td>\n",
       "      <td>0</td>\n",
       "      <td>0.0</td>\n",
       "      <td>1922-09-18</td>\n",
       "      <td>104.0</td>\n",
       "      <td>[{'id': 27, 'name': 'Horror'}]</td>\n",
       "      <td>[{'iso_3166_1': 'DK', 'name': 'Denmark'}, {'is...</td>\n",
       "      <td>[{'name': 'Svensk Filmindustri (SF)', 'id': 61...</td>\n",
       "      <td>sv</td>\n",
       "      <td>[{'cast_id': 2, 'character': 'The Young Monk',...</td>\n",
       "      <td>[{'credit_id': '59d3d37b9251414b7f002fd3', 'de...</td>\n",
       "      <td>Grave robbing, torture, possessed nuns, and a ...</td>\n",
       "      <td>[{'id': 616, 'name': 'witch'}, {'id': 3099, 'n...</td>\n",
       "    </tr>\n",
       "    <tr>\n",
       "      <th>22295</th>\n",
       "      <td>42170</td>\n",
       "      <td>3.306733</td>\n",
       "      <td>73</td>\n",
       "      <td>3.534247</td>\n",
       "      <td>Vengeance Is Mine</td>\n",
       "      <td>0</td>\n",
       "      <td>0.0</td>\n",
       "      <td>1979-04-21</td>\n",
       "      <td>139.0</td>\n",
       "      <td>[{'id': 80, 'name': 'Crime'}, {'id': 18, 'name...</td>\n",
       "      <td>[{'iso_3166_1': 'JP', 'name': 'Japan'}]</td>\n",
       "      <td>[{'name': 'Shôchiku Eiga', 'id': 5070}, {'name...</td>\n",
       "      <td>ja</td>\n",
       "      <td>[{'cast_id': 2, 'character': 'Iwao Enokizu', '...</td>\n",
       "      <td>[{'credit_id': '52fe45f1c3a36847f80e36f1', 'de...</td>\n",
       "      <td>Chronological exploits of Iwao Enokizu, a murd...</td>\n",
       "      <td>[{'id': 572, 'name': 'sex'}, {'id': 14676, 'na...</td>\n",
       "    </tr>\n",
       "    <tr>\n",
       "      <th>22646</th>\n",
       "      <td>37905</td>\n",
       "      <td>3.010686</td>\n",
       "      <td>68</td>\n",
       "      <td>2.963235</td>\n",
       "      <td>The Horde</td>\n",
       "      <td>0</td>\n",
       "      <td>0.0</td>\n",
       "      <td>2009-08-28</td>\n",
       "      <td>90.0</td>\n",
       "      <td>[{'id': 28, 'name': 'Action'}, {'id': 27, 'nam...</td>\n",
       "      <td>[{'iso_3166_1': 'FR', 'name': 'France'}]</td>\n",
       "      <td>[{'name': 'Le Pacte', 'id': 5125}, {'name': 'C...</td>\n",
       "      <td>fr</td>\n",
       "      <td>[{'cast_id': 7, 'character': 'Aurore', 'credit...</td>\n",
       "      <td>[{'credit_id': '52fe467c9251416c910560ad', 'de...</td>\n",
       "      <td>A posse of crooked cops, malevolent gangsters ...</td>\n",
       "      <td>[{'id': 254, 'name': 'france'}, {'id': 8233, '...</td>\n",
       "    </tr>\n",
       "    <tr>\n",
       "      <th>23311</th>\n",
       "      <td>26594</td>\n",
       "      <td>2.717856</td>\n",
       "      <td>137</td>\n",
       "      <td>2.551095</td>\n",
       "      <td>The Secret</td>\n",
       "      <td>0</td>\n",
       "      <td>0.0</td>\n",
       "      <td>2006-03-26</td>\n",
       "      <td>90.0</td>\n",
       "      <td>[{'id': 99, 'name': 'Documentary'}]</td>\n",
       "      <td>[{'iso_3166_1': 'AU', 'name': 'Australia'}]</td>\n",
       "      <td>[]</td>\n",
       "      <td>en</td>\n",
       "      <td>[{'cast_id': 1, 'character': 'Himself', 'credi...</td>\n",
       "      <td>[{'credit_id': '52fe450dc3a368484e045a39', 'de...</td>\n",
       "      <td>Interviews with leading authors, philosophers,...</td>\n",
       "      <td>[{'id': 11454, 'name': 'scam'}, {'id': 161217,...</td>\n",
       "    </tr>\n",
       "    <tr>\n",
       "      <th>24752</th>\n",
       "      <td>6183</td>\n",
       "      <td>3.485091</td>\n",
       "      <td>71</td>\n",
       "      <td>3.887324</td>\n",
       "      <td>Barefoot</td>\n",
       "      <td>0</td>\n",
       "      <td>0.0</td>\n",
       "      <td>2005-03-30</td>\n",
       "      <td>110.0</td>\n",
       "      <td>[{'id': 10749, 'name': 'Romance'}, {'id': 35, ...</td>\n",
       "      <td>[{'iso_3166_1': 'DE', 'name': 'Germany'}]</td>\n",
       "      <td>[{'name': 'Touchstone Pictures', 'id': 9195}]</td>\n",
       "      <td>de</td>\n",
       "      <td>[{'cast_id': 19, 'character': 'Nick Keller', '...</td>\n",
       "      <td>[{'credit_id': '52fe4444c3a36847f808c1a1', 'de...</td>\n",
       "      <td>A hedonistic bachelor, falls for an escaped me...</td>\n",
       "      <td>[{'id': 10041, 'name': 'dysfunctional family'}...</td>\n",
       "    </tr>\n",
       "  </tbody>\n",
       "</table>\n",
       "<p>5747 rows × 17 columns</p>\n",
       "</div>"
      ],
      "text/plain": [
       "           id  weighted_rating  votes_per_movie  average_rating  \\\n",
       "1       10474         3.588785             4967        3.595933   \n",
       "22      64678         3.325825              318        3.382075   \n",
       "27      11862         3.079474            15258        3.079565   \n",
       "30      11010         3.960485            13347        3.965011   \n",
       "31      19760         2.844099             2188        2.837523   \n",
       "37       7300         3.304249             3803        3.308572   \n",
       "56      15592         3.166206             1506        3.170983   \n",
       "58       9409         2.819514             3302        2.814658   \n",
       "60       9415         3.083595             3216        3.084111   \n",
       "61       9622         2.588782             3486        2.579748   \n",
       "84      10154         2.862492             5504        2.860102   \n",
       "85       1049         3.089412             2158        3.090361   \n",
       "127      2323         3.621076            14188        3.623731   \n",
       "132     10399         3.737940             1534        3.767601   \n",
       "190      9066         2.614119            11105        2.611436   \n",
       "204     10322         3.952517             7221        3.960809   \n",
       "208     46027         3.214017              678        3.229351   \n",
       "215     27472         2.715391              592        2.676520   \n",
       "221      9442         3.273254             2672        3.278630   \n",
       "223     21873         3.394037             1670        3.407485   \n",
       "227     15596         3.055498             2842        3.055419   \n",
       "230      6396         3.598007             1718        3.619034   \n",
       "232     18784         3.844943             1378        3.883164   \n",
       "238     11953         3.999335             1522        4.040736   \n",
       "243     11851         3.130268             1322        3.133888   \n",
       "247     23518         3.941178              954        4.003145   \n",
       "248     26953         2.767714              706        2.740085   \n",
       "252     11856         2.784078             1758        2.773606   \n",
       "256     19494         3.286606             2192        3.293568   \n",
       "263     10001         2.636913              904        2.605642   \n",
       "...       ...              ...              ...             ...   \n",
       "20592   10309         3.260018               77        3.435065   \n",
       "20909   63144         3.353161               73        3.623288   \n",
       "20910   84286         3.456422               72        3.826389   \n",
       "20911  209799         3.363555               80        3.618750   \n",
       "20937   88284         3.350613               84        3.583333   \n",
       "20961   10116         3.186215               75        3.300000   \n",
       "20990   15802         3.114185               77        3.162338   \n",
       "21019   38344         3.269945               68        3.477941   \n",
       "21046  194101         3.398318               86        3.662791   \n",
       "21050   16919         3.313450               70        3.557143   \n",
       "21065   27679         2.716975               71        2.394366   \n",
       "21125   17622         3.303550              114        3.447368   \n",
       "21168   78182         3.464376               89        3.769663   \n",
       "21210   71065         3.240457               70        3.414286   \n",
       "21245   81250         3.314189               84        3.517857   \n",
       "21280   11788         3.452824               72        3.819444   \n",
       "21284   18189         2.555130               68        2.058824   \n",
       "21376   39413         3.430238               70        3.785714   \n",
       "21419     166         3.160888              116        3.219828   \n",
       "21461   26508         3.441388               79        3.765823   \n",
       "21485  251232         3.409307               88        3.676136   \n",
       "21563    2003         2.778990               69        2.507246   \n",
       "21724   26636         2.777353               68        2.500000   \n",
       "21849  220286         3.009682               82        2.969512   \n",
       "22181   63498         3.262538               68        3.463235   \n",
       "22288   57283         3.357218              119        3.525210   \n",
       "22295   42170         3.306733               73        3.534247   \n",
       "22646   37905         3.010686               68        2.963235   \n",
       "23311   26594         2.717856              137        2.551095   \n",
       "24752    6183         3.485091               71        3.887324   \n",
       "\n",
       "                                     title budget      revenue release_date  \\\n",
       "1                   The Basketball Diaries      0          0.0   1995-04-21   \n",
       "22                   The Art of Getting By      0    1406224.0   2011-06-17   \n",
       "27             Father of the Bride Part II      0   76578911.0   1995-02-10   \n",
       "30                             The Postman      0          0.0   1994-09-22   \n",
       "31                           Two If by Sea      0          0.0   1996-01-12   \n",
       "37                            One Fine Day      0   97529550.0   1996-12-20   \n",
       "56                                 Beaches      0   57041866.0   1988-12-21   \n",
       "58                        Another Stakeout      0          0.0   1993-07-22   \n",
       "60                          Murder at 1600      0   25804707.0   1997-04-18   \n",
       "61                     Beverly Hills Ninja      0          0.0   1997-01-17   \n",
       "84                        Mickey Blue Eyes      0          0.0   1999-08-16   \n",
       "85                               Sommersby      0  140081992.0   1993-02-05   \n",
       "127                        Field of Dreams      0   84431625.0   1989-04-21   \n",
       "132                         Mansfield Park      0          0.0   1999-11-12   \n",
       "190                  The Brady Bunch Movie      0          0.0   1995-02-16   \n",
       "204                            Being There      0   30177511.0   1979-12-19   \n",
       "208               Night Falls on Manhattan      0          0.0   1996-10-22   \n",
       "215                      The Odd Couple II      0          0.0   1998-04-09   \n",
       "221              Dead Men Don't Wear Plaid      0   18196170.0   1982-05-21   \n",
       "223                           My Bodyguard      0   22482952.0   1980-07-11   \n",
       "227                         Back to School      0   91258000.0   1986-06-13   \n",
       "230                               SLC Punk      0     299200.0   1998-09-24   \n",
       "232                   Run Silent, Run Deep      0          0.0   1958-03-27   \n",
       "238                              Kagemusha      0          0.0   1980-04-26   \n",
       "243                           The Presidio      0   20324096.0   1988-06-10   \n",
       "247                      Seven Days in May      0          0.0   1964-02-12   \n",
       "248                          Puppet Master      0          0.0   1989-10-12   \n",
       "252                            Air America      0   33461269.0   1990-08-10   \n",
       "256                           Nine to Five      0          0.0   1980-12-18   \n",
       "263                         Young Einstein      0          0.0   1988-12-15   \n",
       "...                                    ...    ...          ...          ...   \n",
       "20592         The Merchant of Four Seasons      0          0.0   1971-11-04   \n",
       "20909  Page One: Inside the New York Times      0     429766.0   2011-04-29   \n",
       "20910              How to Survive a Plague      0          0.0   2012-09-20   \n",
       "20911                    The Unknown Known      0          0.0   2013-08-29   \n",
       "20937                              Barbara      0    4129250.0   2012-03-08   \n",
       "20961           Shinobi: Heart Under Blade      0          0.0   2005-09-17   \n",
       "20990                      Tokyo Decadence      0          0.0   1992-01-06   \n",
       "21019                       On a Clear Day      0          0.0   2005-08-18   \n",
       "21046                    The Selfish Giant      0          0.0   2013-05-16   \n",
       "21050                         Global Metal      0          0.0   2008-06-20   \n",
       "21065                             D.C. Cab      0          0.0   1983-12-16   \n",
       "21125               Fifty Dead Men Walking      0          0.0   2008-09-10   \n",
       "21168                                Elena      0          0.0   2011-05-21   \n",
       "21210             The Last of the Mohicans      0          0.0   1920-11-21   \n",
       "21245                        Geek Charming      0          0.0   2011-11-11   \n",
       "21280                          Elizabeth I      0          0.0   2005-09-29   \n",
       "21284                           Dirty Love      0          0.0   2005-09-23   \n",
       "21376       My Afternoons with Margueritte      0          0.0   2010-06-02   \n",
       "21419                            The Party      0          0.0   1980-01-01   \n",
       "21461                         The War Game      0          0.0   1965-11-01   \n",
       "21485                           Copenhagen      0          0.0   2014-10-03   \n",
       "21563                      Anatomy of Hell      0          0.0   2004-01-28   \n",
       "21724                     Twentynine Palms      0          0.0   2003-09-17   \n",
       "21849                          Grand Piano      0          0.0   2013-10-11   \n",
       "22181                         Chico & Rita      0          0.0   2010-11-19   \n",
       "22288                                Häxan      0          0.0   1922-09-18   \n",
       "22295                    Vengeance Is Mine      0          0.0   1979-04-21   \n",
       "22646                            The Horde      0          0.0   2009-08-28   \n",
       "23311                           The Secret      0          0.0   2006-03-26   \n",
       "24752                             Barefoot      0          0.0   2005-03-30   \n",
       "\n",
       "       runtime                                             genres  \\\n",
       "1        102.0  [{'id': 18, 'name': 'Drama'}, {'id': 80, 'name...   \n",
       "22        83.0  [{'id': 18, 'name': 'Drama'}, {'id': 10749, 'n...   \n",
       "27       106.0                     [{'id': 35, 'name': 'Comedy'}]   \n",
       "30       108.0  [{'id': 35, 'name': 'Comedy'}, {'id': 18, 'nam...   \n",
       "31        96.0  [{'id': 35, 'name': 'Comedy'}, {'id': 10749, '...   \n",
       "37       108.0  [{'id': 35, 'name': 'Comedy'}, {'id': 10749, '...   \n",
       "56       123.0  [{'id': 35, 'name': 'Comedy'}, {'id': 18, 'nam...   \n",
       "58       105.0  [{'id': 28, 'name': 'Action'}, {'id': 35, 'nam...   \n",
       "60       107.0  [{'id': 28, 'name': 'Action'}, {'id': 18, 'nam...   \n",
       "61        88.0  [{'id': 28, 'name': 'Action'}, {'id': 35, 'nam...   \n",
       "84       102.0  [{'id': 35, 'name': 'Comedy'}, {'id': 80, 'nam...   \n",
       "85       109.0  [{'id': 18, 'name': 'Drama'}, {'id': 53, 'name...   \n",
       "127      107.0  [{'id': 18, 'name': 'Drama'}, {'id': 14, 'name...   \n",
       "132      112.0  [{'id': 18, 'name': 'Drama'}, {'id': 10749, 'n...   \n",
       "190       84.0                     [{'id': 35, 'name': 'Comedy'}]   \n",
       "204      130.0  [{'id': 35, 'name': 'Comedy'}, {'id': 18, 'nam...   \n",
       "208      113.0  [{'id': 18, 'name': 'Drama'}, {'id': 80, 'name...   \n",
       "215       97.0  [{'id': 12, 'name': 'Adventure'}, {'id': 35, '...   \n",
       "221       89.0  [{'id': 35, 'name': 'Comedy'}, {'id': 9648, 'n...   \n",
       "223       96.0  [{'id': 18, 'name': 'Drama'}, {'id': 10751, 'n...   \n",
       "227       96.0                     [{'id': 35, 'name': 'Comedy'}]   \n",
       "230       97.0  [{'id': 80, 'name': 'Crime'}, {'id': 10749, 'n...   \n",
       "232       93.0  [{'id': 18, 'name': 'Drama'}, {'id': 10752, 'n...   \n",
       "238      180.0  [{'id': 28, 'name': 'Action'}, {'id': 18, 'nam...   \n",
       "243       97.0  [{'id': 28, 'name': 'Action'}, {'id': 12, 'nam...   \n",
       "247      118.0  [{'id': 18, 'name': 'Drama'}, {'id': 53, 'name...   \n",
       "248       85.0                     [{'id': 27, 'name': 'Horror'}]   \n",
       "252      112.0  [{'id': 28, 'name': 'Action'}, {'id': 12, 'nam...   \n",
       "256      110.0                     [{'id': 35, 'name': 'Comedy'}]   \n",
       "263       91.0  [{'id': 35, 'name': 'Comedy'}, {'id': 878, 'na...   \n",
       "...        ...                                                ...   \n",
       "20592     88.0                      [{'id': 18, 'name': 'Drama'}]   \n",
       "20909     88.0                [{'id': 99, 'name': 'Documentary'}]   \n",
       "20910    120.0                [{'id': 99, 'name': 'Documentary'}]   \n",
       "20911    102.0                [{'id': 99, 'name': 'Documentary'}]   \n",
       "20937    105.0                      [{'id': 18, 'name': 'Drama'}]   \n",
       "20961    107.0                     [{'id': 28, 'name': 'Action'}]   \n",
       "20990    135.0                      [{'id': 18, 'name': 'Drama'}]   \n",
       "21019     98.0                      [{'id': 18, 'name': 'Drama'}]   \n",
       "21046     91.0                      [{'id': 18, 'name': 'Drama'}]   \n",
       "21050     93.0  [{'id': 99, 'name': 'Documentary'}, {'id': 104...   \n",
       "21065    100.0  [{'id': 12, 'name': 'Adventure'}, {'id': 35, '...   \n",
       "21125    117.0  [{'id': 28, 'name': 'Action'}, {'id': 53, 'nam...   \n",
       "21168    109.0  [{'id': 18, 'name': 'Drama'}, {'id': 53, 'name...   \n",
       "21210     73.0  [{'id': 12, 'name': 'Adventure'}, {'id': 18, '...   \n",
       "21245     97.0  [{'id': 35, 'name': 'Comedy'}, {'id': 18, 'nam...   \n",
       "21280    223.0  [{'id': 18, 'name': 'Drama'}, {'id': 36, 'name...   \n",
       "21284     91.0                     [{'id': 35, 'name': 'Comedy'}]   \n",
       "21376     82.0  [{'id': 18, 'name': 'Drama'}, {'id': 35, 'name...   \n",
       "21419    110.0  [{'id': 18, 'name': 'Drama'}, {'id': 10749, 'n...   \n",
       "21461     48.0  [{'id': 878, 'name': 'Science Fiction'}, {'id'...   \n",
       "21485     98.0  [{'id': 12, 'name': 'Adventure'}, {'id': 10749...   \n",
       "21563     88.0                      [{'id': 18, 'name': 'Drama'}]   \n",
       "21724    114.0  [{'id': 18, 'name': 'Drama'}, {'id': 53, 'name...   \n",
       "21849     90.0  [{'id': 53, 'name': 'Thriller'}, {'id': 9648, ...   \n",
       "22181     94.0  [{'id': 16, 'name': 'Animation'}, {'id': 10402...   \n",
       "22288    104.0                     [{'id': 27, 'name': 'Horror'}]   \n",
       "22295    139.0  [{'id': 80, 'name': 'Crime'}, {'id': 18, 'name...   \n",
       "22646     90.0  [{'id': 28, 'name': 'Action'}, {'id': 27, 'nam...   \n",
       "23311     90.0                [{'id': 99, 'name': 'Documentary'}]   \n",
       "24752    110.0  [{'id': 10749, 'name': 'Romance'}, {'id': 35, ...   \n",
       "\n",
       "                                    production_countries  \\\n",
       "1      [{'iso_3166_1': 'US', 'name': 'United States o...   \n",
       "22     [{'iso_3166_1': 'US', 'name': 'United States o...   \n",
       "27     [{'iso_3166_1': 'US', 'name': 'United States o...   \n",
       "30     [{'iso_3166_1': 'BE', 'name': 'Belgium'}, {'is...   \n",
       "31     [{'iso_3166_1': 'US', 'name': 'United States o...   \n",
       "37     [{'iso_3166_1': 'US', 'name': 'United States o...   \n",
       "56     [{'iso_3166_1': 'US', 'name': 'United States o...   \n",
       "58     [{'iso_3166_1': 'US', 'name': 'United States o...   \n",
       "60     [{'iso_3166_1': 'US', 'name': 'United States o...   \n",
       "61     [{'iso_3166_1': 'US', 'name': 'United States o...   \n",
       "84     [{'iso_3166_1': 'GB', 'name': 'United Kingdom'...   \n",
       "85     [{'iso_3166_1': 'FR', 'name': 'France'}, {'iso...   \n",
       "127    [{'iso_3166_1': 'US', 'name': 'United States o...   \n",
       "132     [{'iso_3166_1': 'GB', 'name': 'United Kingdom'}]   \n",
       "190    [{'iso_3166_1': 'US', 'name': 'United States o...   \n",
       "204    [{'iso_3166_1': 'US', 'name': 'United States o...   \n",
       "208    [{'iso_3166_1': 'US', 'name': 'United States o...   \n",
       "215    [{'iso_3166_1': 'US', 'name': 'United States o...   \n",
       "221    [{'iso_3166_1': 'US', 'name': 'United States o...   \n",
       "223    [{'iso_3166_1': 'US', 'name': 'United States o...   \n",
       "227    [{'iso_3166_1': 'US', 'name': 'United States o...   \n",
       "230    [{'iso_3166_1': 'US', 'name': 'United States o...   \n",
       "232    [{'iso_3166_1': 'US', 'name': 'United States o...   \n",
       "238              [{'iso_3166_1': 'JP', 'name': 'Japan'}]   \n",
       "243    [{'iso_3166_1': 'US', 'name': 'United States o...   \n",
       "247    [{'iso_3166_1': 'US', 'name': 'United States o...   \n",
       "248    [{'iso_3166_1': 'US', 'name': 'United States o...   \n",
       "252    [{'iso_3166_1': 'US', 'name': 'United States o...   \n",
       "256    [{'iso_3166_1': 'US', 'name': 'United States o...   \n",
       "263          [{'iso_3166_1': 'AU', 'name': 'Australia'}]   \n",
       "...                                                  ...   \n",
       "20592          [{'iso_3166_1': 'DE', 'name': 'Germany'}]   \n",
       "20909  [{'iso_3166_1': 'US', 'name': 'United States o...   \n",
       "20910  [{'iso_3166_1': 'US', 'name': 'United States o...   \n",
       "20911  [{'iso_3166_1': 'US', 'name': 'United States o...   \n",
       "20937          [{'iso_3166_1': 'DE', 'name': 'Germany'}]   \n",
       "20961            [{'iso_3166_1': 'JP', 'name': 'Japan'}]   \n",
       "20990            [{'iso_3166_1': 'JP', 'name': 'Japan'}]   \n",
       "21019   [{'iso_3166_1': 'GB', 'name': 'United Kingdom'}]   \n",
       "21046   [{'iso_3166_1': 'GB', 'name': 'United Kingdom'}]   \n",
       "21050           [{'iso_3166_1': 'CA', 'name': 'Canada'}]   \n",
       "21065                                                 []   \n",
       "21125  [{'iso_3166_1': 'CA', 'name': 'Canada'}, {'iso...   \n",
       "21168           [{'iso_3166_1': 'RU', 'name': 'Russia'}]   \n",
       "21210  [{'iso_3166_1': 'US', 'name': 'United States o...   \n",
       "21245  [{'iso_3166_1': 'US', 'name': 'United States o...   \n",
       "21280   [{'iso_3166_1': 'GB', 'name': 'United Kingdom'}]   \n",
       "21284  [{'iso_3166_1': 'US', 'name': 'United States o...   \n",
       "21376           [{'iso_3166_1': 'FR', 'name': 'France'}]   \n",
       "21419           [{'iso_3166_1': 'FR', 'name': 'France'}]   \n",
       "21461   [{'iso_3166_1': 'GB', 'name': 'United Kingdom'}]   \n",
       "21485  [{'iso_3166_1': 'DK', 'name': 'Denmark'}, {'is...   \n",
       "21563           [{'iso_3166_1': 'FR', 'name': 'France'}]   \n",
       "21724  [{'iso_3166_1': 'DE', 'name': 'Germany'}, {'is...   \n",
       "21849  [{'iso_3166_1': 'ES', 'name': 'Spain'}, {'iso_...   \n",
       "22181  [{'iso_3166_1': 'ES', 'name': 'Spain'}, {'iso_...   \n",
       "22288  [{'iso_3166_1': 'DK', 'name': 'Denmark'}, {'is...   \n",
       "22295            [{'iso_3166_1': 'JP', 'name': 'Japan'}]   \n",
       "22646           [{'iso_3166_1': 'FR', 'name': 'France'}]   \n",
       "23311        [{'iso_3166_1': 'AU', 'name': 'Australia'}]   \n",
       "24752          [{'iso_3166_1': 'DE', 'name': 'Germany'}]   \n",
       "\n",
       "                                    production_companies original_language  \\\n",
       "1      [{'name': 'New Line Cinema', 'id': 12}, {'name...                en   \n",
       "22     [{'name': 'Goldcrest Films International', 'id...                en   \n",
       "27     [{'name': 'Sandollar Productions', 'id': 5842}...                en   \n",
       "30                                                    []                it   \n",
       "31     [{'name': 'Warner Bros.', 'id': 6194}, {'name'...                en   \n",
       "37     [{'name': 'Twentieth Century Fox Film Corporat...                en   \n",
       "56     [{'name': 'Touchstone Pictures', 'id': 9195}, ...                en   \n",
       "58         [{'name': 'Touchstone Pictures', 'id': 9195}]                en   \n",
       "60     [{'name': 'Regency Enterprises', 'id': 508}, {...                en   \n",
       "61     [{'name': 'TriStar Pictures', 'id': 559}, {'na...                en   \n",
       "84     [{'name': 'Castle Rock Entertainment', 'id': 9...                en   \n",
       "85     [{'name': 'Canal Plus', 'id': 104}, {'name': '...                en   \n",
       "127            [{'name': 'Universal Studios', 'id': 13}]                en   \n",
       "132    [{'name': 'BBC Films', 'id': 288}, {'name': 'H...                en   \n",
       "190            [{'name': 'Paramount Pictures', 'id': 4}]                en   \n",
       "204    [{'name': 'United Artists', 'id': 60}, {'name'...                en   \n",
       "208    [{'name': 'Paramount Pictures', 'id': 4}, {'na...                en   \n",
       "215            [{'name': 'Paramount Pictures', 'id': 4}]                en   \n",
       "221    [{'name': 'Universal Pictures', 'id': 33}, {'n...                en   \n",
       "223    [{'name': 'Twentieth Century Fox Film Corporat...                en   \n",
       "227    [{'name': 'Orion Pictures', 'id': 41}, {'name'...                en   \n",
       "230               [{'name': 'Beyond Films', 'id': 2081}]                en   \n",
       "232    [{'name': 'Hill-Hecht-Lancaster Productions', ...                en   \n",
       "238                [{'name': 'Toho Company', 'id': 882}]                ja   \n",
       "243            [{'name': 'Paramount Pictures', 'id': 4}]                en   \n",
       "247    [{'name': 'Paramount Pictures', 'id': 4}, {'na...                en   \n",
       "248    [{'name': 'Empire Pictures', 'id': 1212}, {'na...                en   \n",
       "252    [{'name': 'IndieProd Company Productions', 'id...                en   \n",
       "256    [{'name': 'Twentieth Century Fox Film Corporat...                en   \n",
       "263               [{'name': 'Warner Bros.', 'id': 6194}]                en   \n",
       "...                                                  ...               ...   \n",
       "20592              [{'name': 'Tango Film', 'id': 11626}]                de   \n",
       "20909  [{'name': 'Participant Media', 'id': 6735}, {'...                en   \n",
       "20910                                                 []                en   \n",
       "20911                                                 []                en   \n",
       "20937  [{'name': 'Schramm Film Koerner & Weber', 'id'...                de   \n",
       "20961  [{'name': 'Shochiku Company', 'id': 4641}, {'n...                ja   \n",
       "20990  [{'name': 'Cinemabrain', 'id': 14345}, {'name'...                ja   \n",
       "21019  [{'name': 'The Glasgow Film Fund', 'id': 980},...                en   \n",
       "21046  [{'name': 'British Film Institute (BFI)', 'id'...                en   \n",
       "21050       [{'name': 'Banger Productions', 'id': 3414}]                en   \n",
       "21065                                                 []                en   \n",
       "21125  [{'name': 'Téléfilm Canada', 'id': 806}, {'nam...                en   \n",
       "21168     [{'name': 'Non-Stop Productions', 'id': 5630}]                ru   \n",
       "21210  [{'name': 'Maurice Tourneur Productions', 'id'...                en   \n",
       "21245  [{'name': 'Mandeville Films', 'id': 10227}, {'...                en   \n",
       "21280  [{'name': 'Channel 4 Television', 'id': 5778},...                en   \n",
       "21284  [{'name': 'Big Screen Entertainment Group', 'i...                en   \n",
       "21376                     [{'name': 'ICE3', 'id': 2585}]                fr   \n",
       "21419  [{'name': 'Gaumont', 'id': 9}, {'name': 'Gaumo...                fr   \n",
       "21461  [{'name': 'British Broadcasting Corporation (B...                en   \n",
       "21485  [{'name': 'Heretic Films', 'id': 18852}, {'nam...                en   \n",
       "21563  [{'name': 'Canal Plus', 'id': 104}, {'name': '...                en   \n",
       "21724  [{'name': '3b productions', 'id': 5609}, {'nam...                en   \n",
       "21849  [{'name': 'Nostromo Pictures', 'id': 11068}, {...                en   \n",
       "22181  [{'name': 'Isle of Man Film', 'id': 2268}, {'n...                en   \n",
       "22288  [{'name': 'Svensk Filmindustri (SF)', 'id': 61...                sv   \n",
       "22295  [{'name': 'Shôchiku Eiga', 'id': 5070}, {'name...                ja   \n",
       "22646  [{'name': 'Le Pacte', 'id': 5125}, {'name': 'C...                fr   \n",
       "23311                                                 []                en   \n",
       "24752      [{'name': 'Touchstone Pictures', 'id': 9195}]                de   \n",
       "\n",
       "                                                    cast  \\\n",
       "1      [{'cast_id': 9, 'character': 'Jim Carroll', 'c...   \n",
       "22     [{'cast_id': 2, 'character': 'George Zinavoy',...   \n",
       "27     [{'cast_id': 1, 'character': 'George Banks', '...   \n",
       "30     [{'cast_id': 11, 'character': 'Pablo Neruda', ...   \n",
       "31     [{'cast_id': 1, 'character': 'Roz', 'credit_id...   \n",
       "37     [{'cast_id': 1, 'character': 'Melanie Parker',...   \n",
       "56     [{'cast_id': 2, 'character': \"Cecilia 'CC' Car...   \n",
       "58     [{'cast_id': 19, 'character': 'Det. Chris Lecc...   \n",
       "60     [{'cast_id': 1, 'character': 'Detective Harlan...   \n",
       "61     [{'cast_id': 1, 'character': 'Haru', 'credit_i...   \n",
       "84     [{'cast_id': 1, 'character': 'Michael Felgate'...   \n",
       "85     [{'cast_id': 11, 'character': 'Laurel Sommersb...   \n",
       "127    [{'cast_id': 1, 'character': 'Ray Kinsella', '...   \n",
       "132    [{'cast_id': 20, 'character': 'Fanny Price', '...   \n",
       "190    [{'cast_id': 1, 'character': 'Carol Brady', 'c...   \n",
       "204    [{'cast_id': 1, 'character': 'Chance', 'credit...   \n",
       "208    [{'cast_id': 4, 'character': 'Sean Casey', 'cr...   \n",
       "215    [{'cast_id': 3, 'character': 'Felix Ungar', 'c...   \n",
       "221    [{'cast_id': 16, 'character': 'Rigby Reardon',...   \n",
       "223    [{'cast_id': 4, 'character': 'Clifford Peache'...   \n",
       "227    [{'cast_id': 2, 'character': 'Thornton Melon',...   \n",
       "230    [{'cast_id': 1, 'character': 'Stevo', 'credit_...   \n",
       "232    [{'cast_id': 1, 'character': 'Cmdr, Richardson...   \n",
       "238    [{'cast_id': 1, 'character': 'Shingen Takeda /...   \n",
       "243    [{'cast_id': 1, 'character': 'Lt. Col. Alan Ca...   \n",
       "247    [{'cast_id': 1, 'character': 'Gen. James Matto...   \n",
       "248    [{'cast_id': 4, 'character': 'Alex Whitaker', ...   \n",
       "252    [{'cast_id': 1, 'character': 'Gene Ryack', 'cr...   \n",
       "256    [{'cast_id': 1, 'character': 'Judy Bernly', 'c...   \n",
       "263    [{'cast_id': 17, 'character': 'Albert Einstein...   \n",
       "...                                                  ...   \n",
       "20592  [{'cast_id': 5, 'character': 'Hans Epp', 'cred...   \n",
       "20909  [{'cast_id': 1001, 'character': 'Himself', 'cr...   \n",
       "20910  [{'cast_id': 1001, 'character': 'Himself', 'cr...   \n",
       "20911  [{'cast_id': 2, 'character': 'Himself', 'credi...   \n",
       "20937  [{'cast_id': 2, 'character': 'Barbara', 'credi...   \n",
       "20961  [{'cast_id': 7, 'character': 'Oboro', 'credit_...   \n",
       "20990  [{'cast_id': 2, 'character': 'Ai', 'credit_id'...   \n",
       "21019  [{'cast_id': 1, 'character': 'Frank', 'credit_...   \n",
       "21046  [{'cast_id': 2, 'character': 'Arbor', 'credit_...   \n",
       "21050  [{'cast_id': 3, 'character': 'Himself', 'credi...   \n",
       "21065  [{'cast_id': 7, 'character': 'Harold', 'credit...   \n",
       "21125  [{'cast_id': 3, 'character': 'Fergus', 'credit...   \n",
       "21168  [{'cast_id': 3, 'character': 'Elena', 'credit_...   \n",
       "21210  [{'cast_id': 3, 'character': 'Magua', 'credit_...   \n",
       "21245  [{'cast_id': 2, 'character': 'Dylan Schoenfiel...   \n",
       "21280  [{'cast_id': 1, 'character': 'Queen Elizabeth ...   \n",
       "21284  [{'cast_id': 2, 'character': 'Rebecca Sommers'...   \n",
       "21376  [{'cast_id': 1, 'character': 'Germain', 'credi...   \n",
       "21419  [{'cast_id': 2, 'character': 'François Beretto...   \n",
       "21461  [{'cast_id': 2, 'character': 'Commentator', 'c...   \n",
       "21485  [{'cast_id': 3, 'character': 'William', 'credi...   \n",
       "21563  [{'cast_id': 13, 'character': 'Femme', 'credit...   \n",
       "21724  [{'cast_id': 1, 'character': 'Katia (as Katia ...   \n",
       "21849  [{'cast_id': 2, 'character': 'Tom Selznick', '...   \n",
       "22181  [{'cast_id': 1002, 'character': 'Ramón (voice)...   \n",
       "22288  [{'cast_id': 2, 'character': 'The Young Monk',...   \n",
       "22295  [{'cast_id': 2, 'character': 'Iwao Enokizu', '...   \n",
       "22646  [{'cast_id': 7, 'character': 'Aurore', 'credit...   \n",
       "23311  [{'cast_id': 1, 'character': 'Himself', 'credi...   \n",
       "24752  [{'cast_id': 19, 'character': 'Nick Keller', '...   \n",
       "\n",
       "                                                    crew  \\\n",
       "1      [{'credit_id': '52fe43779251416c7501167d', 'de...   \n",
       "22     [{'credit_id': '593c6b79c3a3680f590129a9', 'de...   \n",
       "27     [{'credit_id': '52fe44959251416c75039ed7', 'de...   \n",
       "30     [{'credit_id': '52fe43e29251416c75021d97', 'de...   \n",
       "31     [{'credit_id': '52fe47ef9251416c750aa5b1', 'de...   \n",
       "37     [{'credit_id': '52fe4478c3a36847f80980eb', 'de...   \n",
       "56     [{'credit_id': '52fe46699251416c750777ed', 'de...   \n",
       "58     [{'credit_id': '52fe44f4c3a36847f80b3ea5', 'de...   \n",
       "60     [{'credit_id': '52fe44f4c3a36847f80b4109', 'de...   \n",
       "61     [{'credit_id': '52fe4512c3a36847f80bad61', 'de...   \n",
       "84     [{'credit_id': '52fe43379251416c75007d27', 'de...   \n",
       "85     [{'credit_id': '52fe42e5c3a36847f802b225', 'de...   \n",
       "127    [{'credit_id': '52fe434ec3a36847f804a51b', 'de...   \n",
       "132    [{'credit_id': '52fe43679251416c7500ef39', 'de...   \n",
       "190    [{'credit_id': '52fe44d8c3a36847f80ad5f7', 'de...   \n",
       "204    [{'credit_id': '52fe43599251416c7500ce97', 'de...   \n",
       "208    [{'credit_id': '561e25d892514142bc001b90', 'de...   \n",
       "215    [{'credit_id': '52fe454cc3a368484e0523db', 'de...   \n",
       "221    [{'credit_id': '52fe44f7c3a36847f80b4c5b', 'de...   \n",
       "223    [{'credit_id': '52fe442bc3a368484e0138a1', 'de...   \n",
       "227    [{'credit_id': '52fe466a9251416c7507791f', 'de...   \n",
       "230    [{'credit_id': '52fe444fc3a36847f808e84b', 'de...   \n",
       "232    [{'credit_id': '52fe479a9251416c7509f4fb', 'de...   \n",
       "238    [{'credit_id': '52fe44a89251416c7503c7fd', 'de...   \n",
       "243    [{'credit_id': '52fe44939251416c75039973', 'de...   \n",
       "247    [{'credit_id': '52fe446cc3a368484e022273', 'de...   \n",
       "248    [{'credit_id': '52fe4523c3a368484e04aa25', 'de...   \n",
       "252    [{'credit_id': '52fe44949251416c75039bd1', 'de...   \n",
       "256    [{'credit_id': '52fe47db9251416c750a7baf', 'de...   \n",
       "263    [{'credit_id': '52fe43039251416c75000035', 'de...   \n",
       "...                                                  ...   \n",
       "20592  [{'credit_id': '52fe43569251416c7500c8cd', 'de...   \n",
       "20909  [{'credit_id': '5742780b9251414f520006c5', 'de...   \n",
       "20910  [{'credit_id': '52fe48e69251416c9109c0f3', 'de...   \n",
       "20911  [{'credit_id': '52fe4d6dc3a368484e1e8ac3', 'de...   \n",
       "20937  [{'credit_id': '52fe49ef9251416c910bda4b', 'de...   \n",
       "20961  [{'credit_id': '52fe432b9251416c75006233', 'de...   \n",
       "20990  [{'credit_id': '52fe467e9251416c7507a157', 'de...   \n",
       "21019  [{'credit_id': '52fe46ae9251416c9105c283', 'de...   \n",
       "21046  [{'credit_id': '566adf45c3a3683f560042ce', 'de...   \n",
       "21050  [{'credit_id': '52fe46f79251416c75089703', 'de...   \n",
       "21065  [{'credit_id': '52fe455fc3a368484e0565d1', 'de...   \n",
       "21125  [{'credit_id': '52fe47389251416c75091d51', 'de...   \n",
       "21168  [{'credit_id': '57727d3ac3a36802cb002149', 'de...   \n",
       "21210  [{'credit_id': '552452c69251415c7c009dc2', 'de...   \n",
       "21245  [{'credit_id': '52fe48039251416c9107d1c5', 'de...   \n",
       "21280  [{'credit_id': '52fe44869251416c75037d4f', 'de...   \n",
       "21284  [{'credit_id': '52fe47669251416c75097f93', 'de...   \n",
       "21376  [{'credit_id': '576b3261c3a3681154001047', 'de...   \n",
       "21419  [{'credit_id': '52fe4221c3a36847f800655d', 'de...   \n",
       "21461  [{'credit_id': '52fe4507c3a368484e0445dd', 'de...   \n",
       "21485  [{'credit_id': '52fe4e0e9251416c9112513f', 'de...   \n",
       "21563  [{'credit_id': '52fe432bc3a36847f803f823', 'de...   \n",
       "21724  [{'credit_id': '59cd0840c3a3682ac0014eb0', 'de...   \n",
       "21849  [{'credit_id': '534580a10e0a267bd4001f81', 'de...   \n",
       "22181  [{'credit_id': '52fe46aec3a368484e09de65', 'de...   \n",
       "22288  [{'credit_id': '59d3d37b9251414b7f002fd3', 'de...   \n",
       "22295  [{'credit_id': '52fe45f1c3a36847f80e36f1', 'de...   \n",
       "22646  [{'credit_id': '52fe467c9251416c910560ad', 'de...   \n",
       "23311  [{'credit_id': '52fe450dc3a368484e045a39', 'de...   \n",
       "24752  [{'credit_id': '52fe4444c3a36847f808c1a1', 'de...   \n",
       "\n",
       "                                                overview  \\\n",
       "1      Film adaptation of street tough Jim Carroll's ...   \n",
       "22     George, a lonely and fatalistic teen who's mad...   \n",
       "27     Just when George Banks has recovered from his ...   \n",
       "30     Simple Italian postman learns to love poetry w...   \n",
       "31     Frank O'Brien, a petty thief, and his 7-year-l...   \n",
       "37     Melanie Parker, an architect and mother of Sam...   \n",
       "56     A privileged rich debutante and a cynical stru...   \n",
       "58     Chris and Bill are called upon for their excel...   \n",
       "60     A secretary is found dead in a White House bat...   \n",
       "61     Haru, an orphaned American who washes ashore i...   \n",
       "84     An English auctioneer proposes to the daughter...   \n",
       "85     Set in the south of the United States just aft...   \n",
       "127    Ray Kinsella is an Iowa farmer who hears a mys...   \n",
       "132    This fun and sexy comedy tells a timelessly en...   \n",
       "190    The original 70's TV family is now placed in t...   \n",
       "204    A simple-minded gardener named Chance has spen...   \n",
       "208    A newly elected District attorney finds himsel...   \n",
       "215    30 years after the first film, Oscar and Felix...   \n",
       "221    Juliet Forrest is convinced that the reported ...   \n",
       "223    Clifford Peach (Chris Makepeace), an easygoing...   \n",
       "227    Self-made millionaire Thornton Melon decides t...   \n",
       "230    Two former geeks become 1980s punks, then part...   \n",
       "232    The captain of a submarine sunk by the Japanes...   \n",
       "238    When a warlord dies, a peasant thief is called...   \n",
       "243    Jay Austin is now a civilian police detective....   \n",
       "247    A U.S. Army general alerts the president of a ...   \n",
       "248    Toulon, a puppet maker, discovers an ancient E...   \n",
       "252    Air America was the CIA's private airline oper...   \n",
       "256    Frank Hart is a pig. He takes advantage in the...   \n",
       "263    Albert Einstein is the son of a Tasmanian appl...   \n",
       "...                                                  ...   \n",
       "20592  Hans is a street fruit peddler and born-loser....   \n",
       "20909  Unprecedented access to the New York Times new...   \n",
       "20910  A story of two coalitions – ACT UP and TAG (Tr...   \n",
       "20911  Former United States Secretary of Defense, Don...   \n",
       "20937  It is the summer of 1980 in East Germany and, ...   \n",
       "20961  Even though Gennosuke and Oboro are from rival...   \n",
       "20990  A submissive hooker goes about her trade, suff...   \n",
       "21019  After decades of laboring as a Glasgow shipbui...   \n",
       "21046  A hyperactive boy and his best friend, a slow-...   \n",
       "21050  In GLOBAL METAL, directors Scot McFadyen and S...   \n",
       "21065  The tale of a hapless group of cabbies and a r...   \n",
       "21125  Based on Martin McGartland's real life story a...   \n",
       "21168  Vladimir is reaching the end of his life and d...   \n",
       "21210  As Alice and Cora Munro attempt to find their ...   \n",
       "21245  Dylan Schoenfield is the pink princess of the ...   \n",
       "21280  HBO miniseries about the the public and privat...   \n",
       "21284  A modern day Cinderella story which sees disas...   \n",
       "21376  An illiterate and lonely man bonds with an old...   \n",
       "21419  Le Boum is the story of a 13-year-old French g...   \n",
       "21461  The War Game is a fictional, worst-case-scenar...   \n",
       "21485  After weeks of traveling through Europe, the i...   \n",
       "21563  A man rescues a woman from a suicide attempt i...   \n",
       "21724  David, an independent photographer, and Katia,...   \n",
       "21849  Moments before his comeback performance, a con...   \n",
       "22181  Chico is a young piano player with big dreams....   \n",
       "22288  Grave robbing, torture, possessed nuns, and a ...   \n",
       "22295  Chronological exploits of Iwao Enokizu, a murd...   \n",
       "22646  A posse of crooked cops, malevolent gangsters ...   \n",
       "23311  Interviews with leading authors, philosophers,...   \n",
       "24752  A hedonistic bachelor, falls for an escaped me...   \n",
       "\n",
       "                                                keywords  \n",
       "1      [{'id': 6075, 'name': 'sport'}, {'id': 6496, '...  \n",
       "22     [{'id': 490, 'name': 'philosophy'}, {'id': 131...  \n",
       "27     [{'id': 1009, 'name': 'baby'}, {'id': 1599, 'n...  \n",
       "30     [{'id': 2041, 'name': 'island'}, {'id': 3344, ...  \n",
       "31     [{'id': 2041, 'name': 'island'}, {'id': 5918, ...  \n",
       "37     [{'id': 238179, 'name': 'skab under tv'}, {'id...  \n",
       "56     [{'id': 4959, 'name': 'death of a friend'}, {'...  \n",
       "58     [{'id': 4171, 'name': 'staatsanwältin'}, {'id'...  \n",
       "60     [{'id': 591, 'name': 'cia'}, {'id': 833, 'name...  \n",
       "61     [{'id': 233, 'name': 'japan'}, {'id': 3075, 'n...  \n",
       "84     [{'id': 242, 'name': 'new york'}, {'id': 1459,...  \n",
       "85     [{'id': 531, 'name': 'southern usa'}, {'id': 1...  \n",
       "127    [{'id': 802, 'name': 'regret'}, {'id': 818, 'n...  \n",
       "132    [{'id': 1610, 'name': 'country estate'}, {'id'...  \n",
       "190    [{'id': 1545, 'name': 'supermarket'}, {'id': 6...  \n",
       "204    [{'id': 521, 'name': 'washington d.c.'}, {'id'...  \n",
       "208    [{'id': 417, 'name': 'corruption'}, {'id': 614...  \n",
       "215    [{'id': 7312, 'name': 'road trip'}, {'id': 178...  \n",
       "221    [{'id': 5609, 'name': 'nostalgia'}, {'id': 975...  \n",
       "223                     [{'id': 10624, 'name': 'bully'}]  \n",
       "227    [{'id': 3616, 'name': 'college'}, {'id': 17142...  \n",
       "230    [{'id': 4470, 'name': 'punk'}, {'id': 10183, '...  \n",
       "232    [{'id': 339, 'name': 'submarine'}, {'id': 1956...  \n",
       "238    [{'id': 233, 'name': 'japan'}, {'id': 1462, 'n...  \n",
       "243    [{'id': 271, 'name': 'competition'}, {'id': 58...  \n",
       "247    [{'id': 818, 'name': 'based on novel'}, {'id':...  \n",
       "248    [{'id': 6300, 'name': 'puppet'}, {'id': 9826, ...  \n",
       "252    [{'id': 591, 'name': 'cia'}, {'id': 973, 'name...  \n",
       "256                                                   []  \n",
       "263    [{'id': 1815, 'name': 'atomic bomb'}, {'id': 2...  \n",
       "...                                                  ...  \n",
       "20592  [{'id': 6789, 'name': 'foreign legionaire'}, {...  \n",
       "20909                                                 []  \n",
       "20910  [{'id': 9766, 'name': 'hiv'}, {'id': 208647, '...  \n",
       "20911                                                 []  \n",
       "20937  [{'id': 1415, 'name': 'small town'}, {'id': 16...  \n",
       "20961  [{'id': 233, 'name': 'japan'}, {'id': 3075, 'n...  \n",
       "20990  [{'id': 233, 'name': 'japan'}, {'id': 549, 'na...  \n",
       "21019  [{'id': 5259, 'name': 'english channel'}, {'id...  \n",
       "21046  [{'id': 2673, 'name': 'horse'}, {'id': 187056,...  \n",
       "21050  [{'id': 5540, 'name': 'heavy metal'}, {'id': 6...  \n",
       "21065             [{'id': 189383, 'name': 'yellow cab'}]  \n",
       "21125  [{'id': 14552, 'name': 'ira'}, {'id': 176516, ...  \n",
       "21168  [{'id': 8126, 'name': 'pill'}, {'id': 8181, 'n...  \n",
       "21210                                                 []  \n",
       "21245  [{'id': 5800, 'name': 'geek'}, {'id': 6270, 'n...  \n",
       "21280  [{'id': 2389, 'name': 'virgin'}, {'id': 2471, ...  \n",
       "21284  [{'id': 1003, 'name': 'photographer'}, {'id': ...  \n",
       "21376  [{'id': 14668, 'name': 'reading aloud'}, {'id'...  \n",
       "21419  [{'id': 90, 'name': 'paris'}, {'id': 246, 'nam...  \n",
       "21461               [{'id': 15061, 'name': 'docudrama'}]  \n",
       "21485                                                 []  \n",
       "21563  [{'id': 237, 'name': 'gay'}, {'id': 572, 'name...  \n",
       "21724  [{'id': 5756, 'name': 'man-woman relation'}, {...  \n",
       "21849  [{'id': 520, 'name': 'chicago'}, {'id': 782, '...  \n",
       "22181  [{'id': 701, 'name': 'cuba'}, {'id': 1416, 'na...  \n",
       "22288  [{'id': 616, 'name': 'witch'}, {'id': 3099, 'n...  \n",
       "22295  [{'id': 572, 'name': 'sex'}, {'id': 14676, 'na...  \n",
       "22646  [{'id': 254, 'name': 'france'}, {'id': 8233, '...  \n",
       "23311  [{'id': 11454, 'name': 'scam'}, {'id': 161217,...  \n",
       "24752  [{'id': 10041, 'name': 'dysfunctional family'}...  \n",
       "\n",
       "[5747 rows x 17 columns]"
      ]
     },
     "execution_count": 28,
     "metadata": {},
     "output_type": "execute_result"
    }
   ],
   "source": [
    "df[df['budget'] == '0']"
   ]
  },
  {
   "cell_type": "code",
   "execution_count": 29,
   "metadata": {},
   "outputs": [
    {
     "data": {
      "text/plain": [
       "1     [{'name': 'New Line Cinema', 'id': 12}, {'name...\n",
       "22    [{'name': 'Goldcrest Films International', 'id...\n",
       "27    [{'name': 'Sandollar Productions', 'id': 5842}...\n",
       "Name: production_companies, dtype: object"
      ]
     },
     "execution_count": 29,
     "metadata": {},
     "output_type": "execute_result"
    }
   ],
   "source": [
    "# examine the value of zero in budget column\n",
    "df[df['budget'] == '0'].production_companies[:3]"
   ]
  },
  {
   "cell_type": "markdown",
   "metadata": {},
   "source": [
    "- some of movies with zero budget are produced by big companies, such as Warner Bros. and Disney\n",
    "- it is probably that missing value is represented with value of zero\n",
    "- the same situation is observed in 'revenue' column "
   ]
  },
  {
   "cell_type": "code",
   "execution_count": 30,
   "metadata": {},
   "outputs": [
    {
     "name": "stdout",
     "output_type": "stream",
     "text": [
      "number of missing values in budget column:  5747\n",
      "percentage of missing values in budget column:  0.5064774830351635\n"
     ]
    }
   ],
   "source": [
    "# summary of missing values of budget\n",
    "budget_missing = df.budget == '0'\n",
    "print ('number of missing values in budget column: ', budget_missing.sum())\n",
    "print ('percentage of missing values in budget column: ', budget_missing.sum()/df.shape[0])"
   ]
  },
  {
   "cell_type": "code",
   "execution_count": 31,
   "metadata": {},
   "outputs": [
    {
     "name": "stdout",
     "output_type": "stream",
     "text": [
      "number of missing values in revenue column:  5622\n",
      "percentage of missing values in revenue column:  0.4954613554243412\n"
     ]
    }
   ],
   "source": [
    "# summary of missing values of revenue\n",
    "revenue_missing = df.revenue == 0\n",
    "print ('number of missing values in revenue column: ', revenue_missing.sum())\n",
    "print ('percentage of missing values in revenue column: ', revenue_missing.sum()/df.shape[0])"
   ]
  },
  {
   "cell_type": "code",
   "execution_count": 32,
   "metadata": {},
   "outputs": [],
   "source": [
    "# drop the row where revenue and budget both equal to 0\n",
    "df['budget'] = df['budget'].astype(int)"
   ]
  },
  {
   "cell_type": "code",
   "execution_count": 33,
   "metadata": {},
   "outputs": [
    {
     "data": {
      "text/plain": [
       "dtype('float64')"
      ]
     },
     "execution_count": 33,
     "metadata": {},
     "output_type": "execute_result"
    }
   ],
   "source": [
    "df['revenue'].dtype"
   ]
  },
  {
   "cell_type": "code",
   "execution_count": 34,
   "metadata": {},
   "outputs": [
    {
     "data": {
      "text/plain": [
       "(4532, 17)"
      ]
     },
     "execution_count": 34,
     "metadata": {},
     "output_type": "execute_result"
    }
   ],
   "source": [
    "df = df[(df['budget'] != 0) & (df['revenue']!=0)]\n",
    "df.shape"
   ]
  },
  {
   "cell_type": "code",
   "execution_count": 35,
   "metadata": {},
   "outputs": [
    {
     "name": "stdout",
     "output_type": "stream",
     "text": [
      "<class 'pandas.core.frame.DataFrame'>\n",
      "Int64Index: 4532 entries, 0 to 23760\n",
      "Data columns (total 17 columns):\n",
      "id                      4532 non-null int64\n",
      "weighted_rating         4532 non-null float64\n",
      "votes_per_movie         4532 non-null int64\n",
      "average_rating          4532 non-null float64\n",
      "title                   4532 non-null object\n",
      "budget                  4532 non-null int64\n",
      "revenue                 4532 non-null float64\n",
      "release_date            4532 non-null object\n",
      "runtime                 4532 non-null float64\n",
      "genres                  4532 non-null object\n",
      "production_countries    4532 non-null object\n",
      "production_companies    4532 non-null object\n",
      "original_language       4532 non-null object\n",
      "cast                    4532 non-null object\n",
      "crew                    4532 non-null object\n",
      "overview                4531 non-null object\n",
      "keywords                4532 non-null object\n",
      "dtypes: float64(4), int64(3), object(10)\n",
      "memory usage: 637.3+ KB\n"
     ]
    }
   ],
   "source": [
    "df.info()"
   ]
  },
  {
   "cell_type": "markdown",
   "metadata": {},
   "source": [
    "### Create New Variables"
   ]
  },
  {
   "cell_type": "code",
   "execution_count": 36,
   "metadata": {},
   "outputs": [],
   "source": [
    "# convert 'release_date' to datetime object \n",
    "df['release_date'] = pd.to_datetime(df['release_date'])\n",
    "\n",
    "# extract the 'month' and 'year' from 'release_date'\n",
    "# replace missing values with zero\n",
    "df['month'] = df['release_date'].dt.month.astype(np.int64)\n",
    "df['year'] = df['release_date'].dt.year.astype(np.int64)\n",
    "df.drop(labels = 'release_date', axis = 1, inplace = True)"
   ]
  },
  {
   "cell_type": "markdown",
   "metadata": {},
   "source": [
    "### Extract Nested Values"
   ]
  },
  {
   "cell_type": "code",
   "execution_count": 37,
   "metadata": {},
   "outputs": [],
   "source": [
    "from ast import literal_eval"
   ]
  },
  {
   "cell_type": "code",
   "execution_count": 38,
   "metadata": {},
   "outputs": [],
   "source": [
    "# extract director from the crew colum\n",
    "def get_director(x):\n",
    "    for i in x:\n",
    "        if i['job'] == 'Director':\n",
    "            return i['name']\n",
    "df['director'] = df['crew'].apply(literal_eval).apply(get_director)\n",
    "df.drop(columns=['crew'], inplace = True)"
   ]
  },
  {
   "cell_type": "code",
   "execution_count": 39,
   "metadata": {},
   "outputs": [],
   "source": [
    "# extract the main production country\n",
    "df.production_countries = df.production_countries.fillna('[]').apply(literal_eval).apply(lambda x: [i['name'] for i in x] if isinstance(x, list) else [])\n",
    "df.production_countries = df.production_countries.apply(lambda x: \"\" if len(x) == 0 else x[0])"
   ]
  },
  {
   "cell_type": "code",
   "execution_count": 40,
   "metadata": {},
   "outputs": [],
   "source": [
    "# convert keywords and only get the top 3 keywords\n",
    "df.keywords = df.keywords.apply(literal_eval).apply(lambda x: [i['name'] for i in x] if isinstance(x, list) else [])\n",
    "df.keywords = df.keywords.apply(lambda x: x[:3] if len(x) >=3 else x)"
   ]
  },
  {
   "cell_type": "code",
   "execution_count": 41,
   "metadata": {},
   "outputs": [],
   "source": [
    "# convert genres and only get the top 3 genres\n",
    "df.genres = df.genres.apply(literal_eval).apply(lambda x: [i['name'] for i in x] if isinstance(x, list) else [])\n",
    "df.genres = df.genres.apply(lambda x: x[:3] if len(x) >=3 else x)"
   ]
  },
  {
   "cell_type": "code",
   "execution_count": 42,
   "metadata": {},
   "outputs": [],
   "source": [
    "# extract the main production country\n",
    "df.production_companies = df.production_companies.fillna('[]').apply(literal_eval).apply(lambda x: [i['name'] for i in x] if isinstance(x, list) else [])\n",
    "df.production_companies = df.production_companies.apply(lambda x: \"\" if len(x) == 0 else x[0])"
   ]
  },
  {
   "cell_type": "code",
   "execution_count": 43,
   "metadata": {},
   "outputs": [],
   "source": [
    "# convert cast and only get the top 3 actors/actess\n",
    "df.cast = df.cast.apply(literal_eval).apply(lambda x: [i['name'] for i in x] if isinstance(x, list) else [])\n",
    "df.cast = df.cast.apply(lambda x: x[:3] if len(x) >=3 else x)"
   ]
  },
  {
   "cell_type": "markdown",
   "metadata": {},
   "source": [
    "# EDA"
   ]
  },
  {
   "cell_type": "markdown",
   "metadata": {},
   "source": [
    "# Target Variable"
   ]
  },
  {
   "cell_type": "markdown",
   "metadata": {},
   "source": [
    "### What's the frequency distribution of weighted rating per movie?"
   ]
  },
  {
   "cell_type": "code",
   "execution_count": 44,
   "metadata": {},
   "outputs": [],
   "source": [
    "import statsmodels.api as sm\n",
    "import scipy "
   ]
  },
  {
   "cell_type": "code",
   "execution_count": 45,
   "metadata": {},
   "outputs": [
    {
     "data": {
      "text/plain": [
       "count    4532.000000\n",
       "mean        3.239290\n",
       "std         0.451903\n",
       "min         1.256012\n",
       "25%         2.944909\n",
       "50%         3.261477\n",
       "75%         3.564859\n",
       "max         4.428007\n",
       "Name: weighted_rating, dtype: float64"
      ]
     },
     "execution_count": 45,
     "metadata": {},
     "output_type": "execute_result"
    },
    {
     "data": {
      "image/png": "[encoded data removed]",
      "text/plain": [
       "<Figure size 432x288 with 1 Axes>"
      ]
     },
     "metadata": {
      "needs_background": "light"
     },
     "output_type": "display_data"
    }
   ],
   "source": [
    "# plot a histogram to show the frequency distribution of weighted rating per movie\n",
    "df['weighted_rating'].hist(bins=30) \n",
    "plt.title('Frequency Distribution0of Movie Weighted Ratings')\n",
    "plt.xlabel('score interval')\n",
    "plt.ylabel('frequency (number of movies)')\n",
    "df.weighted_rating.describe()"
   ]
  },
  {
   "cell_type": "markdown",
   "metadata": {},
   "source": [
    "Findings:\n",
    "- The average rating per movie is normally distributed, with majority of movies score in the middle (between 3-3.5) and less receiving high score above 4 and low below 2."
   ]
  },
  {
   "cell_type": "code",
   "execution_count": 46,
   "metadata": {},
   "outputs": [
    {
     "data": {
      "text/html": [
       "<div>\n",
       "<style scoped>\n",
       "    .dataframe tbody tr th:only-of-type {\n",
       "        vertical-align: middle;\n",
       "    }\n",
       "\n",
       "    .dataframe tbody tr th {\n",
       "        vertical-align: top;\n",
       "    }\n",
       "\n",
       "    .dataframe thead th {\n",
       "        text-align: right;\n",
       "    }\n",
       "</style>\n",
       "<table border=\"1\" class=\"dataframe\">\n",
       "  <thead>\n",
       "    <tr style=\"text-align: right;\">\n",
       "      <th></th>\n",
       "      <th>title</th>\n",
       "      <th>weighted_rating</th>\n",
       "      <th>average_rating</th>\n",
       "      <th>votes_per_movie</th>\n",
       "    </tr>\n",
       "  </thead>\n",
       "  <tbody>\n",
       "    <tr>\n",
       "      <th>140</th>\n",
       "      <td>The Shawshank Redemption</td>\n",
       "      <td>4.428007</td>\n",
       "      <td>4.429015</td>\n",
       "      <td>91082</td>\n",
       "    </tr>\n",
       "    <tr>\n",
       "      <th>2</th>\n",
       "      <td>The Godfather</td>\n",
       "      <td>4.338309</td>\n",
       "      <td>4.339811</td>\n",
       "      <td>57070</td>\n",
       "    </tr>\n",
       "    <tr>\n",
       "      <th>537</th>\n",
       "      <td>The Usual Suspects</td>\n",
       "      <td>4.298787</td>\n",
       "      <td>4.300189</td>\n",
       "      <td>59271</td>\n",
       "    </tr>\n",
       "    <tr>\n",
       "      <th>51</th>\n",
       "      <td>Schindler's List</td>\n",
       "      <td>4.265336</td>\n",
       "      <td>4.266531</td>\n",
       "      <td>67662</td>\n",
       "    </tr>\n",
       "    <tr>\n",
       "      <th>3</th>\n",
       "      <td>The Godfather: Part II</td>\n",
       "      <td>4.261279</td>\n",
       "      <td>4.263475</td>\n",
       "      <td>36679</td>\n",
       "    </tr>\n",
       "    <tr>\n",
       "      <th>219</th>\n",
       "      <td>Seven Samurai</td>\n",
       "      <td>4.249374</td>\n",
       "      <td>4.255074</td>\n",
       "      <td>13994</td>\n",
       "    </tr>\n",
       "    <tr>\n",
       "      <th>8</th>\n",
       "      <td>Fight Club</td>\n",
       "      <td>4.229409</td>\n",
       "      <td>4.230716</td>\n",
       "      <td>60024</td>\n",
       "    </tr>\n",
       "    <tr>\n",
       "      <th>587</th>\n",
       "      <td>Rear Window</td>\n",
       "      <td>4.228878</td>\n",
       "      <td>4.232552</td>\n",
       "      <td>21335</td>\n",
       "    </tr>\n",
       "    <tr>\n",
       "      <th>119</th>\n",
       "      <td>One Flew Over the Cuckoo's Nest</td>\n",
       "      <td>4.227183</td>\n",
       "      <td>4.229135</td>\n",
       "      <td>40103</td>\n",
       "    </tr>\n",
       "    <tr>\n",
       "      <th>1709</th>\n",
       "      <td>12 Angry Men</td>\n",
       "      <td>4.226578</td>\n",
       "      <td>4.231209</td>\n",
       "      <td>16896</td>\n",
       "    </tr>\n",
       "  </tbody>\n",
       "</table>\n",
       "</div>"
      ],
      "text/plain": [
       "                                title  weighted_rating  average_rating  \\\n",
       "140          The Shawshank Redemption         4.428007        4.429015   \n",
       "2                       The Godfather         4.338309        4.339811   \n",
       "537                The Usual Suspects         4.298787        4.300189   \n",
       "51                   Schindler's List         4.265336        4.266531   \n",
       "3              The Godfather: Part II         4.261279        4.263475   \n",
       "219                     Seven Samurai         4.249374        4.255074   \n",
       "8                          Fight Club         4.229409        4.230716   \n",
       "587                       Rear Window         4.228878        4.232552   \n",
       "119   One Flew Over the Cuckoo's Nest         4.227183        4.229135   \n",
       "1709                     12 Angry Men         4.226578        4.231209   \n",
       "\n",
       "      votes_per_movie  \n",
       "140             91082  \n",
       "2               57070  \n",
       "537             59271  \n",
       "51              67662  \n",
       "3               36679  \n",
       "219             13994  \n",
       "8               60024  \n",
       "587             21335  \n",
       "119             40103  \n",
       "1709            16896  "
      ]
     },
     "execution_count": 46,
     "metadata": {},
     "output_type": "execute_result"
    }
   ],
   "source": [
    "# list out the Top 10 highly-scored movies\n",
    "df[['title','weighted_rating','average_rating','votes_per_movie']].sort_values(by = 'weighted_rating', ascending=False)[:10]"
   ]
  },
  {
   "cell_type": "markdown",
   "metadata": {},
   "source": [
    "### What's the frequency distribution of rating scores?"
   ]
  },
  {
   "cell_type": "code",
   "execution_count": 47,
   "metadata": {},
   "outputs": [
    {
     "data": {
      "text/plain": [
       "count    2.602429e+07\n",
       "mean     3.528090e+00\n",
       "std      1.065443e+00\n",
       "min      5.000000e-01\n",
       "25%      3.000000e+00\n",
       "50%      3.500000e+00\n",
       "75%      4.000000e+00\n",
       "max      5.000000e+00\n",
       "Name: rating, dtype: float64"
      ]
     },
     "execution_count": 47,
     "metadata": {},
     "output_type": "execute_result"
    },
    {
     "data": {
      "image/png": "[encoded data removed]",
      "text/plain": [
       "<Figure size 432x288 with 1 Axes>"
      ]
     },
     "metadata": {
      "needs_background": "light"
     },
     "output_type": "display_data"
    }
   ],
   "source": [
    "# calculate the distribution of each rating interval, ranging from 0.5 to 5\n",
    "ratings.groupby('rating').size().plot(kind = 'bar')\n",
    "plt.title(\"Users' Tendecy Rating\")\n",
    "plt.xlabel('score scale')\n",
    "plt.ylabel('frequency (sum to 1)')\n",
    "\n",
    "ratings.rating.describe()"
   ]
  },
  {
   "cell_type": "markdown",
   "metadata": {},
   "source": [
    "Findings:\n",
    "- The high number of 5 ratings might be an indication of users to give a high rating."
   ]
  },
  {
   "cell_type": "markdown",
   "metadata": {},
   "source": [
    "### Numeric Variable"
   ]
  },
  {
   "cell_type": "markdown",
   "metadata": {},
   "source": [
    "#### How many ratings a movie receive?"
   ]
  },
  {
   "cell_type": "code",
   "execution_count": 48,
   "metadata": {},
   "outputs": [
    {
     "name": "stdout",
     "output_type": "stream",
     "text": [
      "91921\n",
      "67\n"
     ]
    }
   ],
   "source": [
    "print (df.votes_per_movie.max())\n",
    "print (df.votes_per_movie.min())"
   ]
  },
  {
   "cell_type": "code",
   "execution_count": 49,
   "metadata": {},
   "outputs": [
    {
     "data": {
      "text/plain": [
       "count     4532.000000\n",
       "mean      4522.890997\n",
       "std       8346.593498\n",
       "min         67.000000\n",
       "25%        421.000000\n",
       "50%       1334.500000\n",
       "75%       4836.000000\n",
       "max      91921.000000\n",
       "Name: votes_per_movie, dtype: float64"
      ]
     },
     "execution_count": 49,
     "metadata": {},
     "output_type": "execute_result"
    },
    {
     "data": {
      "image/png": "[encoded data removed]",
      "text/plain": [
       "<Figure size 432x288 with 1 Axes>"
      ]
     },
     "metadata": {
      "needs_background": "light"
     },
     "output_type": "display_data"
    }
   ],
   "source": [
    "np.log(df.votes_per_movie).hist()\n",
    "plt.title('Frequency Distribution of Votes Per Movie')\n",
    "plt.xlabel('number of votes (log)')\n",
    "plt.ylabel('frequency (number of movies)')\n",
    "\n",
    "df.votes_per_movie.describe()\n",
    "# look at 25% to 75% when doing variance comparison\n",
    "# when interpret and discuss the data, look at the main values of the data\n",
    "# 10% and 90%\n",
    "# more reasonble \n",
    "# the distribution is not normal (comparing mean and median and look at std)"
   ]
  },
  {
   "cell_type": "code",
   "execution_count": 50,
   "metadata": {},
   "outputs": [
    {
     "data": {
      "text/plain": [
       "count     4532.000000\n",
       "mean      4522.890997\n",
       "std       8346.593498\n",
       "min         67.000000\n",
       "25%        421.000000\n",
       "50%       1334.500000\n",
       "75%       4836.000000\n",
       "max      91921.000000\n",
       "Name: votes_per_movie, dtype: float64"
      ]
     },
     "execution_count": 50,
     "metadata": {},
     "output_type": "execute_result"
    },
    {
     "data": {
      "image/png": "[encoded data removed]",
      "text/plain": [
       "<Figure size 432x288 with 1 Axes>"
      ]
     },
     "metadata": {
      "needs_background": "light"
     },
     "output_type": "display_data"
    }
   ],
   "source": [
    "bins = [0, 100, 1000, 2000, 3000, 4000, 5000, 6000, 7000, 8000,9000,100000]\n",
    "df.groupby(pd.cut(df['votes_per_movie'], bins))['votes_per_movie'].count().plot(kind = 'bar')\n",
    "plt.title('Frequency Distribution of Votes Per Movie')\n",
    "plt.xlabel('number of votes')\n",
    "plt.ylabel('frequency (number of movies)')\n",
    "\n",
    "df.votes_per_movie.describe()"
   ]
  },
  {
   "cell_type": "markdown",
   "metadata": {},
   "source": [
    "Findings:\n",
    "- The number of votes vary dramatically. Majority of movies receive less than 10 votes while the most rated movie, Forrest Gump, has 91921 votes."
   ]
  },
  {
   "cell_type": "code",
   "execution_count": 51,
   "metadata": {
    "scrolled": false
   },
   "outputs": [
    {
     "data": {
      "text/plain": [
       "<matplotlib.axes._subplots.AxesSubplot at 0x1a2d4b0748>"
      ]
     },
     "execution_count": 51,
     "metadata": {},
     "output_type": "execute_result"
    },
    {
     "data": {
      "image/png": "[encoded data removed]",
      "text/plain": [
       "<Figure size 360x360 with 1 Axes>"
      ]
     },
     "metadata": {},
     "output_type": "display_data"
    }
   ],
   "source": [
    "bins2 = [0, 100, 1000, 100000]\n",
    "df.groupby(pd.cut(df['votes_per_movie'], bins2))['votes_per_movie'].count().plot.pie(y='mass', figsize=(5, 5))"
   ]
  },
  {
   "cell_type": "markdown",
   "metadata": {},
   "source": [
    "- for numeric data, NaN values are now represented with zero\n",
    "- when plotting data distribution, we would like to know how effective data points are located, so we'll remove data points with zero-value"
   ]
  },
  {
   "cell_type": "markdown",
   "metadata": {},
   "source": [
    "### What's the data distribution of budget?\n",
    "- Does the budget of each movie vary dramatically? \n",
    "- What's the budget for majority of movies?"
   ]
  },
  {
   "cell_type": "code",
   "execution_count": 52,
   "metadata": {},
   "outputs": [
    {
     "data": {
      "text/plain": [
       "count    4.532000e+03\n",
       "mean     3.519690e+07\n",
       "std      4.205381e+07\n",
       "min      1.000000e+00\n",
       "25%      7.500000e+06\n",
       "50%      2.000000e+07\n",
       "75%      4.500000e+07\n",
       "max      3.800000e+08\n",
       "Name: budget, dtype: float64"
      ]
     },
     "execution_count": 52,
     "metadata": {},
     "output_type": "execute_result"
    },
    {
     "data": {
      "image/png": "[encoded data removed]",
      "text/plain": [
       "<Figure size 432x288 with 1 Axes>"
      ]
     },
     "metadata": {
      "needs_background": "light"
     },
     "output_type": "display_data"
    }
   ],
   "source": [
    "# log the budget value\n",
    "ax = np.log(df.budget).hist(bins=50) \n",
    "plt.title('Frequency Distribution of Budget')\n",
    "plt.xlabel('budget (log)')\n",
    "plt.ylabel('number of movies')\n",
    "\n",
    "df.budget.describe()"
   ]
  },
  {
   "cell_type": "markdown",
   "metadata": {},
   "source": [
    "#### Movies with higher budget can have better result? Any low budget movies turn out to be blockbusters?"
   ]
  },
  {
   "cell_type": "code",
   "execution_count": 53,
   "metadata": {},
   "outputs": [
    {
     "data": {
      "image/png": "[encoded data removed]",
      "text/plain": [
       "<Figure size 432x288 with 1 Axes>"
      ]
     },
     "metadata": {
      "needs_background": "light"
     },
     "output_type": "display_data"
    },
    {
     "name": "stdout",
     "output_type": "stream",
     "text": [
      "correlation:-0.155, p-value0.000\n"
     ]
    }
   ],
   "source": [
    "# plot the budget versus weighted rating\n",
    "ax = plt.plot(np.log(df.budget),df.weighted_rating, 'o', markersize = 2, alpha = 0.2)\n",
    "plt.title('Relationship between budget and rating')\n",
    "plt.xlabel('budget (log)')\n",
    "plt.ylabel('rating scale')\n",
    "\n",
    "# perform a linear regrssion using np.polyfit()\n",
    "slope, intercept = np.polyfit(np.log(df.budget), df.weighted_rating, 1)\n",
    "# make theoretical line to plot\n",
    "x = np.array([0, 20])\n",
    "y = slope * x + intercept\n",
    "# add regression line\n",
    "ax = plt.plot(x,y)\n",
    "\n",
    "plt.show()\n",
    "\n",
    "# calculate correlation value\n",
    "corr,p = scipy.stats.pearsonr(np.log(df.budget), df.weighted_rating)\n",
    "print (\"correlation:%.3f, p-value%.3f\" %(corr,p))"
   ]
  },
  {
   "cell_type": "markdown",
   "metadata": {},
   "source": [
    "### What's the data distribution of revenue?"
   ]
  },
  {
   "cell_type": "code",
   "execution_count": 54,
   "metadata": {},
   "outputs": [
    {
     "data": {
      "text/plain": [
       "count    4.532000e+03\n",
       "mean     1.042532e+08\n",
       "std      1.767411e+08\n",
       "min      1.000000e+00\n",
       "25%      1.158752e+07\n",
       "50%      4.015428e+07\n",
       "75%      1.181082e+08\n",
       "max      2.787965e+09\n",
       "Name: revenue, dtype: float64"
      ]
     },
     "execution_count": 54,
     "metadata": {},
     "output_type": "execute_result"
    },
    {
     "data": {
      "image/png": "[encoded data removed]",
      "text/plain": [
       "<Figure size 432x288 with 1 Axes>"
      ]
     },
     "metadata": {
      "needs_background": "light"
     },
     "output_type": "display_data"
    }
   ],
   "source": [
    "# log the revenue value\n",
    "ax = np.log(df.revenue).hist(bins=50) \n",
    "plt.title('Frequency Distribution of Revenue')\n",
    "plt.xlabel('revenue (log)')\n",
    "plt.ylabel('number of movies')\n",
    "\n",
    "df.revenue.describe()"
   ]
  },
  {
   "cell_type": "code",
   "execution_count": 55,
   "metadata": {},
   "outputs": [
    {
     "data": {
      "text/plain": [
       "count    4.532000e+03\n",
       "mean     1.042532e+08\n",
       "std      1.767411e+08\n",
       "min      1.000000e+00\n",
       "25%      1.158752e+07\n",
       "50%      4.015428e+07\n",
       "75%      1.181082e+08\n",
       "max      2.787965e+09\n",
       "Name: revenue, dtype: float64"
      ]
     },
     "execution_count": 55,
     "metadata": {},
     "output_type": "execute_result"
    },
    {
     "data": {
      "image/png": "[encoded data removed]",
      "text/plain": [
       "<Figure size 432x288 with 1 Axes>"
      ]
     },
     "metadata": {
      "needs_background": "light"
     },
     "output_type": "display_data"
    }
   ],
   "source": [
    "# log the revenue value\n",
    "ax = np.log(df.revenue).hist(bins=50) \n",
    "plt.title('Frequency Distribution of Revenue')\n",
    "plt.xlabel('revenue (log)')\n",
    "plt.ylabel('number of movies')\n",
    "\n",
    "df.revenue.describe()"
   ]
  },
  {
   "cell_type": "code",
   "execution_count": 56,
   "metadata": {},
   "outputs": [
    {
     "data": {
      "image/png": "[encoded data removed]",
      "text/plain": [
       "<Figure size 432x288 with 1 Axes>"
      ]
     },
     "metadata": {
      "needs_background": "light"
     },
     "output_type": "display_data"
    },
    {
     "name": "stdout",
     "output_type": "stream",
     "text": [
      "correlation:0.020, p-value0.176\n"
     ]
    }
   ],
   "source": [
    "# plot the revenue versus weighted rating\n",
    "ax = plt.plot(np.log(df.revenue),df.weighted_rating, 'o', markersize = 2, alpha = 0.2)\n",
    "plt.title('Relationship between revenue and rating')\n",
    "plt.xlabel('revenue (log)')\n",
    "plt.ylabel('rating scale')\n",
    "\n",
    "# perform a linear regrssion using np.polyfit()\n",
    "slope, intercept = np.polyfit(np.log(df.revenue), df.weighted_rating, 1)\n",
    "# make theoretical line to plot\n",
    "x = np.array([0, 22])\n",
    "y = slope * x + intercept\n",
    "# add regression line\n",
    "ax = plt.plot(x,y)\n",
    "\n",
    "plt.show()\n",
    "\n",
    "# calculate correlation value\n",
    "corr, p = scipy.stats.pearsonr(np.log(df.revenue), df.weighted_rating)\n",
    "print (\"correlation:%.3f, p-value%.3f\" %(corr,p))"
   ]
  },
  {
   "cell_type": "markdown",
   "metadata": {},
   "source": [
    "#### runtime"
   ]
  },
  {
   "cell_type": "code",
   "execution_count": 57,
   "metadata": {
    "scrolled": false
   },
   "outputs": [
    {
     "data": {
      "text/plain": [
       "count    4532.000000\n",
       "mean      109.906664\n",
       "std        20.918743\n",
       "min        42.000000\n",
       "25%        96.000000\n",
       "50%       106.000000\n",
       "75%       120.000000\n",
       "max       338.000000\n",
       "Name: runtime, dtype: float64"
      ]
     },
     "execution_count": 57,
     "metadata": {},
     "output_type": "execute_result"
    },
    {
     "data": {
      "image/png": "[encoded data removed]",
      "text/plain": [
       "<Figure size 432x288 with 1 Axes>"
      ]
     },
     "metadata": {
      "needs_background": "light"
     },
     "output_type": "display_data"
    }
   ],
   "source": [
    "# filter the data with zero-runtime\n",
    "runtime_to_plot = df[df.runtime != 0]['runtime']\n",
    "\n",
    "# log the budget value\n",
    "ax = runtime_to_plot.hist(bins=50) \n",
    "ax.set_title('Frequency Distribution of Movie Runtime')\n",
    "ax.set_xlabel('runtime (mins)')\n",
    "ax.set_ylabel('number of movies')\n",
    "\n",
    "runtime_to_plot.describe()\n",
    "\n",
    "## zoom in "
   ]
  },
  {
   "cell_type": "code",
   "execution_count": 58,
   "metadata": {},
   "outputs": [
    {
     "data": {
      "image/png": "[encoded data removed]",
      "text/plain": [
       "<Figure size 432x288 with 1 Axes>"
      ]
     },
     "metadata": {
      "needs_background": "light"
     },
     "output_type": "display_data"
    },
    {
     "name": "stdout",
     "output_type": "stream",
     "text": [
      "correlation:0.348, p-value0.000\n"
     ]
    }
   ],
   "source": [
    "# plot the revenue versus weighted rating\n",
    "ax = plt.plot(df.runtime ,df.weighted_rating, 'o', markersize = 2, alpha = 0.2)\n",
    "plt.title('Relationship between runtime and rating')\n",
    "plt.xlabel('runtime')\n",
    "plt.ylabel('rating scale')\n",
    "\n",
    "# perform a linear regrssion using np.polyfit()\n",
    "slope, intercept = np.polyfit(df.runtime, df.weighted_rating, 1)\n",
    "# make theoretical line to plot\n",
    "x = np.array([0, 340])\n",
    "y = slope * x + intercept\n",
    "# add regression line\n",
    "ax = plt.plot(x,y)\n",
    "\n",
    "plt.show()\n",
    "\n",
    "# calculate correlation value\n",
    "corr,p = scipy.stats.pearsonr(df.runtime, df.weighted_rating)\n",
    "print (\"correlation:%.3f, p-value%.3f\" %(corr,p))\n",
    "# 95% confidence in the relationship between features"
   ]
  },
  {
   "cell_type": "markdown",
   "metadata": {},
   "source": [
    "#### Does release timing affect the ratings?"
   ]
  },
  {
   "cell_type": "code",
   "execution_count": 59,
   "metadata": {},
   "outputs": [],
   "source": [
    "# filter the data with zero\n",
    "month_to_plot = df[df['month'] != 0]['month']"
   ]
  },
  {
   "cell_type": "code",
   "execution_count": 60,
   "metadata": {},
   "outputs": [
    {
     "data": {
      "text/plain": [
       "count    4532.000000\n",
       "mean        6.989409\n",
       "std         3.377633\n",
       "min         1.000000\n",
       "25%         4.000000\n",
       "50%         7.000000\n",
       "75%        10.000000\n",
       "max        12.000000\n",
       "Name: month, dtype: float64"
      ]
     },
     "execution_count": 60,
     "metadata": {},
     "output_type": "execute_result"
    },
    {
     "data": {
      "image/png": "[encoded data removed]",
      "text/plain": [
       "<Figure size 432x288 with 1 Axes>"
      ]
     },
     "metadata": {
      "needs_background": "light"
     },
     "output_type": "display_data"
    }
   ],
   "source": [
    "ax = df[df['month'] != 0]['month'].value_counts().sort_index().plot(kind='bar')\n",
    "plt.title('Frequency Distribution of Movie Released Month')\n",
    "plt.xlabel('month')\n",
    "plt.ylabel('number of movies')\n",
    "df.month.describe()"
   ]
  },
  {
   "cell_type": "code",
   "execution_count": 61,
   "metadata": {
    "scrolled": false
   },
   "outputs": [
    {
     "data": {
      "text/plain": [
       "Text(0, 0.5, 'ratings')"
      ]
     },
     "execution_count": 61,
     "metadata": {},
     "output_type": "execute_result"
    },
    {
     "data": {
      "image/png": "[encoded data removed]",
      "text/plain": [
       "<Figure size 864x432 with 1 Axes>"
      ]
     },
     "metadata": {
      "needs_background": "light"
     },
     "output_type": "display_data"
    }
   ],
   "source": [
    "df[df['month'] != 0].boxplot(by='month', column = 'average_rating', figsize=(12,6),\n",
    "                    widths=0.5, showfliers=False)\n",
    "plt.title('Relationship between released month and ratings')\n",
    "plt.xlabel('month')\n",
    "plt.ylabel('ratings')\n",
    "\n",
    "# t-test or chi-square\n",
    "# t-test assumption: when the target variable is continuous and normally distributed\n",
    "\n",
    "\n",
    "# chi-square dataset represent by binary features, 1 or 0 only 2 categorical\n",
    "\n",
    "# go through the assumtpion\n",
    "\n",
    "# use ANOVA test/regression for month and ratings for multiple categories\n",
    "\n",
    "# execute 1-hot encoding for all categorical features separately\n",
    "# take 1-hot encoding as an input for the ANOVA hypothesis testing (simple regression)"
   ]
  },
  {
   "cell_type": "markdown",
   "metadata": {},
   "source": [
    "Findings:\n",
    "- There's no significant different in median point between movies released in different months."
   ]
  },
  {
   "cell_type": "markdown",
   "metadata": {},
   "source": [
    "### Using hypothesis Testing to examine whether released timing affect the movie scores \n",
    "1. Making hypothesis\n",
    "    - H0: The scores are the same among movies released in different months.\n",
    "    - H1: The scores are different among movies released in different months.\n",
    "2. Deciding significance level \n",
    "    - The significance level (α) for this project is 0.05, which means if the p-value < 0.05, then the null hypothesis will be rejected."
   ]
  },
  {
   "cell_type": "code",
   "execution_count": 83,
   "metadata": {},
   "outputs": [
    {
     "data": {
      "text/plain": [
       "Index(['id', 'weighted_rating', 'votes_per_movie', 'average_rating', 'title',\n",
       "       'budget', 'revenue', 'runtime', 'genres', 'production_countries',\n",
       "       'production_companies', 'original_language', 'cast', 'overview',\n",
       "       'keywords', 'month', 'year', 'director'],\n",
       "      dtype='object')"
      ]
     },
     "execution_count": 83,
     "metadata": {},
     "output_type": "execute_result"
    }
   ],
   "source": [
    "df.columns"
   ]
  },
  {
   "cell_type": "code",
   "execution_count": 84,
   "metadata": {},
   "outputs": [
    {
     "name": "stdout",
     "output_type": "stream",
     "text": [
      "statistics=10.526 , p=0.000\n"
     ]
    }
   ],
   "source": [
    "# import modules\n",
    "from scipy import stats\n",
    "\n",
    "# create arrays\n",
    "Jan = df[df.month == 1].weighted_rating\n",
    "Feb = df[df.month == 2].weighted_rating\n",
    "Mar = df[df.month == 3].weighted_rating\n",
    "Apr = df[df.month == 4].weighted_rating\n",
    "May = df[df.month == 5].weighted_rating\n",
    "Jun = df[df.month == 6].weighted_rating\n",
    "Jul = df[df.month == 7].weighted_rating\n",
    "Aug = df[df.month == 8].weighted_rating\n",
    "Sep = df[df.month == 9].weighted_rating\n",
    "Oct = df[df.month == 10].weighted_rating\n",
    "Nov = df[df.month == 11].weighted_rating\n",
    "Dec = df[df.month == 12].weighted_rating\n",
    "\n",
    "# perform one-way ANOVA\n",
    "stat,p = stats.f_oneway(Jan, Feb, Mar, Apr, May, Jun, Jul, Aug, Sep, Oct, Nov, Dec)\n",
    "print ('statistics=%.3f , p=%.3f' %(stat,p))"
   ]
  },
  {
   "cell_type": "code",
   "execution_count": 85,
   "metadata": {},
   "outputs": [
    {
     "name": "stdout",
     "output_type": "stream",
     "text": [
      "different  movie scores among released months (reject H0)\n"
     ]
    }
   ],
   "source": [
    "# interpret\n",
    "alpha = 0.05\n",
    "if p > alpha:\n",
    "    print ('same movie scores among released months (fail to reject H0)')\n",
    "else:\n",
    "    print ('different  movie scores among released months (reject H0)')"
   ]
  },
  {
   "cell_type": "markdown",
   "metadata": {},
   "source": [
    "### Do new movies generally receive higher or lower scores"
   ]
  },
  {
   "cell_type": "code",
   "execution_count": 62,
   "metadata": {},
   "outputs": [
    {
     "data": {
      "text/plain": [
       "count    4532.000000\n",
       "mean     1999.172109\n",
       "std        15.115941\n",
       "min      1915.000000\n",
       "25%      1993.000000\n",
       "50%      2003.000000\n",
       "75%      2010.000000\n",
       "max      2017.000000\n",
       "Name: year, dtype: float64"
      ]
     },
     "execution_count": 62,
     "metadata": {},
     "output_type": "execute_result"
    },
    {
     "data": {
      "image/png": "[encoded data removed]",
      "text/plain": [
       "<Figure size 432x288 with 1 Axes>"
      ]
     },
     "metadata": {
      "needs_background": "light"
     },
     "output_type": "display_data"
    }
   ],
   "source": [
    "# filter the data with zero\n",
    "df[(df['year'] != 0) & (df['year'] < 2020)].hist(column='year', bins = 50)\n",
    "plt.title('Frequency Distribution of Movie Released Year')\n",
    "plt.xlabel('year')\n",
    "plt.ylabel('number of movies')\n",
    "df.year.describe()"
   ]
  },
  {
   "cell_type": "code",
   "execution_count": 63,
   "metadata": {},
   "outputs": [
    {
     "data": {
      "text/plain": [
       "Text(0, 0.5, 'rating scale')"
      ]
     },
     "execution_count": 63,
     "metadata": {},
     "output_type": "execute_result"
    },
    {
     "data": {
      "image/png": "[encoded data removed]",
      "text/plain": [
       "<Figure size 432x288 with 1 Axes>"
      ]
     },
     "metadata": {
      "needs_background": "light"
     },
     "output_type": "display_data"
    }
   ],
   "source": [
    "ax = plt.scatter((df[(df['year'] != 0) & (df['year'] < 2020)]['year']), df[(df['year'] != 0) & (df['year'] < 2020)]['average_rating'])\n",
    "plt.title('Relationship between year and rating')\n",
    "plt.xlabel('year')\n",
    "plt.ylabel('rating scale')"
   ]
  },
  {
   "cell_type": "markdown",
   "metadata": {},
   "source": [
    "### Using hypothesis Testing to examine whether released timing affect the movie scores\n",
    "- for year, can consider to draw some samples from year. For example, to look at the rating of last five years and the first five years to see if they are comparable"
   ]
  },
  {
   "cell_type": "code",
   "execution_count": 94,
   "metadata": {},
   "outputs": [
    {
     "name": "stdout",
     "output_type": "stream",
     "text": [
      "the average movie ratings in the earliest 10 years: 3.647128\n",
      "the average movie ratings in the latest 10 years: 3.269654\n"
     ]
    }
   ],
   "source": [
    "# compare the scores between movies released early and lately\n",
    "mean_of_early_years = df.nsmallest(10, 'year', keep='all').weighted_rating.mean()\n",
    "mean_of_late_years = df.nlargest(10, 'year', keep='all').weighted_rating.mean()\n",
    "print ('the average movie ratings in the earliest 10 years: %3f' %(mean_of_early_years))\n",
    "print ('the average movie ratings in the latest 10 years: %3f' %(mean_of_late_years))"
   ]
  },
  {
   "cell_type": "code",
   "execution_count": 95,
   "metadata": {},
   "outputs": [],
   "source": [
    "# create dummy variables\n",
    "df_dummies = pd.get_dummies(pd.Series(df['year']).apply(pd.Series).stack()).sum(level=0)"
   ]
  },
  {
   "cell_type": "code",
   "execution_count": 98,
   "metadata": {},
   "outputs": [
    {
     "name": "stdout",
     "output_type": "stream",
     "text": [
      "(4532, 93)\n",
      "(4532, 18)\n"
     ]
    }
   ],
   "source": [
    "print (df_dummies.shape)\n",
    "print (df.shape)\n",
    "# why first row is missing"
   ]
  },
  {
   "cell_type": "code",
   "execution_count": null,
   "metadata": {},
   "outputs": [],
   "source": [
    "# one-way ANOVA test\n"
   ]
  },
  {
   "cell_type": "code",
   "execution_count": null,
   "metadata": {},
   "outputs": [],
   "source": []
  },
  {
   "cell_type": "markdown",
   "metadata": {},
   "source": [
    "#### production countries data distribution"
   ]
  },
  {
   "cell_type": "code",
   "execution_count": 64,
   "metadata": {},
   "outputs": [],
   "source": [
    "# ignore missing observations and take only the 10 countries with the most productions\n",
    "countries = df[df['production_countries'].map(len) > 0]['production_countries'].value_counts()[:10]"
   ]
  },
  {
   "cell_type": "code",
   "execution_count": 65,
   "metadata": {},
   "outputs": [
    {
     "data": {
      "text/plain": [
       "Text(0.5, 1.0, 'USA as the movie-making capital ')"
      ]
     },
     "execution_count": 65,
     "metadata": {},
     "output_type": "execute_result"
    },
    {
     "data": {
      "image/png": "[encoded data removed]",
      "text/plain": [
       "<Figure size 432x288 with 1 Axes>"
      ]
     },
     "metadata": {
      "needs_background": "light"
     },
     "output_type": "display_data"
    }
   ],
   "source": [
    "countries.sort_values().plot.barh()\n",
    "plt.xlabel('number of movies')\n",
    "plt.ylabel('country name')\n",
    "plt.title('USA as the movie-making capital ')"
   ]
  },
  {
   "cell_type": "code",
   "execution_count": 66,
   "metadata": {},
   "outputs": [
    {
     "data": {
      "text/plain": [
       "United States of America    3123\n",
       "United Kingdom               355\n",
       "France                       178\n",
       "Germany                      174\n",
       "Canada                       172\n",
       "Australia                     83\n",
       "Japan                         54\n",
       "Spain                         34\n",
       "India                         33\n",
       "Italy                         33\n",
       "Name: production_countries, dtype: int64"
      ]
     },
     "execution_count": 66,
     "metadata": {},
     "output_type": "execute_result"
    }
   ],
   "source": [
    "countries.head(10)"
   ]
  },
  {
   "cell_type": "markdown",
   "metadata": {},
   "source": [
    "#### Relationship between top dominant countires and ratings"
   ]
  },
  {
   "cell_type": "code",
   "execution_count": 67,
   "metadata": {},
   "outputs": [],
   "source": [
    "condition = (df['production_countries'] == 'United States of America') | (df['production_countries']== 'United Kingdom') | (df['production_countries']== 'France') | (df['production_countries']== 'Canada')| (df['production_countries']== 'Japan')| (df['production_countries']== 'Italy') | (df['production_countries']== 'Germany') | (df['production_countries']== 'Russis')| (df['production_countries']== 'India')| (df['production_countries']== 'Spain')\n",
    "countries_to_plot = df[condition]"
   ]
  },
  {
   "cell_type": "code",
   "execution_count": 68,
   "metadata": {},
   "outputs": [
    {
     "data": {
      "text/plain": [
       "Text(0, 0.5, 'ratings')"
      ]
     },
     "execution_count": 68,
     "metadata": {},
     "output_type": "execute_result"
    },
    {
     "data": {
      "image/png": "[encoded data removed]",
      "text/plain": [
       "<Figure size 1440x576 with 1 Axes>"
      ]
     },
     "metadata": {
      "needs_background": "light"
     },
     "output_type": "display_data"
    }
   ],
   "source": [
    "countries_to_plot.boxplot(by='production_countries', column = 'average_rating', figsize=(20,8),\n",
    "                    widths=0.5, showfliers=False)\n",
    "plt.title('Relationship between countries and ratings')\n",
    "plt.xlabel('types of genres')\n",
    "plt.ylabel('ratings')"
   ]
  },
  {
   "cell_type": "code",
   "execution_count": 69,
   "metadata": {},
   "outputs": [],
   "source": [
    "# separate the list of genre types from genres column\n",
    "countries_df = pd.concat([df['production_countries'].apply(pd.Series),df['id']],axis=1)\n",
    "# keep all genre types within the same column\n",
    "countries_df = pd.melt(countries_df, id_vars='id',value_name='production_countries').drop(columns='variable').sort_values(by='id')\n",
    "countries_merge = pd.merge(countries_df,df[['average_rating','id']], on = 'id').sort_values(by=['id'])"
   ]
  },
  {
   "cell_type": "code",
   "execution_count": 70,
   "metadata": {},
   "outputs": [],
   "source": [
    "countries_merge = countries_merge[pd.notnull(countries_merge['production_countries'])]"
   ]
  },
  {
   "cell_type": "code",
   "execution_count": 71,
   "metadata": {},
   "outputs": [
    {
     "data": {
      "text/plain": [
       "Text(0, 0.5, 'ratings')"
      ]
     },
     "execution_count": 71,
     "metadata": {},
     "output_type": "execute_result"
    },
    {
     "data": {
      "image/png": "[encoded data removed]",
      "text/plain": [
       "<Figure size 3600x1440 with 1 Axes>"
      ]
     },
     "metadata": {
      "needs_background": "light"
     },
     "output_type": "display_data"
    }
   ],
   "source": [
    "countries_merge.boxplot(by='production_countries', column = 'average_rating', figsize=(50,20),\n",
    "                    widths=0.5, showfliers=False)\n",
    "plt.title('Relationship between genres and ratings')\n",
    "plt.xlabel('types of genres')\n",
    "plt.ylabel('ratings')"
   ]
  },
  {
   "cell_type": "markdown",
   "metadata": {},
   "source": [
    "#### production companies data distribution"
   ]
  },
  {
   "cell_type": "code",
   "execution_count": 72,
   "metadata": {},
   "outputs": [],
   "source": [
    "# ignore missing observations and take only the 10 countries with the most productions\n",
    "companies = df[df['production_companies'].map(len) > 0]['production_companies'].value_counts()[:20]"
   ]
  },
  {
   "cell_type": "code",
   "execution_count": 73,
   "metadata": {},
   "outputs": [
    {
     "data": {
      "text/plain": [
       "Text(0.5, 1.0, 'Most dominant movie companies ')"
      ]
     },
     "execution_count": 73,
     "metadata": {},
     "output_type": "execute_result"
    },
    {
     "data": {
      "image/png": "[encoded data removed]",
      "text/plain": [
       "<Figure size 432x288 with 1 Axes>"
      ]
     },
     "metadata": {
      "needs_background": "light"
     },
     "output_type": "display_data"
    }
   ],
   "source": [
    "companies.sort_values().plot.barh()\n",
    "plt.xlabel('number of movies')\n",
    "plt.ylabel('company name')\n",
    "plt.title('Most dominant movie companies ')"
   ]
  },
  {
   "cell_type": "code",
   "execution_count": 74,
   "metadata": {
    "scrolled": true
   },
   "outputs": [
    {
     "data": {
      "text/plain": [
       "Text(0.5, 1.0, 'Most spoken language')"
      ]
     },
     "execution_count": 74,
     "metadata": {},
     "output_type": "execute_result"
    },
    {
     "data": {
      "image/png": "[encoded data removed]",
      "text/plain": [
       "<Figure size 432x288 with 1 Axes>"
      ]
     },
     "metadata": {
      "needs_background": "light"
     },
     "output_type": "display_data"
    }
   ],
   "source": [
    "language = df['original_language'].dropna().value_counts()[:10]\n",
    "language.sort_values().plot.barh()\n",
    "plt.xlabel('number of movies')\n",
    "plt.ylabel('language')\n",
    "plt.title('Most spoken language')"
   ]
  },
  {
   "cell_type": "markdown",
   "metadata": {},
   "source": [
    "### Create Other Data Frames with Reshaping Methods\n",
    "- extract data stored in a list\n",
    "- in order to facilitate the visualization process\n",
    "- later on, we would like to have a data frame that calculates the average rating a genre receives"
   ]
  },
  {
   "cell_type": "code",
   "execution_count": 75,
   "metadata": {},
   "outputs": [],
   "source": [
    "# separate the list of genre types from genres column\n",
    "genres_df = pd.concat([df['genres'].apply(pd.Series),df['id']],axis=1)"
   ]
  },
  {
   "cell_type": "code",
   "execution_count": 76,
   "metadata": {},
   "outputs": [],
   "source": [
    "# keep all genre types within the same column\n",
    "genres_df = pd.melt(genres_df, id_vars='id',value_name='genre').drop(columns='variable').sort_values(by='id')"
   ]
  },
  {
   "cell_type": "code",
   "execution_count": 77,
   "metadata": {},
   "outputs": [],
   "source": [
    "genres_merge = pd.merge(genres_df,df[['average_rating','id']], on = 'id').sort_values(by=['id'])\n",
    "genres_merge = genres_merge[pd.notnull(genres_merge['genre'])]"
   ]
  },
  {
   "cell_type": "code",
   "execution_count": 78,
   "metadata": {},
   "outputs": [],
   "source": [
    "genre_count = pd.DataFrame(genres_merge.groupby('genre').count())\n",
    "genre_count.reset_index(inplace = True)\n",
    "genre_count.drop(columns = 'average_rating',inplace = True)\n",
    "genre_count.columns = ['genre','count']\n",
    "genre_count = genre_count.sort_values(by='count',ascending=True)"
   ]
  },
  {
   "cell_type": "markdown",
   "metadata": {},
   "source": [
    "### What types of movies have more productions?"
   ]
  },
  {
   "cell_type": "code",
   "execution_count": 79,
   "metadata": {
    "scrolled": false
   },
   "outputs": [
    {
     "data": {
      "image/png": "[encoded data removed]",
      "text/plain": [
       "<Figure size 432x288 with 1 Axes>"
      ]
     },
     "metadata": {
      "needs_background": "light"
     },
     "output_type": "display_data"
    }
   ],
   "source": [
    "# Plot total number of movies vs genre\n",
    "genre_count.plot.barh(x = 'genre', y = 'count')\n",
    "plt.xlabel('Number of movies')\n",
    "plt.ylabel('Genre')\n",
    "plt.title('Number of Movies by Genre')\n",
    "\n",
    "plt.show()"
   ]
  },
  {
   "cell_type": "markdown",
   "metadata": {},
   "source": [
    "### What's the relationship between genres and ratings"
   ]
  },
  {
   "cell_type": "code",
   "execution_count": 80,
   "metadata": {},
   "outputs": [
    {
     "data": {
      "text/plain": [
       "Text(0, 0.5, 'average_ratings')"
      ]
     },
     "execution_count": 80,
     "metadata": {},
     "output_type": "execute_result"
    },
    {
     "data": {
      "image/png": "[encoded data removed]",
      "text/plain": [
       "<Figure size 1440x576 with 1 Axes>"
      ]
     },
     "metadata": {
      "needs_background": "light"
     },
     "output_type": "display_data"
    }
   ],
   "source": [
    "genres_merge.boxplot(by='genre', column = 'average_rating', figsize=(20,8),\n",
    "                    widths=0.5, showfliers=False)\n",
    "plt.title('Relationship between genres and ratings')\n",
    "plt.xlabel('types of genres')\n",
    "plt.ylabel('average_ratings')\n",
    "\n",
    "## check if rating is smaller than one"
   ]
  }
 ],
 "metadata": {
  "kernelspec": {
   "display_name": "Python 3",
   "language": "python",
   "name": "python3"
  },
  "language_info": {
   "codemirror_mode": {
    "name": "ipython",
    "version": 3
   },
   "file_extension": ".py",
   "mimetype": "text/x-python",
   "name": "python",
   "nbconvert_exporter": "python",
   "pygments_lexer": "ipython3",
   "version": "3.7.3"
  }
 },
 "nbformat": 4,
 "nbformat_minor": 2
}
