{
 "cells": [
  {
   "cell_type": "markdown",
   "metadata": {},
   "source": [
    "# Data Preparation"
   ]
  },
  {
   "cell_type": "code",
   "execution_count": 1,
   "metadata": {},
   "outputs": [],
   "source": [
    "# import modules\n",
    "import pandas as pd\n",
    "import numpy as np\n",
    "import matplotlib.pyplot as plt\n",
    "import seaborn as sns"
   ]
  },
  {
   "cell_type": "markdown",
   "metadata": {},
   "source": [
    "### Load Data Sets"
   ]
  },
  {
   "cell_type": "code",
   "execution_count": 2,
   "metadata": {},
   "outputs": [
    {
     "name": "stderr",
     "output_type": "stream",
     "text": [
      "/anaconda3/lib/python3.7/site-packages/IPython/core/interactiveshell.py:3049: DtypeWarning: Columns (10) have mixed types. Specify dtype option on import or set low_memory=False.\n",
      "  interactivity=interactivity, compiler=compiler, result=result)\n"
     ]
    }
   ],
   "source": [
    "# read the movie data sets into DataFrame\n",
    "metadata = pd.read_csv('/Users/dorislin/Desktop/movie rating predictor/the-movies-dataset/movies_metadata.csv')\n",
    "credits =  pd.read_csv('/Users/dorislin/Desktop/movie rating predictor/the-movies-dataset/credits.csv')\n",
    "keywords =  pd.read_csv('/Users/dorislin/Desktop/movie rating predictor/the-movies-dataset/keywords.csv')"
   ]
  },
  {
   "cell_type": "code",
   "execution_count": 3,
   "metadata": {},
   "outputs": [],
   "source": [
    "# read the rating data sets into DataFrame\n",
    "ratings = pd.read_csv('/Users/dorislin/Desktop/movie rating predictor/the-movies-dataset/ratings.csv')\n",
    "links = pd.read_csv('/Users/dorislin/Desktop/movie rating predictor/the-movies-dataset/links.csv')"
   ]
  },
  {
   "cell_type": "markdown",
   "metadata": {},
   "source": [
    "### Merge Data Sets into a Single DataFrame\n",
    "- TMDb 'id' is used as the key column to combine datasets"
   ]
  },
  {
   "cell_type": "code",
   "execution_count": 4,
   "metadata": {},
   "outputs": [],
   "source": [
    "# ensure data accuracy of 'id'\n",
    "metadata[metadata['id'].str.contains('-') == True]\n",
    "\n",
    "# swap values between 'id' and 'release_date' for misplaced observations\n",
    "swap_condition = metadata['id'].str.contains('-') == True\n",
    "ary=np.where(swap_condition,[metadata.release_date,metadata.id],[metadata.id,metadata.release_date])\n",
    "metadata.id = ary[0]\n",
    "metadata.release_date = ary[1]\n",
    "\n",
    "# convert the data type of 'id' from string to int\n",
    "metadata['id'] = metadata['id'].astype(int)"
   ]
  },
  {
   "cell_type": "code",
   "execution_count": 5,
   "metadata": {},
   "outputs": [],
   "source": [
    "# merge three datasets with movie features into movie\n",
    "movie = metadata.merge(credits.merge(keywords, on='id'), on='id')\n",
    "movie = movie.drop(movie.index[(movie.title.isna()== True)])"
   ]
  },
  {
   "cell_type": "markdown",
   "metadata": {},
   "source": [
    "#### Preprocessing Raw Data - Ratings\n",
    "1.Each observation is ratings dataset is a rating record given by a user to a movie. We need to compute certain values, including \n",
    "- 'average_rating': By dividing the sum of rating by the vote number for each movie, we'll get our target variable for this project.\n",
    "- 'votes_per_user': By counting how many votes each user gives, the number helps to identify frequent raters.\n",
    "- 'votes_per_movie': By counting how many votes each movie receives, the number helps to identify the most-voted movie.\n",
    "\n",
    "2.The ratings data need to merge with links dataset to get the 'id' column before merging with movie dataset."
   ]
  },
  {
   "cell_type": "code",
   "execution_count": 6,
   "metadata": {},
   "outputs": [],
   "source": [
    "# get average_rating\n",
    "ratings['average_rating'] = ratings.groupby('movieId')['rating'].transform(np.mean)\n",
    "# get votes_per_user\n",
    "ratings['votes_per_user'] = ratings.groupby('userId')['movieId'].transform('count')\n",
    "# votes_per_movie\n",
    "ratings['votes_per_movie'] = ratings.groupby('movieId')['userId'].transform('count')"
   ]
  },
  {
   "cell_type": "code",
   "execution_count": 7,
   "metadata": {},
   "outputs": [
    {
     "data": {
      "text/html": [
       "<div>\n",
       "<style scoped>\n",
       "    .dataframe tbody tr th:only-of-type {\n",
       "        vertical-align: middle;\n",
       "    }\n",
       "\n",
       "    .dataframe tbody tr th {\n",
       "        vertical-align: top;\n",
       "    }\n",
       "\n",
       "    .dataframe thead th {\n",
       "        text-align: right;\n",
       "    }\n",
       "</style>\n",
       "<table border=\"1\" class=\"dataframe\">\n",
       "  <thead>\n",
       "    <tr style=\"text-align: right;\">\n",
       "      <th></th>\n",
       "      <th>userId</th>\n",
       "      <th>movieId</th>\n",
       "      <th>rating</th>\n",
       "      <th>timestamp</th>\n",
       "      <th>average_rating</th>\n",
       "      <th>votes_per_user</th>\n",
       "      <th>votes_per_movie</th>\n",
       "    </tr>\n",
       "  </thead>\n",
       "  <tbody>\n",
       "    <tr>\n",
       "      <th>0</th>\n",
       "      <td>1</td>\n",
       "      <td>110</td>\n",
       "      <td>1.0</td>\n",
       "      <td>1425941529</td>\n",
       "      <td>4.016057</td>\n",
       "      <td>27</td>\n",
       "      <td>66512</td>\n",
       "    </tr>\n",
       "    <tr>\n",
       "      <th>1</th>\n",
       "      <td>1</td>\n",
       "      <td>147</td>\n",
       "      <td>4.5</td>\n",
       "      <td>1425942435</td>\n",
       "      <td>3.595933</td>\n",
       "      <td>27</td>\n",
       "      <td>4967</td>\n",
       "    </tr>\n",
       "    <tr>\n",
       "      <th>2</th>\n",
       "      <td>1</td>\n",
       "      <td>858</td>\n",
       "      <td>5.0</td>\n",
       "      <td>1425941523</td>\n",
       "      <td>4.339811</td>\n",
       "      <td>27</td>\n",
       "      <td>57070</td>\n",
       "    </tr>\n",
       "    <tr>\n",
       "      <th>3</th>\n",
       "      <td>1</td>\n",
       "      <td>1221</td>\n",
       "      <td>5.0</td>\n",
       "      <td>1425941546</td>\n",
       "      <td>4.263475</td>\n",
       "      <td>27</td>\n",
       "      <td>36679</td>\n",
       "    </tr>\n",
       "    <tr>\n",
       "      <th>4</th>\n",
       "      <td>1</td>\n",
       "      <td>1246</td>\n",
       "      <td>5.0</td>\n",
       "      <td>1425941556</td>\n",
       "      <td>3.912803</td>\n",
       "      <td>27</td>\n",
       "      <td>25752</td>\n",
       "    </tr>\n",
       "  </tbody>\n",
       "</table>\n",
       "</div>"
      ],
      "text/plain": [
       "   userId  movieId  rating   timestamp  average_rating  votes_per_user  \\\n",
       "0       1      110     1.0  1425941529        4.016057              27   \n",
       "1       1      147     4.5  1425942435        3.595933              27   \n",
       "2       1      858     5.0  1425941523        4.339811              27   \n",
       "3       1     1221     5.0  1425941546        4.263475              27   \n",
       "4       1     1246     5.0  1425941556        3.912803              27   \n",
       "\n",
       "   votes_per_movie  \n",
       "0            66512  \n",
       "1             4967  \n",
       "2            57070  \n",
       "3            36679  \n",
       "4            25752  "
      ]
     },
     "execution_count": 7,
     "metadata": {},
     "output_type": "execute_result"
    }
   ],
   "source": [
    "ratings.head()"
   ]
  },
  {
   "cell_type": "code",
   "execution_count": 8,
   "metadata": {},
   "outputs": [],
   "source": [
    "# merge ratings with links in order to acquire movieId column\n",
    "ratings_clean = pd.merge(ratings,links,on='movieId')\n",
    "# ignore the user data for now, keep one column for one movie rating record\n",
    "ratings_clean = ratings_clean.drop_duplicates('tmdbId')[['tmdbId','votes_per_movie','average_rating']]"
   ]
  },
  {
   "cell_type": "code",
   "execution_count": 9,
   "metadata": {},
   "outputs": [],
   "source": [
    "# prepare for the merge\n",
    "ratings_clean  = ratings_clean.loc[pd.notnull(ratings_clean['tmdbId']) != False]"
   ]
  },
  {
   "cell_type": "code",
   "execution_count": 10,
   "metadata": {},
   "outputs": [],
   "source": [
    "# prepare for the combination\n",
    "ratings_clean.rename(columns = {'tmdbId':'id'}, inplace = True)\n",
    "ratings_clean = ratings_clean.astype({'id': 'int64'})"
   ]
  },
  {
   "cell_type": "code",
   "execution_count": 11,
   "metadata": {},
   "outputs": [
    {
     "data": {
      "text/html": [
       "<div>\n",
       "<style scoped>\n",
       "    .dataframe tbody tr th:only-of-type {\n",
       "        vertical-align: middle;\n",
       "    }\n",
       "\n",
       "    .dataframe tbody tr th {\n",
       "        vertical-align: top;\n",
       "    }\n",
       "\n",
       "    .dataframe thead th {\n",
       "        text-align: right;\n",
       "    }\n",
       "</style>\n",
       "<table border=\"1\" class=\"dataframe\">\n",
       "  <thead>\n",
       "    <tr style=\"text-align: right;\">\n",
       "      <th></th>\n",
       "      <th>id</th>\n",
       "      <th>votes_per_movie</th>\n",
       "      <th>average_rating</th>\n",
       "    </tr>\n",
       "  </thead>\n",
       "  <tbody>\n",
       "    <tr>\n",
       "      <th>0</th>\n",
       "      <td>197</td>\n",
       "      <td>66512</td>\n",
       "      <td>4.016057</td>\n",
       "    </tr>\n",
       "    <tr>\n",
       "      <th>66512</th>\n",
       "      <td>10474</td>\n",
       "      <td>4967</td>\n",
       "      <td>3.595933</td>\n",
       "    </tr>\n",
       "    <tr>\n",
       "      <th>71479</th>\n",
       "      <td>238</td>\n",
       "      <td>57070</td>\n",
       "      <td>4.339811</td>\n",
       "    </tr>\n",
       "    <tr>\n",
       "      <th>128549</th>\n",
       "      <td>240</td>\n",
       "      <td>36679</td>\n",
       "      <td>4.263475</td>\n",
       "    </tr>\n",
       "    <tr>\n",
       "      <th>165228</th>\n",
       "      <td>207</td>\n",
       "      <td>25752</td>\n",
       "      <td>3.912803</td>\n",
       "    </tr>\n",
       "  </tbody>\n",
       "</table>\n",
       "</div>"
      ],
      "text/plain": [
       "           id  votes_per_movie  average_rating\n",
       "0         197            66512        4.016057\n",
       "66512   10474             4967        3.595933\n",
       "71479     238            57070        4.339811\n",
       "128549    240            36679        4.263475\n",
       "165228    207            25752        3.912803"
      ]
     },
     "execution_count": 11,
     "metadata": {},
     "output_type": "execute_result"
    }
   ],
   "source": [
    "ratings_clean.head()"
   ]
  },
  {
   "cell_type": "code",
   "execution_count": 12,
   "metadata": {},
   "outputs": [
    {
     "data": {
      "text/plain": [
       "(45879, 29)"
      ]
     },
     "execution_count": 12,
     "metadata": {},
     "output_type": "execute_result"
    }
   ],
   "source": [
    "# merge the movie dateset with rating dataset\n",
    "df_initial = pd.merge(ratings_clean,movie,on='id')\n",
    "df_initial.shape"
   ]
  },
  {
   "cell_type": "markdown",
   "metadata": {},
   "source": [
    "#### Computing our target variable: Weighted Rating, using IMDB Formula\n",
    "- v: number of votes for the movie \n",
    "    - which is the value in column 'votes_per_movie'\n",
    "- m: the minimum votes required to be listed in the chart\n",
    "- R: average rating of the movie\n",
    "    - which is the value in column 'average_rating'\n",
    "- C: the mean rating of overall movies"
   ]
  },
  {
   "cell_type": "code",
   "execution_count": 13,
   "metadata": {},
   "outputs": [
    {
     "data": {
      "text/plain": [
       "67.0"
      ]
     },
     "execution_count": 13,
     "metadata": {},
     "output_type": "execute_result"
    }
   ],
   "source": [
    "# m is the minumum votes required to be listed in the chart\n",
    "m = df_initial['votes_per_movie'].quantile(0.75)\n",
    "m"
   ]
  },
  {
   "cell_type": "code",
   "execution_count": 14,
   "metadata": {},
   "outputs": [
    {
     "data": {
      "text/plain": [
       "3.0588446332765327"
      ]
     },
     "execution_count": 14,
     "metadata": {},
     "output_type": "execute_result"
    }
   ],
   "source": [
    "# C is the mean rating across the whole report\n",
    "C = df_initial['average_rating'].mean()\n",
    "C"
   ]
  },
  {
   "cell_type": "code",
   "execution_count": 15,
   "metadata": {},
   "outputs": [
    {
     "data": {
      "text/plain": [
       "(11479, 29)"
      ]
     },
     "execution_count": 15,
     "metadata": {},
     "output_type": "execute_result"
    }
   ],
   "source": [
    "# filter the movies qualified for the chart\n",
    "df = df_initial[df_initial['votes_per_movie'] >= m]\n",
    "df.shape"
   ]
  },
  {
   "cell_type": "code",
   "execution_count": 16,
   "metadata": {},
   "outputs": [],
   "source": [
    "# calculate weighted_rating\n",
    "def weighted_rating(x):\n",
    "    v = x['votes_per_movie']\n",
    "    R = x['average_rating']\n",
    "    return (v/(v+m) * R) + (m/(m+v) * C)"
   ]
  },
  {
   "cell_type": "code",
   "execution_count": 17,
   "metadata": {},
   "outputs": [
    {
     "name": "stderr",
     "output_type": "stream",
     "text": [
      "/anaconda3/lib/python3.7/site-packages/ipykernel_launcher.py:1: SettingWithCopyWarning: \n",
      "A value is trying to be set on a copy of a slice from a DataFrame.\n",
      "Try using .loc[row_indexer,col_indexer] = value instead\n",
      "\n",
      "See the caveats in the documentation: http://pandas.pydata.org/pandas-docs/stable/indexing.html#indexing-view-versus-copy\n",
      "  \"\"\"Entry point for launching an IPython kernel.\n"
     ]
    }
   ],
   "source": [
    "df['weighted_rating'] = df.apply(weighted_rating, axis=1)"
   ]
  },
  {
   "cell_type": "markdown",
   "metadata": {},
   "source": [
    "# Data Cleaning"
   ]
  },
  {
   "cell_type": "code",
   "execution_count": 18,
   "metadata": {},
   "outputs": [
    {
     "data": {
      "text/html": [
       "<div>\n",
       "<style scoped>\n",
       "    .dataframe tbody tr th:only-of-type {\n",
       "        vertical-align: middle;\n",
       "    }\n",
       "\n",
       "    .dataframe tbody tr th {\n",
       "        vertical-align: top;\n",
       "    }\n",
       "\n",
       "    .dataframe thead th {\n",
       "        text-align: right;\n",
       "    }\n",
       "</style>\n",
       "<table border=\"1\" class=\"dataframe\">\n",
       "  <thead>\n",
       "    <tr style=\"text-align: right;\">\n",
       "      <th></th>\n",
       "      <th>id</th>\n",
       "      <th>votes_per_movie</th>\n",
       "      <th>average_rating</th>\n",
       "      <th>adult</th>\n",
       "      <th>belongs_to_collection</th>\n",
       "      <th>budget</th>\n",
       "      <th>genres</th>\n",
       "      <th>homepage</th>\n",
       "      <th>imdb_id</th>\n",
       "      <th>original_language</th>\n",
       "      <th>...</th>\n",
       "      <th>status</th>\n",
       "      <th>tagline</th>\n",
       "      <th>title</th>\n",
       "      <th>video</th>\n",
       "      <th>vote_average</th>\n",
       "      <th>vote_count</th>\n",
       "      <th>cast</th>\n",
       "      <th>crew</th>\n",
       "      <th>keywords</th>\n",
       "      <th>weighted_rating</th>\n",
       "    </tr>\n",
       "  </thead>\n",
       "  <tbody>\n",
       "    <tr>\n",
       "      <th>0</th>\n",
       "      <td>197</td>\n",
       "      <td>66512</td>\n",
       "      <td>4.016057</td>\n",
       "      <td>False</td>\n",
       "      <td>NaN</td>\n",
       "      <td>72000000</td>\n",
       "      <td>[{'id': 28, 'name': 'Action'}, {'id': 18, 'nam...</td>\n",
       "      <td>NaN</td>\n",
       "      <td>tt0112573</td>\n",
       "      <td>en</td>\n",
       "      <td>...</td>\n",
       "      <td>Released</td>\n",
       "      <td>Every man dies. Not every man truly lives.</td>\n",
       "      <td>Braveheart</td>\n",
       "      <td>False</td>\n",
       "      <td>7.7</td>\n",
       "      <td>3404.0</td>\n",
       "      <td>[{'cast_id': 5, 'character': 'William Wallace'...</td>\n",
       "      <td>[{'credit_id': '52fe4225c3a36847f80079c1', 'de...</td>\n",
       "      <td>[{'id': 30, 'name': 'individual'}, {'id': 388,...</td>\n",
       "      <td>4.015094</td>\n",
       "    </tr>\n",
       "    <tr>\n",
       "      <th>1</th>\n",
       "      <td>10474</td>\n",
       "      <td>4967</td>\n",
       "      <td>3.595933</td>\n",
       "      <td>False</td>\n",
       "      <td>NaN</td>\n",
       "      <td>0</td>\n",
       "      <td>[{'id': 18, 'name': 'Drama'}, {'id': 80, 'name...</td>\n",
       "      <td>NaN</td>\n",
       "      <td>tt0112461</td>\n",
       "      <td>en</td>\n",
       "      <td>...</td>\n",
       "      <td>Released</td>\n",
       "      <td>The true story of the death of innocence and t...</td>\n",
       "      <td>The Basketball Diaries</td>\n",
       "      <td>False</td>\n",
       "      <td>7.2</td>\n",
       "      <td>472.0</td>\n",
       "      <td>[{'cast_id': 9, 'character': 'Jim Carroll', 'c...</td>\n",
       "      <td>[{'credit_id': '52fe43779251416c7501167d', 'de...</td>\n",
       "      <td>[{'id': 6075, 'name': 'sport'}, {'id': 6496, '...</td>\n",
       "      <td>3.588785</td>\n",
       "    </tr>\n",
       "    <tr>\n",
       "      <th>2</th>\n",
       "      <td>238</td>\n",
       "      <td>57070</td>\n",
       "      <td>4.339811</td>\n",
       "      <td>False</td>\n",
       "      <td>{'id': 230, 'name': 'The Godfather Collection'...</td>\n",
       "      <td>6000000</td>\n",
       "      <td>[{'id': 18, 'name': 'Drama'}, {'id': 80, 'name...</td>\n",
       "      <td>http://www.thegodfather.com/</td>\n",
       "      <td>tt0068646</td>\n",
       "      <td>en</td>\n",
       "      <td>...</td>\n",
       "      <td>Released</td>\n",
       "      <td>An offer you can't refuse.</td>\n",
       "      <td>The Godfather</td>\n",
       "      <td>False</td>\n",
       "      <td>8.5</td>\n",
       "      <td>6024.0</td>\n",
       "      <td>[{'cast_id': 5, 'character': 'Don Vito Corleon...</td>\n",
       "      <td>[{'credit_id': '52fe422bc3a36847f80093db', 'de...</td>\n",
       "      <td>[{'id': 131, 'name': 'italy'}, {'id': 699, 'na...</td>\n",
       "      <td>4.338309</td>\n",
       "    </tr>\n",
       "    <tr>\n",
       "      <th>3</th>\n",
       "      <td>240</td>\n",
       "      <td>36679</td>\n",
       "      <td>4.263475</td>\n",
       "      <td>False</td>\n",
       "      <td>{'id': 230, 'name': 'The Godfather Collection'...</td>\n",
       "      <td>13000000</td>\n",
       "      <td>[{'id': 18, 'name': 'Drama'}, {'id': 80, 'name...</td>\n",
       "      <td>NaN</td>\n",
       "      <td>tt0071562</td>\n",
       "      <td>en</td>\n",
       "      <td>...</td>\n",
       "      <td>Released</td>\n",
       "      <td>I don't feel I have to wipe everybody out, Tom...</td>\n",
       "      <td>The Godfather: Part II</td>\n",
       "      <td>False</td>\n",
       "      <td>8.3</td>\n",
       "      <td>3418.0</td>\n",
       "      <td>[{'cast_id': 8, 'character': 'Don Michael Corl...</td>\n",
       "      <td>[{'credit_id': '52fe422bc3a36847f80094dd', 'de...</td>\n",
       "      <td>[{'id': 700, 'name': 'italo-american'}, {'id':...</td>\n",
       "      <td>4.261279</td>\n",
       "    </tr>\n",
       "    <tr>\n",
       "      <th>4</th>\n",
       "      <td>207</td>\n",
       "      <td>25752</td>\n",
       "      <td>3.912803</td>\n",
       "      <td>False</td>\n",
       "      <td>NaN</td>\n",
       "      <td>16400000</td>\n",
       "      <td>[{'id': 18, 'name': 'Drama'}]</td>\n",
       "      <td>NaN</td>\n",
       "      <td>tt0097165</td>\n",
       "      <td>en</td>\n",
       "      <td>...</td>\n",
       "      <td>Released</td>\n",
       "      <td>He was their inspiration. He made their lives ...</td>\n",
       "      <td>Dead Poets Society</td>\n",
       "      <td>False</td>\n",
       "      <td>8.1</td>\n",
       "      <td>2786.0</td>\n",
       "      <td>[{'cast_id': 3, 'character': 'John Keating', '...</td>\n",
       "      <td>[{'credit_id': '52fe4227c3a36847f8008045', 'de...</td>\n",
       "      <td>[{'id': 30, 'name': 'individual'}, {'id': 490,...</td>\n",
       "      <td>3.910587</td>\n",
       "    </tr>\n",
       "  </tbody>\n",
       "</table>\n",
       "<p>5 rows × 30 columns</p>\n",
       "</div>"
      ],
      "text/plain": [
       "      id  votes_per_movie  average_rating  adult  \\\n",
       "0    197            66512        4.016057  False   \n",
       "1  10474             4967        3.595933  False   \n",
       "2    238            57070        4.339811  False   \n",
       "3    240            36679        4.263475  False   \n",
       "4    207            25752        3.912803  False   \n",
       "\n",
       "                               belongs_to_collection    budget  \\\n",
       "0                                                NaN  72000000   \n",
       "1                                                NaN         0   \n",
       "2  {'id': 230, 'name': 'The Godfather Collection'...   6000000   \n",
       "3  {'id': 230, 'name': 'The Godfather Collection'...  13000000   \n",
       "4                                                NaN  16400000   \n",
       "\n",
       "                                              genres  \\\n",
       "0  [{'id': 28, 'name': 'Action'}, {'id': 18, 'nam...   \n",
       "1  [{'id': 18, 'name': 'Drama'}, {'id': 80, 'name...   \n",
       "2  [{'id': 18, 'name': 'Drama'}, {'id': 80, 'name...   \n",
       "3  [{'id': 18, 'name': 'Drama'}, {'id': 80, 'name...   \n",
       "4                      [{'id': 18, 'name': 'Drama'}]   \n",
       "\n",
       "                       homepage    imdb_id original_language  ...    status  \\\n",
       "0                           NaN  tt0112573                en  ...  Released   \n",
       "1                           NaN  tt0112461                en  ...  Released   \n",
       "2  http://www.thegodfather.com/  tt0068646                en  ...  Released   \n",
       "3                           NaN  tt0071562                en  ...  Released   \n",
       "4                           NaN  tt0097165                en  ...  Released   \n",
       "\n",
       "                                             tagline                   title  \\\n",
       "0         Every man dies. Not every man truly lives.              Braveheart   \n",
       "1  The true story of the death of innocence and t...  The Basketball Diaries   \n",
       "2                         An offer you can't refuse.           The Godfather   \n",
       "3  I don't feel I have to wipe everybody out, Tom...  The Godfather: Part II   \n",
       "4  He was their inspiration. He made their lives ...      Dead Poets Society   \n",
       "\n",
       "   video vote_average vote_count  \\\n",
       "0  False          7.7     3404.0   \n",
       "1  False          7.2      472.0   \n",
       "2  False          8.5     6024.0   \n",
       "3  False          8.3     3418.0   \n",
       "4  False          8.1     2786.0   \n",
       "\n",
       "                                                cast  \\\n",
       "0  [{'cast_id': 5, 'character': 'William Wallace'...   \n",
       "1  [{'cast_id': 9, 'character': 'Jim Carroll', 'c...   \n",
       "2  [{'cast_id': 5, 'character': 'Don Vito Corleon...   \n",
       "3  [{'cast_id': 8, 'character': 'Don Michael Corl...   \n",
       "4  [{'cast_id': 3, 'character': 'John Keating', '...   \n",
       "\n",
       "                                                crew  \\\n",
       "0  [{'credit_id': '52fe4225c3a36847f80079c1', 'de...   \n",
       "1  [{'credit_id': '52fe43779251416c7501167d', 'de...   \n",
       "2  [{'credit_id': '52fe422bc3a36847f80093db', 'de...   \n",
       "3  [{'credit_id': '52fe422bc3a36847f80094dd', 'de...   \n",
       "4  [{'credit_id': '52fe4227c3a36847f8008045', 'de...   \n",
       "\n",
       "                                            keywords weighted_rating  \n",
       "0  [{'id': 30, 'name': 'individual'}, {'id': 388,...        4.015094  \n",
       "1  [{'id': 6075, 'name': 'sport'}, {'id': 6496, '...        3.588785  \n",
       "2  [{'id': 131, 'name': 'italy'}, {'id': 699, 'na...        4.338309  \n",
       "3  [{'id': 700, 'name': 'italo-american'}, {'id':...        4.261279  \n",
       "4  [{'id': 30, 'name': 'individual'}, {'id': 490,...        3.910587  \n",
       "\n",
       "[5 rows x 30 columns]"
      ]
     },
     "execution_count": 18,
     "metadata": {},
     "output_type": "execute_result"
    }
   ],
   "source": [
    "df.head()"
   ]
  },
  {
   "cell_type": "code",
   "execution_count": 19,
   "metadata": {},
   "outputs": [
    {
     "data": {
      "text/plain": [
       "Index(['id', 'votes_per_movie', 'average_rating', 'adult',\n",
       "       'belongs_to_collection', 'budget', 'genres', 'homepage', 'imdb_id',\n",
       "       'original_language', 'original_title', 'overview', 'popularity',\n",
       "       'poster_path', 'production_companies', 'production_countries',\n",
       "       'release_date', 'revenue', 'runtime', 'spoken_languages', 'status',\n",
       "       'tagline', 'title', 'video', 'vote_average', 'vote_count', 'cast',\n",
       "       'crew', 'keywords', 'weighted_rating'],\n",
       "      dtype='object')"
      ]
     },
     "execution_count": 19,
     "metadata": {},
     "output_type": "execute_result"
    }
   ],
   "source": [
    "# original columns\n",
    "df.columns"
   ]
  },
  {
   "cell_type": "code",
   "execution_count": 20,
   "metadata": {},
   "outputs": [
    {
     "data": {
      "text/plain": [
       "(11479, 30)"
      ]
     },
     "execution_count": 20,
     "metadata": {},
     "output_type": "execute_result"
    }
   ],
   "source": [
    "df.shape"
   ]
  },
  {
   "cell_type": "markdown",
   "metadata": {},
   "source": [
    "### Remove Duplicates and Irrelevant Data"
   ]
  },
  {
   "cell_type": "code",
   "execution_count": 21,
   "metadata": {},
   "outputs": [
    {
     "name": "stderr",
     "output_type": "stream",
     "text": [
      "/anaconda3/lib/python3.7/site-packages/ipykernel_launcher.py:2: SettingWithCopyWarning: \n",
      "A value is trying to be set on a copy of a slice from a DataFrame\n",
      "\n",
      "See the caveats in the documentation: http://pandas.pydata.org/pandas-docs/stable/indexing.html#indexing-view-versus-copy\n",
      "  \n"
     ]
    }
   ],
   "source": [
    "# remove the duplicates with identical values of 'id'\n",
    "df.drop_duplicates(subset=['id'], inplace = True)"
   ]
  },
  {
   "cell_type": "code",
   "execution_count": 22,
   "metadata": {},
   "outputs": [],
   "source": [
    "# drop irrelevant columns that do not fit to the objectives of this project\n",
    "to_keep_features = ['id','weighted_rating','votes_per_movie', 'average_rating','title', 'budget','revenue', 'release_date', 'runtime', 'genres', 'production_countries','production_companies','original_language','cast','crew']\n",
    "df = df[to_keep_features]"
   ]
  },
  {
   "cell_type": "code",
   "execution_count": 23,
   "metadata": {},
   "outputs": [
    {
     "name": "stdout",
     "output_type": "stream",
     "text": [
      "(11347, 15)\n",
      "Index(['id', 'weighted_rating', 'votes_per_movie', 'average_rating', 'title',\n",
      "       'budget', 'revenue', 'release_date', 'runtime', 'genres',\n",
      "       'production_countries', 'production_companies', 'original_language',\n",
      "       'cast', 'crew'],\n",
      "      dtype='object')\n"
     ]
    }
   ],
   "source": [
    "print (df.shape)\n",
    "print (df.columns)"
   ]
  },
  {
   "cell_type": "markdown",
   "metadata": {},
   "source": [
    "### Detect Missing Data"
   ]
  },
  {
   "cell_type": "code",
   "execution_count": 24,
   "metadata": {},
   "outputs": [
    {
     "name": "stdout",
     "output_type": "stream",
     "text": [
      "<class 'pandas.core.frame.DataFrame'>\n",
      "Int64Index: 11347 entries, 0 to 24752\n",
      "Data columns (total 15 columns):\n",
      "id                      11347 non-null int64\n",
      "weighted_rating         11347 non-null float64\n",
      "votes_per_movie         11347 non-null int64\n",
      "average_rating          11347 non-null float64\n",
      "title                   11347 non-null object\n",
      "budget                  11347 non-null object\n",
      "revenue                 11347 non-null float64\n",
      "release_date            11346 non-null object\n",
      "runtime                 11347 non-null float64\n",
      "genres                  11347 non-null object\n",
      "production_countries    11347 non-null object\n",
      "production_companies    11347 non-null object\n",
      "original_language       11347 non-null object\n",
      "cast                    11347 non-null object\n",
      "crew                    11347 non-null object\n",
      "dtypes: float64(4), int64(2), object(9)\n",
      "memory usage: 1.4+ MB\n"
     ]
    }
   ],
   "source": [
    "df.info()"
   ]
  },
  {
   "cell_type": "code",
   "execution_count": 25,
   "metadata": {},
   "outputs": [
    {
     "data": {
      "text/html": [
       "<div>\n",
       "<style scoped>\n",
       "    .dataframe tbody tr th:only-of-type {\n",
       "        vertical-align: middle;\n",
       "    }\n",
       "\n",
       "    .dataframe tbody tr th {\n",
       "        vertical-align: top;\n",
       "    }\n",
       "\n",
       "    .dataframe thead th {\n",
       "        text-align: right;\n",
       "    }\n",
       "</style>\n",
       "<table border=\"1\" class=\"dataframe\">\n",
       "  <thead>\n",
       "    <tr style=\"text-align: right;\">\n",
       "      <th></th>\n",
       "      <th>id</th>\n",
       "      <th>weighted_rating</th>\n",
       "      <th>votes_per_movie</th>\n",
       "      <th>average_rating</th>\n",
       "      <th>title</th>\n",
       "      <th>budget</th>\n",
       "      <th>revenue</th>\n",
       "      <th>release_date</th>\n",
       "      <th>runtime</th>\n",
       "      <th>genres</th>\n",
       "      <th>production_countries</th>\n",
       "      <th>production_companies</th>\n",
       "      <th>original_language</th>\n",
       "      <th>cast</th>\n",
       "      <th>crew</th>\n",
       "    </tr>\n",
       "  </thead>\n",
       "  <tbody>\n",
       "    <tr>\n",
       "      <th>8560</th>\n",
       "      <td>24122</td>\n",
       "      <td>3.308882</td>\n",
       "      <td>208</td>\n",
       "      <td>3.389423</td>\n",
       "      <td>The Rebound</td>\n",
       "      <td>0</td>\n",
       "      <td>0.0</td>\n",
       "      <td>2009-09-16</td>\n",
       "      <td>95.0</td>\n",
       "      <td>[{'id': 35, 'name': 'Comedy'}]</td>\n",
       "      <td>[{'iso_3166_1': 'US', 'name': 'United States o...</td>\n",
       "      <td>[{'name': 'Film Department, The', 'id': 5257},...</td>\n",
       "      <td>en</td>\n",
       "      <td>[{'cast_id': 1, 'character': 'Sandy', 'credit_...</td>\n",
       "      <td>[{'credit_id': '52fe4483c3a368484e0275ad', 'de...</td>\n",
       "    </tr>\n",
       "    <tr>\n",
       "      <th>4934</th>\n",
       "      <td>5801</td>\n",
       "      <td>4.027716</td>\n",
       "      <td>869</td>\n",
       "      <td>4.102417</td>\n",
       "      <td>Pather Panchali</td>\n",
       "      <td>0</td>\n",
       "      <td>536364.0</td>\n",
       "      <td>1955-08-26</td>\n",
       "      <td>125.0</td>\n",
       "      <td>[{'id': 18, 'name': 'Drama'}]</td>\n",
       "      <td>[{'iso_3166_1': 'IN', 'name': 'India'}]</td>\n",
       "      <td>[{'name': 'Government of West Bengal', 'id': 1...</td>\n",
       "      <td>bn</td>\n",
       "      <td>[{'cast_id': 23, 'character': 'Harihar Ray', '...</td>\n",
       "      <td>[{'credit_id': '52fe4423c3a36847f80845c7', 'de...</td>\n",
       "    </tr>\n",
       "    <tr>\n",
       "      <th>2129</th>\n",
       "      <td>8869</td>\n",
       "      <td>2.533170</td>\n",
       "      <td>1710</td>\n",
       "      <td>2.512573</td>\n",
       "      <td>Eight Legged Freaks</td>\n",
       "      <td>0</td>\n",
       "      <td>0.0</td>\n",
       "      <td>2002-07-17</td>\n",
       "      <td>99.0</td>\n",
       "      <td>[{'id': 28, 'name': 'Action'}, {'id': 35, 'nam...</td>\n",
       "      <td>[{'iso_3166_1': 'AU', 'name': 'Australia'}, {'...</td>\n",
       "      <td>[{'name': 'Village Roadshow Pictures', 'id': 7...</td>\n",
       "      <td>en</td>\n",
       "      <td>[{'cast_id': 12, 'character': 'Chris McCormick...</td>\n",
       "      <td>[{'credit_id': '52fe44c2c3a36847f80a8535', 'de...</td>\n",
       "    </tr>\n",
       "    <tr>\n",
       "      <th>12027</th>\n",
       "      <td>24186</td>\n",
       "      <td>3.246443</td>\n",
       "      <td>160</td>\n",
       "      <td>3.325000</td>\n",
       "      <td>The Safety of Objects</td>\n",
       "      <td>0</td>\n",
       "      <td>0.0</td>\n",
       "      <td>2002-10-25</td>\n",
       "      <td>121.0</td>\n",
       "      <td>[{'id': 18, 'name': 'Drama'}]</td>\n",
       "      <td>[{'iso_3166_1': 'GB', 'name': 'United Kingdom'...</td>\n",
       "      <td>[]</td>\n",
       "      <td>en</td>\n",
       "      <td>[{'cast_id': 1, 'character': 'Esther Gold', 'c...</td>\n",
       "      <td>[{'credit_id': '58be0303c3a3680df8007102', 'de...</td>\n",
       "    </tr>\n",
       "    <tr>\n",
       "      <th>7494</th>\n",
       "      <td>10176</td>\n",
       "      <td>3.512042</td>\n",
       "      <td>468</td>\n",
       "      <td>3.576923</td>\n",
       "      <td>The Quiet Earth</td>\n",
       "      <td>1000000</td>\n",
       "      <td>0.0</td>\n",
       "      <td>1985-09-08</td>\n",
       "      <td>91.0</td>\n",
       "      <td>[{'id': 18, 'name': 'Drama'}, {'id': 878, 'nam...</td>\n",
       "      <td>[{'iso_3166_1': 'NZ', 'name': 'New Zealand'}]</td>\n",
       "      <td>[{'name': 'Cinepro', 'id': 6927}, {'name': 'Mr...</td>\n",
       "      <td>en</td>\n",
       "      <td>[{'cast_id': 18, 'character': 'Zac Hobson', 'c...</td>\n",
       "      <td>[{'credit_id': '52fe433b9251416c75008895', 'de...</td>\n",
       "    </tr>\n",
       "  </tbody>\n",
       "</table>\n",
       "</div>"
      ],
      "text/plain": [
       "          id  weighted_rating  votes_per_movie  average_rating  \\\n",
       "8560   24122         3.308882              208        3.389423   \n",
       "4934    5801         4.027716              869        4.102417   \n",
       "2129    8869         2.533170             1710        2.512573   \n",
       "12027  24186         3.246443              160        3.325000   \n",
       "7494   10176         3.512042              468        3.576923   \n",
       "\n",
       "                       title   budget   revenue release_date  runtime  \\\n",
       "8560             The Rebound        0       0.0   2009-09-16     95.0   \n",
       "4934         Pather Panchali        0  536364.0   1955-08-26    125.0   \n",
       "2129     Eight Legged Freaks        0       0.0   2002-07-17     99.0   \n",
       "12027  The Safety of Objects        0       0.0   2002-10-25    121.0   \n",
       "7494         The Quiet Earth  1000000       0.0   1985-09-08     91.0   \n",
       "\n",
       "                                                  genres  \\\n",
       "8560                      [{'id': 35, 'name': 'Comedy'}]   \n",
       "4934                       [{'id': 18, 'name': 'Drama'}]   \n",
       "2129   [{'id': 28, 'name': 'Action'}, {'id': 35, 'nam...   \n",
       "12027                      [{'id': 18, 'name': 'Drama'}]   \n",
       "7494   [{'id': 18, 'name': 'Drama'}, {'id': 878, 'nam...   \n",
       "\n",
       "                                    production_countries  \\\n",
       "8560   [{'iso_3166_1': 'US', 'name': 'United States o...   \n",
       "4934             [{'iso_3166_1': 'IN', 'name': 'India'}]   \n",
       "2129   [{'iso_3166_1': 'AU', 'name': 'Australia'}, {'...   \n",
       "12027  [{'iso_3166_1': 'GB', 'name': 'United Kingdom'...   \n",
       "7494       [{'iso_3166_1': 'NZ', 'name': 'New Zealand'}]   \n",
       "\n",
       "                                    production_companies original_language  \\\n",
       "8560   [{'name': 'Film Department, The', 'id': 5257},...                en   \n",
       "4934   [{'name': 'Government of West Bengal', 'id': 1...                bn   \n",
       "2129   [{'name': 'Village Roadshow Pictures', 'id': 7...                en   \n",
       "12027                                                 []                en   \n",
       "7494   [{'name': 'Cinepro', 'id': 6927}, {'name': 'Mr...                en   \n",
       "\n",
       "                                                    cast  \\\n",
       "8560   [{'cast_id': 1, 'character': 'Sandy', 'credit_...   \n",
       "4934   [{'cast_id': 23, 'character': 'Harihar Ray', '...   \n",
       "2129   [{'cast_id': 12, 'character': 'Chris McCormick...   \n",
       "12027  [{'cast_id': 1, 'character': 'Esther Gold', 'c...   \n",
       "7494   [{'cast_id': 18, 'character': 'Zac Hobson', 'c...   \n",
       "\n",
       "                                                    crew  \n",
       "8560   [{'credit_id': '52fe4483c3a368484e0275ad', 'de...  \n",
       "4934   [{'credit_id': '52fe4423c3a36847f80845c7', 'de...  \n",
       "2129   [{'credit_id': '52fe44c2c3a36847f80a8535', 'de...  \n",
       "12027  [{'credit_id': '58be0303c3a3680df8007102', 'de...  \n",
       "7494   [{'credit_id': '52fe433b9251416c75008895', 'de...  "
      ]
     },
     "execution_count": 25,
     "metadata": {},
     "output_type": "execute_result"
    }
   ],
   "source": [
    "df.sample(5)"
   ]
  },
  {
   "cell_type": "markdown",
   "metadata": {},
   "source": [
    "**Thought Process**\n",
    "- No null values observed from the dataframe information. Unstandard missing values is detected when examining the dataframe.\n",
    "- Columns including 'budget', and 'release_date' should have numerical data type not object."
   ]
  },
  {
   "cell_type": "markdown",
   "metadata": {},
   "source": [
    "#### Further Examine Unstandardized Missing Values"
   ]
  },
  {
   "cell_type": "code",
   "execution_count": 26,
   "metadata": {},
   "outputs": [
    {
     "data": {
      "text/html": [
       "<div>\n",
       "<style scoped>\n",
       "    .dataframe tbody tr th:only-of-type {\n",
       "        vertical-align: middle;\n",
       "    }\n",
       "\n",
       "    .dataframe tbody tr th {\n",
       "        vertical-align: top;\n",
       "    }\n",
       "\n",
       "    .dataframe thead th {\n",
       "        text-align: right;\n",
       "    }\n",
       "</style>\n",
       "<table border=\"1\" class=\"dataframe\">\n",
       "  <thead>\n",
       "    <tr style=\"text-align: right;\">\n",
       "      <th></th>\n",
       "      <th>id</th>\n",
       "      <th>weighted_rating</th>\n",
       "      <th>votes_per_movie</th>\n",
       "      <th>average_rating</th>\n",
       "      <th>title</th>\n",
       "      <th>budget</th>\n",
       "      <th>revenue</th>\n",
       "      <th>release_date</th>\n",
       "      <th>runtime</th>\n",
       "      <th>genres</th>\n",
       "      <th>production_countries</th>\n",
       "      <th>production_companies</th>\n",
       "      <th>original_language</th>\n",
       "      <th>cast</th>\n",
       "      <th>crew</th>\n",
       "    </tr>\n",
       "  </thead>\n",
       "  <tbody>\n",
       "    <tr>\n",
       "      <th>3205</th>\n",
       "      <td>2246</td>\n",
       "      <td>3.345373</td>\n",
       "      <td>3306</td>\n",
       "      <td>3.351180</td>\n",
       "      <td>Malice</td>\n",
       "      <td>0</td>\n",
       "      <td>46405336.0</td>\n",
       "      <td>1993-09-29</td>\n",
       "      <td>107.0</td>\n",
       "      <td>[{'id': 18, 'name': 'Drama'}, {'id': 80, 'name...</td>\n",
       "      <td>[{'iso_3166_1': 'US', 'name': 'United States o...</td>\n",
       "      <td>[{'name': 'Columbia Pictures', 'id': 5}, {'nam...</td>\n",
       "      <td>en</td>\n",
       "      <td>[{'cast_id': 16, 'character': 'Dr. Jed Hill', ...</td>\n",
       "      <td>[{'credit_id': '52fe4345c3a36847f80476ef', 'de...</td>\n",
       "    </tr>\n",
       "    <tr>\n",
       "      <th>5785</th>\n",
       "      <td>10070</td>\n",
       "      <td>3.183060</td>\n",
       "      <td>326</td>\n",
       "      <td>3.208589</td>\n",
       "      <td>Feast</td>\n",
       "      <td>0</td>\n",
       "      <td>658573.0</td>\n",
       "      <td>2005-10-14</td>\n",
       "      <td>95.0</td>\n",
       "      <td>[{'id': 28, 'name': 'Action'}, {'id': 35, 'nam...</td>\n",
       "      <td>[{'iso_3166_1': 'US', 'name': 'United States o...</td>\n",
       "      <td>[{'name': 'Neo Art &amp; Logic', 'id': 2811}, {'na...</td>\n",
       "      <td>en</td>\n",
       "      <td>[{'cast_id': 31, 'character': 'Bozo', 'credit_...</td>\n",
       "      <td>[{'credit_id': '52fe431b9251416c75003b11', 'de...</td>\n",
       "    </tr>\n",
       "    <tr>\n",
       "      <th>10199</th>\n",
       "      <td>184352</td>\n",
       "      <td>3.299604</td>\n",
       "      <td>78</td>\n",
       "      <td>3.506410</td>\n",
       "      <td>Tom at the Farm</td>\n",
       "      <td>0</td>\n",
       "      <td>0.0</td>\n",
       "      <td>2014-04-16</td>\n",
       "      <td>105.0</td>\n",
       "      <td>[{'id': 18, 'name': 'Drama'}, {'id': 53, 'name...</td>\n",
       "      <td>[{'iso_3166_1': 'CA', 'name': 'Canada'}, {'iso...</td>\n",
       "      <td>[{'name': 'MK2 Productions', 'id': 9209}]</td>\n",
       "      <td>fr</td>\n",
       "      <td>[{'cast_id': 3, 'character': 'Tom', 'credit_id...</td>\n",
       "      <td>[{'credit_id': '568f1422925141189e00045f', 'de...</td>\n",
       "    </tr>\n",
       "    <tr>\n",
       "      <th>20911</th>\n",
       "      <td>209799</td>\n",
       "      <td>3.363555</td>\n",
       "      <td>80</td>\n",
       "      <td>3.618750</td>\n",
       "      <td>The Unknown Known</td>\n",
       "      <td>0</td>\n",
       "      <td>0.0</td>\n",
       "      <td>2013-08-29</td>\n",
       "      <td>102.0</td>\n",
       "      <td>[{'id': 99, 'name': 'Documentary'}]</td>\n",
       "      <td>[{'iso_3166_1': 'US', 'name': 'United States o...</td>\n",
       "      <td>[]</td>\n",
       "      <td>en</td>\n",
       "      <td>[{'cast_id': 2, 'character': 'Himself', 'credi...</td>\n",
       "      <td>[{'credit_id': '52fe4d6dc3a368484e1e8ac3', 'de...</td>\n",
       "    </tr>\n",
       "    <tr>\n",
       "      <th>5105</th>\n",
       "      <td>21629</td>\n",
       "      <td>3.320555</td>\n",
       "      <td>694</td>\n",
       "      <td>3.345821</td>\n",
       "      <td>Stir Crazy</td>\n",
       "      <td>0</td>\n",
       "      <td>101300000.0</td>\n",
       "      <td>1980-12-12</td>\n",
       "      <td>111.0</td>\n",
       "      <td>[{'id': 35, 'name': 'Comedy'}]</td>\n",
       "      <td>[{'iso_3166_1': 'US', 'name': 'United States o...</td>\n",
       "      <td>[{'name': 'Columbia Pictures Corporation', 'id...</td>\n",
       "      <td>en</td>\n",
       "      <td>[{'cast_id': 1, 'character': 'Skip Donahue', '...</td>\n",
       "      <td>[{'credit_id': '553df3919251411435003026', 'de...</td>\n",
       "    </tr>\n",
       "  </tbody>\n",
       "</table>\n",
       "</div>"
      ],
      "text/plain": [
       "           id  weighted_rating  votes_per_movie  average_rating  \\\n",
       "3205     2246         3.345373             3306        3.351180   \n",
       "5785    10070         3.183060              326        3.208589   \n",
       "10199  184352         3.299604               78        3.506410   \n",
       "20911  209799         3.363555               80        3.618750   \n",
       "5105    21629         3.320555              694        3.345821   \n",
       "\n",
       "                   title budget      revenue release_date  runtime  \\\n",
       "3205              Malice      0   46405336.0   1993-09-29    107.0   \n",
       "5785               Feast      0     658573.0   2005-10-14     95.0   \n",
       "10199    Tom at the Farm      0          0.0   2014-04-16    105.0   \n",
       "20911  The Unknown Known      0          0.0   2013-08-29    102.0   \n",
       "5105          Stir Crazy      0  101300000.0   1980-12-12    111.0   \n",
       "\n",
       "                                                  genres  \\\n",
       "3205   [{'id': 18, 'name': 'Drama'}, {'id': 80, 'name...   \n",
       "5785   [{'id': 28, 'name': 'Action'}, {'id': 35, 'nam...   \n",
       "10199  [{'id': 18, 'name': 'Drama'}, {'id': 53, 'name...   \n",
       "20911                [{'id': 99, 'name': 'Documentary'}]   \n",
       "5105                      [{'id': 35, 'name': 'Comedy'}]   \n",
       "\n",
       "                                    production_countries  \\\n",
       "3205   [{'iso_3166_1': 'US', 'name': 'United States o...   \n",
       "5785   [{'iso_3166_1': 'US', 'name': 'United States o...   \n",
       "10199  [{'iso_3166_1': 'CA', 'name': 'Canada'}, {'iso...   \n",
       "20911  [{'iso_3166_1': 'US', 'name': 'United States o...   \n",
       "5105   [{'iso_3166_1': 'US', 'name': 'United States o...   \n",
       "\n",
       "                                    production_companies original_language  \\\n",
       "3205   [{'name': 'Columbia Pictures', 'id': 5}, {'nam...                en   \n",
       "5785   [{'name': 'Neo Art & Logic', 'id': 2811}, {'na...                en   \n",
       "10199          [{'name': 'MK2 Productions', 'id': 9209}]                fr   \n",
       "20911                                                 []                en   \n",
       "5105   [{'name': 'Columbia Pictures Corporation', 'id...                en   \n",
       "\n",
       "                                                    cast  \\\n",
       "3205   [{'cast_id': 16, 'character': 'Dr. Jed Hill', ...   \n",
       "5785   [{'cast_id': 31, 'character': 'Bozo', 'credit_...   \n",
       "10199  [{'cast_id': 3, 'character': 'Tom', 'credit_id...   \n",
       "20911  [{'cast_id': 2, 'character': 'Himself', 'credi...   \n",
       "5105   [{'cast_id': 1, 'character': 'Skip Donahue', '...   \n",
       "\n",
       "                                                    crew  \n",
       "3205   [{'credit_id': '52fe4345c3a36847f80476ef', 'de...  \n",
       "5785   [{'credit_id': '52fe431b9251416c75003b11', 'de...  \n",
       "10199  [{'credit_id': '568f1422925141189e00045f', 'de...  \n",
       "20911  [{'credit_id': '52fe4d6dc3a368484e1e8ac3', 'de...  \n",
       "5105   [{'credit_id': '553df3919251411435003026', 'de...  "
      ]
     },
     "execution_count": 26,
     "metadata": {},
     "output_type": "execute_result"
    }
   ],
   "source": [
    "# take a look at observations with zero budget\n",
    "df[df['budget'] == '0'].sample(5)"
   ]
  },
  {
   "cell_type": "code",
   "execution_count": 27,
   "metadata": {},
   "outputs": [
    {
     "name": "stdout",
     "output_type": "stream",
     "text": [
      "rows with zero budget: 5747\n",
      "rows with zero revenue: 5622\n"
     ]
    }
   ],
   "source": [
    "# get the number of zero budget and zero revenue\n",
    "print ('rows with zero budget:', df[df.budget == '0'].shape[0])\n",
    "print ('rows with zero revenue:',df[df.revenue == 0].shape[0])"
   ]
  },
  {
   "cell_type": "markdown",
   "metadata": {},
   "source": [
    "**Thought Process**\n",
    "- Movies with zero budget often marked with zero revenue. And some of these movies are produced by big companies, such as Warner Bros. and Columbia Pictures Corporation.\n",
    "- Above obeservation indicates that zero in 'budget' and 'revenue' colomn is more likely to represent missing values instead of low-budget situation. \n",
    "\n",
    "**Discussion**\n",
    "- How to rationalize why I decide to drop them instead of compute the missing values "
   ]
  },
  {
   "cell_type": "code",
   "execution_count": 28,
   "metadata": {},
   "outputs": [
    {
     "data": {
      "text/html": [
       "<div>\n",
       "<style scoped>\n",
       "    .dataframe tbody tr th:only-of-type {\n",
       "        vertical-align: middle;\n",
       "    }\n",
       "\n",
       "    .dataframe tbody tr th {\n",
       "        vertical-align: top;\n",
       "    }\n",
       "\n",
       "    .dataframe thead th {\n",
       "        text-align: right;\n",
       "    }\n",
       "</style>\n",
       "<table border=\"1\" class=\"dataframe\">\n",
       "  <thead>\n",
       "    <tr style=\"text-align: right;\">\n",
       "      <th></th>\n",
       "      <th>id</th>\n",
       "      <th>weighted_rating</th>\n",
       "      <th>votes_per_movie</th>\n",
       "      <th>average_rating</th>\n",
       "      <th>title</th>\n",
       "      <th>budget</th>\n",
       "      <th>revenue</th>\n",
       "      <th>release_date</th>\n",
       "      <th>runtime</th>\n",
       "      <th>genres</th>\n",
       "      <th>production_countries</th>\n",
       "      <th>production_companies</th>\n",
       "      <th>original_language</th>\n",
       "      <th>cast</th>\n",
       "      <th>crew</th>\n",
       "    </tr>\n",
       "  </thead>\n",
       "  <tbody>\n",
       "    <tr>\n",
       "      <th>0</th>\n",
       "      <td>197</td>\n",
       "      <td>4.015094</td>\n",
       "      <td>66512</td>\n",
       "      <td>4.016057</td>\n",
       "      <td>Braveheart</td>\n",
       "      <td>72000000</td>\n",
       "      <td>210000000.0</td>\n",
       "      <td>1995-05-24</td>\n",
       "      <td>177.0</td>\n",
       "      <td>[{'id': 28, 'name': 'Action'}, {'id': 18, 'nam...</td>\n",
       "      <td>[{'iso_3166_1': 'US', 'name': 'United States o...</td>\n",
       "      <td>[{'name': 'Icon Entertainment International', ...</td>\n",
       "      <td>en</td>\n",
       "      <td>[{'cast_id': 5, 'character': 'William Wallace'...</td>\n",
       "      <td>[{'credit_id': '52fe4225c3a36847f80079c1', 'de...</td>\n",
       "    </tr>\n",
       "    <tr>\n",
       "      <th>1</th>\n",
       "      <td>10474</td>\n",
       "      <td>3.588785</td>\n",
       "      <td>4967</td>\n",
       "      <td>3.595933</td>\n",
       "      <td>The Basketball Diaries</td>\n",
       "      <td>0</td>\n",
       "      <td>0.0</td>\n",
       "      <td>1995-04-21</td>\n",
       "      <td>102.0</td>\n",
       "      <td>[{'id': 18, 'name': 'Drama'}, {'id': 80, 'name...</td>\n",
       "      <td>[{'iso_3166_1': 'US', 'name': 'United States o...</td>\n",
       "      <td>[{'name': 'New Line Cinema', 'id': 12}, {'name...</td>\n",
       "      <td>en</td>\n",
       "      <td>[{'cast_id': 9, 'character': 'Jim Carroll', 'c...</td>\n",
       "      <td>[{'credit_id': '52fe43779251416c7501167d', 'de...</td>\n",
       "    </tr>\n",
       "    <tr>\n",
       "      <th>2</th>\n",
       "      <td>238</td>\n",
       "      <td>4.338309</td>\n",
       "      <td>57070</td>\n",
       "      <td>4.339811</td>\n",
       "      <td>The Godfather</td>\n",
       "      <td>6000000</td>\n",
       "      <td>245066411.0</td>\n",
       "      <td>1972-03-14</td>\n",
       "      <td>175.0</td>\n",
       "      <td>[{'id': 18, 'name': 'Drama'}, {'id': 80, 'name...</td>\n",
       "      <td>[{'iso_3166_1': 'US', 'name': 'United States o...</td>\n",
       "      <td>[{'name': 'Paramount Pictures', 'id': 4}, {'na...</td>\n",
       "      <td>en</td>\n",
       "      <td>[{'cast_id': 5, 'character': 'Don Vito Corleon...</td>\n",
       "      <td>[{'credit_id': '52fe422bc3a36847f80093db', 'de...</td>\n",
       "    </tr>\n",
       "    <tr>\n",
       "      <th>3</th>\n",
       "      <td>240</td>\n",
       "      <td>4.261279</td>\n",
       "      <td>36679</td>\n",
       "      <td>4.263475</td>\n",
       "      <td>The Godfather: Part II</td>\n",
       "      <td>13000000</td>\n",
       "      <td>47542841.0</td>\n",
       "      <td>1974-12-20</td>\n",
       "      <td>200.0</td>\n",
       "      <td>[{'id': 18, 'name': 'Drama'}, {'id': 80, 'name...</td>\n",
       "      <td>[{'iso_3166_1': 'US', 'name': 'United States o...</td>\n",
       "      <td>[{'name': 'Paramount Pictures', 'id': 4}, {'na...</td>\n",
       "      <td>en</td>\n",
       "      <td>[{'cast_id': 8, 'character': 'Don Michael Corl...</td>\n",
       "      <td>[{'credit_id': '52fe422bc3a36847f80094dd', 'de...</td>\n",
       "    </tr>\n",
       "    <tr>\n",
       "      <th>4</th>\n",
       "      <td>207</td>\n",
       "      <td>3.910587</td>\n",
       "      <td>25752</td>\n",
       "      <td>3.912803</td>\n",
       "      <td>Dead Poets Society</td>\n",
       "      <td>16400000</td>\n",
       "      <td>235860116.0</td>\n",
       "      <td>1989-06-02</td>\n",
       "      <td>129.0</td>\n",
       "      <td>[{'id': 18, 'name': 'Drama'}]</td>\n",
       "      <td>[{'iso_3166_1': 'US', 'name': 'United States o...</td>\n",
       "      <td>[{'name': 'Touchstone Pictures', 'id': 9195}, ...</td>\n",
       "      <td>en</td>\n",
       "      <td>[{'cast_id': 3, 'character': 'John Keating', '...</td>\n",
       "      <td>[{'credit_id': '52fe4227c3a36847f8008045', 'de...</td>\n",
       "    </tr>\n",
       "  </tbody>\n",
       "</table>\n",
       "</div>"
      ],
      "text/plain": [
       "      id  weighted_rating  votes_per_movie  average_rating  \\\n",
       "0    197         4.015094            66512        4.016057   \n",
       "1  10474         3.588785             4967        3.595933   \n",
       "2    238         4.338309            57070        4.339811   \n",
       "3    240         4.261279            36679        4.263475   \n",
       "4    207         3.910587            25752        3.912803   \n",
       "\n",
       "                    title    budget      revenue release_date  runtime  \\\n",
       "0              Braveheart  72000000  210000000.0   1995-05-24    177.0   \n",
       "1  The Basketball Diaries         0          0.0   1995-04-21    102.0   \n",
       "2           The Godfather   6000000  245066411.0   1972-03-14    175.0   \n",
       "3  The Godfather: Part II  13000000   47542841.0   1974-12-20    200.0   \n",
       "4      Dead Poets Society  16400000  235860116.0   1989-06-02    129.0   \n",
       "\n",
       "                                              genres  \\\n",
       "0  [{'id': 28, 'name': 'Action'}, {'id': 18, 'nam...   \n",
       "1  [{'id': 18, 'name': 'Drama'}, {'id': 80, 'name...   \n",
       "2  [{'id': 18, 'name': 'Drama'}, {'id': 80, 'name...   \n",
       "3  [{'id': 18, 'name': 'Drama'}, {'id': 80, 'name...   \n",
       "4                      [{'id': 18, 'name': 'Drama'}]   \n",
       "\n",
       "                                production_countries  \\\n",
       "0  [{'iso_3166_1': 'US', 'name': 'United States o...   \n",
       "1  [{'iso_3166_1': 'US', 'name': 'United States o...   \n",
       "2  [{'iso_3166_1': 'US', 'name': 'United States o...   \n",
       "3  [{'iso_3166_1': 'US', 'name': 'United States o...   \n",
       "4  [{'iso_3166_1': 'US', 'name': 'United States o...   \n",
       "\n",
       "                                production_companies original_language  \\\n",
       "0  [{'name': 'Icon Entertainment International', ...                en   \n",
       "1  [{'name': 'New Line Cinema', 'id': 12}, {'name...                en   \n",
       "2  [{'name': 'Paramount Pictures', 'id': 4}, {'na...                en   \n",
       "3  [{'name': 'Paramount Pictures', 'id': 4}, {'na...                en   \n",
       "4  [{'name': 'Touchstone Pictures', 'id': 9195}, ...                en   \n",
       "\n",
       "                                                cast  \\\n",
       "0  [{'cast_id': 5, 'character': 'William Wallace'...   \n",
       "1  [{'cast_id': 9, 'character': 'Jim Carroll', 'c...   \n",
       "2  [{'cast_id': 5, 'character': 'Don Vito Corleon...   \n",
       "3  [{'cast_id': 8, 'character': 'Don Michael Corl...   \n",
       "4  [{'cast_id': 3, 'character': 'John Keating', '...   \n",
       "\n",
       "                                                crew  \n",
       "0  [{'credit_id': '52fe4225c3a36847f80079c1', 'de...  \n",
       "1  [{'credit_id': '52fe43779251416c7501167d', 'de...  \n",
       "2  [{'credit_id': '52fe422bc3a36847f80093db', 'de...  \n",
       "3  [{'credit_id': '52fe422bc3a36847f80094dd', 'de...  \n",
       "4  [{'credit_id': '52fe4227c3a36847f8008045', 'de...  "
      ]
     },
     "execution_count": 28,
     "metadata": {},
     "output_type": "execute_result"
    }
   ],
   "source": [
    "df.head()"
   ]
  },
  {
   "cell_type": "code",
   "execution_count": 29,
   "metadata": {},
   "outputs": [
    {
     "data": {
      "text/plain": [
       "(4532, 15)"
      ]
     },
     "execution_count": 29,
     "metadata": {},
     "output_type": "execute_result"
    }
   ],
   "source": [
    "# drop the row where revenue and budget both equal to 0\n",
    "df = df[(df['budget'] != '0') & (df['revenue']!=0)].reset_index(drop = True)\n",
    "df.shape"
   ]
  },
  {
   "cell_type": "markdown",
   "metadata": {},
   "source": [
    "### Convert Data Type"
   ]
  },
  {
   "cell_type": "code",
   "execution_count": 30,
   "metadata": {},
   "outputs": [],
   "source": [
    "# convert'budget' column from object to integer data type\n",
    "df['budget'] = df['budget'].astype('int64')"
   ]
  },
  {
   "cell_type": "markdown",
   "metadata": {},
   "source": [
    "### Create New Variables"
   ]
  },
  {
   "cell_type": "code",
   "execution_count": 31,
   "metadata": {},
   "outputs": [],
   "source": [
    "# convert 'release_date' to datetime object \n",
    "df['release_date'] = pd.to_datetime(df['release_date'])\n",
    "\n",
    "# extract the 'month' and 'year' from 'release_date'\n",
    "# replace missing values with zero\n",
    "df['month'] = df['release_date'].dt.month.astype(np.int64)\n",
    "df['year'] = df['release_date'].dt.year.astype(np.int64)\n",
    "df.drop(labels = 'release_date', axis = 1, inplace = True)"
   ]
  },
  {
   "cell_type": "code",
   "execution_count": 32,
   "metadata": {},
   "outputs": [
    {
     "name": "stdout",
     "output_type": "stream",
     "text": [
      "<class 'pandas.core.frame.DataFrame'>\n",
      "RangeIndex: 4532 entries, 0 to 4531\n",
      "Data columns (total 16 columns):\n",
      "id                      4532 non-null int64\n",
      "weighted_rating         4532 non-null float64\n",
      "votes_per_movie         4532 non-null int64\n",
      "average_rating          4532 non-null float64\n",
      "title                   4532 non-null object\n",
      "budget                  4532 non-null int64\n",
      "revenue                 4532 non-null float64\n",
      "runtime                 4532 non-null float64\n",
      "genres                  4532 non-null object\n",
      "production_countries    4532 non-null object\n",
      "production_companies    4532 non-null object\n",
      "original_language       4532 non-null object\n",
      "cast                    4532 non-null object\n",
      "crew                    4532 non-null object\n",
      "month                   4532 non-null int64\n",
      "year                    4532 non-null int64\n",
      "dtypes: float64(4), int64(5), object(7)\n",
      "memory usage: 566.6+ KB\n"
     ]
    },
    {
     "data": {
      "text/html": [
       "<div>\n",
       "<style scoped>\n",
       "    .dataframe tbody tr th:only-of-type {\n",
       "        vertical-align: middle;\n",
       "    }\n",
       "\n",
       "    .dataframe tbody tr th {\n",
       "        vertical-align: top;\n",
       "    }\n",
       "\n",
       "    .dataframe thead th {\n",
       "        text-align: right;\n",
       "    }\n",
       "</style>\n",
       "<table border=\"1\" class=\"dataframe\">\n",
       "  <thead>\n",
       "    <tr style=\"text-align: right;\">\n",
       "      <th></th>\n",
       "      <th>id</th>\n",
       "      <th>weighted_rating</th>\n",
       "      <th>votes_per_movie</th>\n",
       "      <th>average_rating</th>\n",
       "      <th>title</th>\n",
       "      <th>budget</th>\n",
       "      <th>revenue</th>\n",
       "      <th>runtime</th>\n",
       "      <th>genres</th>\n",
       "      <th>production_countries</th>\n",
       "      <th>production_companies</th>\n",
       "      <th>original_language</th>\n",
       "      <th>cast</th>\n",
       "      <th>crew</th>\n",
       "      <th>month</th>\n",
       "      <th>year</th>\n",
       "    </tr>\n",
       "  </thead>\n",
       "  <tbody>\n",
       "    <tr>\n",
       "      <th>3208</th>\n",
       "      <td>31522</td>\n",
       "      <td>3.624829</td>\n",
       "      <td>269</td>\n",
       "      <td>3.765799</td>\n",
       "      <td>A Woman Is a Woman</td>\n",
       "      <td>160000</td>\n",
       "      <td>100655.0</td>\n",
       "      <td>84.0</td>\n",
       "      <td>[{'id': 35, 'name': 'Comedy'}, {'id': 18, 'nam...</td>\n",
       "      <td>[{'iso_3166_1': 'FR', 'name': 'France'}, {'iso...</td>\n",
       "      <td>[{'name': 'Rome Paris Films', 'id': 109}, {'na...</td>\n",
       "      <td>fr</td>\n",
       "      <td>[{'cast_id': 3, 'character': 'Émile Récamier',...</td>\n",
       "      <td>[{'credit_id': '599463c29251415201003fe5', 'de...</td>\n",
       "      <td>9</td>\n",
       "      <td>1961</td>\n",
       "    </tr>\n",
       "    <tr>\n",
       "      <th>4321</th>\n",
       "      <td>23330</td>\n",
       "      <td>3.436431</td>\n",
       "      <td>162</td>\n",
       "      <td>3.592593</td>\n",
       "      <td>The Ballad of Cable Hogue</td>\n",
       "      <td>3716946</td>\n",
       "      <td>5000000.0</td>\n",
       "      <td>121.0</td>\n",
       "      <td>[{'id': 28, 'name': 'Action'}, {'id': 35, 'nam...</td>\n",
       "      <td>[{'iso_3166_1': 'US', 'name': 'United States o...</td>\n",
       "      <td>[{'name': 'Warner Bros.', 'id': 6194}]</td>\n",
       "      <td>en</td>\n",
       "      <td>[{'cast_id': 1, 'character': 'Cable Hogue', 'c...</td>\n",
       "      <td>[{'credit_id': '52fe4466c3a368484e020c49', 'de...</td>\n",
       "      <td>5</td>\n",
       "      <td>1970</td>\n",
       "    </tr>\n",
       "    <tr>\n",
       "      <th>1665</th>\n",
       "      <td>14736</td>\n",
       "      <td>3.402561</td>\n",
       "      <td>1160</td>\n",
       "      <td>3.422414</td>\n",
       "      <td>Love &amp; Basketball</td>\n",
       "      <td>20000000</td>\n",
       "      <td>27728118.0</td>\n",
       "      <td>124.0</td>\n",
       "      <td>[{'id': 28, 'name': 'Action'}, {'id': 35, 'nam...</td>\n",
       "      <td>[{'iso_3166_1': 'US', 'name': 'United States o...</td>\n",
       "      <td>[{'name': '40 Acres &amp; A Mule Filmworks', 'id':...</td>\n",
       "      <td>en</td>\n",
       "      <td>[{'cast_id': 1, 'character': 'Kelvin', 'credit...</td>\n",
       "      <td>[{'credit_id': '564a7c97c3a368602e0014c6', 'de...</td>\n",
       "      <td>4</td>\n",
       "      <td>2000</td>\n",
       "    </tr>\n",
       "    <tr>\n",
       "      <th>2615</th>\n",
       "      <td>96936</td>\n",
       "      <td>2.871937</td>\n",
       "      <td>523</td>\n",
       "      <td>2.847992</td>\n",
       "      <td>The Bling Ring</td>\n",
       "      <td>15000000</td>\n",
       "      <td>19145732.0</td>\n",
       "      <td>90.0</td>\n",
       "      <td>[{'id': 18, 'name': 'Drama'}, {'id': 80, 'name...</td>\n",
       "      <td>[{'iso_3166_1': 'US', 'name': 'United States o...</td>\n",
       "      <td>[{'name': 'Pathé Distribution', 'id': 3012}, {...</td>\n",
       "      <td>en</td>\n",
       "      <td>[{'cast_id': 17, 'character': 'Rebecca Ahn', '...</td>\n",
       "      <td>[{'credit_id': '52fe49c79251416c750d2f05', 'de...</td>\n",
       "      <td>6</td>\n",
       "      <td>2013</td>\n",
       "    </tr>\n",
       "    <tr>\n",
       "      <th>2099</th>\n",
       "      <td>6072</td>\n",
       "      <td>3.031040</td>\n",
       "      <td>801</td>\n",
       "      <td>3.028714</td>\n",
       "      <td>One Eight Seven</td>\n",
       "      <td>20000000</td>\n",
       "      <td>5716080.0</td>\n",
       "      <td>119.0</td>\n",
       "      <td>[{'id': 18, 'name': 'Drama'}, {'id': 53, 'name...</td>\n",
       "      <td>[{'iso_3166_1': 'US', 'name': 'United States o...</td>\n",
       "      <td>[{'name': 'Icon Entertainment International', ...</td>\n",
       "      <td>en</td>\n",
       "      <td>[{'cast_id': 1, 'character': 'Trevor Garfield'...</td>\n",
       "      <td>[{'credit_id': '59a16299c3a368481e028e1e', 'de...</td>\n",
       "      <td>7</td>\n",
       "      <td>1997</td>\n",
       "    </tr>\n",
       "  </tbody>\n",
       "</table>\n",
       "</div>"
      ],
      "text/plain": [
       "         id  weighted_rating  votes_per_movie  average_rating  \\\n",
       "3208  31522         3.624829              269        3.765799   \n",
       "4321  23330         3.436431              162        3.592593   \n",
       "1665  14736         3.402561             1160        3.422414   \n",
       "2615  96936         2.871937              523        2.847992   \n",
       "2099   6072         3.031040              801        3.028714   \n",
       "\n",
       "                          title    budget     revenue  runtime  \\\n",
       "3208         A Woman Is a Woman    160000    100655.0     84.0   \n",
       "4321  The Ballad of Cable Hogue   3716946   5000000.0    121.0   \n",
       "1665          Love & Basketball  20000000  27728118.0    124.0   \n",
       "2615             The Bling Ring  15000000  19145732.0     90.0   \n",
       "2099            One Eight Seven  20000000   5716080.0    119.0   \n",
       "\n",
       "                                                 genres  \\\n",
       "3208  [{'id': 35, 'name': 'Comedy'}, {'id': 18, 'nam...   \n",
       "4321  [{'id': 28, 'name': 'Action'}, {'id': 35, 'nam...   \n",
       "1665  [{'id': 28, 'name': 'Action'}, {'id': 35, 'nam...   \n",
       "2615  [{'id': 18, 'name': 'Drama'}, {'id': 80, 'name...   \n",
       "2099  [{'id': 18, 'name': 'Drama'}, {'id': 53, 'name...   \n",
       "\n",
       "                                   production_countries  \\\n",
       "3208  [{'iso_3166_1': 'FR', 'name': 'France'}, {'iso...   \n",
       "4321  [{'iso_3166_1': 'US', 'name': 'United States o...   \n",
       "1665  [{'iso_3166_1': 'US', 'name': 'United States o...   \n",
       "2615  [{'iso_3166_1': 'US', 'name': 'United States o...   \n",
       "2099  [{'iso_3166_1': 'US', 'name': 'United States o...   \n",
       "\n",
       "                                   production_companies original_language  \\\n",
       "3208  [{'name': 'Rome Paris Films', 'id': 109}, {'na...                fr   \n",
       "4321             [{'name': 'Warner Bros.', 'id': 6194}]                en   \n",
       "1665  [{'name': '40 Acres & A Mule Filmworks', 'id':...                en   \n",
       "2615  [{'name': 'Pathé Distribution', 'id': 3012}, {...                en   \n",
       "2099  [{'name': 'Icon Entertainment International', ...                en   \n",
       "\n",
       "                                                   cast  \\\n",
       "3208  [{'cast_id': 3, 'character': 'Émile Récamier',...   \n",
       "4321  [{'cast_id': 1, 'character': 'Cable Hogue', 'c...   \n",
       "1665  [{'cast_id': 1, 'character': 'Kelvin', 'credit...   \n",
       "2615  [{'cast_id': 17, 'character': 'Rebecca Ahn', '...   \n",
       "2099  [{'cast_id': 1, 'character': 'Trevor Garfield'...   \n",
       "\n",
       "                                                   crew  month  year  \n",
       "3208  [{'credit_id': '599463c29251415201003fe5', 'de...      9  1961  \n",
       "4321  [{'credit_id': '52fe4466c3a368484e020c49', 'de...      5  1970  \n",
       "1665  [{'credit_id': '564a7c97c3a368602e0014c6', 'de...      4  2000  \n",
       "2615  [{'credit_id': '52fe49c79251416c750d2f05', 'de...      6  2013  \n",
       "2099  [{'credit_id': '59a16299c3a368481e028e1e', 'de...      7  1997  "
      ]
     },
     "execution_count": 32,
     "metadata": {},
     "output_type": "execute_result"
    }
   ],
   "source": [
    "# exmine the result\n",
    "df.info()\n",
    "df.sample(5)"
   ]
  },
  {
   "cell_type": "markdown",
   "metadata": {},
   "source": [
    "### Extract Nested Values\n",
    "- Columns including 'genres', 'procudtion_countries', 'production_companies', 'cast' and 'crew' are stored in JSON format. "
   ]
  },
  {
   "cell_type": "code",
   "execution_count": 33,
   "metadata": {},
   "outputs": [],
   "source": [
    "from ast import literal_eval"
   ]
  },
  {
   "cell_type": "code",
   "execution_count": 34,
   "metadata": {},
   "outputs": [],
   "source": [
    "# extract director from the crew colum\n",
    "def get_director(x):\n",
    "    for i in x:\n",
    "        if i['job'] == 'Director':\n",
    "            return i['name']\n",
    "df['director'] = df['crew'].apply(literal_eval).apply(get_director)\n",
    "df.drop(columns=['crew'], inplace = True)"
   ]
  },
  {
   "cell_type": "code",
   "execution_count": 35,
   "metadata": {},
   "outputs": [],
   "source": [
    "# extract the main production country\n",
    "df.production_countries = df.production_countries.fillna('[]').apply(literal_eval).apply(lambda x: [i['name'] for i in x] if isinstance(x, list) else [])\n",
    "df.production_countries = df.production_countries.apply(lambda x: \"\" if len(x) == 0 else x[0])"
   ]
  },
  {
   "cell_type": "code",
   "execution_count": 36,
   "metadata": {},
   "outputs": [],
   "source": [
    "# convert genres and only get the top 3 genres\n",
    "df.genres = df.genres.apply(literal_eval).apply(lambda x: [i['name'] for i in x] if isinstance(x, list) else [])\n",
    "df.genres = df.genres.apply(lambda x: x[:3] if len(x) >=3 else x)"
   ]
  },
  {
   "cell_type": "code",
   "execution_count": 37,
   "metadata": {},
   "outputs": [],
   "source": [
    "# extract the main production country\n",
    "df.production_companies = df.production_companies.fillna('[]').apply(literal_eval).apply(lambda x: [i['name'] for i in x] if isinstance(x, list) else [])\n",
    "df.production_companies = df.production_companies.apply(lambda x: \"\" if len(x) == 0 else x[0])"
   ]
  },
  {
   "cell_type": "code",
   "execution_count": 38,
   "metadata": {},
   "outputs": [],
   "source": [
    "# convert cast and only get the top 3 actors/actess\n",
    "df.cast = df.cast.apply(literal_eval).apply(lambda x: [i['name'] for i in x] if isinstance(x, list) else [])\n",
    "df.cast = df.cast.apply(lambda x: x[:3] if len(x) >=3 else x)"
   ]
  },
  {
   "cell_type": "markdown",
   "metadata": {},
   "source": [
    "# Exploratory Data Analysis"
   ]
  },
  {
   "cell_type": "markdown",
   "metadata": {},
   "source": [
    "## Target Variable"
   ]
  },
  {
   "cell_type": "markdown",
   "metadata": {},
   "source": [
    "### What's the frequency distribution of weighted rating per movie?"
   ]
  },
  {
   "cell_type": "code",
   "execution_count": 39,
   "metadata": {},
   "outputs": [],
   "source": [
    "import statsmodels.api as sm\n",
    "import scipy "
   ]
  },
  {
   "cell_type": "code",
   "execution_count": 40,
   "metadata": {},
   "outputs": [
    {
     "data": {
      "text/plain": [
       "count    4532.000000\n",
       "mean        3.239290\n",
       "std         0.451903\n",
       "min         1.256012\n",
       "25%         2.944909\n",
       "50%         3.261477\n",
       "75%         3.564859\n",
       "max         4.428007\n",
       "Name: weighted_rating, dtype: float64"
      ]
     },
     "execution_count": 40,
     "metadata": {},
     "output_type": "execute_result"
    },
    {
     "data": {
      "image/png": "[encoded data removed]",
      "text/plain": [
       "<Figure size 432x288 with 1 Axes>"
      ]
     },
     "metadata": {
      "needs_background": "light"
     },
     "output_type": "display_data"
    }
   ],
   "source": [
    "# plot a histogram to show the frequency distribution of weighted rating per movie\n",
    "df['weighted_rating'].hist(bins=30) \n",
    "plt.title('Frequency Distribution0of Movie Weighted Ratings')\n",
    "plt.xlabel('score interval')\n",
    "plt.ylabel('frequency (number of movies)')\n",
    "df.weighted_rating.describe()"
   ]
  },
  {
   "cell_type": "markdown",
   "metadata": {},
   "source": [
    "**Findings**\n",
    "- The average rating per movie is normally distributed, with majority of movies score in the middle (between 3-3.5) and less receiving high score above 4 and low below 2."
   ]
  },
  {
   "cell_type": "code",
   "execution_count": 41,
   "metadata": {},
   "outputs": [
    {
     "data": {
      "text/html": [
       "<div>\n",
       "<style scoped>\n",
       "    .dataframe tbody tr th:only-of-type {\n",
       "        vertical-align: middle;\n",
       "    }\n",
       "\n",
       "    .dataframe tbody tr th {\n",
       "        vertical-align: top;\n",
       "    }\n",
       "\n",
       "    .dataframe thead th {\n",
       "        text-align: right;\n",
       "    }\n",
       "</style>\n",
       "<table border=\"1\" class=\"dataframe\">\n",
       "  <thead>\n",
       "    <tr style=\"text-align: right;\">\n",
       "      <th></th>\n",
       "      <th>title</th>\n",
       "      <th>weighted_rating</th>\n",
       "      <th>average_rating</th>\n",
       "      <th>votes_per_movie</th>\n",
       "    </tr>\n",
       "  </thead>\n",
       "  <tbody>\n",
       "    <tr>\n",
       "      <th>121</th>\n",
       "      <td>The Shawshank Redemption</td>\n",
       "      <td>4.428007</td>\n",
       "      <td>4.429015</td>\n",
       "      <td>91082</td>\n",
       "    </tr>\n",
       "    <tr>\n",
       "      <th>1</th>\n",
       "      <td>The Godfather</td>\n",
       "      <td>4.338309</td>\n",
       "      <td>4.339811</td>\n",
       "      <td>57070</td>\n",
       "    </tr>\n",
       "    <tr>\n",
       "      <th>457</th>\n",
       "      <td>The Usual Suspects</td>\n",
       "      <td>4.298787</td>\n",
       "      <td>4.300189</td>\n",
       "      <td>59271</td>\n",
       "    </tr>\n",
       "    <tr>\n",
       "      <th>44</th>\n",
       "      <td>Schindler's List</td>\n",
       "      <td>4.265336</td>\n",
       "      <td>4.266531</td>\n",
       "      <td>67662</td>\n",
       "    </tr>\n",
       "    <tr>\n",
       "      <th>2</th>\n",
       "      <td>The Godfather: Part II</td>\n",
       "      <td>4.261279</td>\n",
       "      <td>4.263475</td>\n",
       "      <td>36679</td>\n",
       "    </tr>\n",
       "    <tr>\n",
       "      <th>195</th>\n",
       "      <td>Seven Samurai</td>\n",
       "      <td>4.249374</td>\n",
       "      <td>4.255074</td>\n",
       "      <td>13994</td>\n",
       "    </tr>\n",
       "    <tr>\n",
       "      <th>7</th>\n",
       "      <td>Fight Club</td>\n",
       "      <td>4.229409</td>\n",
       "      <td>4.230716</td>\n",
       "      <td>60024</td>\n",
       "    </tr>\n",
       "    <tr>\n",
       "      <th>482</th>\n",
       "      <td>Rear Window</td>\n",
       "      <td>4.228878</td>\n",
       "      <td>4.232552</td>\n",
       "      <td>21335</td>\n",
       "    </tr>\n",
       "    <tr>\n",
       "      <th>104</th>\n",
       "      <td>One Flew Over the Cuckoo's Nest</td>\n",
       "      <td>4.227183</td>\n",
       "      <td>4.229135</td>\n",
       "      <td>40103</td>\n",
       "    </tr>\n",
       "    <tr>\n",
       "      <th>1250</th>\n",
       "      <td>12 Angry Men</td>\n",
       "      <td>4.226578</td>\n",
       "      <td>4.231209</td>\n",
       "      <td>16896</td>\n",
       "    </tr>\n",
       "  </tbody>\n",
       "</table>\n",
       "</div>"
      ],
      "text/plain": [
       "                                title  weighted_rating  average_rating  \\\n",
       "121          The Shawshank Redemption         4.428007        4.429015   \n",
       "1                       The Godfather         4.338309        4.339811   \n",
       "457                The Usual Suspects         4.298787        4.300189   \n",
       "44                   Schindler's List         4.265336        4.266531   \n",
       "2              The Godfather: Part II         4.261279        4.263475   \n",
       "195                     Seven Samurai         4.249374        4.255074   \n",
       "7                          Fight Club         4.229409        4.230716   \n",
       "482                       Rear Window         4.228878        4.232552   \n",
       "104   One Flew Over the Cuckoo's Nest         4.227183        4.229135   \n",
       "1250                     12 Angry Men         4.226578        4.231209   \n",
       "\n",
       "      votes_per_movie  \n",
       "121             91082  \n",
       "1               57070  \n",
       "457             59271  \n",
       "44              67662  \n",
       "2               36679  \n",
       "195             13994  \n",
       "7               60024  \n",
       "482             21335  \n",
       "104             40103  \n",
       "1250            16896  "
      ]
     },
     "execution_count": 41,
     "metadata": {},
     "output_type": "execute_result"
    }
   ],
   "source": [
    "# list out the Top 10 highly-scored movies\n",
    "df[['title','weighted_rating','average_rating','votes_per_movie']].sort_values(by = 'weighted_rating', ascending=False)[:10]"
   ]
  },
  {
   "cell_type": "markdown",
   "metadata": {},
   "source": [
    "### How do users tend to rate a movie?"
   ]
  },
  {
   "cell_type": "code",
   "execution_count": 42,
   "metadata": {},
   "outputs": [
    {
     "data": {
      "text/plain": [
       "count    2.602429e+07\n",
       "mean     3.528090e+00\n",
       "std      1.065443e+00\n",
       "min      5.000000e-01\n",
       "25%      3.000000e+00\n",
       "50%      3.500000e+00\n",
       "75%      4.000000e+00\n",
       "max      5.000000e+00\n",
       "Name: rating, dtype: float64"
      ]
     },
     "execution_count": 42,
     "metadata": {},
     "output_type": "execute_result"
    },
    {
     "data": {
      "image/png": "[encoded data removed]",
      "text/plain": [
       "<Figure size 432x288 with 1 Axes>"
      ]
     },
     "metadata": {
      "needs_background": "light"
     },
     "output_type": "display_data"
    }
   ],
   "source": [
    "# calculate the distribution of each rating interval, ranging from 0.5 to 5\n",
    "ratings.groupby('rating').size().plot(kind = 'bar')\n",
    "plt.title(\"Users' Tendecy Rating\")\n",
    "plt.xlabel('score scale')\n",
    "plt.ylabel('frequency (number of rates)')\n",
    "\n",
    "ratings.rating.describe()"
   ]
  },
  {
   "cell_type": "markdown",
   "metadata": {},
   "source": [
    "**Findings**\n",
    "- Users are more generous than I expect. They tend to give more high scores (above 3) rather than low scores. "
   ]
  },
  {
   "cell_type": "markdown",
   "metadata": {},
   "source": [
    "### Numerical Variables"
   ]
  },
  {
   "cell_type": "markdown",
   "metadata": {},
   "source": [
    "#### How many ratings a movie receive?"
   ]
  },
  {
   "cell_type": "code",
   "execution_count": 43,
   "metadata": {},
   "outputs": [
    {
     "name": "stdout",
     "output_type": "stream",
     "text": [
      "91921\n",
      "67\n"
     ]
    }
   ],
   "source": [
    "print (df.votes_per_movie.max())\n",
    "print (df.votes_per_movie.min())"
   ]
  },
  {
   "cell_type": "code",
   "execution_count": 44,
   "metadata": {},
   "outputs": [
    {
     "data": {
      "text/plain": [
       "count     4532.000000\n",
       "mean      4522.890997\n",
       "std       8346.593498\n",
       "min         67.000000\n",
       "25%        421.000000\n",
       "50%       1334.500000\n",
       "75%       4836.000000\n",
       "max      91921.000000\n",
       "Name: votes_per_movie, dtype: float64"
      ]
     },
     "execution_count": 44,
     "metadata": {},
     "output_type": "execute_result"
    },
    {
     "data": {
      "image/png": "[encoded data removed]",
      "text/plain": [
       "<Figure size 432x288 with 1 Axes>"
      ]
     },
     "metadata": {
      "needs_background": "light"
     },
     "output_type": "display_data"
    }
   ],
   "source": [
    "np.log(df.votes_per_movie).hist()\n",
    "plt.title('Frequency Distribution of Votes Per Movie')\n",
    "plt.xlabel('number of votes (log)')\n",
    "plt.ylabel('frequency (number of movies)')\n",
    "\n",
    "df.votes_per_movie.describe()"
   ]
  },
  {
   "cell_type": "code",
   "execution_count": 45,
   "metadata": {},
   "outputs": [
    {
     "data": {
      "text/plain": [
       "'Forrest Gump'"
      ]
     },
     "execution_count": 45,
     "metadata": {},
     "output_type": "execute_result"
    }
   ],
   "source": [
    "# get the row of max value in votes_per_movie\n",
    "df.loc[df['votes_per_movie'].idxmax()]['title']"
   ]
  },
  {
   "cell_type": "markdown",
   "metadata": {},
   "source": [
    "**Findings**\n",
    "- The distribution of votes per movie is skewed to the right, with mean (4522) larger than median (1334). There are outliers with large number of votes observed, which in our case, is 'Forrest Gump'."
   ]
  },
  {
   "cell_type": "markdown",
   "metadata": {},
   "source": [
    "### What's the data distribution of budget?\n",
    "- Does the budget of each movie vary dramatically? \n",
    "- What's the budget for majority of movies?"
   ]
  },
  {
   "cell_type": "code",
   "execution_count": 46,
   "metadata": {},
   "outputs": [
    {
     "data": {
      "text/plain": [
       "count    4.532000e+03\n",
       "mean     3.519690e+07\n",
       "std      4.205381e+07\n",
       "min      1.000000e+00\n",
       "25%      7.500000e+06\n",
       "50%      2.000000e+07\n",
       "75%      4.500000e+07\n",
       "max      3.800000e+08\n",
       "Name: budget, dtype: float64"
      ]
     },
     "execution_count": 46,
     "metadata": {},
     "output_type": "execute_result"
    },
    {
     "data": {
      "image/png": "[encoded data removed]",
      "text/plain": [
       "<Figure size 432x288 with 1 Axes>"
      ]
     },
     "metadata": {
      "needs_background": "light"
     },
     "output_type": "display_data"
    }
   ],
   "source": [
    "# log the budget value\n",
    "ax = np.log(df.budget).hist(bins=50) \n",
    "plt.title('Frequency Distribution of Budget')\n",
    "plt.xlabel('budget (log)')\n",
    "plt.ylabel('number of movies')\n",
    "\n",
    "df.budget.describe()"
   ]
  },
  {
   "cell_type": "markdown",
   "metadata": {},
   "source": [
    "#### Movies with higher budget can have better result? Any low budget movies turn out to be blockbusters?"
   ]
  },
  {
   "cell_type": "code",
   "execution_count": 47,
   "metadata": {},
   "outputs": [
    {
     "data": {
      "image/png": "[encoded data removed]",
      "text/plain": [
       "<Figure size 432x288 with 1 Axes>"
      ]
     },
     "metadata": {
      "needs_background": "light"
     },
     "output_type": "display_data"
    },
    {
     "name": "stdout",
     "output_type": "stream",
     "text": [
      "correlation:-0.155, p-value0.000\n"
     ]
    }
   ],
   "source": [
    "# plot the budget versus weighted rating\n",
    "ax = plt.plot(np.log(df.budget),df.weighted_rating, 'o', markersize = 2, alpha = 0.2)\n",
    "plt.title('Relationship between budget and rating')\n",
    "plt.xlabel('budget (log)')\n",
    "plt.ylabel('rating scale')\n",
    "\n",
    "# perform a linear regrssion using np.polyfit()\n",
    "slope, intercept = np.polyfit(np.log(df.budget), df.weighted_rating, 1)\n",
    "# make theoretical line to plot\n",
    "x = np.array([0, 20])\n",
    "y = slope * x + intercept\n",
    "# add regression line\n",
    "ax = plt.plot(x,y)\n",
    "\n",
    "plt.show()\n",
    "\n",
    "# calculate correlation value\n",
    "corr,p = scipy.stats.pearsonr(np.log(df.budget), df.weighted_rating)\n",
    "print (\"correlation:%.3f, p-value%.3f\" %(corr,p))"
   ]
  },
  {
   "cell_type": "markdown",
   "metadata": {},
   "source": [
    "### What's the data distribution of revenue?"
   ]
  },
  {
   "cell_type": "code",
   "execution_count": 48,
   "metadata": {},
   "outputs": [
    {
     "data": {
      "text/plain": [
       "count    4.532000e+03\n",
       "mean     1.042532e+08\n",
       "std      1.767411e+08\n",
       "min      1.000000e+00\n",
       "25%      1.158752e+07\n",
       "50%      4.015428e+07\n",
       "75%      1.181082e+08\n",
       "max      2.787965e+09\n",
       "Name: revenue, dtype: float64"
      ]
     },
     "execution_count": 48,
     "metadata": {},
     "output_type": "execute_result"
    },
    {
     "data": {
      "image/png": "[encoded data removed]",
      "text/plain": [
       "<Figure size 432x288 with 1 Axes>"
      ]
     },
     "metadata": {
      "needs_background": "light"
     },
     "output_type": "display_data"
    }
   ],
   "source": [
    "# log the revenue value\n",
    "ax = np.log(df.revenue).hist(bins=50) \n",
    "plt.title('Frequency Distribution of Revenue')\n",
    "plt.xlabel('revenue (log)')\n",
    "plt.ylabel('number of movies')\n",
    "\n",
    "df.revenue.describe()"
   ]
  },
  {
   "cell_type": "code",
   "execution_count": 49,
   "metadata": {},
   "outputs": [
    {
     "data": {
      "text/plain": [
       "count    4.532000e+03\n",
       "mean     1.042532e+08\n",
       "std      1.767411e+08\n",
       "min      1.000000e+00\n",
       "25%      1.158752e+07\n",
       "50%      4.015428e+07\n",
       "75%      1.181082e+08\n",
       "max      2.787965e+09\n",
       "Name: revenue, dtype: float64"
      ]
     },
     "execution_count": 49,
     "metadata": {},
     "output_type": "execute_result"
    },
    {
     "data": {
      "image/png": "[encoded data removed]",
      "text/plain": [
       "<Figure size 432x288 with 1 Axes>"
      ]
     },
     "metadata": {
      "needs_background": "light"
     },
     "output_type": "display_data"
    }
   ],
   "source": [
    "# log the revenue value\n",
    "ax = np.log(df.revenue).hist(bins=50) \n",
    "plt.title('Frequency Distribution of Revenue')\n",
    "plt.xlabel('revenue (log)')\n",
    "plt.ylabel('number of movies')\n",
    "\n",
    "df.revenue.describe()"
   ]
  },
  {
   "cell_type": "code",
   "execution_count": 50,
   "metadata": {},
   "outputs": [
    {
     "data": {
      "image/png": "[encoded data removed]",
      "text/plain": [
       "<Figure size 432x288 with 1 Axes>"
      ]
     },
     "metadata": {
      "needs_background": "light"
     },
     "output_type": "display_data"
    },
    {
     "name": "stdout",
     "output_type": "stream",
     "text": [
      "correlation:0.020, p-value0.176\n"
     ]
    }
   ],
   "source": [
    "# plot the revenue versus weighted rating\n",
    "ax = plt.plot(np.log(df.revenue),df.weighted_rating, 'o', markersize = 2, alpha = 0.2)\n",
    "plt.title('Relationship between revenue and rating')\n",
    "plt.xlabel('revenue (log)')\n",
    "plt.ylabel('rating scale')\n",
    "\n",
    "# perform a linear regrssion using np.polyfit()\n",
    "slope, intercept = np.polyfit(np.log(df.revenue), df.weighted_rating, 1)\n",
    "# make theoretical line to plot\n",
    "x = np.array([0, 22])\n",
    "y = slope * x + intercept\n",
    "# add regression line\n",
    "ax = plt.plot(x,y)\n",
    "\n",
    "plt.show()\n",
    "\n",
    "# calculate correlation value\n",
    "corr, p = scipy.stats.pearsonr(np.log(df.revenue), df.weighted_rating)\n",
    "print (\"correlation:%.3f, p-value%.3f\" %(corr,p))"
   ]
  },
  {
   "cell_type": "markdown",
   "metadata": {},
   "source": [
    "#### runtime"
   ]
  },
  {
   "cell_type": "code",
   "execution_count": 51,
   "metadata": {
    "scrolled": false
   },
   "outputs": [
    {
     "data": {
      "text/plain": [
       "count    4532.000000\n",
       "mean      109.906664\n",
       "std        20.918743\n",
       "min        42.000000\n",
       "25%        96.000000\n",
       "50%       106.000000\n",
       "75%       120.000000\n",
       "max       338.000000\n",
       "Name: runtime, dtype: float64"
      ]
     },
     "execution_count": 51,
     "metadata": {},
     "output_type": "execute_result"
    },
    {
     "data": {
      "image/png": "[encoded data removed]",
      "text/plain": [
       "<Figure size 432x288 with 1 Axes>"
      ]
     },
     "metadata": {
      "needs_background": "light"
     },
     "output_type": "display_data"
    }
   ],
   "source": [
    "# filter the data with zero-runtime\n",
    "runtime_to_plot = df[df.runtime != 0]['runtime']\n",
    "\n",
    "# log the budget value\n",
    "ax = runtime_to_plot.hist(bins=50) \n",
    "ax.set_title('Frequency Distribution of Movie Runtime')\n",
    "ax.set_xlabel('runtime (mins)')\n",
    "ax.set_ylabel('number of movies')\n",
    "\n",
    "runtime_to_plot.describe()\n",
    "\n",
    "## zoom in "
   ]
  },
  {
   "cell_type": "code",
   "execution_count": 52,
   "metadata": {},
   "outputs": [
    {
     "data": {
      "image/png": "[encoded data removed]",
      "text/plain": [
       "<Figure size 432x288 with 1 Axes>"
      ]
     },
     "metadata": {
      "needs_background": "light"
     },
     "output_type": "display_data"
    },
    {
     "name": "stdout",
     "output_type": "stream",
     "text": [
      "correlation:0.348, p-value0.000\n"
     ]
    }
   ],
   "source": [
    "# plot the revenue versus weighted rating\n",
    "ax = plt.plot(df.runtime ,df.weighted_rating, 'o', markersize = 2, alpha = 0.2)\n",
    "plt.title('Relationship between runtime and rating')\n",
    "plt.xlabel('runtime')\n",
    "plt.ylabel('rating scale')\n",
    "\n",
    "# perform a linear regrssion using np.polyfit()\n",
    "slope, intercept = np.polyfit(df.runtime, df.weighted_rating, 1)\n",
    "# make theoretical line to plot\n",
    "x = np.array([0, 340])\n",
    "y = slope * x + intercept\n",
    "# add regression line\n",
    "ax = plt.plot(x,y)\n",
    "\n",
    "plt.show()\n",
    "\n",
    "# calculate correlation value\n",
    "corr,p = scipy.stats.pearsonr(df.runtime, df.weighted_rating)\n",
    "print (\"correlation:%.3f, p-value%.3f\" %(corr,p))\n",
    "# 95% confidence in the relationship between features"
   ]
  },
  {
   "cell_type": "markdown",
   "metadata": {},
   "source": [
    "## Categorical Variables"
   ]
  },
  {
   "cell_type": "code",
   "execution_count": 53,
   "metadata": {},
   "outputs": [
    {
     "data": {
      "text/plain": [
       "id                        int64\n",
       "weighted_rating         float64\n",
       "votes_per_movie           int64\n",
       "average_rating          float64\n",
       "title                    object\n",
       "budget                    int64\n",
       "revenue                 float64\n",
       "runtime                 float64\n",
       "genres                   object\n",
       "production_countries     object\n",
       "production_companies     object\n",
       "original_language        object\n",
       "cast                     object\n",
       "month                     int64\n",
       "year                      int64\n",
       "director                 object\n",
       "dtype: object"
      ]
     },
     "execution_count": 53,
     "metadata": {},
     "output_type": "execute_result"
    }
   ],
   "source": [
    "df.dtypes"
   ]
  },
  {
   "cell_type": "markdown",
   "metadata": {},
   "source": [
    "### Does release timing affect the ratings?"
   ]
  },
  {
   "cell_type": "code",
   "execution_count": 54,
   "metadata": {},
   "outputs": [
    {
     "data": {
      "text/plain": [
       "count    4532.000000\n",
       "mean        6.989409\n",
       "std         3.377633\n",
       "min         1.000000\n",
       "25%         4.000000\n",
       "50%         7.000000\n",
       "75%        10.000000\n",
       "max        12.000000\n",
       "Name: month, dtype: float64"
      ]
     },
     "execution_count": 54,
     "metadata": {},
     "output_type": "execute_result"
    },
    {
     "data": {
      "image/png": "[encoded data removed]",
      "text/plain": [
       "<Figure size 432x288 with 1 Axes>"
      ]
     },
     "metadata": {
      "needs_background": "light"
     },
     "output_type": "display_data"
    }
   ],
   "source": [
    "df['month'].value_counts().sort_index().plot(kind='bar')\n",
    "plt.title('Frequency Distribution of Movie Released Month')\n",
    "plt.xlabel('month')\n",
    "plt.ylabel('number of movies')\n",
    "df.month.describe()"
   ]
  },
  {
   "cell_type": "code",
   "execution_count": 55,
   "metadata": {
    "scrolled": false
   },
   "outputs": [
    {
     "data": {
      "text/plain": [
       "Text(0, 0.5, 'ratings')"
      ]
     },
     "execution_count": 55,
     "metadata": {},
     "output_type": "execute_result"
    },
    {
     "data": {
      "image/png": "[encoded data removed]",
      "text/plain": [
       "<Figure size 864x432 with 1 Axes>"
      ]
     },
     "metadata": {
      "needs_background": "light"
     },
     "output_type": "display_data"
    }
   ],
   "source": [
    "df.boxplot(by='month', column = 'weighted_rating', figsize=(12,6),\n",
    "                    widths=0.5, showfliers=False)\n",
    "plt.title('Relationship between released month and ratings')\n",
    "plt.xlabel('month')\n",
    "plt.ylabel('ratings')"
   ]
  },
  {
   "cell_type": "markdown",
   "metadata": {},
   "source": [
    "**Findings**\n",
    "- No significant difference in median point among movies released in different months."
   ]
  },
  {
   "cell_type": "markdown",
   "metadata": {},
   "source": [
    "### Do new movies receive higher scores?"
   ]
  },
  {
   "cell_type": "code",
   "execution_count": 56,
   "metadata": {},
   "outputs": [
    {
     "data": {
      "text/plain": [
       "count    4532.000000\n",
       "mean     1999.172109\n",
       "std        15.115941\n",
       "min      1915.000000\n",
       "25%      1993.000000\n",
       "50%      2003.000000\n",
       "75%      2010.000000\n",
       "max      2017.000000\n",
       "Name: year, dtype: float64"
      ]
     },
     "execution_count": 56,
     "metadata": {},
     "output_type": "execute_result"
    },
    {
     "data": {
      "image/png": "[encoded data removed]",
      "text/plain": [
       "<Figure size 432x288 with 1 Axes>"
      ]
     },
     "metadata": {
      "needs_background": "light"
     },
     "output_type": "display_data"
    }
   ],
   "source": [
    "# plot histogram\n",
    "df.hist(column='year', bins = 50)\n",
    "plt.title('Frequency Distribution of Movie Released Year')\n",
    "plt.xlabel('year')\n",
    "plt.ylabel('number of movies')\n",
    "df.year.describe()"
   ]
  },
  {
   "cell_type": "code",
   "execution_count": 57,
   "metadata": {},
   "outputs": [
    {
     "data": {
      "text/plain": [
       "Text(0, 0.5, 'rating scale')"
      ]
     },
     "execution_count": 57,
     "metadata": {},
     "output_type": "execute_result"
    },
    {
     "data": {
      "image/png": "[encoded data removed]",
      "text/plain": [
       "<Figure size 432x288 with 1 Axes>"
      ]
     },
     "metadata": {
      "needs_background": "light"
     },
     "output_type": "display_data"
    }
   ],
   "source": [
    "# plot the year versus weighted rating\n",
    "ax = plt.plot(df.year ,df.weighted_rating, 'o', markersize = 2, alpha = 0.2)\n",
    "plt.title('Relationship between year and rating')\n",
    "plt.xlabel('year')\n",
    "plt.ylabel('rating scale')"
   ]
  },
  {
   "cell_type": "markdown",
   "metadata": {},
   "source": [
    "### What are the countries that dominate the movie industry?"
   ]
  },
  {
   "cell_type": "code",
   "execution_count": 58,
   "metadata": {},
   "outputs": [],
   "source": [
    "# ignore 19 missing observations and take only the 10 countries with the most productions\n",
    "countries = df[df['production_countries'].map(len) > 0]['production_countries'].value_counts()[:10]"
   ]
  },
  {
   "cell_type": "code",
   "execution_count": 59,
   "metadata": {},
   "outputs": [
    {
     "data": {
      "text/plain": [
       "United States of America    3123\n",
       "United Kingdom               355\n",
       "France                       178\n",
       "Germany                      174\n",
       "Canada                       172\n",
       "Australia                     83\n",
       "Japan                         54\n",
       "Spain                         34\n",
       "India                         33\n",
       "Italy                         33\n",
       "Name: production_countries, dtype: int64"
      ]
     },
     "execution_count": 59,
     "metadata": {},
     "output_type": "execute_result"
    },
    {
     "data": {
      "image/png": "[encoded data removed]",
      "text/plain": [
       "<Figure size 432x288 with 1 Axes>"
      ]
     },
     "metadata": {
      "needs_background": "light"
     },
     "output_type": "display_data"
    }
   ],
   "source": [
    "# bar plot\n",
    "countries.sort_values().plot.barh()\n",
    "plt.xlabel('number of movies')\n",
    "plt.ylabel('country name')\n",
    "plt.title('USA as the movie-making capital ')\n",
    "countries.sort_values(ascending = False)"
   ]
  },
  {
   "cell_type": "code",
   "execution_count": 60,
   "metadata": {},
   "outputs": [],
   "source": [
    "# select the top 5 countries with the most productions\n",
    "top_countries = (df['production_countries'] == 'United States of America') | (df['production_countries']== 'United Kingdom') | (df['production_countries']== 'France') | (df['production_countries']== 'Germany')| (df['production_countries']== 'Canada')\n",
    "countries_to_plot = df[top_countries]"
   ]
  },
  {
   "cell_type": "code",
   "execution_count": 61,
   "metadata": {},
   "outputs": [
    {
     "data": {
      "text/plain": [
       "Text(0, 0.5, 'ratings')"
      ]
     },
     "execution_count": 61,
     "metadata": {},
     "output_type": "execute_result"
    },
    {
     "data": {
      "image/png": "[encoded data removed]",
      "text/plain": [
       "<Figure size 1440x576 with 1 Axes>"
      ]
     },
     "metadata": {
      "needs_background": "light"
     },
     "output_type": "display_data"
    }
   ],
   "source": [
    "# plot the relationship between countries and rating\n",
    "countries_to_plot.boxplot(by='production_countries', column = 'weighted_rating', figsize=(20,8),\n",
    "                    widths=0.5, showfliers=False)\n",
    "plt.title('Relationship between countries and ratings')\n",
    "plt.xlabel('country name')\n",
    "plt.ylabel('ratings')"
   ]
  },
  {
   "cell_type": "markdown",
   "metadata": {},
   "source": [
    "**Finding**\n",
    "- United States of America is the most dominant country. Its production numbers are way more than others and even nine times more than the second-ranking country, United Kingdom. \n",
    "- Since the production numbers vary a lot. Only top 5 countries with the most productions are being considered when passing into the model."
   ]
  },
  {
   "cell_type": "markdown",
   "metadata": {},
   "source": [
    "### What are the big brands that dominate the movie industry?"
   ]
  },
  {
   "cell_type": "code",
   "execution_count": 62,
   "metadata": {},
   "outputs": [],
   "source": [
    "# ignore missing observations and take only the 10 companies with the most productions\n",
    "companies = df[df['production_companies'].map(len) > 0]['production_companies'].value_counts()[:10]"
   ]
  },
  {
   "cell_type": "code",
   "execution_count": 63,
   "metadata": {},
   "outputs": [
    {
     "data": {
      "text/plain": [
       "Paramount Pictures                        321\n",
       "Universal Pictures                        319\n",
       "Twentieth Century Fox Film Corporation    234\n",
       "Columbia Pictures                         206\n",
       "New Line Cinema                           160\n",
       "Walt Disney Pictures                      127\n",
       "Warner Bros.                              107\n",
       "Miramax Films                              86\n",
       "United Artists                             84\n",
       "Columbia Pictures Corporation              81\n",
       "Name: production_companies, dtype: int64"
      ]
     },
     "execution_count": 63,
     "metadata": {},
     "output_type": "execute_result"
    },
    {
     "data": {
      "image/png": "[encoded data removed]",
      "text/plain": [
       "<Figure size 432x288 with 1 Axes>"
      ]
     },
     "metadata": {
      "needs_background": "light"
     },
     "output_type": "display_data"
    }
   ],
   "source": [
    "companies.sort_values().plot.barh()\n",
    "plt.xlabel('number of movies')\n",
    "plt.ylabel('company name')\n",
    "plt.title('Most dominant movie companies ')\n",
    "companies.sort_values(ascending = False)"
   ]
  },
  {
   "cell_type": "code",
   "execution_count": 64,
   "metadata": {},
   "outputs": [],
   "source": [
    "# select the top 10 companies with the most productions\n",
    "top_companies = (df['production_companies'] == 'Paramount Pictures') | (df['production_companies']== 'Universal Pictures') | (df['production_companies']== 'Twentieth Century Fox Film Corporation') | (df['production_companies']== 'Columbia Pictures')| (df['production_companies']== 'New Line Cinema') | (df['production_companies'] == 'Walt Disney Pictures') | (df['production_companies'] == 'Warner Bros.') | (df['production_companies'] == 'Miramax Films') | (df['production_companies'] == 'United Artists') | (df['production_companies'] == 'Columbia Pictures Corporation')\n",
    "companies_to_plot = df[top_companies]"
   ]
  },
  {
   "cell_type": "code",
   "execution_count": 65,
   "metadata": {},
   "outputs": [
    {
     "data": {
      "text/plain": [
       "Text(0, 0.5, 'ratings')"
      ]
     },
     "execution_count": 65,
     "metadata": {},
     "output_type": "execute_result"
    },
    {
     "data": {
      "image/png": "[encoded data removed]",
      "text/plain": [
       "<Figure size 1440x576 with 1 Axes>"
      ]
     },
     "metadata": {
      "needs_background": "light"
     },
     "output_type": "display_data"
    }
   ],
   "source": [
    "# plot the relationship between countries and rating\n",
    "companies_to_plot.boxplot(by='production_companies', column = 'weighted_rating', figsize=(20,8),\n",
    "                    widths=0.5, showfliers=False)\n",
    "plt.title('Relationship between countries and ratings')\n",
    "plt.xlabel('country name')\n",
    "plt.ylabel('ratings')"
   ]
  },
  {
   "cell_type": "markdown",
   "metadata": {},
   "source": [
    "### Create Other Data Frames with Reshaping Methods\n",
    "- extract data stored in a list\n",
    "- in order to facilitate the visualization process\n",
    "- later on, we would like to have a data frame that calculates the average rating a genre receives"
   ]
  },
  {
   "cell_type": "code",
   "execution_count": 66,
   "metadata": {},
   "outputs": [],
   "source": [
    "# separate the list of genre types from genres column\n",
    "genres_df = pd.concat([df['genres'].apply(pd.Series),df['id']],axis=1)"
   ]
  },
  {
   "cell_type": "code",
   "execution_count": 67,
   "metadata": {},
   "outputs": [],
   "source": [
    "# keep all genre types within the same column\n",
    "genres_df = pd.melt(genres_df, id_vars='id',value_name='genre').drop(columns='variable').sort_values(by='id')"
   ]
  },
  {
   "cell_type": "code",
   "execution_count": 68,
   "metadata": {},
   "outputs": [],
   "source": [
    "genres_merge = pd.merge(genres_df,df[['weighted_rating','id']], on = 'id').sort_values(by=['id'])\n",
    "genres_merge = genres_merge[pd.notnull(genres_merge['genre'])]"
   ]
  },
  {
   "cell_type": "code",
   "execution_count": 69,
   "metadata": {},
   "outputs": [],
   "source": [
    "genre_count = pd.DataFrame(genres_merge.groupby('genre').count())\n",
    "genre_count.reset_index(inplace = True)\n",
    "genre_count.drop(columns = 'weighted_rating',inplace = True)\n",
    "genre_count.columns = ['genre','count']\n",
    "genre_count = genre_count.sort_values(by='count',ascending=True)"
   ]
  },
  {
   "cell_type": "markdown",
   "metadata": {},
   "source": [
    "### What types of movies have more productions?"
   ]
  },
  {
   "cell_type": "code",
   "execution_count": 70,
   "metadata": {
    "scrolled": false
   },
   "outputs": [
    {
     "data": {
      "image/png": "[encoded data removed]",
      "text/plain": [
       "<Figure size 432x288 with 1 Axes>"
      ]
     },
     "metadata": {
      "needs_background": "light"
     },
     "output_type": "display_data"
    }
   ],
   "source": [
    "# Plot total number of movies vs genre\n",
    "genre_count.plot.barh(x = 'genre', y = 'count')\n",
    "plt.xlabel('Number of movies')\n",
    "plt.ylabel('Genre')\n",
    "plt.title('Number of Movies by Genre')\n",
    "\n",
    "plt.show()"
   ]
  },
  {
   "cell_type": "markdown",
   "metadata": {},
   "source": [
    "### What's the relationship between genres and ratings"
   ]
  },
  {
   "cell_type": "code",
   "execution_count": 71,
   "metadata": {},
   "outputs": [
    {
     "data": {
      "text/plain": [
       "Text(0, 0.5, 'average_ratings')"
      ]
     },
     "execution_count": 71,
     "metadata": {},
     "output_type": "execute_result"
    },
    {
     "data": {
      "image/png": "[encoded data removed]",
      "text/plain": [
       "<Figure size 1440x576 with 1 Axes>"
      ]
     },
     "metadata": {
      "needs_background": "light"
     },
     "output_type": "display_data"
    }
   ],
   "source": [
    "genres_merge.boxplot(by='genre', column = 'weighted_rating', figsize=(20,8),\n",
    "                    widths=0.5, showfliers=False)\n",
    "plt.title('Relationship between genres and ratings')\n",
    "plt.xlabel('types of genres')\n",
    "plt.ylabel('average_ratings')\n",
    "\n",
    "## check if rating is smaller than one"
   ]
  },
  {
   "cell_type": "code",
   "execution_count": 72,
   "metadata": {},
   "outputs": [
    {
     "data": {
      "text/plain": [
       "0    [Action, Drama, History]\n",
       "1              [Drama, Crime]\n",
       "2              [Drama, Crime]\n",
       "3                     [Drama]\n",
       "4             [Comedy, Drama]\n",
       "Name: genres, dtype: object"
      ]
     },
     "execution_count": 72,
     "metadata": {},
     "output_type": "execute_result"
    }
   ],
   "source": [
    "df['genres'].head()"
   ]
  },
  {
   "cell_type": "markdown",
   "metadata": {},
   "source": [
    "## Correlation Matrix"
   ]
  },
  {
   "cell_type": "code",
   "execution_count": 73,
   "metadata": {},
   "outputs": [
    {
     "data": {
      "text/plain": [
       "<matplotlib.axes._subplots.AxesSubplot at 0x1a29bcc160>"
      ]
     },
     "execution_count": 73,
     "metadata": {},
     "output_type": "execute_result"
    },
    {
     "data": {
      "image/png": "[encoded data removed]",
      "text/plain": [
       "<Figure size 720x432 with 2 Axes>"
      ]
     },
     "metadata": {
      "needs_background": "light"
     },
     "output_type": "display_data"
    }
   ],
   "source": [
    "# select numerical variable\n",
    "df_numeric = df[['weighted_rating','votes_per_movie','budget','revenue','runtime','month','year']]\n",
    "\n",
    "# plot coorelation matrix\n",
    "k = 7 #number of variables for heatmap\n",
    "cols = df_numeric.corr().nlargest(k, 'weighted_rating')['weighted_rating'].index\n",
    "cm = df_numeric[cols].corr()\n",
    "plt.figure(figsize=(10,6))\n",
    "sns.heatmap(cm, annot=True, cmap = 'viridis')\n",
    "\n",
    "# more than 80 or 90 \n",
    "# no varialbe are highly related to each other"
   ]
  },
  {
   "cell_type": "markdown",
   "metadata": {},
   "source": [
    "# Hypothesis Testing"
   ]
  },
  {
   "cell_type": "markdown",
   "metadata": {},
   "source": [
    "We use hypothesis tests on 'month' and 'year', two similar variables related to movie release timing, to examine which one has the real influence on movie scores."
   ]
  },
  {
   "cell_type": "markdown",
   "metadata": {},
   "source": [
    "#### Using ANOVA-Test to examine if movie scores differ among month\n",
    "- Stating hypothesis\n",
    "    - H0: The mean of weighted ratings are the same among movies released in 12 months.\n",
    "    - H1: The mean of weighted ratings are different among movies released in 12 months.\n",
    "- Deciding significance level\n",
    "    - The significance level (α) is 0.05."
   ]
  },
  {
   "cell_type": "code",
   "execution_count": 74,
   "metadata": {},
   "outputs": [
    {
     "data": {
      "text/html": [
       "<div>\n",
       "<style scoped>\n",
       "    .dataframe tbody tr th:only-of-type {\n",
       "        vertical-align: middle;\n",
       "    }\n",
       "\n",
       "    .dataframe tbody tr th {\n",
       "        vertical-align: top;\n",
       "    }\n",
       "\n",
       "    .dataframe thead th {\n",
       "        text-align: right;\n",
       "    }\n",
       "</style>\n",
       "<table border=\"1\" class=\"dataframe\">\n",
       "  <thead>\n",
       "    <tr style=\"text-align: right;\">\n",
       "      <th></th>\n",
       "      <th>id</th>\n",
       "      <th>weighted_rating</th>\n",
       "      <th>votes_per_movie</th>\n",
       "      <th>average_rating</th>\n",
       "      <th>title</th>\n",
       "      <th>budget</th>\n",
       "      <th>revenue</th>\n",
       "      <th>runtime</th>\n",
       "      <th>genres</th>\n",
       "      <th>production_countries</th>\n",
       "      <th>...</th>\n",
       "      <th>Apr</th>\n",
       "      <th>May</th>\n",
       "      <th>Jun</th>\n",
       "      <th>Jul</th>\n",
       "      <th>Aug</th>\n",
       "      <th>Sep</th>\n",
       "      <th>Oct</th>\n",
       "      <th>Nov</th>\n",
       "      <th>Dec</th>\n",
       "      <th>intercept</th>\n",
       "    </tr>\n",
       "  </thead>\n",
       "  <tbody>\n",
       "    <tr>\n",
       "      <th>0</th>\n",
       "      <td>197</td>\n",
       "      <td>4.015094</td>\n",
       "      <td>66512</td>\n",
       "      <td>4.016057</td>\n",
       "      <td>Braveheart</td>\n",
       "      <td>72000000</td>\n",
       "      <td>210000000.0</td>\n",
       "      <td>177.0</td>\n",
       "      <td>[Action, Drama, History]</td>\n",
       "      <td>United States of America</td>\n",
       "      <td>...</td>\n",
       "      <td>0</td>\n",
       "      <td>1</td>\n",
       "      <td>0</td>\n",
       "      <td>0</td>\n",
       "      <td>0</td>\n",
       "      <td>0</td>\n",
       "      <td>0</td>\n",
       "      <td>0</td>\n",
       "      <td>0</td>\n",
       "      <td>1</td>\n",
       "    </tr>\n",
       "    <tr>\n",
       "      <th>1</th>\n",
       "      <td>238</td>\n",
       "      <td>4.338309</td>\n",
       "      <td>57070</td>\n",
       "      <td>4.339811</td>\n",
       "      <td>The Godfather</td>\n",
       "      <td>6000000</td>\n",
       "      <td>245066411.0</td>\n",
       "      <td>175.0</td>\n",
       "      <td>[Drama, Crime]</td>\n",
       "      <td>United States of America</td>\n",
       "      <td>...</td>\n",
       "      <td>0</td>\n",
       "      <td>0</td>\n",
       "      <td>0</td>\n",
       "      <td>0</td>\n",
       "      <td>0</td>\n",
       "      <td>0</td>\n",
       "      <td>0</td>\n",
       "      <td>0</td>\n",
       "      <td>0</td>\n",
       "      <td>1</td>\n",
       "    </tr>\n",
       "    <tr>\n",
       "      <th>2</th>\n",
       "      <td>240</td>\n",
       "      <td>4.261279</td>\n",
       "      <td>36679</td>\n",
       "      <td>4.263475</td>\n",
       "      <td>The Godfather: Part II</td>\n",
       "      <td>13000000</td>\n",
       "      <td>47542841.0</td>\n",
       "      <td>200.0</td>\n",
       "      <td>[Drama, Crime]</td>\n",
       "      <td>United States of America</td>\n",
       "      <td>...</td>\n",
       "      <td>0</td>\n",
       "      <td>0</td>\n",
       "      <td>0</td>\n",
       "      <td>0</td>\n",
       "      <td>0</td>\n",
       "      <td>0</td>\n",
       "      <td>0</td>\n",
       "      <td>0</td>\n",
       "      <td>1</td>\n",
       "      <td>1</td>\n",
       "    </tr>\n",
       "    <tr>\n",
       "      <th>3</th>\n",
       "      <td>207</td>\n",
       "      <td>3.910587</td>\n",
       "      <td>25752</td>\n",
       "      <td>3.912803</td>\n",
       "      <td>Dead Poets Society</td>\n",
       "      <td>16400000</td>\n",
       "      <td>235860116.0</td>\n",
       "      <td>129.0</td>\n",
       "      <td>[Drama]</td>\n",
       "      <td>United States of America</td>\n",
       "      <td>...</td>\n",
       "      <td>0</td>\n",
       "      <td>0</td>\n",
       "      <td>1</td>\n",
       "      <td>0</td>\n",
       "      <td>0</td>\n",
       "      <td>0</td>\n",
       "      <td>0</td>\n",
       "      <td>0</td>\n",
       "      <td>0</td>\n",
       "      <td>1</td>\n",
       "    </tr>\n",
       "    <tr>\n",
       "      <th>4</th>\n",
       "      <td>2108</td>\n",
       "      <td>3.825622</td>\n",
       "      <td>26611</td>\n",
       "      <td>3.827553</td>\n",
       "      <td>The Breakfast Club</td>\n",
       "      <td>1000000</td>\n",
       "      <td>51525171.0</td>\n",
       "      <td>97.0</td>\n",
       "      <td>[Comedy, Drama]</td>\n",
       "      <td>United States of America</td>\n",
       "      <td>...</td>\n",
       "      <td>0</td>\n",
       "      <td>0</td>\n",
       "      <td>0</td>\n",
       "      <td>0</td>\n",
       "      <td>0</td>\n",
       "      <td>0</td>\n",
       "      <td>0</td>\n",
       "      <td>0</td>\n",
       "      <td>0</td>\n",
       "      <td>1</td>\n",
       "    </tr>\n",
       "  </tbody>\n",
       "</table>\n",
       "<p>5 rows × 29 columns</p>\n",
       "</div>"
      ],
      "text/plain": [
       "     id  weighted_rating  votes_per_movie  average_rating  \\\n",
       "0   197         4.015094            66512        4.016057   \n",
       "1   238         4.338309            57070        4.339811   \n",
       "2   240         4.261279            36679        4.263475   \n",
       "3   207         3.910587            25752        3.912803   \n",
       "4  2108         3.825622            26611        3.827553   \n",
       "\n",
       "                    title    budget      revenue  runtime  \\\n",
       "0              Braveheart  72000000  210000000.0    177.0   \n",
       "1           The Godfather   6000000  245066411.0    175.0   \n",
       "2  The Godfather: Part II  13000000   47542841.0    200.0   \n",
       "3      Dead Poets Society  16400000  235860116.0    129.0   \n",
       "4      The Breakfast Club   1000000   51525171.0     97.0   \n",
       "\n",
       "                     genres      production_countries  ... Apr May Jun  Jul  \\\n",
       "0  [Action, Drama, History]  United States of America  ...   0   1   0    0   \n",
       "1            [Drama, Crime]  United States of America  ...   0   0   0    0   \n",
       "2            [Drama, Crime]  United States of America  ...   0   0   0    0   \n",
       "3                   [Drama]  United States of America  ...   0   0   1    0   \n",
       "4           [Comedy, Drama]  United States of America  ...   0   0   0    0   \n",
       "\n",
       "   Aug Sep  Oct  Nov  Dec  intercept  \n",
       "0    0   0    0    0    0          1  \n",
       "1    0   0    0    0    0          1  \n",
       "2    0   0    0    0    1          1  \n",
       "3    0   0    0    0    0          1  \n",
       "4    0   0    0    0    0          1  \n",
       "\n",
       "[5 rows x 29 columns]"
      ]
     },
     "execution_count": 74,
     "metadata": {},
     "output_type": "execute_result"
    }
   ],
   "source": [
    "# dummy-encoding\n",
    "df_new = df\n",
    "df_new[['Jan','Feb','Mar','Apr','May','Jun','Jul','Aug','Sep','Oct','Nov','Dec']] = pd.get_dummies(df['month'])[[1,2,3,4,5,6,7,8,9,10,11,12]]\n",
    "df_new['intercept'] = 1\n",
    "df_new.head()"
   ]
  },
  {
   "cell_type": "code",
   "execution_count": 75,
   "metadata": {},
   "outputs": [
    {
     "data": {
      "text/html": [
       "<table class=\"simpletable\">\n",
       "<caption>OLS Regression Results</caption>\n",
       "<tr>\n",
       "  <th>Dep. Variable:</th>     <td>weighted_rating</td> <th>  R-squared:         </th> <td>   0.025</td>\n",
       "</tr>\n",
       "<tr>\n",
       "  <th>Model:</th>                   <td>OLS</td>       <th>  Adj. R-squared:    </th> <td>   0.023</td>\n",
       "</tr>\n",
       "<tr>\n",
       "  <th>Method:</th>             <td>Least Squares</td>  <th>  F-statistic:       </th> <td>   10.53</td>\n",
       "</tr>\n",
       "<tr>\n",
       "  <th>Date:</th>             <td>Wed, 09 Oct 2019</td> <th>  Prob (F-statistic):</th> <td>2.37e-19</td>\n",
       "</tr>\n",
       "<tr>\n",
       "  <th>Time:</th>                 <td>11:23:26</td>     <th>  Log-Likelihood:    </th> <td> -2773.1</td>\n",
       "</tr>\n",
       "<tr>\n",
       "  <th>No. Observations:</th>      <td>  4532</td>      <th>  AIC:               </th> <td>   5570.</td>\n",
       "</tr>\n",
       "<tr>\n",
       "  <th>Df Residuals:</th>          <td>  4520</td>      <th>  BIC:               </th> <td>   5647.</td>\n",
       "</tr>\n",
       "<tr>\n",
       "  <th>Df Model:</th>              <td>    11</td>      <th>                     </th>     <td> </td>   \n",
       "</tr>\n",
       "<tr>\n",
       "  <th>Covariance Type:</th>      <td>nonrobust</td>    <th>                     </th>     <td> </td>   \n",
       "</tr>\n",
       "</table>\n",
       "<table class=\"simpletable\">\n",
       "<tr>\n",
       "      <td></td>         <th>coef</th>     <th>std err</th>      <th>t</th>      <th>P>|t|</th>  <th>[0.025</th>    <th>0.975]</th>  \n",
       "</tr>\n",
       "<tr>\n",
       "  <th>intercept</th> <td>    2.9812</td> <td>    0.006</td> <td>  478.829</td> <td> 0.000</td> <td>    2.969</td> <td>    2.993</td>\n",
       "</tr>\n",
       "<tr>\n",
       "  <th>Jan</th>       <td>    0.1736</td> <td>    0.026</td> <td>    6.737</td> <td> 0.000</td> <td>    0.123</td> <td>    0.224</td>\n",
       "</tr>\n",
       "<tr>\n",
       "  <th>Feb</th>       <td>    0.1826</td> <td>    0.024</td> <td>    7.534</td> <td> 0.000</td> <td>    0.135</td> <td>    0.230</td>\n",
       "</tr>\n",
       "<tr>\n",
       "  <th>Mar</th>       <td>    0.2083</td> <td>    0.023</td> <td>    9.049</td> <td> 0.000</td> <td>    0.163</td> <td>    0.253</td>\n",
       "</tr>\n",
       "<tr>\n",
       "  <th>Apr</th>       <td>    0.2132</td> <td>    0.024</td> <td>    9.035</td> <td> 0.000</td> <td>    0.167</td> <td>    0.259</td>\n",
       "</tr>\n",
       "<tr>\n",
       "  <th>May</th>       <td>    0.3003</td> <td>    0.023</td> <td>   12.994</td> <td> 0.000</td> <td>    0.255</td> <td>    0.346</td>\n",
       "</tr>\n",
       "<tr>\n",
       "  <th>Jun</th>       <td>    0.2293</td> <td>    0.022</td> <td>   10.628</td> <td> 0.000</td> <td>    0.187</td> <td>    0.272</td>\n",
       "</tr>\n",
       "<tr>\n",
       "  <th>Jul</th>       <td>    0.2064</td> <td>    0.022</td> <td>    9.275</td> <td> 0.000</td> <td>    0.163</td> <td>    0.250</td>\n",
       "</tr>\n",
       "<tr>\n",
       "  <th>Aug</th>       <td>    0.1714</td> <td>    0.022</td> <td>    7.918</td> <td> 0.000</td> <td>    0.129</td> <td>    0.214</td>\n",
       "</tr>\n",
       "<tr>\n",
       "  <th>Sep</th>       <td>    0.3539</td> <td>    0.019</td> <td>   18.686</td> <td> 0.000</td> <td>    0.317</td> <td>    0.391</td>\n",
       "</tr>\n",
       "<tr>\n",
       "  <th>Oct</th>       <td>    0.2765</td> <td>    0.021</td> <td>   13.123</td> <td> 0.000</td> <td>    0.235</td> <td>    0.318</td>\n",
       "</tr>\n",
       "<tr>\n",
       "  <th>Nov</th>       <td>    0.2807</td> <td>    0.023</td> <td>   12.310</td> <td> 0.000</td> <td>    0.236</td> <td>    0.325</td>\n",
       "</tr>\n",
       "<tr>\n",
       "  <th>Dec</th>       <td>    0.3851</td> <td>    0.020</td> <td>   19.632</td> <td> 0.000</td> <td>    0.347</td> <td>    0.424</td>\n",
       "</tr>\n",
       "</table>\n",
       "<table class=\"simpletable\">\n",
       "<tr>\n",
       "  <th>Omnibus:</th>       <td>117.985</td> <th>  Durbin-Watson:     </th> <td>   1.269</td>\n",
       "</tr>\n",
       "<tr>\n",
       "  <th>Prob(Omnibus):</th> <td> 0.000</td>  <th>  Jarque-Bera (JB):  </th> <td> 127.446</td>\n",
       "</tr>\n",
       "<tr>\n",
       "  <th>Skew:</th>          <td>-0.392</td>  <th>  Prob(JB):          </th> <td>2.12e-28</td>\n",
       "</tr>\n",
       "<tr>\n",
       "  <th>Kurtosis:</th>      <td> 3.242</td>  <th>  Cond. No.          </th> <td>2.93e+15</td>\n",
       "</tr>\n",
       "</table><br/><br/>Warnings:<br/>[1] Standard Errors assume that the covariance matrix of the errors is correctly specified.<br/>[2] The smallest eigenvalue is 5.73e-28. This might indicate that there are<br/>strong multicollinearity problems or that the design matrix is singular."
      ],
      "text/plain": [
       "<class 'statsmodels.iolib.summary.Summary'>\n",
       "\"\"\"\n",
       "                            OLS Regression Results                            \n",
       "==============================================================================\n",
       "Dep. Variable:        weighted_rating   R-squared:                       0.025\n",
       "Model:                            OLS   Adj. R-squared:                  0.023\n",
       "Method:                 Least Squares   F-statistic:                     10.53\n",
       "Date:                Wed, 09 Oct 2019   Prob (F-statistic):           2.37e-19\n",
       "Time:                        11:23:26   Log-Likelihood:                -2773.1\n",
       "No. Observations:                4532   AIC:                             5570.\n",
       "Df Residuals:                    4520   BIC:                             5647.\n",
       "Df Model:                          11                                         \n",
       "Covariance Type:            nonrobust                                         \n",
       "==============================================================================\n",
       "                 coef    std err          t      P>|t|      [0.025      0.975]\n",
       "------------------------------------------------------------------------------\n",
       "intercept      2.9812      0.006    478.829      0.000       2.969       2.993\n",
       "Jan            0.1736      0.026      6.737      0.000       0.123       0.224\n",
       "Feb            0.1826      0.024      7.534      0.000       0.135       0.230\n",
       "Mar            0.2083      0.023      9.049      0.000       0.163       0.253\n",
       "Apr            0.2132      0.024      9.035      0.000       0.167       0.259\n",
       "May            0.3003      0.023     12.994      0.000       0.255       0.346\n",
       "Jun            0.2293      0.022     10.628      0.000       0.187       0.272\n",
       "Jul            0.2064      0.022      9.275      0.000       0.163       0.250\n",
       "Aug            0.1714      0.022      7.918      0.000       0.129       0.214\n",
       "Sep            0.3539      0.019     18.686      0.000       0.317       0.391\n",
       "Oct            0.2765      0.021     13.123      0.000       0.235       0.318\n",
       "Nov            0.2807      0.023     12.310      0.000       0.236       0.325\n",
       "Dec            0.3851      0.020     19.632      0.000       0.347       0.424\n",
       "==============================================================================\n",
       "Omnibus:                      117.985   Durbin-Watson:                   1.269\n",
       "Prob(Omnibus):                  0.000   Jarque-Bera (JB):              127.446\n",
       "Skew:                          -0.392   Prob(JB):                     2.12e-28\n",
       "Kurtosis:                       3.242   Cond. No.                     2.93e+15\n",
       "==============================================================================\n",
       "\n",
       "Warnings:\n",
       "[1] Standard Errors assume that the covariance matrix of the errors is correctly specified.\n",
       "[2] The smallest eigenvalue is 5.73e-28. This might indicate that there are\n",
       "strong multicollinearity problems or that the design matrix is singular.\n",
       "\"\"\""
      ]
     },
     "execution_count": 75,
     "metadata": {},
     "output_type": "execute_result"
    }
   ],
   "source": [
    "# import module\n",
    "import statsmodels.api as sm\n",
    "\n",
    "# fit and summarize OLS model\n",
    "mod = sm.OLS(df_new['weighted_rating'], df_new[['intercept','Jan','Feb','Mar','Apr','May','Jun','Jul','Aug','Sep','Oct','Nov','Dec']])\n",
    "results = mod.fit()\n",
    "\n",
    "results.summary()"
   ]
  },
  {
   "cell_type": "markdown",
   "metadata": {},
   "source": [
    "**Conclusion**: P-value(P >|t|) is less than the alpha value. Null hypothesis is rejected. There's statistically significant difference in scores between movies released in different months. Thus, we will pass the variable 'month' to the prediction machine since it might affect how people scores the movies."
   ]
  },
  {
   "cell_type": "markdown",
   "metadata": {},
   "source": [
    "#### Using t-test to examine if movie scores differ among years\n",
    "Assuming that movies in the different periouds should receive different scores, we select two samples, one with movies released in the earlies and latest five years to perform independent t-test.\n",
    "\n",
    "- Stating hypothesis\n",
    "    - H0: The mean of weighted ratings are the **same** for two samples.\n",
    "    - HA: The mean of weighted ratings are **different** for two samples.\n",
    "- Deciding significance level\n",
    "    - The significance level (α) is 0.05."
   ]
  },
  {
   "cell_type": "code",
   "execution_count": 76,
   "metadata": {},
   "outputs": [
    {
     "name": "stdout",
     "output_type": "stream",
     "text": [
      "statistics=-1.929 , p=0.054\n",
      "Accept null hypothesis that the means are equal.\n"
     ]
    }
   ],
   "source": [
    "# sampling\n",
    "previous_5_year = df[df['year'] > 1914 & (df['year'] < 1920)]['weighted_rating']\n",
    "last_5_year = df[(df['year'] > 2012) & (df['year'] <= 2017)]['weighted_rating']\n",
    "\n",
    "# independent t-test\n",
    "from scipy import stats\n",
    "t_stat, p = stats.ttest_ind(previous_5_year, last_5_year)\n",
    "print ('statistics=%.3f , p=%.3f' %(t_stat,p))\n",
    "\n",
    "# interpret via p-vaule\n",
    "alpha = 0.05\n",
    "if p > alpha:\n",
    "    print('Accept null hypothesis that the means are equal.')\n",
    "else:\n",
    "    print('Reject the null hypothesis that the means are equal.')"
   ]
  },
  {
   "cell_type": "markdown",
   "metadata": {},
   "source": [
    "**Conclusion**: With p-value larger than alpha value, null hypothesis fails to be rejected. No statistically significant difference in scores between movies released in different years. Because the variable 'year' might be a less useful factor to predict movie scores, we dedcide to drop it."
   ]
  },
  {
   "cell_type": "code",
   "execution_count": 77,
   "metadata": {},
   "outputs": [
    {
     "data": {
      "text/plain": [
       "(4532, 661)"
      ]
     },
     "execution_count": 77,
     "metadata": {},
     "output_type": "execute_result"
    }
   ],
   "source": [
    "previous_5_year.shape[0], last_5_year.shape[0]"
   ]
  },
  {
   "cell_type": "markdown",
   "metadata": {},
   "source": [
    "# Dummy Encoding\n",
    "Before feeding the data into prediction models, we need to drop text variables that don't fit to our project scope and convert categorical variables to numerical with dummy encoding. "
   ]
  },
  {
   "cell_type": "code",
   "execution_count": 78,
   "metadata": {},
   "outputs": [],
   "source": [
    "# only keep variables that will be fed into the model\n",
    "df_2 = df[['weighted_rating', 'votes_per_movie', 'budget', 'revenue', 'runtime','month','genres', \n",
    "           'production_countries','production_companies', 'original_language', 'cast','director']]"
   ]
  },
  {
   "cell_type": "code",
   "execution_count": 79,
   "metadata": {},
   "outputs": [
    {
     "name": "stderr",
     "output_type": "stream",
     "text": [
      "/anaconda3/lib/python3.7/site-packages/ipykernel_launcher.py:10: SettingWithCopyWarning: \n",
      "A value is trying to be set on a copy of a slice from a DataFrame.\n",
      "Try using .loc[row_indexer,col_indexer] = value instead\n",
      "\n",
      "See the caveats in the documentation: http://pandas.pydata.org/pandas-docs/stable/indexing.html#indexing-view-versus-copy\n",
      "  # Remove the CWD from sys.path while we load stuff.\n",
      "/anaconda3/lib/python3.7/site-packages/ipykernel_launcher.py:11: SettingWithCopyWarning: \n",
      "A value is trying to be set on a copy of a slice from a DataFrame.\n",
      "Try using .loc[row_indexer,col_indexer] = value instead\n",
      "\n",
      "See the caveats in the documentation: http://pandas.pydata.org/pandas-docs/stable/indexing.html#indexing-view-versus-copy\n",
      "  # This is added back by InteractiveShellApp.init_path()\n",
      "/anaconda3/lib/python3.7/site-packages/ipykernel_launcher.py:12: SettingWithCopyWarning: \n",
      "A value is trying to be set on a copy of a slice from a DataFrame.\n",
      "Try using .loc[row_indexer,col_indexer] = value instead\n",
      "\n",
      "See the caveats in the documentation: http://pandas.pydata.org/pandas-docs/stable/indexing.html#indexing-view-versus-copy\n",
      "  if sys.path[0] == '':\n",
      "/anaconda3/lib/python3.7/site-packages/ipykernel_launcher.py:13: SettingWithCopyWarning: \n",
      "A value is trying to be set on a copy of a slice from a DataFrame.\n",
      "Try using .loc[row_indexer,col_indexer] = value instead\n",
      "\n",
      "See the caveats in the documentation: http://pandas.pydata.org/pandas-docs/stable/indexing.html#indexing-view-versus-copy\n",
      "  del sys.path[0]\n"
     ]
    }
   ],
   "source": [
    "# for the column 'director', 'production_companies', 'production_countries', 'original_language'\n",
    "# convert the values with less occurence to 'Others'\n",
    "def convert_to_others(df, col, x, num):\n",
    "    top = df[col].value_counts()[:num]\n",
    "    if x in top:\n",
    "        return x\n",
    "    if x not in top:\n",
    "        return 'Others'\n",
    "    \n",
    "df_2['director'] = df_2['director'].apply(lambda x: convert_to_others(df_2, 'director', x, 20))\n",
    "df_2['production_companies'] = df_2['production_companies'].apply(lambda x: convert_to_others(df_2, 'production_companies', x, 10))\n",
    "df_2['production_countries'] = df_2['production_countries'].apply(lambda x: convert_to_others(df_2, 'production_countries', x, 10))\n",
    "df_2['original_language'] = df_2['original_language'].apply(lambda x: convert_to_others(df_2, 'original_language', x, 10))"
   ]
  },
  {
   "cell_type": "code",
   "execution_count": 80,
   "metadata": {},
   "outputs": [],
   "source": [
    "# get dummy variables \n",
    "columns = ['director', 'production_companies','production_countries', 'original_language']\n",
    "prefix_dic = {'director': 'director','production_companies': 'company','production_countries':'country','original_language': 'language'}\n",
    "df_dummy = pd.get_dummies(df_2, columns = columns, prefix = prefix_dic)"
   ]
  },
  {
   "cell_type": "code",
   "execution_count": 81,
   "metadata": {},
   "outputs": [],
   "source": [
    "# drop column 'Others' from the dataframe\n",
    "df_dummy.drop(columns = ['company_Others', 'director_Others', 'language_Others', 'country_Others'], inplace = True)"
   ]
  },
  {
   "cell_type": "code",
   "execution_count": 82,
   "metadata": {},
   "outputs": [],
   "source": [
    "# replace the missing values\n",
    "df.loc[df['genres'].map(lambda d: len(d)) == 0, 'genres'] = ['Documentary']\n",
    "# dummy encoding for genre\n",
    "df_genre = pd.get_dummies(pd.Series(df['genres']).apply(pd.Series).stack()).sum(level=0).drop(columns = 'Foreign')"
   ]
  },
  {
   "cell_type": "code",
   "execution_count": 83,
   "metadata": {},
   "outputs": [
    {
     "data": {
      "text/plain": [
       "[('Robert De Niro', 49),\n",
       " ('Nicolas Cage', 44),\n",
       " ('Bruce Willis', 39),\n",
       " ('Tom Hanks', 38),\n",
       " ('Johnny Depp', 37),\n",
       " ('Sylvester Stallone', 37),\n",
       " ('Matt Damon', 36),\n",
       " ('Samuel L. Jackson', 35),\n",
       " ('Harrison Ford', 34),\n",
       " ('Tom Cruise', 34),\n",
       " ('Eddie Murphy', 33),\n",
       " ('Denzel Washington', 33),\n",
       " ('Morgan Freeman', 32),\n",
       " ('Brad Pitt', 31),\n",
       " ('Julianne Moore', 31),\n",
       " ('Ben Stiller', 30),\n",
       " ('Mark Wahlberg', 30),\n",
       " ('Clint Eastwood', 29),\n",
       " ('Meryl Streep', 29),\n",
       " ('Owen Wilson', 28),\n",
       " ('Arnold Schwarzenegger', 27),\n",
       " ('Adam Sandler', 27),\n",
       " ('Ewan McGregor', 27),\n",
       " ('Kevin Costner', 27),\n",
       " ('George Clooney', 27),\n",
       " ('Ben Affleck', 27),\n",
       " ('Robin Williams', 26),\n",
       " ('Liam Neeson', 26),\n",
       " ('Gene Hackman', 26),\n",
       " ('Keanu Reeves', 26)]"
      ]
     },
     "execution_count": 83,
     "metadata": {},
     "output_type": "execute_result"
    }
   ],
   "source": [
    "# for 'cast' column, we only select top 30 movie stars with the most appearance \n",
    "# and convert the rest to 'Others'\n",
    "# compute the top casts\n",
    "from collections import Counter\n",
    "def occurence(Series):\n",
    "    cnt = Counter()\n",
    "    \n",
    "    def cast_dict(x):\n",
    "        cast_dict = Counter()\n",
    "        for cast in x:\n",
    "            cast_dict[cast] += 1\n",
    "        return cast_dict\n",
    "    for d in Series.apply(cast_dict):\n",
    "        cnt += d\n",
    "    return cnt\n",
    "\n",
    "occurence(df.cast).most_common(30)"
   ]
  },
  {
   "cell_type": "code",
   "execution_count": 84,
   "metadata": {},
   "outputs": [
    {
     "name": "stdout",
     "output_type": "stream",
     "text": [
      "['Robert De Niro', 'Nicolas Cage', 'Bruce Willis', 'Tom Hanks', 'Johnny Depp', 'Sylvester Stallone', 'Matt Damon', 'Samuel L. Jackson', 'Harrison Ford', 'Tom Cruise', 'Eddie Murphy', 'Denzel Washington', 'Morgan Freeman', 'Brad Pitt', 'Julianne Moore', 'Ben Stiller', 'Mark Wahlberg', 'Clint Eastwood', 'Meryl Streep', 'Owen Wilson', 'Arnold Schwarzenegger', 'Adam Sandler', 'Ewan McGregor', 'Kevin Costner', 'George Clooney', 'Ben Affleck', 'Robin Williams', 'Liam Neeson', 'Gene Hackman', 'Keanu Reeves']\n"
     ]
    }
   ],
   "source": [
    "top_cast = sorted(occurence(df.cast), key = occurence(df.cast).get, reverse = True) [:30]\n",
    "print (top_cast)"
   ]
  },
  {
   "cell_type": "code",
   "execution_count": 85,
   "metadata": {},
   "outputs": [
    {
     "name": "stderr",
     "output_type": "stream",
     "text": [
      "/anaconda3/lib/python3.7/site-packages/ipykernel_launcher.py:11: SettingWithCopyWarning: \n",
      "A value is trying to be set on a copy of a slice from a DataFrame.\n",
      "Try using .loc[row_indexer,col_indexer] = value instead\n",
      "\n",
      "See the caveats in the documentation: http://pandas.pydata.org/pandas-docs/stable/indexing.html#indexing-view-versus-copy\n",
      "  # This is added back by InteractiveShellApp.init_path()\n"
     ]
    }
   ],
   "source": [
    "# iterate through each list\n",
    "# turn each list into a set\n",
    "# compare the set with the set(top_cast)\n",
    "# return the elements appearing in both set\n",
    "\n",
    "def compare_two_sets(x):\n",
    "    if bool(set(x) & set(top_cast)):\n",
    "        return list(set(x) & set(top_cast))\n",
    "    else:\n",
    "        return ['Others']\n",
    "df_2['cast'] = df_2['cast'].apply(compare_two_sets)"
   ]
  },
  {
   "cell_type": "code",
   "execution_count": 86,
   "metadata": {},
   "outputs": [],
   "source": [
    "# dummy encoding for cast\n",
    "df_cast = pd.get_dummies(pd.Series(df_2['cast']).apply(pd.Series).stack()).sum(level=0).drop(columns = 'Others')"
   ]
  },
  {
   "cell_type": "code",
   "execution_count": 87,
   "metadata": {},
   "outputs": [],
   "source": [
    "# dummy encoding for month\n",
    "df_month = pd.get_dummies(df['month'], drop_first = True)\n",
    "df_month.rename(columns = {2:'Feb',3:'Mar',4:'Apr',5:'May',6:'Jun',7:'Jul',8:'Aug',9:'Sep',10:'Oct',11:'Nov',12:'Dec'}, inplace = True)"
   ]
  },
  {
   "cell_type": "code",
   "execution_count": 88,
   "metadata": {},
   "outputs": [],
   "source": [
    "# concate the dataframe\n",
    "df_clean = pd.concat([df_dummy, df_cast, df_genre, df_month], axis = 1).drop(columns = ['genres','cast','month'])"
   ]
  },
  {
   "cell_type": "code",
   "execution_count": 89,
   "metadata": {},
   "outputs": [
    {
     "data": {
      "text/html": [
       "<div>\n",
       "<style scoped>\n",
       "    .dataframe tbody tr th:only-of-type {\n",
       "        vertical-align: middle;\n",
       "    }\n",
       "\n",
       "    .dataframe tbody tr th {\n",
       "        vertical-align: top;\n",
       "    }\n",
       "\n",
       "    .dataframe thead th {\n",
       "        text-align: right;\n",
       "    }\n",
       "</style>\n",
       "<table border=\"1\" class=\"dataframe\">\n",
       "  <thead>\n",
       "    <tr style=\"text-align: right;\">\n",
       "      <th></th>\n",
       "      <th>weighted_rating</th>\n",
       "      <th>votes_per_movie</th>\n",
       "      <th>budget</th>\n",
       "      <th>revenue</th>\n",
       "      <th>runtime</th>\n",
       "      <th>director_Alfred Hitchcock</th>\n",
       "      <th>director_Brian De Palma</th>\n",
       "      <th>director_Clint Eastwood</th>\n",
       "      <th>director_Joel Coen</th>\n",
       "      <th>director_Joel Schumacher</th>\n",
       "      <th>...</th>\n",
       "      <th>Mar</th>\n",
       "      <th>Apr</th>\n",
       "      <th>May</th>\n",
       "      <th>Jun</th>\n",
       "      <th>Jul</th>\n",
       "      <th>Aug</th>\n",
       "      <th>Sep</th>\n",
       "      <th>Oct</th>\n",
       "      <th>Nov</th>\n",
       "      <th>Dec</th>\n",
       "    </tr>\n",
       "  </thead>\n",
       "  <tbody>\n",
       "    <tr>\n",
       "      <th>0</th>\n",
       "      <td>4.015094</td>\n",
       "      <td>66512</td>\n",
       "      <td>72000000</td>\n",
       "      <td>210000000.0</td>\n",
       "      <td>177.0</td>\n",
       "      <td>0</td>\n",
       "      <td>0</td>\n",
       "      <td>0</td>\n",
       "      <td>0</td>\n",
       "      <td>0</td>\n",
       "      <td>...</td>\n",
       "      <td>0</td>\n",
       "      <td>0</td>\n",
       "      <td>1</td>\n",
       "      <td>0</td>\n",
       "      <td>0</td>\n",
       "      <td>0</td>\n",
       "      <td>0</td>\n",
       "      <td>0</td>\n",
       "      <td>0</td>\n",
       "      <td>0</td>\n",
       "    </tr>\n",
       "    <tr>\n",
       "      <th>1</th>\n",
       "      <td>4.338309</td>\n",
       "      <td>57070</td>\n",
       "      <td>6000000</td>\n",
       "      <td>245066411.0</td>\n",
       "      <td>175.0</td>\n",
       "      <td>0</td>\n",
       "      <td>0</td>\n",
       "      <td>0</td>\n",
       "      <td>0</td>\n",
       "      <td>0</td>\n",
       "      <td>...</td>\n",
       "      <td>1</td>\n",
       "      <td>0</td>\n",
       "      <td>0</td>\n",
       "      <td>0</td>\n",
       "      <td>0</td>\n",
       "      <td>0</td>\n",
       "      <td>0</td>\n",
       "      <td>0</td>\n",
       "      <td>0</td>\n",
       "      <td>0</td>\n",
       "    </tr>\n",
       "    <tr>\n",
       "      <th>2</th>\n",
       "      <td>4.261279</td>\n",
       "      <td>36679</td>\n",
       "      <td>13000000</td>\n",
       "      <td>47542841.0</td>\n",
       "      <td>200.0</td>\n",
       "      <td>0</td>\n",
       "      <td>0</td>\n",
       "      <td>0</td>\n",
       "      <td>0</td>\n",
       "      <td>0</td>\n",
       "      <td>...</td>\n",
       "      <td>0</td>\n",
       "      <td>0</td>\n",
       "      <td>0</td>\n",
       "      <td>0</td>\n",
       "      <td>0</td>\n",
       "      <td>0</td>\n",
       "      <td>0</td>\n",
       "      <td>0</td>\n",
       "      <td>0</td>\n",
       "      <td>1</td>\n",
       "    </tr>\n",
       "    <tr>\n",
       "      <th>3</th>\n",
       "      <td>3.910587</td>\n",
       "      <td>25752</td>\n",
       "      <td>16400000</td>\n",
       "      <td>235860116.0</td>\n",
       "      <td>129.0</td>\n",
       "      <td>0</td>\n",
       "      <td>0</td>\n",
       "      <td>0</td>\n",
       "      <td>0</td>\n",
       "      <td>0</td>\n",
       "      <td>...</td>\n",
       "      <td>0</td>\n",
       "      <td>0</td>\n",
       "      <td>0</td>\n",
       "      <td>1</td>\n",
       "      <td>0</td>\n",
       "      <td>0</td>\n",
       "      <td>0</td>\n",
       "      <td>0</td>\n",
       "      <td>0</td>\n",
       "      <td>0</td>\n",
       "    </tr>\n",
       "    <tr>\n",
       "      <th>4</th>\n",
       "      <td>3.825622</td>\n",
       "      <td>26611</td>\n",
       "      <td>1000000</td>\n",
       "      <td>51525171.0</td>\n",
       "      <td>97.0</td>\n",
       "      <td>0</td>\n",
       "      <td>0</td>\n",
       "      <td>0</td>\n",
       "      <td>0</td>\n",
       "      <td>0</td>\n",
       "      <td>...</td>\n",
       "      <td>0</td>\n",
       "      <td>0</td>\n",
       "      <td>0</td>\n",
       "      <td>0</td>\n",
       "      <td>0</td>\n",
       "      <td>0</td>\n",
       "      <td>0</td>\n",
       "      <td>0</td>\n",
       "      <td>0</td>\n",
       "      <td>0</td>\n",
       "    </tr>\n",
       "  </tbody>\n",
       "</table>\n",
       "<p>5 rows × 115 columns</p>\n",
       "</div>"
      ],
      "text/plain": [
       "   weighted_rating  votes_per_movie    budget      revenue  runtime  \\\n",
       "0         4.015094            66512  72000000  210000000.0    177.0   \n",
       "1         4.338309            57070   6000000  245066411.0    175.0   \n",
       "2         4.261279            36679  13000000   47542841.0    200.0   \n",
       "3         3.910587            25752  16400000  235860116.0    129.0   \n",
       "4         3.825622            26611   1000000   51525171.0     97.0   \n",
       "\n",
       "   director_Alfred Hitchcock  director_Brian De Palma  \\\n",
       "0                          0                        0   \n",
       "1                          0                        0   \n",
       "2                          0                        0   \n",
       "3                          0                        0   \n",
       "4                          0                        0   \n",
       "\n",
       "   director_Clint Eastwood  director_Joel Coen  director_Joel Schumacher  ...  \\\n",
       "0                        0                   0                         0  ...   \n",
       "1                        0                   0                         0  ...   \n",
       "2                        0                   0                         0  ...   \n",
       "3                        0                   0                         0  ...   \n",
       "4                        0                   0                         0  ...   \n",
       "\n",
       "   Mar  Apr  May  Jun  Jul  Aug  Sep  Oct  Nov  Dec  \n",
       "0    0    0    1    0    0    0    0    0    0    0  \n",
       "1    1    0    0    0    0    0    0    0    0    0  \n",
       "2    0    0    0    0    0    0    0    0    0    1  \n",
       "3    0    0    0    1    0    0    0    0    0    0  \n",
       "4    0    0    0    0    0    0    0    0    0    0  \n",
       "\n",
       "[5 rows x 115 columns]"
      ]
     },
     "execution_count": 89,
     "metadata": {},
     "output_type": "execute_result"
    }
   ],
   "source": [
    "df_clean.head()"
   ]
  },
  {
   "cell_type": "code",
   "execution_count": 90,
   "metadata": {
    "scrolled": false
   },
   "outputs": [
    {
     "data": {
      "text/plain": [
       "['weighted_rating',\n",
       " 'votes_per_movie',\n",
       " 'budget',\n",
       " 'revenue',\n",
       " 'runtime',\n",
       " 'director_Alfred Hitchcock',\n",
       " 'director_Brian De Palma',\n",
       " 'director_Clint Eastwood',\n",
       " 'director_Joel Coen',\n",
       " 'director_Joel Schumacher',\n",
       " 'director_John Carpenter',\n",
       " 'director_Martin Scorsese',\n",
       " 'director_Oliver Stone',\n",
       " 'director_Ridley Scott',\n",
       " 'director_Robert Rodriguez',\n",
       " 'director_Robert Zemeckis',\n",
       " 'director_Ron Howard',\n",
       " 'director_Spike Lee',\n",
       " 'director_Steven Soderbergh',\n",
       " 'director_Steven Spielberg',\n",
       " 'director_Tim Burton',\n",
       " 'director_Tony Scott',\n",
       " 'director_Walter Hill',\n",
       " 'director_Wes Craven',\n",
       " 'director_Woody Allen',\n",
       " 'company_Columbia Pictures',\n",
       " 'company_Columbia Pictures Corporation',\n",
       " 'company_Miramax Films',\n",
       " 'company_New Line Cinema',\n",
       " 'company_Paramount Pictures',\n",
       " 'company_Twentieth Century Fox Film Corporation',\n",
       " 'company_United Artists',\n",
       " 'company_Universal Pictures',\n",
       " 'company_Walt Disney Pictures',\n",
       " 'company_Warner Bros.',\n",
       " 'country_Australia',\n",
       " 'country_Canada',\n",
       " 'country_France',\n",
       " 'country_Germany',\n",
       " 'country_India',\n",
       " 'country_Italy',\n",
       " 'country_Japan',\n",
       " 'country_Spain',\n",
       " 'country_United Kingdom',\n",
       " 'country_United States of America',\n",
       " 'language_cn',\n",
       " 'language_de',\n",
       " 'language_en',\n",
       " 'language_es',\n",
       " 'language_fr',\n",
       " 'language_hi',\n",
       " 'language_it',\n",
       " 'language_ja',\n",
       " 'language_ko',\n",
       " 'language_zh',\n",
       " 'Adam Sandler',\n",
       " 'Arnold Schwarzenegger',\n",
       " 'Ben Affleck',\n",
       " 'Ben Stiller',\n",
       " 'Brad Pitt',\n",
       " 'Bruce Willis',\n",
       " 'Clint Eastwood',\n",
       " 'Denzel Washington',\n",
       " 'Eddie Murphy',\n",
       " 'Ewan McGregor',\n",
       " 'Gene Hackman',\n",
       " 'George Clooney',\n",
       " 'Harrison Ford',\n",
       " 'Johnny Depp',\n",
       " 'Julianne Moore',\n",
       " 'Keanu Reeves',\n",
       " 'Kevin Costner',\n",
       " 'Liam Neeson',\n",
       " 'Mark Wahlberg',\n",
       " 'Matt Damon',\n",
       " 'Meryl Streep',\n",
       " 'Morgan Freeman',\n",
       " 'Nicolas Cage',\n",
       " 'Owen Wilson',\n",
       " 'Robert De Niro',\n",
       " 'Robin Williams',\n",
       " 'Samuel L. Jackson',\n",
       " 'Sylvester Stallone',\n",
       " 'Tom Cruise',\n",
       " 'Tom Hanks',\n",
       " 'Action',\n",
       " 'Adventure',\n",
       " 'Animation',\n",
       " 'Comedy',\n",
       " 'Crime',\n",
       " 'Documentary',\n",
       " 'Drama',\n",
       " 'Family',\n",
       " 'Fantasy',\n",
       " 'History',\n",
       " 'Horror',\n",
       " 'Music',\n",
       " 'Mystery',\n",
       " 'Romance',\n",
       " 'Science Fiction',\n",
       " 'TV Movie',\n",
       " 'Thriller',\n",
       " 'War',\n",
       " 'Western',\n",
       " 'Feb',\n",
       " 'Mar',\n",
       " 'Apr',\n",
       " 'May',\n",
       " 'Jun',\n",
       " 'Jul',\n",
       " 'Aug',\n",
       " 'Sep',\n",
       " 'Oct',\n",
       " 'Nov',\n",
       " 'Dec']"
      ]
     },
     "execution_count": 90,
     "metadata": {},
     "output_type": "execute_result"
    }
   ],
   "source": [
    "list(df_clean.columns)"
   ]
  },
  {
   "cell_type": "markdown",
   "metadata": {},
   "source": [
    "# Splitting into Training and Test Set"
   ]
  },
  {
   "cell_type": "code",
   "execution_count": 91,
   "metadata": {},
   "outputs": [],
   "source": [
    "# import modules\n",
    "from sklearn.model_selection import train_test_split\n",
    "# split the dataframe into two 80% for training and 20% testing.\n",
    "train, test = train_test_split(df_clean, test_size=0.2)"
   ]
  },
  {
   "cell_type": "code",
   "execution_count": 92,
   "metadata": {},
   "outputs": [
    {
     "data": {
      "text/plain": [
       "(3625, 115)"
      ]
     },
     "execution_count": 92,
     "metadata": {},
     "output_type": "execute_result"
    }
   ],
   "source": [
    "train.shape"
   ]
  },
  {
   "cell_type": "code",
   "execution_count": 93,
   "metadata": {},
   "outputs": [
    {
     "data": {
      "text/plain": [
       "(907, 115)"
      ]
     },
     "execution_count": 93,
     "metadata": {},
     "output_type": "execute_result"
    }
   ],
   "source": [
    "test.shape"
   ]
  },
  {
   "cell_type": "markdown",
   "metadata": {},
   "source": [
    "the middle diagonal line shows the how much data is predicted right.\n",
    "confusion_matrix "
   ]
  },
  {
   "cell_type": "markdown",
   "metadata": {},
   "source": [
    "# Correlation Matrix"
   ]
  },
  {
   "cell_type": "code",
   "execution_count": 134,
   "metadata": {},
   "outputs": [
    {
     "name": "stdout",
     "output_type": "stream",
     "text": [
      "             0              1         2\n",
      "0      revenue         budget  0.722520\n",
      "1  language_ja  country_Japan  0.719343\n",
      "2  language_hi  country_India  0.777377\n"
     ]
    }
   ],
   "source": [
    "# find highly correlated features with Pearson Correlation higher than 0.7\n",
    "corr_maxtric = df_clean.corr().abs()\n",
    "cols = df_clean.columns\n",
    "correlated_pairs = set()\n",
    "for i in range(len(cols)):\n",
    "    for j in range(i):\n",
    "        if corr_maxtric.iloc[i,j] > 0.7:\n",
    "            correlated_pairs.add((col[i],col[j],corr_maxtric.iloc[i,j]))\n",
    "print (pd.DataFrame(correlated_pairs))"
   ]
  },
  {
   "cell_type": "code",
   "execution_count": 137,
   "metadata": {},
   "outputs": [
    {
     "name": "stdout",
     "output_type": "stream",
     "text": [
      "0.10606426852044468\n",
      "0.07869730036564158\n",
      "0.04376629014700199\n",
      "0.004420897586201297\n",
      "0.041875676098457604\n",
      "0.055103051269827466\n"
     ]
    }
   ],
   "source": [
    "# check the correlation between the features mentioned above and the target variable\n",
    "print (corr_maxtric.loc['revenue','weighted_rating'])\n",
    "print (corr_maxtric.loc['budget','weighted_rating'])\n",
    "print (corr_maxtric.loc['language_ja','weighted_rating'])\n",
    "print (corr_maxtric.loc['country_Japan','weighted_rating'])\n",
    "print (corr_maxtric.loc['language_hi','weighted_rating'])\n",
    "print (corr_maxtric.loc['country_India','weighted_rating'])"
   ]
  },
  {
   "cell_type": "code",
   "execution_count": 139,
   "metadata": {
    "collapsed": true
   },
   "outputs": [
    {
     "data": {
      "text/html": [
       "<div>\n",
       "<style scoped>\n",
       "    .dataframe tbody tr th:only-of-type {\n",
       "        vertical-align: middle;\n",
       "    }\n",
       "\n",
       "    .dataframe tbody tr th {\n",
       "        vertical-align: top;\n",
       "    }\n",
       "\n",
       "    .dataframe thead th {\n",
       "        text-align: right;\n",
       "    }\n",
       "</style>\n",
       "<table border=\"1\" class=\"dataframe\">\n",
       "  <thead>\n",
       "    <tr style=\"text-align: right;\">\n",
       "      <th></th>\n",
       "      <th>weighted_rating</th>\n",
       "      <th>votes_per_movie</th>\n",
       "      <th>budget</th>\n",
       "      <th>revenue</th>\n",
       "      <th>runtime</th>\n",
       "      <th>director_Alfred Hitchcock</th>\n",
       "      <th>director_Brian De Palma</th>\n",
       "      <th>director_Clint Eastwood</th>\n",
       "      <th>director_Joel Coen</th>\n",
       "      <th>director_Joel Schumacher</th>\n",
       "      <th>...</th>\n",
       "      <th>Mar</th>\n",
       "      <th>Apr</th>\n",
       "      <th>May</th>\n",
       "      <th>Jun</th>\n",
       "      <th>Jul</th>\n",
       "      <th>Aug</th>\n",
       "      <th>Sep</th>\n",
       "      <th>Oct</th>\n",
       "      <th>Nov</th>\n",
       "      <th>Dec</th>\n",
       "    </tr>\n",
       "  </thead>\n",
       "  <tbody>\n",
       "    <tr>\n",
       "      <th>0</th>\n",
       "      <td>4.015094</td>\n",
       "      <td>66512</td>\n",
       "      <td>72000000</td>\n",
       "      <td>2.100000e+08</td>\n",
       "      <td>177.0</td>\n",
       "      <td>0</td>\n",
       "      <td>0</td>\n",
       "      <td>0</td>\n",
       "      <td>0</td>\n",
       "      <td>0</td>\n",
       "      <td>...</td>\n",
       "      <td>0</td>\n",
       "      <td>0</td>\n",
       "      <td>1</td>\n",
       "      <td>0</td>\n",
       "      <td>0</td>\n",
       "      <td>0</td>\n",
       "      <td>0</td>\n",
       "      <td>0</td>\n",
       "      <td>0</td>\n",
       "      <td>0</td>\n",
       "    </tr>\n",
       "    <tr>\n",
       "      <th>1</th>\n",
       "      <td>4.338309</td>\n",
       "      <td>57070</td>\n",
       "      <td>6000000</td>\n",
       "      <td>2.450664e+08</td>\n",
       "      <td>175.0</td>\n",
       "      <td>0</td>\n",
       "      <td>0</td>\n",
       "      <td>0</td>\n",
       "      <td>0</td>\n",
       "      <td>0</td>\n",
       "      <td>...</td>\n",
       "      <td>1</td>\n",
       "      <td>0</td>\n",
       "      <td>0</td>\n",
       "      <td>0</td>\n",
       "      <td>0</td>\n",
       "      <td>0</td>\n",
       "      <td>0</td>\n",
       "      <td>0</td>\n",
       "      <td>0</td>\n",
       "      <td>0</td>\n",
       "    </tr>\n",
       "    <tr>\n",
       "      <th>2</th>\n",
       "      <td>4.261279</td>\n",
       "      <td>36679</td>\n",
       "      <td>13000000</td>\n",
       "      <td>4.754284e+07</td>\n",
       "      <td>200.0</td>\n",
       "      <td>0</td>\n",
       "      <td>0</td>\n",
       "      <td>0</td>\n",
       "      <td>0</td>\n",
       "      <td>0</td>\n",
       "      <td>...</td>\n",
       "      <td>0</td>\n",
       "      <td>0</td>\n",
       "      <td>0</td>\n",
       "      <td>0</td>\n",
       "      <td>0</td>\n",
       "      <td>0</td>\n",
       "      <td>0</td>\n",
       "      <td>0</td>\n",
       "      <td>0</td>\n",
       "      <td>1</td>\n",
       "    </tr>\n",
       "    <tr>\n",
       "      <th>3</th>\n",
       "      <td>3.910587</td>\n",
       "      <td>25752</td>\n",
       "      <td>16400000</td>\n",
       "      <td>2.358601e+08</td>\n",
       "      <td>129.0</td>\n",
       "      <td>0</td>\n",
       "      <td>0</td>\n",
       "      <td>0</td>\n",
       "      <td>0</td>\n",
       "      <td>0</td>\n",
       "      <td>...</td>\n",
       "      <td>0</td>\n",
       "      <td>0</td>\n",
       "      <td>0</td>\n",
       "      <td>1</td>\n",
       "      <td>0</td>\n",
       "      <td>0</td>\n",
       "      <td>0</td>\n",
       "      <td>0</td>\n",
       "      <td>0</td>\n",
       "      <td>0</td>\n",
       "    </tr>\n",
       "    <tr>\n",
       "      <th>4</th>\n",
       "      <td>3.825622</td>\n",
       "      <td>26611</td>\n",
       "      <td>1000000</td>\n",
       "      <td>5.152517e+07</td>\n",
       "      <td>97.0</td>\n",
       "      <td>0</td>\n",
       "      <td>0</td>\n",
       "      <td>0</td>\n",
       "      <td>0</td>\n",
       "      <td>0</td>\n",
       "      <td>...</td>\n",
       "      <td>0</td>\n",
       "      <td>0</td>\n",
       "      <td>0</td>\n",
       "      <td>0</td>\n",
       "      <td>0</td>\n",
       "      <td>0</td>\n",
       "      <td>0</td>\n",
       "      <td>0</td>\n",
       "      <td>0</td>\n",
       "      <td>0</td>\n",
       "    </tr>\n",
       "    <tr>\n",
       "      <th>5</th>\n",
       "      <td>4.019985</td>\n",
       "      <td>49643</td>\n",
       "      <td>40000000</td>\n",
       "      <td>6.728063e+08</td>\n",
       "      <td>107.0</td>\n",
       "      <td>0</td>\n",
       "      <td>0</td>\n",
       "      <td>0</td>\n",
       "      <td>0</td>\n",
       "      <td>0</td>\n",
       "      <td>...</td>\n",
       "      <td>0</td>\n",
       "      <td>0</td>\n",
       "      <td>0</td>\n",
       "      <td>0</td>\n",
       "      <td>0</td>\n",
       "      <td>1</td>\n",
       "      <td>0</td>\n",
       "      <td>0</td>\n",
       "      <td>0</td>\n",
       "      <td>0</td>\n",
       "    </tr>\n",
       "    <tr>\n",
       "      <th>6</th>\n",
       "      <td>3.924843</td>\n",
       "      <td>27822</td>\n",
       "      <td>6000000</td>\n",
       "      <td>7.013637e+07</td>\n",
       "      <td>103.0</td>\n",
       "      <td>0</td>\n",
       "      <td>0</td>\n",
       "      <td>0</td>\n",
       "      <td>0</td>\n",
       "      <td>0</td>\n",
       "      <td>...</td>\n",
       "      <td>0</td>\n",
       "      <td>0</td>\n",
       "      <td>0</td>\n",
       "      <td>1</td>\n",
       "      <td>0</td>\n",
       "      <td>0</td>\n",
       "      <td>0</td>\n",
       "      <td>0</td>\n",
       "      <td>0</td>\n",
       "      <td>0</td>\n",
       "    </tr>\n",
       "    <tr>\n",
       "      <th>7</th>\n",
       "      <td>4.229409</td>\n",
       "      <td>60024</td>\n",
       "      <td>63000000</td>\n",
       "      <td>1.008538e+08</td>\n",
       "      <td>139.0</td>\n",
       "      <td>0</td>\n",
       "      <td>0</td>\n",
       "      <td>0</td>\n",
       "      <td>0</td>\n",
       "      <td>0</td>\n",
       "      <td>...</td>\n",
       "      <td>0</td>\n",
       "      <td>0</td>\n",
       "      <td>0</td>\n",
       "      <td>0</td>\n",
       "      <td>0</td>\n",
       "      <td>0</td>\n",
       "      <td>0</td>\n",
       "      <td>1</td>\n",
       "      <td>0</td>\n",
       "      <td>0</td>\n",
       "    </tr>\n",
       "    <tr>\n",
       "      <th>8</th>\n",
       "      <td>4.155273</td>\n",
       "      <td>40706</td>\n",
       "      <td>9000000</td>\n",
       "      <td>3.972310e+07</td>\n",
       "      <td>113.0</td>\n",
       "      <td>0</td>\n",
       "      <td>0</td>\n",
       "      <td>0</td>\n",
       "      <td>0</td>\n",
       "      <td>0</td>\n",
       "      <td>...</td>\n",
       "      <td>0</td>\n",
       "      <td>0</td>\n",
       "      <td>0</td>\n",
       "      <td>0</td>\n",
       "      <td>0</td>\n",
       "      <td>0</td>\n",
       "      <td>0</td>\n",
       "      <td>1</td>\n",
       "      <td>0</td>\n",
       "      <td>0</td>\n",
       "    </tr>\n",
       "    <tr>\n",
       "      <th>9</th>\n",
       "      <td>3.970254</td>\n",
       "      <td>26476</td>\n",
       "      <td>6000000</td>\n",
       "      <td>1.270522e+06</td>\n",
       "      <td>113.0</td>\n",
       "      <td>0</td>\n",
       "      <td>0</td>\n",
       "      <td>0</td>\n",
       "      <td>0</td>\n",
       "      <td>0</td>\n",
       "      <td>...</td>\n",
       "      <td>0</td>\n",
       "      <td>0</td>\n",
       "      <td>0</td>\n",
       "      <td>0</td>\n",
       "      <td>0</td>\n",
       "      <td>0</td>\n",
       "      <td>0</td>\n",
       "      <td>0</td>\n",
       "      <td>0</td>\n",
       "      <td>0</td>\n",
       "    </tr>\n",
       "    <tr>\n",
       "      <th>10</th>\n",
       "      <td>3.541135</td>\n",
       "      <td>2861</td>\n",
       "      <td>9000000</td>\n",
       "      <td>4.777465e+06</td>\n",
       "      <td>97.0</td>\n",
       "      <td>0</td>\n",
       "      <td>0</td>\n",
       "      <td>0</td>\n",
       "      <td>0</td>\n",
       "      <td>0</td>\n",
       "      <td>...</td>\n",
       "      <td>0</td>\n",
       "      <td>0</td>\n",
       "      <td>0</td>\n",
       "      <td>0</td>\n",
       "      <td>0</td>\n",
       "      <td>0</td>\n",
       "      <td>1</td>\n",
       "      <td>0</td>\n",
       "      <td>0</td>\n",
       "      <td>0</td>\n",
       "    </tr>\n",
       "    <tr>\n",
       "      <th>11</th>\n",
       "      <td>3.942817</td>\n",
       "      <td>29051</td>\n",
       "      <td>150000000</td>\n",
       "      <td>3.742187e+08</td>\n",
       "      <td>140.0</td>\n",
       "      <td>0</td>\n",
       "      <td>0</td>\n",
       "      <td>0</td>\n",
       "      <td>0</td>\n",
       "      <td>0</td>\n",
       "      <td>...</td>\n",
       "      <td>0</td>\n",
       "      <td>0</td>\n",
       "      <td>0</td>\n",
       "      <td>1</td>\n",
       "      <td>0</td>\n",
       "      <td>0</td>\n",
       "      <td>0</td>\n",
       "      <td>0</td>\n",
       "      <td>0</td>\n",
       "      <td>0</td>\n",
       "    </tr>\n",
       "    <tr>\n",
       "      <th>12</th>\n",
       "      <td>3.726337</td>\n",
       "      <td>11356</td>\n",
       "      <td>20000000</td>\n",
       "      <td>1.214632e+08</td>\n",
       "      <td>113.0</td>\n",
       "      <td>0</td>\n",
       "      <td>0</td>\n",
       "      <td>0</td>\n",
       "      <td>0</td>\n",
       "      <td>0</td>\n",
       "      <td>...</td>\n",
       "      <td>0</td>\n",
       "      <td>0</td>\n",
       "      <td>0</td>\n",
       "      <td>0</td>\n",
       "      <td>0</td>\n",
       "      <td>1</td>\n",
       "      <td>0</td>\n",
       "      <td>0</td>\n",
       "      <td>0</td>\n",
       "      <td>0</td>\n",
       "    </tr>\n",
       "    <tr>\n",
       "      <th>13</th>\n",
       "      <td>4.180174</td>\n",
       "      <td>39600</td>\n",
       "      <td>185000000</td>\n",
       "      <td>1.004558e+09</td>\n",
       "      <td>152.0</td>\n",
       "      <td>0</td>\n",
       "      <td>0</td>\n",
       "      <td>0</td>\n",
       "      <td>0</td>\n",
       "      <td>0</td>\n",
       "      <td>...</td>\n",
       "      <td>0</td>\n",
       "      <td>0</td>\n",
       "      <td>0</td>\n",
       "      <td>0</td>\n",
       "      <td>1</td>\n",
       "      <td>0</td>\n",
       "      <td>0</td>\n",
       "      <td>0</td>\n",
       "      <td>0</td>\n",
       "      <td>0</td>\n",
       "    </tr>\n",
       "    <tr>\n",
       "      <th>14</th>\n",
       "      <td>3.852942</td>\n",
       "      <td>23465</td>\n",
       "      <td>140000000</td>\n",
       "      <td>5.851742e+08</td>\n",
       "      <td>126.0</td>\n",
       "      <td>0</td>\n",
       "      <td>0</td>\n",
       "      <td>0</td>\n",
       "      <td>0</td>\n",
       "      <td>0</td>\n",
       "      <td>...</td>\n",
       "      <td>0</td>\n",
       "      <td>1</td>\n",
       "      <td>0</td>\n",
       "      <td>0</td>\n",
       "      <td>0</td>\n",
       "      <td>0</td>\n",
       "      <td>0</td>\n",
       "      <td>0</td>\n",
       "      <td>0</td>\n",
       "      <td>0</td>\n",
       "    </tr>\n",
       "    <tr>\n",
       "      <th>15</th>\n",
       "      <td>3.868704</td>\n",
       "      <td>14873</td>\n",
       "      <td>150000000</td>\n",
       "      <td>3.856804e+08</td>\n",
       "      <td>127.0</td>\n",
       "      <td>0</td>\n",
       "      <td>0</td>\n",
       "      <td>0</td>\n",
       "      <td>0</td>\n",
       "      <td>0</td>\n",
       "      <td>...</td>\n",
       "      <td>0</td>\n",
       "      <td>0</td>\n",
       "      <td>1</td>\n",
       "      <td>0</td>\n",
       "      <td>0</td>\n",
       "      <td>0</td>\n",
       "      <td>0</td>\n",
       "      <td>0</td>\n",
       "      <td>0</td>\n",
       "      <td>0</td>\n",
       "    </tr>\n",
       "    <tr>\n",
       "      <th>16</th>\n",
       "      <td>3.838605</td>\n",
       "      <td>11557</td>\n",
       "      <td>250000000</td>\n",
       "      <td>9.339592e+08</td>\n",
       "      <td>153.0</td>\n",
       "      <td>0</td>\n",
       "      <td>0</td>\n",
       "      <td>0</td>\n",
       "      <td>0</td>\n",
       "      <td>0</td>\n",
       "      <td>...</td>\n",
       "      <td>0</td>\n",
       "      <td>0</td>\n",
       "      <td>0</td>\n",
       "      <td>0</td>\n",
       "      <td>1</td>\n",
       "      <td>0</td>\n",
       "      <td>0</td>\n",
       "      <td>0</td>\n",
       "      <td>0</td>\n",
       "      <td>0</td>\n",
       "    </tr>\n",
       "    <tr>\n",
       "      <th>17</th>\n",
       "      <td>3.762442</td>\n",
       "      <td>12848</td>\n",
       "      <td>90000000</td>\n",
       "      <td>5.240287e+08</td>\n",
       "      <td>128.0</td>\n",
       "      <td>0</td>\n",
       "      <td>0</td>\n",
       "      <td>0</td>\n",
       "      <td>0</td>\n",
       "      <td>0</td>\n",
       "      <td>...</td>\n",
       "      <td>0</td>\n",
       "      <td>0</td>\n",
       "      <td>0</td>\n",
       "      <td>0</td>\n",
       "      <td>0</td>\n",
       "      <td>0</td>\n",
       "      <td>0</td>\n",
       "      <td>0</td>\n",
       "      <td>0</td>\n",
       "      <td>1</td>\n",
       "    </tr>\n",
       "    <tr>\n",
       "      <th>18</th>\n",
       "      <td>3.868599</td>\n",
       "      <td>11562</td>\n",
       "      <td>250000000</td>\n",
       "      <td>9.543059e+08</td>\n",
       "      <td>146.0</td>\n",
       "      <td>0</td>\n",
       "      <td>0</td>\n",
       "      <td>0</td>\n",
       "      <td>0</td>\n",
       "      <td>0</td>\n",
       "      <td>...</td>\n",
       "      <td>0</td>\n",
       "      <td>0</td>\n",
       "      <td>0</td>\n",
       "      <td>0</td>\n",
       "      <td>0</td>\n",
       "      <td>0</td>\n",
       "      <td>0</td>\n",
       "      <td>1</td>\n",
       "      <td>0</td>\n",
       "      <td>0</td>\n",
       "    </tr>\n",
       "    <tr>\n",
       "      <th>19</th>\n",
       "      <td>3.559189</td>\n",
       "      <td>11353</td>\n",
       "      <td>75000000</td>\n",
       "      <td>6.912107e+08</td>\n",
       "      <td>142.0</td>\n",
       "      <td>0</td>\n",
       "      <td>0</td>\n",
       "      <td>0</td>\n",
       "      <td>0</td>\n",
       "      <td>0</td>\n",
       "      <td>...</td>\n",
       "      <td>1</td>\n",
       "      <td>0</td>\n",
       "      <td>0</td>\n",
       "      <td>0</td>\n",
       "      <td>0</td>\n",
       "      <td>0</td>\n",
       "      <td>0</td>\n",
       "      <td>0</td>\n",
       "      <td>0</td>\n",
       "      <td>0</td>\n",
       "    </tr>\n",
       "    <tr>\n",
       "      <th>20</th>\n",
       "      <td>3.732678</td>\n",
       "      <td>7196</td>\n",
       "      <td>125000000</td>\n",
       "      <td>3.346150e+08</td>\n",
       "      <td>129.0</td>\n",
       "      <td>0</td>\n",
       "      <td>0</td>\n",
       "      <td>0</td>\n",
       "      <td>0</td>\n",
       "      <td>0</td>\n",
       "      <td>...</td>\n",
       "      <td>0</td>\n",
       "      <td>0</td>\n",
       "      <td>0</td>\n",
       "      <td>0</td>\n",
       "      <td>0</td>\n",
       "      <td>0</td>\n",
       "      <td>0</td>\n",
       "      <td>0</td>\n",
       "      <td>1</td>\n",
       "      <td>0</td>\n",
       "    </tr>\n",
       "    <tr>\n",
       "      <th>21</th>\n",
       "      <td>3.859663</td>\n",
       "      <td>5096</td>\n",
       "      <td>13000000</td>\n",
       "      <td>3.340000e+07</td>\n",
       "      <td>102.0</td>\n",
       "      <td>0</td>\n",
       "      <td>0</td>\n",
       "      <td>0</td>\n",
       "      <td>0</td>\n",
       "      <td>0</td>\n",
       "      <td>...</td>\n",
       "      <td>0</td>\n",
       "      <td>0</td>\n",
       "      <td>0</td>\n",
       "      <td>0</td>\n",
       "      <td>0</td>\n",
       "      <td>0</td>\n",
       "      <td>1</td>\n",
       "      <td>0</td>\n",
       "      <td>0</td>\n",
       "      <td>0</td>\n",
       "    </tr>\n",
       "    <tr>\n",
       "      <th>22</th>\n",
       "      <td>3.699251</td>\n",
       "      <td>8959</td>\n",
       "      <td>250000000</td>\n",
       "      <td>1.021104e+09</td>\n",
       "      <td>169.0</td>\n",
       "      <td>0</td>\n",
       "      <td>0</td>\n",
       "      <td>0</td>\n",
       "      <td>0</td>\n",
       "      <td>0</td>\n",
       "      <td>...</td>\n",
       "      <td>0</td>\n",
       "      <td>0</td>\n",
       "      <td>0</td>\n",
       "      <td>0</td>\n",
       "      <td>0</td>\n",
       "      <td>0</td>\n",
       "      <td>0</td>\n",
       "      <td>0</td>\n",
       "      <td>1</td>\n",
       "      <td>0</td>\n",
       "    </tr>\n",
       "    <tr>\n",
       "      <th>23</th>\n",
       "      <td>4.004747</td>\n",
       "      <td>16985</td>\n",
       "      <td>100000000</td>\n",
       "      <td>4.253682e+08</td>\n",
       "      <td>165.0</td>\n",
       "      <td>0</td>\n",
       "      <td>0</td>\n",
       "      <td>0</td>\n",
       "      <td>0</td>\n",
       "      <td>0</td>\n",
       "      <td>...</td>\n",
       "      <td>0</td>\n",
       "      <td>0</td>\n",
       "      <td>0</td>\n",
       "      <td>0</td>\n",
       "      <td>0</td>\n",
       "      <td>0</td>\n",
       "      <td>0</td>\n",
       "      <td>0</td>\n",
       "      <td>0</td>\n",
       "      <td>1</td>\n",
       "    </tr>\n",
       "    <tr>\n",
       "      <th>24</th>\n",
       "      <td>4.111939</td>\n",
       "      <td>8455</td>\n",
       "      <td>3300000</td>\n",
       "      <td>1.309200e+07</td>\n",
       "      <td>105.0</td>\n",
       "      <td>0</td>\n",
       "      <td>0</td>\n",
       "      <td>0</td>\n",
       "      <td>0</td>\n",
       "      <td>0</td>\n",
       "      <td>...</td>\n",
       "      <td>0</td>\n",
       "      <td>0</td>\n",
       "      <td>0</td>\n",
       "      <td>0</td>\n",
       "      <td>0</td>\n",
       "      <td>0</td>\n",
       "      <td>0</td>\n",
       "      <td>1</td>\n",
       "      <td>0</td>\n",
       "      <td>0</td>\n",
       "    </tr>\n",
       "    <tr>\n",
       "      <th>25</th>\n",
       "      <td>3.665861</td>\n",
       "      <td>24619</td>\n",
       "      <td>3600000</td>\n",
       "      <td>4.980000e+07</td>\n",
       "      <td>112.0</td>\n",
       "      <td>0</td>\n",
       "      <td>0</td>\n",
       "      <td>0</td>\n",
       "      <td>0</td>\n",
       "      <td>0</td>\n",
       "      <td>...</td>\n",
       "      <td>0</td>\n",
       "      <td>0</td>\n",
       "      <td>0</td>\n",
       "      <td>0</td>\n",
       "      <td>0</td>\n",
       "      <td>0</td>\n",
       "      <td>0</td>\n",
       "      <td>1</td>\n",
       "      <td>0</td>\n",
       "      <td>0</td>\n",
       "    </tr>\n",
       "    <tr>\n",
       "      <th>26</th>\n",
       "      <td>3.887729</td>\n",
       "      <td>53398</td>\n",
       "      <td>29500000</td>\n",
       "      <td>1.688400e+08</td>\n",
       "      <td>129.0</td>\n",
       "      <td>0</td>\n",
       "      <td>0</td>\n",
       "      <td>0</td>\n",
       "      <td>0</td>\n",
       "      <td>0</td>\n",
       "      <td>...</td>\n",
       "      <td>0</td>\n",
       "      <td>0</td>\n",
       "      <td>0</td>\n",
       "      <td>0</td>\n",
       "      <td>0</td>\n",
       "      <td>0</td>\n",
       "      <td>0</td>\n",
       "      <td>0</td>\n",
       "      <td>0</td>\n",
       "      <td>1</td>\n",
       "    </tr>\n",
       "    <tr>\n",
       "      <th>27</th>\n",
       "      <td>3.521621</td>\n",
       "      <td>25738</td>\n",
       "      <td>31000000</td>\n",
       "      <td>1.852606e+08</td>\n",
       "      <td>117.0</td>\n",
       "      <td>0</td>\n",
       "      <td>0</td>\n",
       "      <td>0</td>\n",
       "      <td>0</td>\n",
       "      <td>0</td>\n",
       "      <td>...</td>\n",
       "      <td>1</td>\n",
       "      <td>0</td>\n",
       "      <td>0</td>\n",
       "      <td>0</td>\n",
       "      <td>0</td>\n",
       "      <td>0</td>\n",
       "      <td>0</td>\n",
       "      <td>0</td>\n",
       "      <td>0</td>\n",
       "      <td>0</td>\n",
       "    </tr>\n",
       "    <tr>\n",
       "      <th>28</th>\n",
       "      <td>4.131367</td>\n",
       "      <td>77045</td>\n",
       "      <td>11000000</td>\n",
       "      <td>7.753980e+08</td>\n",
       "      <td>121.0</td>\n",
       "      <td>0</td>\n",
       "      <td>0</td>\n",
       "      <td>0</td>\n",
       "      <td>0</td>\n",
       "      <td>0</td>\n",
       "      <td>...</td>\n",
       "      <td>0</td>\n",
       "      <td>0</td>\n",
       "      <td>1</td>\n",
       "      <td>0</td>\n",
       "      <td>0</td>\n",
       "      <td>0</td>\n",
       "      <td>0</td>\n",
       "      <td>0</td>\n",
       "      <td>0</td>\n",
       "      <td>0</td>\n",
       "    </tr>\n",
       "    <tr>\n",
       "      <th>29</th>\n",
       "      <td>3.507817</td>\n",
       "      <td>25574</td>\n",
       "      <td>17000000</td>\n",
       "      <td>1.820570e+08</td>\n",
       "      <td>103.0</td>\n",
       "      <td>0</td>\n",
       "      <td>0</td>\n",
       "      <td>0</td>\n",
       "      <td>0</td>\n",
       "      <td>0</td>\n",
       "      <td>...</td>\n",
       "      <td>0</td>\n",
       "      <td>1</td>\n",
       "      <td>0</td>\n",
       "      <td>0</td>\n",
       "      <td>0</td>\n",
       "      <td>0</td>\n",
       "      <td>0</td>\n",
       "      <td>0</td>\n",
       "      <td>0</td>\n",
       "      <td>0</td>\n",
       "    </tr>\n",
       "    <tr>\n",
       "      <th>...</th>\n",
       "      <td>...</td>\n",
       "      <td>...</td>\n",
       "      <td>...</td>\n",
       "      <td>...</td>\n",
       "      <td>...</td>\n",
       "      <td>...</td>\n",
       "      <td>...</td>\n",
       "      <td>...</td>\n",
       "      <td>...</td>\n",
       "      <td>...</td>\n",
       "      <td>...</td>\n",
       "      <td>...</td>\n",
       "      <td>...</td>\n",
       "      <td>...</td>\n",
       "      <td>...</td>\n",
       "      <td>...</td>\n",
       "      <td>...</td>\n",
       "      <td>...</td>\n",
       "      <td>...</td>\n",
       "      <td>...</td>\n",
       "      <td>...</td>\n",
       "    </tr>\n",
       "    <tr>\n",
       "      <th>4502</th>\n",
       "      <td>2.607670</td>\n",
       "      <td>95</td>\n",
       "      <td>1500000</td>\n",
       "      <td>5.585154e+06</td>\n",
       "      <td>94.0</td>\n",
       "      <td>0</td>\n",
       "      <td>0</td>\n",
       "      <td>0</td>\n",
       "      <td>0</td>\n",
       "      <td>0</td>\n",
       "      <td>...</td>\n",
       "      <td>0</td>\n",
       "      <td>0</td>\n",
       "      <td>0</td>\n",
       "      <td>0</td>\n",
       "      <td>0</td>\n",
       "      <td>0</td>\n",
       "      <td>0</td>\n",
       "      <td>0</td>\n",
       "      <td>0</td>\n",
       "      <td>0</td>\n",
       "    </tr>\n",
       "    <tr>\n",
       "      <th>4503</th>\n",
       "      <td>3.210666</td>\n",
       "      <td>87</td>\n",
       "      <td>5000000</td>\n",
       "      <td>2.028612e+06</td>\n",
       "      <td>144.0</td>\n",
       "      <td>0</td>\n",
       "      <td>0</td>\n",
       "      <td>0</td>\n",
       "      <td>0</td>\n",
       "      <td>0</td>\n",
       "      <td>...</td>\n",
       "      <td>0</td>\n",
       "      <td>1</td>\n",
       "      <td>0</td>\n",
       "      <td>0</td>\n",
       "      <td>0</td>\n",
       "      <td>0</td>\n",
       "      <td>0</td>\n",
       "      <td>0</td>\n",
       "      <td>0</td>\n",
       "      <td>0</td>\n",
       "    </tr>\n",
       "    <tr>\n",
       "      <th>4504</th>\n",
       "      <td>3.204918</td>\n",
       "      <td>84</td>\n",
       "      <td>35000000</td>\n",
       "      <td>2.733000e+07</td>\n",
       "      <td>141.0</td>\n",
       "      <td>0</td>\n",
       "      <td>0</td>\n",
       "      <td>0</td>\n",
       "      <td>0</td>\n",
       "      <td>0</td>\n",
       "      <td>...</td>\n",
       "      <td>0</td>\n",
       "      <td>0</td>\n",
       "      <td>0</td>\n",
       "      <td>0</td>\n",
       "      <td>0</td>\n",
       "      <td>0</td>\n",
       "      <td>0</td>\n",
       "      <td>0</td>\n",
       "      <td>0</td>\n",
       "      <td>1</td>\n",
       "    </tr>\n",
       "    <tr>\n",
       "      <th>4505</th>\n",
       "      <td>3.130019</td>\n",
       "      <td>71</td>\n",
       "      <td>15000000</td>\n",
       "      <td>6.325420e+05</td>\n",
       "      <td>105.0</td>\n",
       "      <td>0</td>\n",
       "      <td>0</td>\n",
       "      <td>0</td>\n",
       "      <td>0</td>\n",
       "      <td>0</td>\n",
       "      <td>...</td>\n",
       "      <td>0</td>\n",
       "      <td>0</td>\n",
       "      <td>0</td>\n",
       "      <td>0</td>\n",
       "      <td>0</td>\n",
       "      <td>1</td>\n",
       "      <td>0</td>\n",
       "      <td>0</td>\n",
       "      <td>0</td>\n",
       "      <td>0</td>\n",
       "    </tr>\n",
       "    <tr>\n",
       "      <th>4506</th>\n",
       "      <td>3.032908</td>\n",
       "      <td>68</td>\n",
       "      <td>10000000</td>\n",
       "      <td>3.565109e+06</td>\n",
       "      <td>90.0</td>\n",
       "      <td>0</td>\n",
       "      <td>0</td>\n",
       "      <td>0</td>\n",
       "      <td>0</td>\n",
       "      <td>0</td>\n",
       "      <td>...</td>\n",
       "      <td>1</td>\n",
       "      <td>0</td>\n",
       "      <td>0</td>\n",
       "      <td>0</td>\n",
       "      <td>0</td>\n",
       "      <td>0</td>\n",
       "      <td>0</td>\n",
       "      <td>0</td>\n",
       "      <td>0</td>\n",
       "      <td>0</td>\n",
       "    </tr>\n",
       "    <tr>\n",
       "      <th>4507</th>\n",
       "      <td>3.165055</td>\n",
       "      <td>72</td>\n",
       "      <td>1000000</td>\n",
       "      <td>1.847900e+04</td>\n",
       "      <td>87.0</td>\n",
       "      <td>0</td>\n",
       "      <td>0</td>\n",
       "      <td>0</td>\n",
       "      <td>0</td>\n",
       "      <td>0</td>\n",
       "      <td>...</td>\n",
       "      <td>0</td>\n",
       "      <td>0</td>\n",
       "      <td>0</td>\n",
       "      <td>0</td>\n",
       "      <td>0</td>\n",
       "      <td>0</td>\n",
       "      <td>0</td>\n",
       "      <td>0</td>\n",
       "      <td>0</td>\n",
       "      <td>0</td>\n",
       "    </tr>\n",
       "    <tr>\n",
       "      <th>4508</th>\n",
       "      <td>3.260104</td>\n",
       "      <td>150</td>\n",
       "      <td>14000000</td>\n",
       "      <td>3.621046e+06</td>\n",
       "      <td>120.0</td>\n",
       "      <td>0</td>\n",
       "      <td>0</td>\n",
       "      <td>0</td>\n",
       "      <td>0</td>\n",
       "      <td>0</td>\n",
       "      <td>...</td>\n",
       "      <td>0</td>\n",
       "      <td>0</td>\n",
       "      <td>0</td>\n",
       "      <td>0</td>\n",
       "      <td>0</td>\n",
       "      <td>0</td>\n",
       "      <td>0</td>\n",
       "      <td>0</td>\n",
       "      <td>0</td>\n",
       "      <td>0</td>\n",
       "    </tr>\n",
       "    <tr>\n",
       "      <th>4509</th>\n",
       "      <td>3.129617</td>\n",
       "      <td>83</td>\n",
       "      <td>10000000</td>\n",
       "      <td>3.160924e+07</td>\n",
       "      <td>100.0</td>\n",
       "      <td>0</td>\n",
       "      <td>0</td>\n",
       "      <td>0</td>\n",
       "      <td>0</td>\n",
       "      <td>0</td>\n",
       "      <td>...</td>\n",
       "      <td>0</td>\n",
       "      <td>0</td>\n",
       "      <td>0</td>\n",
       "      <td>0</td>\n",
       "      <td>0</td>\n",
       "      <td>0</td>\n",
       "      <td>0</td>\n",
       "      <td>0</td>\n",
       "      <td>0</td>\n",
       "      <td>0</td>\n",
       "    </tr>\n",
       "    <tr>\n",
       "      <th>4510</th>\n",
       "      <td>3.002380</td>\n",
       "      <td>119</td>\n",
       "      <td>15000000</td>\n",
       "      <td>2.052919e+07</td>\n",
       "      <td>117.0</td>\n",
       "      <td>0</td>\n",
       "      <td>0</td>\n",
       "      <td>0</td>\n",
       "      <td>0</td>\n",
       "      <td>0</td>\n",
       "      <td>...</td>\n",
       "      <td>0</td>\n",
       "      <td>0</td>\n",
       "      <td>0</td>\n",
       "      <td>0</td>\n",
       "      <td>0</td>\n",
       "      <td>0</td>\n",
       "      <td>0</td>\n",
       "      <td>0</td>\n",
       "      <td>0</td>\n",
       "      <td>1</td>\n",
       "    </tr>\n",
       "    <tr>\n",
       "      <th>4511</th>\n",
       "      <td>3.291582</td>\n",
       "      <td>118</td>\n",
       "      <td>106000</td>\n",
       "      <td>1.931925e+07</td>\n",
       "      <td>107.0</td>\n",
       "      <td>0</td>\n",
       "      <td>0</td>\n",
       "      <td>0</td>\n",
       "      <td>0</td>\n",
       "      <td>0</td>\n",
       "      <td>...</td>\n",
       "      <td>0</td>\n",
       "      <td>0</td>\n",
       "      <td>0</td>\n",
       "      <td>0</td>\n",
       "      <td>1</td>\n",
       "      <td>0</td>\n",
       "      <td>0</td>\n",
       "      <td>0</td>\n",
       "      <td>0</td>\n",
       "      <td>0</td>\n",
       "    </tr>\n",
       "    <tr>\n",
       "      <th>4512</th>\n",
       "      <td>2.896905</td>\n",
       "      <td>210</td>\n",
       "      <td>14800000</td>\n",
       "      <td>1.225131e+08</td>\n",
       "      <td>115.0</td>\n",
       "      <td>0</td>\n",
       "      <td>0</td>\n",
       "      <td>0</td>\n",
       "      <td>0</td>\n",
       "      <td>0</td>\n",
       "      <td>...</td>\n",
       "      <td>0</td>\n",
       "      <td>0</td>\n",
       "      <td>0</td>\n",
       "      <td>0</td>\n",
       "      <td>1</td>\n",
       "      <td>0</td>\n",
       "      <td>0</td>\n",
       "      <td>0</td>\n",
       "      <td>0</td>\n",
       "      <td>0</td>\n",
       "    </tr>\n",
       "    <tr>\n",
       "      <th>4513</th>\n",
       "      <td>3.265212</td>\n",
       "      <td>110</td>\n",
       "      <td>9200000</td>\n",
       "      <td>9.346177e+06</td>\n",
       "      <td>114.0</td>\n",
       "      <td>0</td>\n",
       "      <td>0</td>\n",
       "      <td>0</td>\n",
       "      <td>0</td>\n",
       "      <td>0</td>\n",
       "      <td>...</td>\n",
       "      <td>0</td>\n",
       "      <td>0</td>\n",
       "      <td>0</td>\n",
       "      <td>0</td>\n",
       "      <td>1</td>\n",
       "      <td>0</td>\n",
       "      <td>0</td>\n",
       "      <td>0</td>\n",
       "      <td>0</td>\n",
       "      <td>0</td>\n",
       "    </tr>\n",
       "    <tr>\n",
       "      <th>4514</th>\n",
       "      <td>3.100296</td>\n",
       "      <td>77</td>\n",
       "      <td>8000000</td>\n",
       "      <td>7.849900e+05</td>\n",
       "      <td>95.0</td>\n",
       "      <td>0</td>\n",
       "      <td>0</td>\n",
       "      <td>0</td>\n",
       "      <td>0</td>\n",
       "      <td>0</td>\n",
       "      <td>...</td>\n",
       "      <td>0</td>\n",
       "      <td>0</td>\n",
       "      <td>0</td>\n",
       "      <td>0</td>\n",
       "      <td>0</td>\n",
       "      <td>0</td>\n",
       "      <td>0</td>\n",
       "      <td>0</td>\n",
       "      <td>0</td>\n",
       "      <td>1</td>\n",
       "    </tr>\n",
       "    <tr>\n",
       "      <th>4515</th>\n",
       "      <td>2.815196</td>\n",
       "      <td>74</td>\n",
       "      <td>2800000</td>\n",
       "      <td>2.627900e+07</td>\n",
       "      <td>87.0</td>\n",
       "      <td>0</td>\n",
       "      <td>0</td>\n",
       "      <td>0</td>\n",
       "      <td>0</td>\n",
       "      <td>0</td>\n",
       "      <td>...</td>\n",
       "      <td>0</td>\n",
       "      <td>0</td>\n",
       "      <td>0</td>\n",
       "      <td>0</td>\n",
       "      <td>0</td>\n",
       "      <td>1</td>\n",
       "      <td>0</td>\n",
       "      <td>0</td>\n",
       "      <td>0</td>\n",
       "      <td>0</td>\n",
       "    </tr>\n",
       "    <tr>\n",
       "      <th>4516</th>\n",
       "      <td>3.442660</td>\n",
       "      <td>152</td>\n",
       "      <td>151000</td>\n",
       "      <td>8.000000e+06</td>\n",
       "      <td>91.0</td>\n",
       "      <td>0</td>\n",
       "      <td>0</td>\n",
       "      <td>0</td>\n",
       "      <td>0</td>\n",
       "      <td>0</td>\n",
       "      <td>...</td>\n",
       "      <td>0</td>\n",
       "      <td>0</td>\n",
       "      <td>1</td>\n",
       "      <td>0</td>\n",
       "      <td>0</td>\n",
       "      <td>0</td>\n",
       "      <td>0</td>\n",
       "      <td>0</td>\n",
       "      <td>0</td>\n",
       "      <td>0</td>\n",
       "    </tr>\n",
       "    <tr>\n",
       "      <th>4517</th>\n",
       "      <td>3.211817</td>\n",
       "      <td>72</td>\n",
       "      <td>225000</td>\n",
       "      <td>2.850000e+06</td>\n",
       "      <td>87.0</td>\n",
       "      <td>0</td>\n",
       "      <td>0</td>\n",
       "      <td>0</td>\n",
       "      <td>0</td>\n",
       "      <td>0</td>\n",
       "      <td>...</td>\n",
       "      <td>0</td>\n",
       "      <td>0</td>\n",
       "      <td>0</td>\n",
       "      <td>0</td>\n",
       "      <td>0</td>\n",
       "      <td>0</td>\n",
       "      <td>0</td>\n",
       "      <td>1</td>\n",
       "      <td>0</td>\n",
       "      <td>0</td>\n",
       "    </tr>\n",
       "    <tr>\n",
       "      <th>4518</th>\n",
       "      <td>3.343787</td>\n",
       "      <td>71</td>\n",
       "      <td>3500000</td>\n",
       "      <td>1.280000e+07</td>\n",
       "      <td>149.0</td>\n",
       "      <td>0</td>\n",
       "      <td>0</td>\n",
       "      <td>0</td>\n",
       "      <td>0</td>\n",
       "      <td>0</td>\n",
       "      <td>...</td>\n",
       "      <td>0</td>\n",
       "      <td>0</td>\n",
       "      <td>0</td>\n",
       "      <td>1</td>\n",
       "      <td>0</td>\n",
       "      <td>0</td>\n",
       "      <td>0</td>\n",
       "      <td>0</td>\n",
       "      <td>0</td>\n",
       "      <td>0</td>\n",
       "    </tr>\n",
       "    <tr>\n",
       "      <th>4519</th>\n",
       "      <td>3.285304</td>\n",
       "      <td>73</td>\n",
       "      <td>9000000</td>\n",
       "      <td>6.045657e+06</td>\n",
       "      <td>108.0</td>\n",
       "      <td>0</td>\n",
       "      <td>0</td>\n",
       "      <td>0</td>\n",
       "      <td>0</td>\n",
       "      <td>0</td>\n",
       "      <td>...</td>\n",
       "      <td>1</td>\n",
       "      <td>0</td>\n",
       "      <td>0</td>\n",
       "      <td>0</td>\n",
       "      <td>0</td>\n",
       "      <td>0</td>\n",
       "      <td>0</td>\n",
       "      <td>0</td>\n",
       "      <td>0</td>\n",
       "      <td>0</td>\n",
       "    </tr>\n",
       "    <tr>\n",
       "      <th>4520</th>\n",
       "      <td>2.931101</td>\n",
       "      <td>108</td>\n",
       "      <td>20000000</td>\n",
       "      <td>2.117056e+07</td>\n",
       "      <td>105.0</td>\n",
       "      <td>0</td>\n",
       "      <td>0</td>\n",
       "      <td>0</td>\n",
       "      <td>0</td>\n",
       "      <td>0</td>\n",
       "      <td>...</td>\n",
       "      <td>1</td>\n",
       "      <td>0</td>\n",
       "      <td>0</td>\n",
       "      <td>0</td>\n",
       "      <td>0</td>\n",
       "      <td>0</td>\n",
       "      <td>0</td>\n",
       "      <td>0</td>\n",
       "      <td>0</td>\n",
       "      <td>0</td>\n",
       "    </tr>\n",
       "    <tr>\n",
       "      <th>4521</th>\n",
       "      <td>3.409004</td>\n",
       "      <td>71</td>\n",
       "      <td>12000000</td>\n",
       "      <td>1.065250e+07</td>\n",
       "      <td>132.0</td>\n",
       "      <td>0</td>\n",
       "      <td>0</td>\n",
       "      <td>0</td>\n",
       "      <td>0</td>\n",
       "      <td>0</td>\n",
       "      <td>...</td>\n",
       "      <td>0</td>\n",
       "      <td>1</td>\n",
       "      <td>0</td>\n",
       "      <td>0</td>\n",
       "      <td>0</td>\n",
       "      <td>0</td>\n",
       "      <td>0</td>\n",
       "      <td>0</td>\n",
       "      <td>0</td>\n",
       "      <td>0</td>\n",
       "    </tr>\n",
       "    <tr>\n",
       "      <th>4522</th>\n",
       "      <td>3.283555</td>\n",
       "      <td>125</td>\n",
       "      <td>10000000</td>\n",
       "      <td>1.083575e+07</td>\n",
       "      <td>107.0</td>\n",
       "      <td>0</td>\n",
       "      <td>0</td>\n",
       "      <td>0</td>\n",
       "      <td>0</td>\n",
       "      <td>0</td>\n",
       "      <td>...</td>\n",
       "      <td>1</td>\n",
       "      <td>0</td>\n",
       "      <td>0</td>\n",
       "      <td>0</td>\n",
       "      <td>0</td>\n",
       "      <td>0</td>\n",
       "      <td>0</td>\n",
       "      <td>0</td>\n",
       "      <td>0</td>\n",
       "      <td>0</td>\n",
       "    </tr>\n",
       "    <tr>\n",
       "      <th>4523</th>\n",
       "      <td>2.667447</td>\n",
       "      <td>73</td>\n",
       "      <td>25000000</td>\n",
       "      <td>8.308089e+07</td>\n",
       "      <td>102.0</td>\n",
       "      <td>0</td>\n",
       "      <td>0</td>\n",
       "      <td>0</td>\n",
       "      <td>0</td>\n",
       "      <td>0</td>\n",
       "      <td>...</td>\n",
       "      <td>0</td>\n",
       "      <td>0</td>\n",
       "      <td>0</td>\n",
       "      <td>0</td>\n",
       "      <td>0</td>\n",
       "      <td>0</td>\n",
       "      <td>0</td>\n",
       "      <td>0</td>\n",
       "      <td>0</td>\n",
       "      <td>0</td>\n",
       "    </tr>\n",
       "    <tr>\n",
       "      <th>4524</th>\n",
       "      <td>2.836226</td>\n",
       "      <td>86</td>\n",
       "      <td>66000</td>\n",
       "      <td>2.500000e+05</td>\n",
       "      <td>73.0</td>\n",
       "      <td>0</td>\n",
       "      <td>0</td>\n",
       "      <td>0</td>\n",
       "      <td>0</td>\n",
       "      <td>0</td>\n",
       "      <td>...</td>\n",
       "      <td>0</td>\n",
       "      <td>0</td>\n",
       "      <td>0</td>\n",
       "      <td>0</td>\n",
       "      <td>0</td>\n",
       "      <td>0</td>\n",
       "      <td>0</td>\n",
       "      <td>0</td>\n",
       "      <td>0</td>\n",
       "      <td>0</td>\n",
       "    </tr>\n",
       "    <tr>\n",
       "      <th>4525</th>\n",
       "      <td>2.988428</td>\n",
       "      <td>154</td>\n",
       "      <td>6000000</td>\n",
       "      <td>3.108100e+04</td>\n",
       "      <td>89.0</td>\n",
       "      <td>0</td>\n",
       "      <td>0</td>\n",
       "      <td>0</td>\n",
       "      <td>0</td>\n",
       "      <td>0</td>\n",
       "      <td>...</td>\n",
       "      <td>0</td>\n",
       "      <td>0</td>\n",
       "      <td>0</td>\n",
       "      <td>0</td>\n",
       "      <td>0</td>\n",
       "      <td>0</td>\n",
       "      <td>0</td>\n",
       "      <td>0</td>\n",
       "      <td>0</td>\n",
       "      <td>1</td>\n",
       "    </tr>\n",
       "    <tr>\n",
       "      <th>4526</th>\n",
       "      <td>3.127131</td>\n",
       "      <td>82</td>\n",
       "      <td>16000000</td>\n",
       "      <td>2.084628e+06</td>\n",
       "      <td>101.0</td>\n",
       "      <td>0</td>\n",
       "      <td>0</td>\n",
       "      <td>0</td>\n",
       "      <td>0</td>\n",
       "      <td>0</td>\n",
       "      <td>...</td>\n",
       "      <td>0</td>\n",
       "      <td>0</td>\n",
       "      <td>0</td>\n",
       "      <td>0</td>\n",
       "      <td>1</td>\n",
       "      <td>0</td>\n",
       "      <td>0</td>\n",
       "      <td>0</td>\n",
       "      <td>0</td>\n",
       "      <td>0</td>\n",
       "    </tr>\n",
       "    <tr>\n",
       "      <th>4527</th>\n",
       "      <td>3.086726</td>\n",
       "      <td>88</td>\n",
       "      <td>16000000</td>\n",
       "      <td>3.189820e+05</td>\n",
       "      <td>100.0</td>\n",
       "      <td>0</td>\n",
       "      <td>0</td>\n",
       "      <td>0</td>\n",
       "      <td>0</td>\n",
       "      <td>0</td>\n",
       "      <td>...</td>\n",
       "      <td>0</td>\n",
       "      <td>1</td>\n",
       "      <td>0</td>\n",
       "      <td>0</td>\n",
       "      <td>0</td>\n",
       "      <td>0</td>\n",
       "      <td>0</td>\n",
       "      <td>0</td>\n",
       "      <td>0</td>\n",
       "      <td>0</td>\n",
       "    </tr>\n",
       "    <tr>\n",
       "      <th>4528</th>\n",
       "      <td>3.142951</td>\n",
       "      <td>83</td>\n",
       "      <td>40000000</td>\n",
       "      <td>2.471922e+07</td>\n",
       "      <td>107.0</td>\n",
       "      <td>0</td>\n",
       "      <td>0</td>\n",
       "      <td>0</td>\n",
       "      <td>0</td>\n",
       "      <td>0</td>\n",
       "      <td>...</td>\n",
       "      <td>0</td>\n",
       "      <td>0</td>\n",
       "      <td>0</td>\n",
       "      <td>0</td>\n",
       "      <td>0</td>\n",
       "      <td>0</td>\n",
       "      <td>0</td>\n",
       "      <td>0</td>\n",
       "      <td>0</td>\n",
       "      <td>0</td>\n",
       "    </tr>\n",
       "    <tr>\n",
       "      <th>4529</th>\n",
       "      <td>3.192708</td>\n",
       "      <td>78</td>\n",
       "      <td>2000000</td>\n",
       "      <td>3.000000e+05</td>\n",
       "      <td>90.0</td>\n",
       "      <td>0</td>\n",
       "      <td>0</td>\n",
       "      <td>0</td>\n",
       "      <td>0</td>\n",
       "      <td>0</td>\n",
       "      <td>...</td>\n",
       "      <td>0</td>\n",
       "      <td>0</td>\n",
       "      <td>0</td>\n",
       "      <td>1</td>\n",
       "      <td>0</td>\n",
       "      <td>0</td>\n",
       "      <td>0</td>\n",
       "      <td>0</td>\n",
       "      <td>0</td>\n",
       "      <td>0</td>\n",
       "    </tr>\n",
       "    <tr>\n",
       "      <th>4530</th>\n",
       "      <td>3.370597</td>\n",
       "      <td>88</td>\n",
       "      <td>10000000</td>\n",
       "      <td>1.751191e+07</td>\n",
       "      <td>111.0</td>\n",
       "      <td>0</td>\n",
       "      <td>0</td>\n",
       "      <td>0</td>\n",
       "      <td>0</td>\n",
       "      <td>0</td>\n",
       "      <td>...</td>\n",
       "      <td>0</td>\n",
       "      <td>0</td>\n",
       "      <td>0</td>\n",
       "      <td>0</td>\n",
       "      <td>0</td>\n",
       "      <td>0</td>\n",
       "      <td>1</td>\n",
       "      <td>0</td>\n",
       "      <td>0</td>\n",
       "      <td>0</td>\n",
       "    </tr>\n",
       "    <tr>\n",
       "      <th>4531</th>\n",
       "      <td>3.515820</td>\n",
       "      <td>119</td>\n",
       "      <td>1300000</td>\n",
       "      <td>2.500000e+05</td>\n",
       "      <td>97.0</td>\n",
       "      <td>0</td>\n",
       "      <td>0</td>\n",
       "      <td>0</td>\n",
       "      <td>0</td>\n",
       "      <td>0</td>\n",
       "      <td>...</td>\n",
       "      <td>0</td>\n",
       "      <td>0</td>\n",
       "      <td>0</td>\n",
       "      <td>1</td>\n",
       "      <td>0</td>\n",
       "      <td>0</td>\n",
       "      <td>0</td>\n",
       "      <td>0</td>\n",
       "      <td>0</td>\n",
       "      <td>0</td>\n",
       "    </tr>\n",
       "  </tbody>\n",
       "</table>\n",
       "<p>4532 rows × 114 columns</p>\n",
       "</div>"
      ],
      "text/plain": [
       "      weighted_rating  votes_per_movie     budget       revenue  runtime  \\\n",
       "0            4.015094            66512   72000000  2.100000e+08    177.0   \n",
       "1            4.338309            57070    6000000  2.450664e+08    175.0   \n",
       "2            4.261279            36679   13000000  4.754284e+07    200.0   \n",
       "3            3.910587            25752   16400000  2.358601e+08    129.0   \n",
       "4            3.825622            26611    1000000  5.152517e+07     97.0   \n",
       "5            4.019985            49643   40000000  6.728063e+08    107.0   \n",
       "6            3.924843            27822    6000000  7.013637e+07    103.0   \n",
       "7            4.229409            60024   63000000  1.008538e+08    139.0   \n",
       "8            4.155273            40706    9000000  3.972310e+07    113.0   \n",
       "9            3.970254            26476    6000000  1.270522e+06    113.0   \n",
       "10           3.541135             2861    9000000  4.777465e+06     97.0   \n",
       "11           3.942817            29051  150000000  3.742187e+08    140.0   \n",
       "12           3.726337            11356   20000000  1.214632e+08    113.0   \n",
       "13           4.180174            39600  185000000  1.004558e+09    152.0   \n",
       "14           3.852942            23465  140000000  5.851742e+08    126.0   \n",
       "15           3.868704            14873  150000000  3.856804e+08    127.0   \n",
       "16           3.838605            11557  250000000  9.339592e+08    153.0   \n",
       "17           3.762442            12848   90000000  5.240287e+08    128.0   \n",
       "18           3.868599            11562  250000000  9.543059e+08    146.0   \n",
       "19           3.559189            11353   75000000  6.912107e+08    142.0   \n",
       "20           3.732678             7196  125000000  3.346150e+08    129.0   \n",
       "21           3.859663             5096   13000000  3.340000e+07    102.0   \n",
       "22           3.699251             8959  250000000  1.021104e+09    169.0   \n",
       "23           4.004747            16985  100000000  4.253682e+08    165.0   \n",
       "24           4.111939             8455    3300000  1.309200e+07    105.0   \n",
       "25           3.665861            24619    3600000  4.980000e+07    112.0   \n",
       "26           3.887729            53398   29500000  1.688400e+08    129.0   \n",
       "27           3.521621            25738   31000000  1.852606e+08    117.0   \n",
       "28           4.131367            77045   11000000  7.753980e+08    121.0   \n",
       "29           3.507817            25574   17000000  1.820570e+08    103.0   \n",
       "...               ...              ...        ...           ...      ...   \n",
       "4502         2.607670               95    1500000  5.585154e+06     94.0   \n",
       "4503         3.210666               87    5000000  2.028612e+06    144.0   \n",
       "4504         3.204918               84   35000000  2.733000e+07    141.0   \n",
       "4505         3.130019               71   15000000  6.325420e+05    105.0   \n",
       "4506         3.032908               68   10000000  3.565109e+06     90.0   \n",
       "4507         3.165055               72    1000000  1.847900e+04     87.0   \n",
       "4508         3.260104              150   14000000  3.621046e+06    120.0   \n",
       "4509         3.129617               83   10000000  3.160924e+07    100.0   \n",
       "4510         3.002380              119   15000000  2.052919e+07    117.0   \n",
       "4511         3.291582              118     106000  1.931925e+07    107.0   \n",
       "4512         2.896905              210   14800000  1.225131e+08    115.0   \n",
       "4513         3.265212              110    9200000  9.346177e+06    114.0   \n",
       "4514         3.100296               77    8000000  7.849900e+05     95.0   \n",
       "4515         2.815196               74    2800000  2.627900e+07     87.0   \n",
       "4516         3.442660              152     151000  8.000000e+06     91.0   \n",
       "4517         3.211817               72     225000  2.850000e+06     87.0   \n",
       "4518         3.343787               71    3500000  1.280000e+07    149.0   \n",
       "4519         3.285304               73    9000000  6.045657e+06    108.0   \n",
       "4520         2.931101              108   20000000  2.117056e+07    105.0   \n",
       "4521         3.409004               71   12000000  1.065250e+07    132.0   \n",
       "4522         3.283555              125   10000000  1.083575e+07    107.0   \n",
       "4523         2.667447               73   25000000  8.308089e+07    102.0   \n",
       "4524         2.836226               86      66000  2.500000e+05     73.0   \n",
       "4525         2.988428              154    6000000  3.108100e+04     89.0   \n",
       "4526         3.127131               82   16000000  2.084628e+06    101.0   \n",
       "4527         3.086726               88   16000000  3.189820e+05    100.0   \n",
       "4528         3.142951               83   40000000  2.471922e+07    107.0   \n",
       "4529         3.192708               78    2000000  3.000000e+05     90.0   \n",
       "4530         3.370597               88   10000000  1.751191e+07    111.0   \n",
       "4531         3.515820              119    1300000  2.500000e+05     97.0   \n",
       "\n",
       "      director_Alfred Hitchcock  director_Brian De Palma  \\\n",
       "0                             0                        0   \n",
       "1                             0                        0   \n",
       "2                             0                        0   \n",
       "3                             0                        0   \n",
       "4                             0                        0   \n",
       "5                             0                        0   \n",
       "6                             0                        0   \n",
       "7                             0                        0   \n",
       "8                             0                        0   \n",
       "9                             0                        0   \n",
       "10                            0                        0   \n",
       "11                            0                        0   \n",
       "12                            0                        0   \n",
       "13                            0                        0   \n",
       "14                            0                        0   \n",
       "15                            0                        0   \n",
       "16                            0                        0   \n",
       "17                            0                        0   \n",
       "18                            0                        0   \n",
       "19                            0                        0   \n",
       "20                            0                        0   \n",
       "21                            0                        0   \n",
       "22                            0                        0   \n",
       "23                            0                        0   \n",
       "24                            0                        0   \n",
       "25                            0                        0   \n",
       "26                            0                        0   \n",
       "27                            0                        0   \n",
       "28                            0                        0   \n",
       "29                            0                        0   \n",
       "...                         ...                      ...   \n",
       "4502                          0                        0   \n",
       "4503                          0                        0   \n",
       "4504                          0                        0   \n",
       "4505                          0                        0   \n",
       "4506                          0                        0   \n",
       "4507                          0                        0   \n",
       "4508                          0                        0   \n",
       "4509                          0                        0   \n",
       "4510                          0                        0   \n",
       "4511                          0                        0   \n",
       "4512                          0                        0   \n",
       "4513                          0                        0   \n",
       "4514                          0                        0   \n",
       "4515                          0                        0   \n",
       "4516                          0                        0   \n",
       "4517                          0                        0   \n",
       "4518                          0                        0   \n",
       "4519                          0                        0   \n",
       "4520                          0                        0   \n",
       "4521                          0                        0   \n",
       "4522                          0                        0   \n",
       "4523                          0                        0   \n",
       "4524                          0                        0   \n",
       "4525                          0                        0   \n",
       "4526                          0                        0   \n",
       "4527                          0                        0   \n",
       "4528                          0                        0   \n",
       "4529                          0                        0   \n",
       "4530                          0                        0   \n",
       "4531                          0                        0   \n",
       "\n",
       "      director_Clint Eastwood  director_Joel Coen  director_Joel Schumacher  \\\n",
       "0                           0                   0                         0   \n",
       "1                           0                   0                         0   \n",
       "2                           0                   0                         0   \n",
       "3                           0                   0                         0   \n",
       "4                           0                   0                         0   \n",
       "5                           0                   0                         0   \n",
       "6                           0                   0                         0   \n",
       "7                           0                   0                         0   \n",
       "8                           0                   0                         0   \n",
       "9                           0                   0                         0   \n",
       "10                          0                   0                         0   \n",
       "11                          0                   0                         0   \n",
       "12                          0                   0                         0   \n",
       "13                          0                   0                         0   \n",
       "14                          0                   0                         0   \n",
       "15                          0                   0                         0   \n",
       "16                          0                   0                         0   \n",
       "17                          0                   0                         0   \n",
       "18                          0                   0                         0   \n",
       "19                          0                   0                         0   \n",
       "20                          0                   0                         0   \n",
       "21                          0                   0                         0   \n",
       "22                          0                   0                         0   \n",
       "23                          0                   0                         0   \n",
       "24                          0                   0                         0   \n",
       "25                          0                   0                         0   \n",
       "26                          0                   0                         0   \n",
       "27                          0                   0                         0   \n",
       "28                          0                   0                         0   \n",
       "29                          0                   0                         0   \n",
       "...                       ...                 ...                       ...   \n",
       "4502                        0                   0                         0   \n",
       "4503                        0                   0                         0   \n",
       "4504                        0                   0                         0   \n",
       "4505                        0                   0                         0   \n",
       "4506                        0                   0                         0   \n",
       "4507                        0                   0                         0   \n",
       "4508                        0                   0                         0   \n",
       "4509                        0                   0                         0   \n",
       "4510                        0                   0                         0   \n",
       "4511                        0                   0                         0   \n",
       "4512                        0                   0                         0   \n",
       "4513                        0                   0                         0   \n",
       "4514                        0                   0                         0   \n",
       "4515                        0                   0                         0   \n",
       "4516                        0                   0                         0   \n",
       "4517                        0                   0                         0   \n",
       "4518                        0                   0                         0   \n",
       "4519                        0                   0                         0   \n",
       "4520                        0                   0                         0   \n",
       "4521                        0                   0                         0   \n",
       "4522                        0                   0                         0   \n",
       "4523                        0                   0                         0   \n",
       "4524                        0                   0                         0   \n",
       "4525                        0                   0                         0   \n",
       "4526                        0                   0                         0   \n",
       "4527                        0                   0                         0   \n",
       "4528                        0                   0                         0   \n",
       "4529                        0                   0                         0   \n",
       "4530                        0                   0                         0   \n",
       "4531                        0                   0                         0   \n",
       "\n",
       "      ...  Mar  Apr  May  Jun  Jul  Aug  Sep  Oct  Nov  Dec  \n",
       "0     ...    0    0    1    0    0    0    0    0    0    0  \n",
       "1     ...    1    0    0    0    0    0    0    0    0    0  \n",
       "2     ...    0    0    0    0    0    0    0    0    0    1  \n",
       "3     ...    0    0    0    1    0    0    0    0    0    0  \n",
       "4     ...    0    0    0    0    0    0    0    0    0    0  \n",
       "5     ...    0    0    0    0    0    1    0    0    0    0  \n",
       "6     ...    0    0    0    1    0    0    0    0    0    0  \n",
       "7     ...    0    0    0    0    0    0    0    1    0    0  \n",
       "8     ...    0    0    0    0    0    0    0    1    0    0  \n",
       "9     ...    0    0    0    0    0    0    0    0    0    0  \n",
       "10    ...    0    0    0    0    0    0    1    0    0    0  \n",
       "11    ...    0    0    0    1    0    0    0    0    0    0  \n",
       "12    ...    0    0    0    0    0    1    0    0    0    0  \n",
       "13    ...    0    0    0    0    1    0    0    0    0    0  \n",
       "14    ...    0    1    0    0    0    0    0    0    0    0  \n",
       "15    ...    0    0    1    0    0    0    0    0    0    0  \n",
       "16    ...    0    0    0    0    1    0    0    0    0    0  \n",
       "17    ...    0    0    0    0    0    0    0    0    0    1  \n",
       "18    ...    0    0    0    0    0    0    0    1    0    0  \n",
       "19    ...    1    0    0    0    0    0    0    0    0    0  \n",
       "20    ...    0    0    0    0    0    0    0    0    1    0  \n",
       "21    ...    0    0    0    0    0    0    1    0    0    0  \n",
       "22    ...    0    0    0    0    0    0    0    0    1    0  \n",
       "23    ...    0    0    0    0    0    0    0    0    0    1  \n",
       "24    ...    0    0    0    0    0    0    0    1    0    0  \n",
       "25    ...    0    0    0    0    0    0    0    1    0    0  \n",
       "26    ...    0    0    0    0    0    0    0    0    0    1  \n",
       "27    ...    1    0    0    0    0    0    0    0    0    0  \n",
       "28    ...    0    0    1    0    0    0    0    0    0    0  \n",
       "29    ...    0    1    0    0    0    0    0    0    0    0  \n",
       "...   ...  ...  ...  ...  ...  ...  ...  ...  ...  ...  ...  \n",
       "4502  ...    0    0    0    0    0    0    0    0    0    0  \n",
       "4503  ...    0    1    0    0    0    0    0    0    0    0  \n",
       "4504  ...    0    0    0    0    0    0    0    0    0    1  \n",
       "4505  ...    0    0    0    0    0    1    0    0    0    0  \n",
       "4506  ...    1    0    0    0    0    0    0    0    0    0  \n",
       "4507  ...    0    0    0    0    0    0    0    0    0    0  \n",
       "4508  ...    0    0    0    0    0    0    0    0    0    0  \n",
       "4509  ...    0    0    0    0    0    0    0    0    0    0  \n",
       "4510  ...    0    0    0    0    0    0    0    0    0    1  \n",
       "4511  ...    0    0    0    0    1    0    0    0    0    0  \n",
       "4512  ...    0    0    0    0    1    0    0    0    0    0  \n",
       "4513  ...    0    0    0    0    1    0    0    0    0    0  \n",
       "4514  ...    0    0    0    0    0    0    0    0    0    1  \n",
       "4515  ...    0    0    0    0    0    1    0    0    0    0  \n",
       "4516  ...    0    0    1    0    0    0    0    0    0    0  \n",
       "4517  ...    0    0    0    0    0    0    0    1    0    0  \n",
       "4518  ...    0    0    0    1    0    0    0    0    0    0  \n",
       "4519  ...    1    0    0    0    0    0    0    0    0    0  \n",
       "4520  ...    1    0    0    0    0    0    0    0    0    0  \n",
       "4521  ...    0    1    0    0    0    0    0    0    0    0  \n",
       "4522  ...    1    0    0    0    0    0    0    0    0    0  \n",
       "4523  ...    0    0    0    0    0    0    0    0    0    0  \n",
       "4524  ...    0    0    0    0    0    0    0    0    0    0  \n",
       "4525  ...    0    0    0    0    0    0    0    0    0    1  \n",
       "4526  ...    0    0    0    0    1    0    0    0    0    0  \n",
       "4527  ...    0    1    0    0    0    0    0    0    0    0  \n",
       "4528  ...    0    0    0    0    0    0    0    0    0    0  \n",
       "4529  ...    0    0    0    1    0    0    0    0    0    0  \n",
       "4530  ...    0    0    0    0    0    0    1    0    0    0  \n",
       "4531  ...    0    0    0    1    0    0    0    0    0    0  \n",
       "\n",
       "[4532 rows x 114 columns]"
      ]
     },
     "execution_count": 139,
     "metadata": {},
     "output_type": "execute_result"
    }
   ],
   "source": [
    "df_clean.drop('budget', axis = 1)\n",
    "df_clean.drop('country_Japan', axis = 1)\n",
    "df_clean.drop('language_hi', axis = 1)"
   ]
  },
  {
   "cell_type": "markdown",
   "metadata": {},
   "source": [
    "# Using decisiton tree regression"
   ]
  },
  {
   "cell_type": "code",
   "execution_count": 140,
   "metadata": {},
   "outputs": [],
   "source": [
    "#  Import 'r2_score'\n",
    "from sklearn.metrics import r2_score\n",
    "from sklearn.model_selection import ShuffleSplit"
   ]
  },
  {
   "cell_type": "code",
   "execution_count": 142,
   "metadata": {},
   "outputs": [],
   "source": [
    "def performance_metric(y_true, y_predict):\n",
    "    \"\"\" Calculates and returns the performance score between \n",
    "        true and predicted values based on the metric chosen. \"\"\"\n",
    "    \n",
    "    #   Calculate the performance score between 'y_true' and 'y_predict'\n",
    "    score = r2_score(y_true, y_predict)\n",
    "    \n",
    "    # Return the score\n",
    "    return score"
   ]
  },
  {
   "cell_type": "code",
   "execution_count": 153,
   "metadata": {},
   "outputs": [],
   "source": [
    "# split dataset in features and target variable\n",
    "feature_cols = list(df_clean.columns)\n",
    "feature_cols.remove('weighted_rating')\n",
    "x = df_clean[feature_cols] # features\n",
    "y = df_clean['weighted_rating'] # target variable"
   ]
  },
  {
   "cell_type": "code",
   "execution_count": 154,
   "metadata": {},
   "outputs": [],
   "source": [
    "# Import 'make_scorer', 'DecisionTreeRegressor', and 'GridSearchCV'\n",
    "from sklearn.tree import DecisionTreeRegressor\n",
    "from sklearn.metrics import make_scorer\n",
    "from sklearn.model_selection import GridSearchCV\n",
    "\n",
    "def fit_model(x, y):\n",
    "    \"\"\" Performs grid search over the 'max_depth' parameter for a \n",
    "        decision tree regressor trained on the input data [X, y]. \"\"\"\n",
    "    \n",
    "    # Create cross-validation sets from the training data\n",
    "    # sklearn version 0.18: ShuffleSplit(n_splits=10, test_size=0.1, train_size=None, random_state=None)\n",
    "    # sklearn versiin 0.17: ShuffleSplit(n, n_iter=10, test_size=0.1, train_size=None, random_state=None)\n",
    "    cv_sets = ShuffleSplit(n_splits=5, train_size = 0.20, random_state = 0)\n",
    "\n",
    "    #  Create a decision tree regressor object\n",
    "    regressor = DecisionTreeRegressor()\n",
    "\n",
    "    #  Create a dictionary for the parameter 'max_depth' with a range from 1 to 10\n",
    "    params = {'max_depth':range(1,11)}\n",
    "\n",
    "    #  Transform 'performance_metric' into a scoring function using 'make_scorer' \n",
    "    scoring_fnc = make_scorer(performance_metric)\n",
    "\n",
    "    #   Create the grid search cv object --> GridSearchCV()\n",
    "    # Make sure to include the right parameters in the object:\n",
    "    # (estimator, param_grid, scoring, cv) which have values 'regressor', 'params', 'scoring_fnc', and 'cv_sets' respectively.\n",
    "    grid = GridSearchCV(regressor, params, scoring_fnc, cv=cv_sets)\n",
    "\n",
    "    # Fit the grid search object to the data to compute the optimal model\n",
    "    grid = grid.fit(X, y)\n",
    " #   print \"Parameter 'max_depth' is {} for the optimal model.\".format(grid.get_params() )\n",
    "\n",
    "    # Return the optimal model after fitting the data\n",
    "    return grid.best_estimator_"
   ]
  },
  {
   "cell_type": "code",
   "execution_count": 155,
   "metadata": {},
   "outputs": [
    {
     "name": "stderr",
     "output_type": "stream",
     "text": [
      "/anaconda3/lib/python3.7/site-packages/sklearn/model_selection/_split.py:1788: FutureWarning: From version 0.21, test_size will always complement train_size unless both are specified.\n",
      "  FutureWarning)\n"
     ]
    },
    {
     "data": {
      "text/plain": [
       "DecisionTreeRegressor(criterion='mse', max_depth=4, max_features=None,\n",
       "           max_leaf_nodes=None, min_impurity_decrease=0.0,\n",
       "           min_impurity_split=None, min_samples_leaf=1,\n",
       "           min_samples_split=2, min_weight_fraction_leaf=0.0,\n",
       "           presort=False, random_state=None, splitter='best')"
      ]
     },
     "execution_count": 155,
     "metadata": {},
     "output_type": "execute_result"
    }
   ],
   "source": [
    "fit_model(X, y)"
   ]
  },
  {
   "cell_type": "code",
   "execution_count": 156,
   "metadata": {},
   "outputs": [],
   "source": [
    "# import modules\n",
    "from sklearn.model_selection import train_test_split\n",
    "# split the dataframe into two 80% for training and 20% testing.\n",
    "x_train, x_test, y_train, y_test = train_test_split(x, y, test_size=0.2)"
   ]
  },
  {
   "cell_type": "code",
   "execution_count": 157,
   "metadata": {},
   "outputs": [],
   "source": [
    "from sklearn.tree import DecisionTreeRegressor\n",
    "# create decision tree regressor object\n",
    "dt = DecisionTreeRegressor(max_depth=4)\n",
    "# train devision tree classifer\n",
    "dt.fit(x_train, y_train)\n",
    "# predict the response for test dataset\n",
    "y_pred = dt.predict(x_test)"
   ]
  },
  {
   "cell_type": "code",
   "execution_count": 158,
   "metadata": {},
   "outputs": [
    {
     "data": {
      "text/plain": [
       "0.39748066822913264"
      ]
     },
     "execution_count": 158,
     "metadata": {},
     "output_type": "execute_result"
    }
   ],
   "source": [
    "# performance on training data\n",
    "r2_score(y_train, dt.predict(x_train))"
   ]
  },
  {
   "cell_type": "code",
   "execution_count": 159,
   "metadata": {},
   "outputs": [
    {
     "data": {
      "text/plain": [
       "0.36804651697043844"
      ]
     },
     "execution_count": 159,
     "metadata": {},
     "output_type": "execute_result"
    }
   ],
   "source": [
    "# Compute R-squared value\n",
    "r2_score(y_test, y_pred)"
   ]
  },
  {
   "cell_type": "markdown",
   "metadata": {},
   "source": [
    "# Using Random Forest"
   ]
  },
  {
   "cell_type": "code",
   "execution_count": 160,
   "metadata": {},
   "outputs": [
    {
     "name": "stderr",
     "output_type": "stream",
     "text": [
      "/anaconda3/lib/python3.7/site-packages/sklearn/ensemble/forest.py:246: FutureWarning: The default value of n_estimators will change from 10 in version 0.20 to 100 in 0.22.\n",
      "  \"10 in version 0.20 to 100 in 0.22.\", FutureWarning)\n"
     ]
    },
    {
     "data": {
      "text/plain": [
       "0.905673384329301"
      ]
     },
     "execution_count": 160,
     "metadata": {},
     "output_type": "execute_result"
    }
   ],
   "source": [
    "from sklearn.ensemble import RandomForestRegressor\n",
    "rfr = RandomForestRegressor()\n",
    "rfr.fit(x_train, y_train)\n",
    "rfr.score(x_train, y_train) # yeilds R-squared value"
   ]
  },
  {
   "cell_type": "code",
   "execution_count": 161,
   "metadata": {
    "scrolled": true
   },
   "outputs": [
    {
     "name": "stdout",
     "output_type": "stream",
     "text": [
      "0.44201547787260415\n",
      "{'n_estimators': 150, 'max_features': 10, 'max_depth': 10}\n"
     ]
    }
   ],
   "source": [
    "from sklearn.model_selection import ParameterGrid\n",
    "grid = {'n_estimators': [10, 50, 100, 150, 200], 'max_depth':[2,4,6,8,10], 'max_features':[3, 5, 10]} # for random forest, max_depth should not be too high\n",
    "test_scores = []\n",
    "# loop through the parameter grid, set hyperparameters\n",
    "for g in ParameterGrid(grid):\n",
    "    rfr.set_params(**g) # unpacking the dictionary\n",
    "    rfr.fit(x_train, y_train)\n",
    "    test_scores.append(rfr.score(x_test, y_test))\n",
    "# find best hyperparameters from the test score \n",
    "best_idx = np.argmax(test_scores)\n",
    "print (test_scores[best_idx])\n",
    "print(ParameterGrid(grid)[best_idx])"
   ]
  },
  {
   "cell_type": "code",
   "execution_count": 162,
   "metadata": {},
   "outputs": [
    {
     "ename": "ValueError",
     "evalue": "Unknown label type: (array([1.25601241, 1.30231191, 1.33229275, ..., 4.26533601, 4.33830867,\n       4.42800736]),)",
     "output_type": "error",
     "traceback": [
      "\u001b[0;31m---------------------------------------------------------------------------\u001b[0m",
      "\u001b[0;31mValueError\u001b[0m                                Traceback (most recent call last)",
      "\u001b[0;32m<ipython-input-162-82f11a959d90>\u001b[0m in \u001b[0;36m<module>\u001b[0;34m\u001b[0m\n\u001b[1;32m      1\u001b[0m \u001b[0;32mfrom\u001b[0m \u001b[0msklearn\u001b[0m\u001b[0;34m.\u001b[0m\u001b[0mnaive_bayes\u001b[0m \u001b[0;32mimport\u001b[0m \u001b[0mGaussianNB\u001b[0m\u001b[0;34m\u001b[0m\u001b[0;34m\u001b[0m\u001b[0m\n\u001b[1;32m      2\u001b[0m \u001b[0mclf\u001b[0m \u001b[0;34m=\u001b[0m \u001b[0mGaussianNB\u001b[0m\u001b[0;34m(\u001b[0m\u001b[0;34m)\u001b[0m\u001b[0;34m\u001b[0m\u001b[0;34m\u001b[0m\u001b[0m\n\u001b[0;32m----> 3\u001b[0;31m \u001b[0mclf\u001b[0m\u001b[0;34m.\u001b[0m\u001b[0mfit\u001b[0m\u001b[0;34m(\u001b[0m\u001b[0mx_train\u001b[0m\u001b[0;34m,\u001b[0m \u001b[0my_train\u001b[0m\u001b[0;34m)\u001b[0m\u001b[0;34m\u001b[0m\u001b[0;34m\u001b[0m\u001b[0m\n\u001b[0m\u001b[1;32m      4\u001b[0m \u001b[0mclf\u001b[0m\u001b[0;34m.\u001b[0m\u001b[0mscore\u001b[0m\u001b[0;34m(\u001b[0m\u001b[0mx_train\u001b[0m\u001b[0;34m,\u001b[0m \u001b[0my_train\u001b[0m\u001b[0;34m)\u001b[0m\u001b[0;34m\u001b[0m\u001b[0;34m\u001b[0m\u001b[0m\n",
      "\u001b[0;32m/anaconda3/lib/python3.7/site-packages/sklearn/naive_bayes.py\u001b[0m in \u001b[0;36mfit\u001b[0;34m(self, X, y, sample_weight)\u001b[0m\n\u001b[1;32m    190\u001b[0m         \u001b[0mX\u001b[0m\u001b[0;34m,\u001b[0m \u001b[0my\u001b[0m \u001b[0;34m=\u001b[0m \u001b[0mcheck_X_y\u001b[0m\u001b[0;34m(\u001b[0m\u001b[0mX\u001b[0m\u001b[0;34m,\u001b[0m \u001b[0my\u001b[0m\u001b[0;34m)\u001b[0m\u001b[0;34m\u001b[0m\u001b[0;34m\u001b[0m\u001b[0m\n\u001b[1;32m    191\u001b[0m         return self._partial_fit(X, y, np.unique(y), _refit=True,\n\u001b[0;32m--> 192\u001b[0;31m                                  sample_weight=sample_weight)\n\u001b[0m\u001b[1;32m    193\u001b[0m \u001b[0;34m\u001b[0m\u001b[0m\n\u001b[1;32m    194\u001b[0m     \u001b[0;34m@\u001b[0m\u001b[0mstaticmethod\u001b[0m\u001b[0;34m\u001b[0m\u001b[0;34m\u001b[0m\u001b[0m\n",
      "\u001b[0;32m/anaconda3/lib/python3.7/site-packages/sklearn/naive_bayes.py\u001b[0m in \u001b[0;36m_partial_fit\u001b[0;34m(self, X, y, classes, _refit, sample_weight)\u001b[0m\n\u001b[1;32m    353\u001b[0m             \u001b[0mself\u001b[0m\u001b[0;34m.\u001b[0m\u001b[0mclasses_\u001b[0m \u001b[0;34m=\u001b[0m \u001b[0;32mNone\u001b[0m\u001b[0;34m\u001b[0m\u001b[0;34m\u001b[0m\u001b[0m\n\u001b[1;32m    354\u001b[0m \u001b[0;34m\u001b[0m\u001b[0m\n\u001b[0;32m--> 355\u001b[0;31m         \u001b[0;32mif\u001b[0m \u001b[0m_check_partial_fit_first_call\u001b[0m\u001b[0;34m(\u001b[0m\u001b[0mself\u001b[0m\u001b[0;34m,\u001b[0m \u001b[0mclasses\u001b[0m\u001b[0;34m)\u001b[0m\u001b[0;34m:\u001b[0m\u001b[0;34m\u001b[0m\u001b[0;34m\u001b[0m\u001b[0m\n\u001b[0m\u001b[1;32m    356\u001b[0m             \u001b[0;31m# This is the first call to partial_fit:\u001b[0m\u001b[0;34m\u001b[0m\u001b[0;34m\u001b[0m\u001b[0;34m\u001b[0m\u001b[0m\n\u001b[1;32m    357\u001b[0m             \u001b[0;31m# initialize various cumulative counters\u001b[0m\u001b[0;34m\u001b[0m\u001b[0;34m\u001b[0m\u001b[0;34m\u001b[0m\u001b[0m\n",
      "\u001b[0;32m/anaconda3/lib/python3.7/site-packages/sklearn/utils/multiclass.py\u001b[0m in \u001b[0;36m_check_partial_fit_first_call\u001b[0;34m(clf, classes)\u001b[0m\n\u001b[1;32m    318\u001b[0m         \u001b[0;32melse\u001b[0m\u001b[0;34m:\u001b[0m\u001b[0;34m\u001b[0m\u001b[0;34m\u001b[0m\u001b[0m\n\u001b[1;32m    319\u001b[0m             \u001b[0;31m# This is the first call to partial_fit\u001b[0m\u001b[0;34m\u001b[0m\u001b[0;34m\u001b[0m\u001b[0;34m\u001b[0m\u001b[0m\n\u001b[0;32m--> 320\u001b[0;31m             \u001b[0mclf\u001b[0m\u001b[0;34m.\u001b[0m\u001b[0mclasses_\u001b[0m \u001b[0;34m=\u001b[0m \u001b[0munique_labels\u001b[0m\u001b[0;34m(\u001b[0m\u001b[0mclasses\u001b[0m\u001b[0;34m)\u001b[0m\u001b[0;34m\u001b[0m\u001b[0;34m\u001b[0m\u001b[0m\n\u001b[0m\u001b[1;32m    321\u001b[0m             \u001b[0;32mreturn\u001b[0m \u001b[0;32mTrue\u001b[0m\u001b[0;34m\u001b[0m\u001b[0;34m\u001b[0m\u001b[0m\n\u001b[1;32m    322\u001b[0m \u001b[0;34m\u001b[0m\u001b[0m\n",
      "\u001b[0;32m/anaconda3/lib/python3.7/site-packages/sklearn/utils/multiclass.py\u001b[0m in \u001b[0;36munique_labels\u001b[0;34m(*ys)\u001b[0m\n\u001b[1;32m     94\u001b[0m     \u001b[0m_unique_labels\u001b[0m \u001b[0;34m=\u001b[0m \u001b[0m_FN_UNIQUE_LABELS\u001b[0m\u001b[0;34m.\u001b[0m\u001b[0mget\u001b[0m\u001b[0;34m(\u001b[0m\u001b[0mlabel_type\u001b[0m\u001b[0;34m,\u001b[0m \u001b[0;32mNone\u001b[0m\u001b[0;34m)\u001b[0m\u001b[0;34m\u001b[0m\u001b[0;34m\u001b[0m\u001b[0m\n\u001b[1;32m     95\u001b[0m     \u001b[0;32mif\u001b[0m \u001b[0;32mnot\u001b[0m \u001b[0m_unique_labels\u001b[0m\u001b[0;34m:\u001b[0m\u001b[0;34m\u001b[0m\u001b[0;34m\u001b[0m\u001b[0m\n\u001b[0;32m---> 96\u001b[0;31m         \u001b[0;32mraise\u001b[0m \u001b[0mValueError\u001b[0m\u001b[0;34m(\u001b[0m\u001b[0;34m\"Unknown label type: %s\"\u001b[0m \u001b[0;34m%\u001b[0m \u001b[0mrepr\u001b[0m\u001b[0;34m(\u001b[0m\u001b[0mys\u001b[0m\u001b[0;34m)\u001b[0m\u001b[0;34m)\u001b[0m\u001b[0;34m\u001b[0m\u001b[0;34m\u001b[0m\u001b[0m\n\u001b[0m\u001b[1;32m     97\u001b[0m \u001b[0;34m\u001b[0m\u001b[0m\n\u001b[1;32m     98\u001b[0m     \u001b[0mys_labels\u001b[0m \u001b[0;34m=\u001b[0m \u001b[0mset\u001b[0m\u001b[0;34m(\u001b[0m\u001b[0mchain\u001b[0m\u001b[0;34m.\u001b[0m\u001b[0mfrom_iterable\u001b[0m\u001b[0;34m(\u001b[0m\u001b[0m_unique_labels\u001b[0m\u001b[0;34m(\u001b[0m\u001b[0my\u001b[0m\u001b[0;34m)\u001b[0m \u001b[0;32mfor\u001b[0m \u001b[0my\u001b[0m \u001b[0;32min\u001b[0m \u001b[0mys\u001b[0m\u001b[0;34m)\u001b[0m\u001b[0;34m)\u001b[0m\u001b[0;34m\u001b[0m\u001b[0;34m\u001b[0m\u001b[0m\n",
      "\u001b[0;31mValueError\u001b[0m: Unknown label type: (array([1.25601241, 1.30231191, 1.33229275, ..., 4.26533601, 4.33830867,\n       4.42800736]),)"
     ]
    }
   ],
   "source": [
    "from sklearn.naive_bayes import GaussianNB\n",
    "clf = GaussianNB()\n",
    "clf.fit(x_train, y_train)\n",
    "clf.score(x_train, y_train)"
   ]
  },
  {
   "cell_type": "code",
   "execution_count": null,
   "metadata": {},
   "outputs": [],
   "source": []
  }
 ],
 "metadata": {
  "kernelspec": {
   "display_name": "Python 3",
   "language": "python",
   "name": "python3"
  },
  "language_info": {
   "codemirror_mode": {
    "name": "ipython",
    "version": 3
   },
   "file_extension": ".py",
   "mimetype": "text/x-python",
   "name": "python",
   "nbconvert_exporter": "python",
   "pygments_lexer": "ipython3",
   "version": "3.7.3"
  }
 },
 "nbformat": 4,
 "nbformat_minor": 2
}
