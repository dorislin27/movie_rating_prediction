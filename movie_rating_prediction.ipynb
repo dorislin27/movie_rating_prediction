{
 "cells": [
  {
   "cell_type": "markdown",
   "metadata": {},
   "source": [
    "# Data Preparation"
   ]
  },
  {
   "cell_type": "code",
   "execution_count": 1,
   "metadata": {},
   "outputs": [],
   "source": [
    "# import modules\n",
    "import pandas as pd\n",
    "import numpy as np\n",
    "import matplotlib.pyplot as plt\n",
    "import seaborn as sns\n",
    "sns.set()\n",
    "from ast import literal_eval"
   ]
  },
  {
   "cell_type": "markdown",
   "metadata": {},
   "source": [
    "### Load Data Sets"
   ]
  },
  {
   "cell_type": "code",
   "execution_count": 2,
   "metadata": {
    "scrolled": true
   },
   "outputs": [
    {
     "name": "stderr",
     "output_type": "stream",
     "text": [
      "/anaconda3/lib/python3.7/site-packages/IPython/core/interactiveshell.py:3049: DtypeWarning: Columns (10) have mixed types. Specify dtype option on import or set low_memory=False.\n",
      "  interactivity=interactivity, compiler=compiler, result=result)\n"
     ]
    }
   ],
   "source": [
    "# Read the datasets with movie features\n",
    "metadata = pd.read_csv('/Users/dorislin/Desktop/movie rating predictor/the-movies-dataset/movies_metadata.csv', parse_dates = ['release_date'])\n",
    "credits =  pd.read_csv('/Users/dorislin/Desktop/movie rating predictor/the-movies-dataset/credits.csv')\n",
    "keywords =  pd.read_csv('/Users/dorislin/Desktop/movie rating predictor/the-movies-dataset/keywords.csv')"
   ]
  },
  {
   "cell_type": "code",
   "execution_count": 3,
   "metadata": {},
   "outputs": [],
   "source": [
    "# Read the rating datasets\n",
    "ratings = pd.read_csv('/Users/dorislin/Desktop/movie rating predictor/the-movies-dataset/ratings.csv')\n",
    "links = pd.read_csv('/Users/dorislin/Desktop/movie rating predictor/the-movies-dataset/links.csv')"
   ]
  },
  {
   "cell_type": "markdown",
   "metadata": {},
   "source": [
    "### Merge Data Sets\n",
    "The information of movie features are stored in metadata and credits datasets; while the rating information are in ratings and links datasets. Before merging all data together to do further analysis, few steps are taken to facilitate the merge process:"
   ]
  },
  {
   "cell_type": "markdown",
   "metadata": {},
   "source": [
    "#### Combine datasets with movie feautres using 'id' as a shared column"
   ]
  },
  {
   "cell_type": "code",
   "execution_count": 4,
   "metadata": {},
   "outputs": [],
   "source": [
    "# Swap values between 'id' and 'release_date' for misplaced observations\n",
    "swap_condition = metadata['id'].str.contains('-') == True\n",
    "ary = np.where(swap_condition,[metadata.release_date,metadata.id],[metadata.id,metadata.release_date])\n",
    "metadata.id = ary[0]\n",
    "metadata.release_date = ary[1]\n",
    "\n",
    "# Convert the data type of 'id' from string to int\n",
    "metadata['id'] = metadata['id'].astype(int)\n",
    "\n",
    "# Merge datasets with movie features with the key colum 'id'\n",
    "movie = metadata.merge(credits.merge(keywords, on='id'), on='id')"
   ]
  },
  {
   "cell_type": "markdown",
   "metadata": {},
   "source": [
    "#### Get weighted scores from  datasets with rating records"
   ]
  },
  {
   "cell_type": "code",
   "execution_count": 5,
   "metadata": {},
   "outputs": [
    {
     "data": {
      "text/html": [
       "<div>\n",
       "<style scoped>\n",
       "    .dataframe tbody tr th:only-of-type {\n",
       "        vertical-align: middle;\n",
       "    }\n",
       "\n",
       "    .dataframe tbody tr th {\n",
       "        vertical-align: top;\n",
       "    }\n",
       "\n",
       "    .dataframe thead th {\n",
       "        text-align: right;\n",
       "    }\n",
       "</style>\n",
       "<table border=\"1\" class=\"dataframe\">\n",
       "  <thead>\n",
       "    <tr style=\"text-align: right;\">\n",
       "      <th></th>\n",
       "      <th>userId</th>\n",
       "      <th>movieId</th>\n",
       "      <th>rating</th>\n",
       "      <th>timestamp</th>\n",
       "    </tr>\n",
       "  </thead>\n",
       "  <tbody>\n",
       "    <tr>\n",
       "      <th>0</th>\n",
       "      <td>1</td>\n",
       "      <td>110</td>\n",
       "      <td>1.0</td>\n",
       "      <td>1425941529</td>\n",
       "    </tr>\n",
       "    <tr>\n",
       "      <th>1</th>\n",
       "      <td>1</td>\n",
       "      <td>147</td>\n",
       "      <td>4.5</td>\n",
       "      <td>1425942435</td>\n",
       "    </tr>\n",
       "    <tr>\n",
       "      <th>2</th>\n",
       "      <td>1</td>\n",
       "      <td>858</td>\n",
       "      <td>5.0</td>\n",
       "      <td>1425941523</td>\n",
       "    </tr>\n",
       "    <tr>\n",
       "      <th>3</th>\n",
       "      <td>1</td>\n",
       "      <td>1221</td>\n",
       "      <td>5.0</td>\n",
       "      <td>1425941546</td>\n",
       "    </tr>\n",
       "    <tr>\n",
       "      <th>4</th>\n",
       "      <td>1</td>\n",
       "      <td>1246</td>\n",
       "      <td>5.0</td>\n",
       "      <td>1425941556</td>\n",
       "    </tr>\n",
       "  </tbody>\n",
       "</table>\n",
       "</div>"
      ],
      "text/plain": [
       "   userId  movieId  rating   timestamp\n",
       "0       1      110     1.0  1425941529\n",
       "1       1      147     4.5  1425942435\n",
       "2       1      858     5.0  1425941523\n",
       "3       1     1221     5.0  1425941546\n",
       "4       1     1246     5.0  1425941556"
      ]
     },
     "execution_count": 5,
     "metadata": {},
     "output_type": "execute_result"
    }
   ],
   "source": [
    "# Initial Examination\n",
    "ratings.head()"
   ]
  },
  {
   "cell_type": "markdown",
   "metadata": {},
   "source": [
    "Currently, each observation is a rating record given by a user to a movie. From here, I compute below information in order to get the target variable, weighted_rating.\n",
    "\n",
    "- 'average_rating': By dividing the sum of rating by the vote number for each movie, we'll get our target variable for this project.\n",
    "- 'votes_per_user': By counting how many votes each user gives, the number helps to identify frequent raters.\n",
    "- 'votes_per_movie': By counting how many votes each movie receives, the number helps to identify the most-voted movie."
   ]
  },
  {
   "cell_type": "code",
   "execution_count": 6,
   "metadata": {},
   "outputs": [],
   "source": [
    "# average_rating\n",
    "ratings['average_rating'] = ratings.groupby('movieId')['rating'].transform(np.mean)\n",
    "# votes_per_user\n",
    "ratings['votes_per_user'] = ratings.groupby('userId')['movieId'].transform('count')\n",
    "# votes_per_movie\n",
    "ratings['votes_per_movie'] = ratings.groupby('movieId')['userId'].transform('count')"
   ]
  },
  {
   "cell_type": "code",
   "execution_count": 7,
   "metadata": {},
   "outputs": [],
   "source": [
    "# merge ratings with links in order to acquire movieId column\n",
    "ratings_clean = pd.merge(ratings,links,on='movieId')\n",
    "# ignore the user data for now, keep one column for one movie rating record\n",
    "ratings_clean = ratings_clean.drop_duplicates('tmdbId')[['tmdbId','votes_per_movie','average_rating']]\n",
    "# prepare for the merge\n",
    "ratings_clean  = ratings_clean.loc[pd.notnull(ratings_clean['tmdbId']) != False]"
   ]
  },
  {
   "cell_type": "code",
   "execution_count": 8,
   "metadata": {},
   "outputs": [],
   "source": [
    "# prepare for the combination\n",
    "ratings_clean.rename(columns = {'tmdbId':'id'}, inplace = True)\n",
    "ratings_clean = ratings_clean.astype({'id': 'int64'})"
   ]
  },
  {
   "cell_type": "code",
   "execution_count": 9,
   "metadata": {},
   "outputs": [
    {
     "data": {
      "text/plain": [
       "(45885, 29)"
      ]
     },
     "execution_count": 9,
     "metadata": {},
     "output_type": "execute_result"
    }
   ],
   "source": [
    "# merge the movie dateset with rating dataset\n",
    "df_initial = pd.merge(ratings_clean,movie,on='id')\n",
    "df_initial.shape"
   ]
  },
  {
   "cell_type": "markdown",
   "metadata": {},
   "source": [
    "#### Computing our target variable: Weighted Rating, using IMDB Formula\n",
    "- v: number of votes for the movie \n",
    "    - which is the value in column 'votes_per_movie'\n",
    "- m: the minimum votes required to be listed in the chart\n",
    "- R: average rating of the movie\n",
    "    - which is the value in column 'average_rating'\n",
    "- C: the mean rating of overall movies"
   ]
  },
  {
   "cell_type": "code",
   "execution_count": 10,
   "metadata": {},
   "outputs": [
    {
     "data": {
      "text/plain": [
       "67.0"
      ]
     },
     "execution_count": 10,
     "metadata": {},
     "output_type": "execute_result"
    }
   ],
   "source": [
    "# m is the minumum votes required to be listed in the chart\n",
    "m = df_initial['votes_per_movie'].quantile(0.75)\n",
    "m"
   ]
  },
  {
   "cell_type": "code",
   "execution_count": 11,
   "metadata": {},
   "outputs": [
    {
     "data": {
      "text/plain": [
       "3.0588051892574892"
      ]
     },
     "execution_count": 11,
     "metadata": {},
     "output_type": "execute_result"
    }
   ],
   "source": [
    "# C is the mean rating across the whole report\n",
    "C = df_initial['average_rating'].mean()\n",
    "C"
   ]
  },
  {
   "cell_type": "code",
   "execution_count": 12,
   "metadata": {},
   "outputs": [
    {
     "data": {
      "text/plain": [
       "(11481, 29)"
      ]
     },
     "execution_count": 12,
     "metadata": {},
     "output_type": "execute_result"
    }
   ],
   "source": [
    "# filter the movies qualified for the chart\n",
    "df = df_initial[df_initial['votes_per_movie'] >= m]\n",
    "df.shape"
   ]
  },
  {
   "cell_type": "code",
   "execution_count": 13,
   "metadata": {},
   "outputs": [],
   "source": [
    "# calculate weighted_rating\n",
    "def weighted_rating(x):\n",
    "    v = x['votes_per_movie']\n",
    "    R = x['average_rating']\n",
    "    return (v/(v+m) * R) + (m/(m+v) * C)"
   ]
  },
  {
   "cell_type": "code",
   "execution_count": 14,
   "metadata": {},
   "outputs": [
    {
     "name": "stderr",
     "output_type": "stream",
     "text": [
      "/anaconda3/lib/python3.7/site-packages/ipykernel_launcher.py:1: SettingWithCopyWarning: \n",
      "A value is trying to be set on a copy of a slice from a DataFrame.\n",
      "Try using .loc[row_indexer,col_indexer] = value instead\n",
      "\n",
      "See the caveats in the documentation: http://pandas.pydata.org/pandas-docs/stable/indexing.html#indexing-view-versus-copy\n",
      "  \"\"\"Entry point for launching an IPython kernel.\n"
     ]
    }
   ],
   "source": [
    "df['weighted_rating'] = df.apply(weighted_rating, axis=1)"
   ]
  },
  {
   "cell_type": "markdown",
   "metadata": {},
   "source": [
    "# Data Cleaning"
   ]
  },
  {
   "cell_type": "code",
   "execution_count": 15,
   "metadata": {
    "scrolled": true
   },
   "outputs": [
    {
     "data": {
      "text/html": [
       "<div>\n",
       "<style scoped>\n",
       "    .dataframe tbody tr th:only-of-type {\n",
       "        vertical-align: middle;\n",
       "    }\n",
       "\n",
       "    .dataframe tbody tr th {\n",
       "        vertical-align: top;\n",
       "    }\n",
       "\n",
       "    .dataframe thead th {\n",
       "        text-align: right;\n",
       "    }\n",
       "</style>\n",
       "<table border=\"1\" class=\"dataframe\">\n",
       "  <thead>\n",
       "    <tr style=\"text-align: right;\">\n",
       "      <th></th>\n",
       "      <th>id</th>\n",
       "      <th>votes_per_movie</th>\n",
       "      <th>average_rating</th>\n",
       "      <th>adult</th>\n",
       "      <th>belongs_to_collection</th>\n",
       "      <th>budget</th>\n",
       "      <th>genres</th>\n",
       "      <th>homepage</th>\n",
       "      <th>imdb_id</th>\n",
       "      <th>original_language</th>\n",
       "      <th>...</th>\n",
       "      <th>status</th>\n",
       "      <th>tagline</th>\n",
       "      <th>title</th>\n",
       "      <th>video</th>\n",
       "      <th>vote_average</th>\n",
       "      <th>vote_count</th>\n",
       "      <th>cast</th>\n",
       "      <th>crew</th>\n",
       "      <th>keywords</th>\n",
       "      <th>weighted_rating</th>\n",
       "    </tr>\n",
       "  </thead>\n",
       "  <tbody>\n",
       "    <tr>\n",
       "      <th>0</th>\n",
       "      <td>197</td>\n",
       "      <td>66512</td>\n",
       "      <td>4.016057</td>\n",
       "      <td>False</td>\n",
       "      <td>NaN</td>\n",
       "      <td>72000000</td>\n",
       "      <td>[{'id': 28, 'name': 'Action'}, {'id': 18, 'nam...</td>\n",
       "      <td>NaN</td>\n",
       "      <td>tt0112573</td>\n",
       "      <td>en</td>\n",
       "      <td>...</td>\n",
       "      <td>Released</td>\n",
       "      <td>Every man dies. Not every man truly lives.</td>\n",
       "      <td>Braveheart</td>\n",
       "      <td>False</td>\n",
       "      <td>7.7</td>\n",
       "      <td>3404.0</td>\n",
       "      <td>[{'cast_id': 5, 'character': 'William Wallace'...</td>\n",
       "      <td>[{'credit_id': '52fe4225c3a36847f80079c1', 'de...</td>\n",
       "      <td>[{'id': 30, 'name': 'individual'}, {'id': 388,...</td>\n",
       "      <td>4.015094</td>\n",
       "    </tr>\n",
       "    <tr>\n",
       "      <th>1</th>\n",
       "      <td>10474</td>\n",
       "      <td>4967</td>\n",
       "      <td>3.595933</td>\n",
       "      <td>False</td>\n",
       "      <td>NaN</td>\n",
       "      <td>0</td>\n",
       "      <td>[{'id': 18, 'name': 'Drama'}, {'id': 80, 'name...</td>\n",
       "      <td>NaN</td>\n",
       "      <td>tt0112461</td>\n",
       "      <td>en</td>\n",
       "      <td>...</td>\n",
       "      <td>Released</td>\n",
       "      <td>The true story of the death of innocence and t...</td>\n",
       "      <td>The Basketball Diaries</td>\n",
       "      <td>False</td>\n",
       "      <td>7.2</td>\n",
       "      <td>472.0</td>\n",
       "      <td>[{'cast_id': 9, 'character': 'Jim Carroll', 'c...</td>\n",
       "      <td>[{'credit_id': '52fe43779251416c7501167d', 'de...</td>\n",
       "      <td>[{'id': 6075, 'name': 'sport'}, {'id': 6496, '...</td>\n",
       "      <td>3.588784</td>\n",
       "    </tr>\n",
       "    <tr>\n",
       "      <th>2</th>\n",
       "      <td>238</td>\n",
       "      <td>57070</td>\n",
       "      <td>4.339811</td>\n",
       "      <td>False</td>\n",
       "      <td>{'id': 230, 'name': 'The Godfather Collection'...</td>\n",
       "      <td>6000000</td>\n",
       "      <td>[{'id': 18, 'name': 'Drama'}, {'id': 80, 'name...</td>\n",
       "      <td>http://www.thegodfather.com/</td>\n",
       "      <td>tt0068646</td>\n",
       "      <td>en</td>\n",
       "      <td>...</td>\n",
       "      <td>Released</td>\n",
       "      <td>An offer you can't refuse.</td>\n",
       "      <td>The Godfather</td>\n",
       "      <td>False</td>\n",
       "      <td>8.5</td>\n",
       "      <td>6024.0</td>\n",
       "      <td>[{'cast_id': 5, 'character': 'Don Vito Corleon...</td>\n",
       "      <td>[{'credit_id': '52fe422bc3a36847f80093db', 'de...</td>\n",
       "      <td>[{'id': 131, 'name': 'italy'}, {'id': 699, 'na...</td>\n",
       "      <td>4.338309</td>\n",
       "    </tr>\n",
       "    <tr>\n",
       "      <th>3</th>\n",
       "      <td>240</td>\n",
       "      <td>36679</td>\n",
       "      <td>4.263475</td>\n",
       "      <td>False</td>\n",
       "      <td>{'id': 230, 'name': 'The Godfather Collection'...</td>\n",
       "      <td>13000000</td>\n",
       "      <td>[{'id': 18, 'name': 'Drama'}, {'id': 80, 'name...</td>\n",
       "      <td>NaN</td>\n",
       "      <td>tt0071562</td>\n",
       "      <td>en</td>\n",
       "      <td>...</td>\n",
       "      <td>Released</td>\n",
       "      <td>I don't feel I have to wipe everybody out, Tom...</td>\n",
       "      <td>The Godfather: Part II</td>\n",
       "      <td>False</td>\n",
       "      <td>8.3</td>\n",
       "      <td>3418.0</td>\n",
       "      <td>[{'cast_id': 8, 'character': 'Don Michael Corl...</td>\n",
       "      <td>[{'credit_id': '52fe422bc3a36847f80094dd', 'de...</td>\n",
       "      <td>[{'id': 700, 'name': 'italo-american'}, {'id':...</td>\n",
       "      <td>4.261279</td>\n",
       "    </tr>\n",
       "    <tr>\n",
       "      <th>4</th>\n",
       "      <td>207</td>\n",
       "      <td>25752</td>\n",
       "      <td>3.912803</td>\n",
       "      <td>False</td>\n",
       "      <td>NaN</td>\n",
       "      <td>16400000</td>\n",
       "      <td>[{'id': 18, 'name': 'Drama'}]</td>\n",
       "      <td>NaN</td>\n",
       "      <td>tt0097165</td>\n",
       "      <td>en</td>\n",
       "      <td>...</td>\n",
       "      <td>Released</td>\n",
       "      <td>He was their inspiration. He made their lives ...</td>\n",
       "      <td>Dead Poets Society</td>\n",
       "      <td>False</td>\n",
       "      <td>8.1</td>\n",
       "      <td>2786.0</td>\n",
       "      <td>[{'cast_id': 3, 'character': 'John Keating', '...</td>\n",
       "      <td>[{'credit_id': '52fe4227c3a36847f8008045', 'de...</td>\n",
       "      <td>[{'id': 30, 'name': 'individual'}, {'id': 490,...</td>\n",
       "      <td>3.910587</td>\n",
       "    </tr>\n",
       "  </tbody>\n",
       "</table>\n",
       "<p>5 rows × 30 columns</p>\n",
       "</div>"
      ],
      "text/plain": [
       "      id  votes_per_movie  average_rating  adult  \\\n",
       "0    197            66512        4.016057  False   \n",
       "1  10474             4967        3.595933  False   \n",
       "2    238            57070        4.339811  False   \n",
       "3    240            36679        4.263475  False   \n",
       "4    207            25752        3.912803  False   \n",
       "\n",
       "                               belongs_to_collection    budget  \\\n",
       "0                                                NaN  72000000   \n",
       "1                                                NaN         0   \n",
       "2  {'id': 230, 'name': 'The Godfather Collection'...   6000000   \n",
       "3  {'id': 230, 'name': 'The Godfather Collection'...  13000000   \n",
       "4                                                NaN  16400000   \n",
       "\n",
       "                                              genres  \\\n",
       "0  [{'id': 28, 'name': 'Action'}, {'id': 18, 'nam...   \n",
       "1  [{'id': 18, 'name': 'Drama'}, {'id': 80, 'name...   \n",
       "2  [{'id': 18, 'name': 'Drama'}, {'id': 80, 'name...   \n",
       "3  [{'id': 18, 'name': 'Drama'}, {'id': 80, 'name...   \n",
       "4                      [{'id': 18, 'name': 'Drama'}]   \n",
       "\n",
       "                       homepage    imdb_id original_language  ...    status  \\\n",
       "0                           NaN  tt0112573                en  ...  Released   \n",
       "1                           NaN  tt0112461                en  ...  Released   \n",
       "2  http://www.thegodfather.com/  tt0068646                en  ...  Released   \n",
       "3                           NaN  tt0071562                en  ...  Released   \n",
       "4                           NaN  tt0097165                en  ...  Released   \n",
       "\n",
       "                                             tagline                   title  \\\n",
       "0         Every man dies. Not every man truly lives.              Braveheart   \n",
       "1  The true story of the death of innocence and t...  The Basketball Diaries   \n",
       "2                         An offer you can't refuse.           The Godfather   \n",
       "3  I don't feel I have to wipe everybody out, Tom...  The Godfather: Part II   \n",
       "4  He was their inspiration. He made their lives ...      Dead Poets Society   \n",
       "\n",
       "   video vote_average vote_count  \\\n",
       "0  False          7.7     3404.0   \n",
       "1  False          7.2      472.0   \n",
       "2  False          8.5     6024.0   \n",
       "3  False          8.3     3418.0   \n",
       "4  False          8.1     2786.0   \n",
       "\n",
       "                                                cast  \\\n",
       "0  [{'cast_id': 5, 'character': 'William Wallace'...   \n",
       "1  [{'cast_id': 9, 'character': 'Jim Carroll', 'c...   \n",
       "2  [{'cast_id': 5, 'character': 'Don Vito Corleon...   \n",
       "3  [{'cast_id': 8, 'character': 'Don Michael Corl...   \n",
       "4  [{'cast_id': 3, 'character': 'John Keating', '...   \n",
       "\n",
       "                                                crew  \\\n",
       "0  [{'credit_id': '52fe4225c3a36847f80079c1', 'de...   \n",
       "1  [{'credit_id': '52fe43779251416c7501167d', 'de...   \n",
       "2  [{'credit_id': '52fe422bc3a36847f80093db', 'de...   \n",
       "3  [{'credit_id': '52fe422bc3a36847f80094dd', 'de...   \n",
       "4  [{'credit_id': '52fe4227c3a36847f8008045', 'de...   \n",
       "\n",
       "                                            keywords weighted_rating  \n",
       "0  [{'id': 30, 'name': 'individual'}, {'id': 388,...        4.015094  \n",
       "1  [{'id': 6075, 'name': 'sport'}, {'id': 6496, '...        3.588784  \n",
       "2  [{'id': 131, 'name': 'italy'}, {'id': 699, 'na...        4.338309  \n",
       "3  [{'id': 700, 'name': 'italo-american'}, {'id':...        4.261279  \n",
       "4  [{'id': 30, 'name': 'individual'}, {'id': 490,...        3.910587  \n",
       "\n",
       "[5 rows x 30 columns]"
      ]
     },
     "execution_count": 15,
     "metadata": {},
     "output_type": "execute_result"
    }
   ],
   "source": [
    "# Get an initial feeling of the data\n",
    "df.head()"
   ]
  },
  {
   "cell_type": "code",
   "execution_count": 16,
   "metadata": {
    "scrolled": true
   },
   "outputs": [
    {
     "name": "stdout",
     "output_type": "stream",
     "text": [
      "<class 'pandas.core.frame.DataFrame'>\n",
      "Int64Index: 11481 entries, 0 to 24755\n",
      "Data columns (total 30 columns):\n",
      "id                       11481 non-null int64\n",
      "votes_per_movie          11481 non-null int64\n",
      "average_rating           11481 non-null float64\n",
      "adult                    11481 non-null object\n",
      "belongs_to_collection    2031 non-null object\n",
      "budget                   11481 non-null object\n",
      "genres                   11481 non-null object\n",
      "homepage                 2636 non-null object\n",
      "imdb_id                  11480 non-null object\n",
      "original_language        11481 non-null object\n",
      "original_title           11481 non-null object\n",
      "overview                 11475 non-null object\n",
      "popularity               11480 non-null object\n",
      "poster_path              11478 non-null object\n",
      "production_companies     11481 non-null object\n",
      "production_countries     11481 non-null object\n",
      "release_date             11481 non-null object\n",
      "revenue                  11479 non-null float64\n",
      "runtime                  11479 non-null float64\n",
      "spoken_languages         11479 non-null object\n",
      "status                   11475 non-null object\n",
      "tagline                  8716 non-null object\n",
      "title                    11479 non-null object\n",
      "video                    11479 non-null object\n",
      "vote_average             11479 non-null float64\n",
      "vote_count               11479 non-null float64\n",
      "cast                     11481 non-null object\n",
      "crew                     11481 non-null object\n",
      "keywords                 11481 non-null object\n",
      "weighted_rating          11481 non-null float64\n",
      "dtypes: float64(6), int64(2), object(22)\n",
      "memory usage: 2.7+ MB\n"
     ]
    }
   ],
   "source": [
    "df.info()"
   ]
  },
  {
   "cell_type": "markdown",
   "metadata": {},
   "source": [
    "**Thought Process**\n",
    "1. Identify columns that fit to the objectives of this project and remove irrelevant ones:\n",
    "  - `identifiers`\n",
    "    - id\n",
    "    - title\n",
    "  - `business-side`\n",
    "    -   revenue\n",
    "    -   budget\n",
    "  - `plot`\n",
    "    - belongs_to_collection\n",
    "    - genres\n",
    "    - keywords\n",
    "  - `production-side`\n",
    "    - runtime\n",
    "    - release_date\n",
    "    - original_language\n",
    "    - production_companies\n",
    "    - production_countries\n",
    "  - `team`\n",
    "    - cast\n",
    "    - crew\n",
    "  - `audience`\n",
    "    - votes_per_movie\n",
    "\n",
    "  - `target variable`\n",
    "    - weighted_rating\n",
    "    \n",
    "\n",
    "2. Know which parts require detection of missing values and type conversion."
   ]
  },
  {
   "cell_type": "markdown",
   "metadata": {},
   "source": [
    "### Remove Duplicates and Irrelevant Data"
   ]
  },
  {
   "cell_type": "code",
   "execution_count": 17,
   "metadata": {},
   "outputs": [
    {
     "name": "stderr",
     "output_type": "stream",
     "text": [
      "/anaconda3/lib/python3.7/site-packages/ipykernel_launcher.py:2: SettingWithCopyWarning: \n",
      "A value is trying to be set on a copy of a slice from a DataFrame\n",
      "\n",
      "See the caveats in the documentation: http://pandas.pydata.org/pandas-docs/stable/indexing.html#indexing-view-versus-copy\n",
      "  \n"
     ]
    }
   ],
   "source": [
    "# Remove the duplicates with identical values of 'id'\n",
    "df.drop_duplicates(subset=['id'], inplace = True)"
   ]
  },
  {
   "cell_type": "code",
   "execution_count": 18,
   "metadata": {},
   "outputs": [],
   "source": [
    "# Drop irrelevant data\n",
    "to_keep_features = ['id','title','revenue','budget','belongs_to_collection','genres','keywords','runtime','release_date',\n",
    "                   'original_language','production_companies','production_countries','cast','crew', 'votes_per_movie','weighted_rating']\n",
    "df = df[to_keep_features]"
   ]
  },
  {
   "cell_type": "code",
   "execution_count": 19,
   "metadata": {
    "scrolled": true
   },
   "outputs": [
    {
     "name": "stdout",
     "output_type": "stream",
     "text": [
      "The shape of dataset: (11347, 16)\n",
      "Columns include: ['id', 'title', 'revenue', 'budget', 'belongs_to_collection', 'genres', 'keywords', 'runtime', 'release_date', 'original_language', 'production_companies', 'production_countries', 'cast', 'crew', 'votes_per_movie', 'weighted_rating']\n"
     ]
    }
   ],
   "source": [
    "print ('The shape of dataset:',df.shape)\n",
    "print ('Columns include:',list(df.columns))"
   ]
  },
  {
   "cell_type": "markdown",
   "metadata": {},
   "source": [
    "### Detect Missing Data"
   ]
  },
  {
   "cell_type": "code",
   "execution_count": 20,
   "metadata": {
    "scrolled": false
   },
   "outputs": [
    {
     "name": "stdout",
     "output_type": "stream",
     "text": [
      "<class 'pandas.core.frame.DataFrame'>\n",
      "Int64Index: 11347 entries, 0 to 24755\n",
      "Data columns (total 16 columns):\n",
      "id                       11347 non-null int64\n",
      "title                    11347 non-null object\n",
      "revenue                  11347 non-null float64\n",
      "budget                   11347 non-null object\n",
      "belongs_to_collection    2010 non-null object\n",
      "genres                   11347 non-null object\n",
      "keywords                 11347 non-null object\n",
      "runtime                  11347 non-null float64\n",
      "release_date             11347 non-null object\n",
      "original_language        11347 non-null object\n",
      "production_companies     11347 non-null object\n",
      "production_countries     11347 non-null object\n",
      "cast                     11347 non-null object\n",
      "crew                     11347 non-null object\n",
      "votes_per_movie          11347 non-null int64\n",
      "weighted_rating          11347 non-null float64\n",
      "dtypes: float64(3), int64(2), object(11)\n",
      "memory usage: 1.5+ MB\n"
     ]
    }
   ],
   "source": [
    "df.info()"
   ]
  },
  {
   "cell_type": "code",
   "execution_count": 21,
   "metadata": {
    "scrolled": true
   },
   "outputs": [
    {
     "data": {
      "text/plain": [
       "<matplotlib.axes._subplots.AxesSubplot at 0x1a2134d358>"
      ]
     },
     "execution_count": 21,
     "metadata": {},
     "output_type": "execute_result"
    },
    {
     "data": {
      "image/png": "[encoded data removed]",
      "text/plain": [
       "<Figure size 1728x720 with 3 Axes>"
      ]
     },
     "metadata": {
      "needs_background": "light"
     },
     "output_type": "display_data"
    }
   ],
   "source": [
    "import missingno as msno\n",
    "msno.bar(df)"
   ]
  },
  {
   "cell_type": "markdown",
   "metadata": {},
   "source": [
    "**Thought Process**\n",
    "1. Besides of 'belongs_to_collection' column, no obvious missing values observed. \n",
    "2. However, I found nonstandard missing values in column 'budget' and 'revenue' when looking closer into the data."
   ]
  },
  {
   "cell_type": "markdown",
   "metadata": {},
   "source": [
    "### Handling Missing data\n",
    "After examination, I found that missing values in 'belongs_to_collection' indicate the movie has no sequence.\n",
    "\n",
    "I used boolean logic to separate movies into two categories: belonging to a collection or without sequence, and compute 1 and 0 to them accordinly."
   ]
  },
  {
   "cell_type": "code",
   "execution_count": 22,
   "metadata": {},
   "outputs": [],
   "source": [
    "# Compute 0 for missing values (the movies without sequence)\n",
    "df['belongs_to_collection'].fillna(0, inplace = True)\n",
    "# Compute 1 for belonging to a collection\n",
    "condition = df['belongs_to_collection'] != 0\n",
    "df.loc[condition, 'belongs_to_collection'] = 1"
   ]
  },
  {
   "cell_type": "markdown",
   "metadata": {},
   "source": [
    "### Nonstandard Missing data"
   ]
  },
  {
   "cell_type": "code",
   "execution_count": 23,
   "metadata": {},
   "outputs": [
    {
     "data": {
      "text/html": [
       "<div>\n",
       "<style scoped>\n",
       "    .dataframe tbody tr th:only-of-type {\n",
       "        vertical-align: middle;\n",
       "    }\n",
       "\n",
       "    .dataframe tbody tr th {\n",
       "        vertical-align: top;\n",
       "    }\n",
       "\n",
       "    .dataframe thead th {\n",
       "        text-align: right;\n",
       "    }\n",
       "</style>\n",
       "<table border=\"1\" class=\"dataframe\">\n",
       "  <thead>\n",
       "    <tr style=\"text-align: right;\">\n",
       "      <th></th>\n",
       "      <th>id</th>\n",
       "      <th>title</th>\n",
       "      <th>revenue</th>\n",
       "      <th>budget</th>\n",
       "      <th>belongs_to_collection</th>\n",
       "      <th>genres</th>\n",
       "      <th>keywords</th>\n",
       "      <th>runtime</th>\n",
       "      <th>release_date</th>\n",
       "      <th>original_language</th>\n",
       "      <th>production_companies</th>\n",
       "      <th>production_countries</th>\n",
       "      <th>cast</th>\n",
       "      <th>crew</th>\n",
       "      <th>votes_per_movie</th>\n",
       "      <th>weighted_rating</th>\n",
       "    </tr>\n",
       "  </thead>\n",
       "  <tbody>\n",
       "    <tr>\n",
       "      <th>1560</th>\n",
       "      <td>16306</td>\n",
       "      <td>Fantastic Planet</td>\n",
       "      <td>0.0</td>\n",
       "      <td>0</td>\n",
       "      <td>0</td>\n",
       "      <td>[{'id': 16, 'name': 'Animation'}, {'id': 14, '...</td>\n",
       "      <td>[{'id': 2831, 'name': 'slavery'}, {'id': 4565,...</td>\n",
       "      <td>72.0</td>\n",
       "      <td>1973-05-01</td>\n",
       "      <td>fr</td>\n",
       "      <td>[{'name': 'Krátký Film Praha', 'id': 2329}, {'...</td>\n",
       "      <td>[{'iso_3166_1': 'CZ', 'name': 'Czech Republic'...</td>\n",
       "      <td>[{'cast_id': 5, 'character': 'Tiwa (voice)', '...</td>\n",
       "      <td>[{'credit_id': '52fe46c39251416c75082a77', 'de...</td>\n",
       "      <td>1112</td>\n",
       "      <td>3.696726</td>\n",
       "    </tr>\n",
       "    <tr>\n",
       "      <th>12187</th>\n",
       "      <td>17956</td>\n",
       "      <td>He Said, She Said</td>\n",
       "      <td>0.0</td>\n",
       "      <td>0</td>\n",
       "      <td>0</td>\n",
       "      <td>[{'id': 35, 'name': 'Comedy'}, {'id': 18, 'nam...</td>\n",
       "      <td>[{'id': 187056, 'name': 'woman director'}]</td>\n",
       "      <td>115.0</td>\n",
       "      <td>1991-02-22</td>\n",
       "      <td>en</td>\n",
       "      <td>[{'name': 'Paramount Pictures', 'id': 4}]</td>\n",
       "      <td>[{'iso_3166_1': 'US', 'name': 'United States o...</td>\n",
       "      <td>[{'cast_id': 3, 'character': 'Dan Hanson', 'cr...</td>\n",
       "      <td>[{'credit_id': '52fe47559251416c75095ac7', 'de...</td>\n",
       "      <td>209</td>\n",
       "      <td>2.887464</td>\n",
       "    </tr>\n",
       "    <tr>\n",
       "      <th>3724</th>\n",
       "      <td>33194</td>\n",
       "      <td>Xiu Xiu: The Sent-Down Girl</td>\n",
       "      <td>0.0</td>\n",
       "      <td>0</td>\n",
       "      <td>0</td>\n",
       "      <td>[{'id': 18, 'name': 'Drama'}, {'id': 10769, 'n...</td>\n",
       "      <td>[{'id': 293, 'name': 'female nudity'}, {'id': ...</td>\n",
       "      <td>99.0</td>\n",
       "      <td>1998-02-19</td>\n",
       "      <td>zh</td>\n",
       "      <td>[]</td>\n",
       "      <td>[{'iso_3166_1': 'CN', 'name': 'China'}, {'iso_...</td>\n",
       "      <td>[{'cast_id': 5, 'character': 'Wenxiu', 'credit...</td>\n",
       "      <td>[{'credit_id': '52fe45029251416c9102465b', 'de...</td>\n",
       "      <td>445</td>\n",
       "      <td>3.521367</td>\n",
       "    </tr>\n",
       "    <tr>\n",
       "      <th>9250</th>\n",
       "      <td>4972</td>\n",
       "      <td>The Green Butchers</td>\n",
       "      <td>0.0</td>\n",
       "      <td>0</td>\n",
       "      <td>0</td>\n",
       "      <td>[{'id': 35, 'name': 'Comedy'}]</td>\n",
       "      <td>[{'id': 4452, 'name': 'butcher'}, {'id': 4457,...</td>\n",
       "      <td>100.0</td>\n",
       "      <td>2003-03-08</td>\n",
       "      <td>da</td>\n",
       "      <td>[{'name': 'M&amp;M Productions', 'id': 1789}]</td>\n",
       "      <td>[{'iso_3166_1': 'DK', 'name': 'Denmark'}]</td>\n",
       "      <td>[{'cast_id': 3, 'character': 'Astrid', 'credit...</td>\n",
       "      <td>[{'credit_id': '52fe43e9c3a36847f8077e1f', 'de...</td>\n",
       "      <td>200</td>\n",
       "      <td>3.531610</td>\n",
       "    </tr>\n",
       "    <tr>\n",
       "      <th>16218</th>\n",
       "      <td>18775</td>\n",
       "      <td>Demon Seed</td>\n",
       "      <td>0.0</td>\n",
       "      <td>0</td>\n",
       "      <td>0</td>\n",
       "      <td>[{'id': 27, 'name': 'Horror'}, {'id': 878, 'na...</td>\n",
       "      <td>[{'id': 310, 'name': 'artificial intelligence'...</td>\n",
       "      <td>94.0</td>\n",
       "      <td>1977-04-07</td>\n",
       "      <td>en</td>\n",
       "      <td>[{'name': 'Metro-Goldwyn-Mayer (MGM)', 'id': 8...</td>\n",
       "      <td>[{'iso_3166_1': 'US', 'name': 'United States o...</td>\n",
       "      <td>[{'cast_id': 1, 'character': 'Susan Harris', '...</td>\n",
       "      <td>[{'credit_id': '56f98704c3a3686a6100a9e5', 'de...</td>\n",
       "      <td>74</td>\n",
       "      <td>3.084680</td>\n",
       "    </tr>\n",
       "  </tbody>\n",
       "</table>\n",
       "</div>"
      ],
      "text/plain": [
       "          id                        title  revenue budget  \\\n",
       "1560   16306             Fantastic Planet      0.0      0   \n",
       "12187  17956            He Said, She Said      0.0      0   \n",
       "3724   33194  Xiu Xiu: The Sent-Down Girl      0.0      0   \n",
       "9250    4972           The Green Butchers      0.0      0   \n",
       "16218  18775                   Demon Seed      0.0      0   \n",
       "\n",
       "       belongs_to_collection  \\\n",
       "1560                       0   \n",
       "12187                      0   \n",
       "3724                       0   \n",
       "9250                       0   \n",
       "16218                      0   \n",
       "\n",
       "                                                  genres  \\\n",
       "1560   [{'id': 16, 'name': 'Animation'}, {'id': 14, '...   \n",
       "12187  [{'id': 35, 'name': 'Comedy'}, {'id': 18, 'nam...   \n",
       "3724   [{'id': 18, 'name': 'Drama'}, {'id': 10769, 'n...   \n",
       "9250                      [{'id': 35, 'name': 'Comedy'}]   \n",
       "16218  [{'id': 27, 'name': 'Horror'}, {'id': 878, 'na...   \n",
       "\n",
       "                                                keywords  runtime  \\\n",
       "1560   [{'id': 2831, 'name': 'slavery'}, {'id': 4565,...     72.0   \n",
       "12187         [{'id': 187056, 'name': 'woman director'}]    115.0   \n",
       "3724   [{'id': 293, 'name': 'female nudity'}, {'id': ...     99.0   \n",
       "9250   [{'id': 4452, 'name': 'butcher'}, {'id': 4457,...    100.0   \n",
       "16218  [{'id': 310, 'name': 'artificial intelligence'...     94.0   \n",
       "\n",
       "      release_date original_language  \\\n",
       "1560    1973-05-01                fr   \n",
       "12187   1991-02-22                en   \n",
       "3724    1998-02-19                zh   \n",
       "9250    2003-03-08                da   \n",
       "16218   1977-04-07                en   \n",
       "\n",
       "                                    production_companies  \\\n",
       "1560   [{'name': 'Krátký Film Praha', 'id': 2329}, {'...   \n",
       "12187          [{'name': 'Paramount Pictures', 'id': 4}]   \n",
       "3724                                                  []   \n",
       "9250           [{'name': 'M&M Productions', 'id': 1789}]   \n",
       "16218  [{'name': 'Metro-Goldwyn-Mayer (MGM)', 'id': 8...   \n",
       "\n",
       "                                    production_countries  \\\n",
       "1560   [{'iso_3166_1': 'CZ', 'name': 'Czech Republic'...   \n",
       "12187  [{'iso_3166_1': 'US', 'name': 'United States o...   \n",
       "3724   [{'iso_3166_1': 'CN', 'name': 'China'}, {'iso_...   \n",
       "9250           [{'iso_3166_1': 'DK', 'name': 'Denmark'}]   \n",
       "16218  [{'iso_3166_1': 'US', 'name': 'United States o...   \n",
       "\n",
       "                                                    cast  \\\n",
       "1560   [{'cast_id': 5, 'character': 'Tiwa (voice)', '...   \n",
       "12187  [{'cast_id': 3, 'character': 'Dan Hanson', 'cr...   \n",
       "3724   [{'cast_id': 5, 'character': 'Wenxiu', 'credit...   \n",
       "9250   [{'cast_id': 3, 'character': 'Astrid', 'credit...   \n",
       "16218  [{'cast_id': 1, 'character': 'Susan Harris', '...   \n",
       "\n",
       "                                                    crew  votes_per_movie  \\\n",
       "1560   [{'credit_id': '52fe46c39251416c75082a77', 'de...             1112   \n",
       "12187  [{'credit_id': '52fe47559251416c75095ac7', 'de...              209   \n",
       "3724   [{'credit_id': '52fe45029251416c9102465b', 'de...              445   \n",
       "9250   [{'credit_id': '52fe43e9c3a36847f8077e1f', 'de...              200   \n",
       "16218  [{'credit_id': '56f98704c3a3686a6100a9e5', 'de...               74   \n",
       "\n",
       "       weighted_rating  \n",
       "1560          3.696726  \n",
       "12187         2.887464  \n",
       "3724          3.521367  \n",
       "9250          3.531610  \n",
       "16218         3.084680  "
      ]
     },
     "execution_count": 23,
     "metadata": {},
     "output_type": "execute_result"
    }
   ],
   "source": [
    "# Closer look at observations with zero budget\n",
    "df[df['budget'] == '0'].sample(5)"
   ]
  },
  {
   "cell_type": "code",
   "execution_count": 24,
   "metadata": {},
   "outputs": [
    {
     "name": "stdout",
     "output_type": "stream",
     "text": [
      "rows with zero budget: 5747\n",
      "rows with zero revenue: 5622\n"
     ]
    }
   ],
   "source": [
    "# get the number of zero budget and zero revenue\n",
    "print ('rows with zero budget:', df[df.budget == '0'].shape[0])\n",
    "print ('rows with zero revenue:',df[df.revenue == 0].shape[0])"
   ]
  },
  {
   "cell_type": "markdown",
   "metadata": {},
   "source": [
    "**Thought Process**\n",
    "1. Movies with zero budget often have zero revenue. Some of the movies are made by big companies, such as Warner Bros. and Columbia Pictures Corporation. Thus, zero in 'budget' and 'revenue' are more likely to represent missing values instead of low budget. \n",
    "\n",
    "\n",
    "2. Considering the cost of acquiring other data to compute missing values, and the potential bias caused by large volumns of zero, I decided to remove them from the dataset."
   ]
  },
  {
   "cell_type": "code",
   "execution_count": 25,
   "metadata": {},
   "outputs": [
    {
     "name": "stdout",
     "output_type": "stream",
     "text": [
      "The shape of dataset (4532, 16)\n"
     ]
    }
   ],
   "source": [
    "# Drop the row where revenue and budget both equal to 0\n",
    "df = df[(df['budget'] != '0') & (df['revenue']!=0)].reset_index(drop = True)\n",
    "print (\"The shape of dataset\",df.shape)"
   ]
  },
  {
   "cell_type": "markdown",
   "metadata": {},
   "source": [
    "### Convert Data Type"
   ]
  },
  {
   "cell_type": "code",
   "execution_count": 26,
   "metadata": {},
   "outputs": [],
   "source": [
    "# convert'budget' column from object to integer data type\n",
    "df['budget'] = df['budget'].astype('int64')"
   ]
  },
  {
   "cell_type": "markdown",
   "metadata": {},
   "source": [
    "### Extract Nested Values\n",
    "Columns including 'genres', 'procudtion_countries', 'production_companies', 'cast' and 'crew' are stored in JSON format. "
   ]
  },
  {
   "cell_type": "code",
   "execution_count": 27,
   "metadata": {},
   "outputs": [],
   "source": [
    "# extract director from the crew colum\n",
    "def get_director(x):\n",
    "    for i in x:\n",
    "        if i['job'] == 'Director':\n",
    "            return i['name']\n",
    "df['director'] = df['crew'].apply(literal_eval).apply(get_director)\n",
    "df.drop(columns=['crew'], inplace = True)"
   ]
  },
  {
   "cell_type": "code",
   "execution_count": 28,
   "metadata": {},
   "outputs": [],
   "source": [
    "# Extract the main production country\n",
    "df.production_countries = df.production_countries.fillna('[]').apply(literal_eval).apply(lambda x: [i['name'] for i in x] if isinstance(x, list) else [])\n",
    "df.production_countries = df.production_countries.apply(lambda x: \"\" if len(x) == 0 else x[0])"
   ]
  },
  {
   "cell_type": "code",
   "execution_count": 29,
   "metadata": {},
   "outputs": [],
   "source": [
    "# Extract the main production company\n",
    "df.production_companies = df.production_companies.fillna('[]').apply(literal_eval).apply(lambda x: [i['name'] for i in x] if isinstance(x, list) else [])\n",
    "df.production_companies = df.production_companies.apply(lambda x: \"\" if len(x) == 0 else x[0])"
   ]
  },
  {
   "cell_type": "code",
   "execution_count": 30,
   "metadata": {},
   "outputs": [],
   "source": [
    "# Convert cast and only get the top 3 actors/actess\n",
    "df.cast = df.cast.apply(literal_eval).apply(lambda x: [i['name'] for i in x] if isinstance(x, list) else [])\n",
    "df.cast = df.cast.apply(lambda x: x[:3] if len(x) >=3 else x)"
   ]
  },
  {
   "cell_type": "code",
   "execution_count": 31,
   "metadata": {},
   "outputs": [],
   "source": [
    "# Convert genres\n",
    "df.genres = df.genres.apply(literal_eval).apply(lambda x: [i['name'] for i in x] if isinstance(x, list) else [])"
   ]
  },
  {
   "cell_type": "code",
   "execution_count": 32,
   "metadata": {},
   "outputs": [],
   "source": [
    "# Convert keywords\n",
    "df.keywords = df.keywords.apply(literal_eval).apply(lambda x: [i['name'] for i in x] if isinstance(x, list) else [])"
   ]
  },
  {
   "cell_type": "code",
   "execution_count": 33,
   "metadata": {},
   "outputs": [],
   "source": [
    "# Rename the column\n",
    "col_name = {'belongs_to_collection':'is_collection'}\n",
    "df.rename(columns= col_name, inplace = True)"
   ]
  },
  {
   "cell_type": "markdown",
   "metadata": {},
   "source": [
    "### Create New Variables"
   ]
  },
  {
   "cell_type": "code",
   "execution_count": 34,
   "metadata": {},
   "outputs": [],
   "source": [
    "# Convert 'release_date' to datetime object \n",
    "df['release_date'] = pd.to_datetime(df['release_date'])\n",
    "\n",
    "# Extract the 'month' and 'year' from 'release_date'\n",
    "# Replace missing values with zero\n",
    "df['month'] = df['release_date'].dt.month.astype(np.int64)\n",
    "df['year'] = df['release_date'].dt.year.astype(np.int64)\n",
    "df.drop(labels = 'release_date', axis = 1, inplace = True)"
   ]
  },
  {
   "cell_type": "code",
   "execution_count": 35,
   "metadata": {},
   "outputs": [],
   "source": [
    "# Create two feautres, 'is_adapted' and 'is_YA', based on the keywords information\n",
    "\n",
    "def is_adapted(series):\n",
    "    adapted = ['based on novel',\"based on children's book\"]\n",
    "    for i in adapted:\n",
    "        if i in series:\n",
    "            return 1\n",
    "    return 0\n",
    "df['is_adapted'] = df['keywords'].apply(is_adapted)\n",
    "def is_YA(series):\n",
    "    if 'teenager' in series:\n",
    "        return 1\n",
    "    else:\n",
    "        return 0\n",
    "\n",
    "df['is_YA'] = df['keywords'].apply(is_YA)\n",
    "\n",
    "# Drop keywords column\n",
    "df.drop(columns=['keywords'], inplace = True)"
   ]
  },
  {
   "cell_type": "code",
   "execution_count": 36,
   "metadata": {
    "scrolled": false
   },
   "outputs": [
    {
     "data": {
      "text/html": [
       "<div>\n",
       "<style scoped>\n",
       "    .dataframe tbody tr th:only-of-type {\n",
       "        vertical-align: middle;\n",
       "    }\n",
       "\n",
       "    .dataframe tbody tr th {\n",
       "        vertical-align: top;\n",
       "    }\n",
       "\n",
       "    .dataframe thead th {\n",
       "        text-align: right;\n",
       "    }\n",
       "</style>\n",
       "<table border=\"1\" class=\"dataframe\">\n",
       "  <thead>\n",
       "    <tr style=\"text-align: right;\">\n",
       "      <th></th>\n",
       "      <th>id</th>\n",
       "      <th>title</th>\n",
       "      <th>revenue</th>\n",
       "      <th>budget</th>\n",
       "      <th>is_collection</th>\n",
       "      <th>genres</th>\n",
       "      <th>runtime</th>\n",
       "      <th>original_language</th>\n",
       "      <th>production_companies</th>\n",
       "      <th>production_countries</th>\n",
       "      <th>cast</th>\n",
       "      <th>votes_per_movie</th>\n",
       "      <th>weighted_rating</th>\n",
       "      <th>director</th>\n",
       "      <th>month</th>\n",
       "      <th>year</th>\n",
       "      <th>is_adapted</th>\n",
       "      <th>is_YA</th>\n",
       "    </tr>\n",
       "  </thead>\n",
       "  <tbody>\n",
       "    <tr>\n",
       "      <th>0</th>\n",
       "      <td>197</td>\n",
       "      <td>Braveheart</td>\n",
       "      <td>210000000.0</td>\n",
       "      <td>72000000</td>\n",
       "      <td>0</td>\n",
       "      <td>[Action, Drama, History, War]</td>\n",
       "      <td>177.0</td>\n",
       "      <td>en</td>\n",
       "      <td>Icon Entertainment International</td>\n",
       "      <td>United States of America</td>\n",
       "      <td>[Mel Gibson, Catherine McCormack, Sophie Marceau]</td>\n",
       "      <td>66512</td>\n",
       "      <td>4.015094</td>\n",
       "      <td>Mel Gibson</td>\n",
       "      <td>5</td>\n",
       "      <td>1995</td>\n",
       "      <td>0</td>\n",
       "      <td>0</td>\n",
       "    </tr>\n",
       "    <tr>\n",
       "      <th>1</th>\n",
       "      <td>238</td>\n",
       "      <td>The Godfather</td>\n",
       "      <td>245066411.0</td>\n",
       "      <td>6000000</td>\n",
       "      <td>1</td>\n",
       "      <td>[Drama, Crime]</td>\n",
       "      <td>175.0</td>\n",
       "      <td>en</td>\n",
       "      <td>Paramount Pictures</td>\n",
       "      <td>United States of America</td>\n",
       "      <td>[Marlon Brando, Al Pacino, James Caan]</td>\n",
       "      <td>57070</td>\n",
       "      <td>4.338309</td>\n",
       "      <td>Francis Ford Coppola</td>\n",
       "      <td>3</td>\n",
       "      <td>1972</td>\n",
       "      <td>0</td>\n",
       "      <td>0</td>\n",
       "    </tr>\n",
       "    <tr>\n",
       "      <th>2</th>\n",
       "      <td>240</td>\n",
       "      <td>The Godfather: Part II</td>\n",
       "      <td>47542841.0</td>\n",
       "      <td>13000000</td>\n",
       "      <td>1</td>\n",
       "      <td>[Drama, Crime]</td>\n",
       "      <td>200.0</td>\n",
       "      <td>en</td>\n",
       "      <td>Paramount Pictures</td>\n",
       "      <td>United States of America</td>\n",
       "      <td>[Al Pacino, Robert Duvall, Diane Keaton]</td>\n",
       "      <td>36679</td>\n",
       "      <td>4.261279</td>\n",
       "      <td>Francis Ford Coppola</td>\n",
       "      <td>12</td>\n",
       "      <td>1974</td>\n",
       "      <td>0</td>\n",
       "      <td>0</td>\n",
       "    </tr>\n",
       "    <tr>\n",
       "      <th>3</th>\n",
       "      <td>207</td>\n",
       "      <td>Dead Poets Society</td>\n",
       "      <td>235860116.0</td>\n",
       "      <td>16400000</td>\n",
       "      <td>0</td>\n",
       "      <td>[Drama]</td>\n",
       "      <td>129.0</td>\n",
       "      <td>en</td>\n",
       "      <td>Touchstone Pictures</td>\n",
       "      <td>United States of America</td>\n",
       "      <td>[Robin Williams, Ethan Hawke, Robert Sean Leon...</td>\n",
       "      <td>25752</td>\n",
       "      <td>3.910587</td>\n",
       "      <td>Peter Weir</td>\n",
       "      <td>6</td>\n",
       "      <td>1989</td>\n",
       "      <td>0</td>\n",
       "      <td>0</td>\n",
       "    </tr>\n",
       "    <tr>\n",
       "      <th>4</th>\n",
       "      <td>2108</td>\n",
       "      <td>The Breakfast Club</td>\n",
       "      <td>51525171.0</td>\n",
       "      <td>1000000</td>\n",
       "      <td>0</td>\n",
       "      <td>[Comedy, Drama]</td>\n",
       "      <td>97.0</td>\n",
       "      <td>en</td>\n",
       "      <td>Universal Pictures</td>\n",
       "      <td>United States of America</td>\n",
       "      <td>[Emilio Estevez, Anthony Michael Hall, Judd Ne...</td>\n",
       "      <td>26611</td>\n",
       "      <td>3.825622</td>\n",
       "      <td>John Hughes</td>\n",
       "      <td>2</td>\n",
       "      <td>1985</td>\n",
       "      <td>0</td>\n",
       "      <td>1</td>\n",
       "    </tr>\n",
       "  </tbody>\n",
       "</table>\n",
       "</div>"
      ],
      "text/plain": [
       "     id                   title      revenue    budget  is_collection  \\\n",
       "0   197              Braveheart  210000000.0  72000000              0   \n",
       "1   238           The Godfather  245066411.0   6000000              1   \n",
       "2   240  The Godfather: Part II   47542841.0  13000000              1   \n",
       "3   207      Dead Poets Society  235860116.0  16400000              0   \n",
       "4  2108      The Breakfast Club   51525171.0   1000000              0   \n",
       "\n",
       "                          genres  runtime original_language  \\\n",
       "0  [Action, Drama, History, War]    177.0                en   \n",
       "1                 [Drama, Crime]    175.0                en   \n",
       "2                 [Drama, Crime]    200.0                en   \n",
       "3                        [Drama]    129.0                en   \n",
       "4                [Comedy, Drama]     97.0                en   \n",
       "\n",
       "               production_companies      production_countries  \\\n",
       "0  Icon Entertainment International  United States of America   \n",
       "1                Paramount Pictures  United States of America   \n",
       "2                Paramount Pictures  United States of America   \n",
       "3               Touchstone Pictures  United States of America   \n",
       "4                Universal Pictures  United States of America   \n",
       "\n",
       "                                                cast  votes_per_movie  \\\n",
       "0  [Mel Gibson, Catherine McCormack, Sophie Marceau]            66512   \n",
       "1             [Marlon Brando, Al Pacino, James Caan]            57070   \n",
       "2           [Al Pacino, Robert Duvall, Diane Keaton]            36679   \n",
       "3  [Robin Williams, Ethan Hawke, Robert Sean Leon...            25752   \n",
       "4  [Emilio Estevez, Anthony Michael Hall, Judd Ne...            26611   \n",
       "\n",
       "   weighted_rating              director  month  year  is_adapted  is_YA  \n",
       "0         4.015094            Mel Gibson      5  1995           0      0  \n",
       "1         4.338309  Francis Ford Coppola      3  1972           0      0  \n",
       "2         4.261279  Francis Ford Coppola     12  1974           0      0  \n",
       "3         3.910587            Peter Weir      6  1989           0      0  \n",
       "4         3.825622           John Hughes      2  1985           0      1  "
      ]
     },
     "execution_count": 36,
     "metadata": {},
     "output_type": "execute_result"
    }
   ],
   "source": [
    "df.head()"
   ]
  },
  {
   "cell_type": "code",
   "execution_count": 37,
   "metadata": {},
   "outputs": [
    {
     "data": {
      "text/plain": [
       "['id',\n",
       " 'title',\n",
       " 'revenue',\n",
       " 'budget',\n",
       " 'is_collection',\n",
       " 'genres',\n",
       " 'runtime',\n",
       " 'original_language',\n",
       " 'production_companies',\n",
       " 'production_countries',\n",
       " 'cast',\n",
       " 'votes_per_movie',\n",
       " 'weighted_rating',\n",
       " 'director',\n",
       " 'month',\n",
       " 'year',\n",
       " 'is_adapted',\n",
       " 'is_YA']"
      ]
     },
     "execution_count": 37,
     "metadata": {},
     "output_type": "execute_result"
    }
   ],
   "source": [
    "list(df.columns)"
   ]
  },
  {
   "cell_type": "markdown",
   "metadata": {},
   "source": [
    "# Exploratory Data Analysis"
   ]
  },
  {
   "cell_type": "markdown",
   "metadata": {},
   "source": [
    "## Target Variable"
   ]
  },
  {
   "cell_type": "markdown",
   "metadata": {},
   "source": [
    "### What's the frequency distribution of weighted rating per movie?"
   ]
  },
  {
   "cell_type": "code",
   "execution_count": 38,
   "metadata": {},
   "outputs": [],
   "source": [
    "import statsmodels.api as sm\n",
    "import scipy "
   ]
  },
  {
   "cell_type": "code",
   "execution_count": 39,
   "metadata": {},
   "outputs": [
    {
     "data": {
      "text/plain": [
       "count    4532.000000\n",
       "mean        3.239286\n",
       "std         0.451904\n",
       "min         1.256007\n",
       "25%         2.944904\n",
       "50%         3.261469\n",
       "75%         3.564858\n",
       "max         4.428007\n",
       "Name: weighted_rating, dtype: float64"
      ]
     },
     "execution_count": 39,
     "metadata": {},
     "output_type": "execute_result"
    },
    {
     "data": {
      "image/png": "[encoded data removed]",
      "text/plain": [
       "<Figure size 432x288 with 1 Axes>"
      ]
     },
     "metadata": {
      "needs_background": "light"
     },
     "output_type": "display_data"
    }
   ],
   "source": [
    "# plot a histogram to show the frequency distribution of weighted rating per movie\n",
    "df['weighted_rating'].hist(bins=30, density = True) \n",
    "plt.title('Frequency Distribution of Movie Weighted Ratings')\n",
    "plt.xlabel('score interval')\n",
    "plt.ylabel('PDF')\n",
    "df.weighted_rating.describe()"
   ]
  },
  {
   "cell_type": "code",
   "execution_count": 40,
   "metadata": {},
   "outputs": [
    {
     "data": {
      "text/html": [
       "<div>\n",
       "<style scoped>\n",
       "    .dataframe tbody tr th:only-of-type {\n",
       "        vertical-align: middle;\n",
       "    }\n",
       "\n",
       "    .dataframe tbody tr th {\n",
       "        vertical-align: top;\n",
       "    }\n",
       "\n",
       "    .dataframe thead th {\n",
       "        text-align: right;\n",
       "    }\n",
       "</style>\n",
       "<table border=\"1\" class=\"dataframe\">\n",
       "  <thead>\n",
       "    <tr style=\"text-align: right;\">\n",
       "      <th></th>\n",
       "      <th>title</th>\n",
       "      <th>weighted_rating</th>\n",
       "      <th>votes_per_movie</th>\n",
       "    </tr>\n",
       "  </thead>\n",
       "  <tbody>\n",
       "    <tr>\n",
       "      <th>121</th>\n",
       "      <td>The Shawshank Redemption</td>\n",
       "      <td>4.428007</td>\n",
       "      <td>91082</td>\n",
       "    </tr>\n",
       "    <tr>\n",
       "      <th>1</th>\n",
       "      <td>The Godfather</td>\n",
       "      <td>4.338309</td>\n",
       "      <td>57070</td>\n",
       "    </tr>\n",
       "    <tr>\n",
       "      <th>457</th>\n",
       "      <td>The Usual Suspects</td>\n",
       "      <td>4.298787</td>\n",
       "      <td>59271</td>\n",
       "    </tr>\n",
       "    <tr>\n",
       "      <th>44</th>\n",
       "      <td>Schindler's List</td>\n",
       "      <td>4.265336</td>\n",
       "      <td>67662</td>\n",
       "    </tr>\n",
       "    <tr>\n",
       "      <th>2</th>\n",
       "      <td>The Godfather: Part II</td>\n",
       "      <td>4.261279</td>\n",
       "      <td>36679</td>\n",
       "    </tr>\n",
       "    <tr>\n",
       "      <th>195</th>\n",
       "      <td>Seven Samurai</td>\n",
       "      <td>4.249373</td>\n",
       "      <td>13994</td>\n",
       "    </tr>\n",
       "    <tr>\n",
       "      <th>7</th>\n",
       "      <td>Fight Club</td>\n",
       "      <td>4.229409</td>\n",
       "      <td>60024</td>\n",
       "    </tr>\n",
       "    <tr>\n",
       "      <th>482</th>\n",
       "      <td>Rear Window</td>\n",
       "      <td>4.228878</td>\n",
       "      <td>21335</td>\n",
       "    </tr>\n",
       "    <tr>\n",
       "      <th>104</th>\n",
       "      <td>One Flew Over the Cuckoo's Nest</td>\n",
       "      <td>4.227183</td>\n",
       "      <td>40103</td>\n",
       "    </tr>\n",
       "    <tr>\n",
       "      <th>1250</th>\n",
       "      <td>12 Angry Men</td>\n",
       "      <td>4.226578</td>\n",
       "      <td>16896</td>\n",
       "    </tr>\n",
       "  </tbody>\n",
       "</table>\n",
       "</div>"
      ],
      "text/plain": [
       "                                title  weighted_rating  votes_per_movie\n",
       "121          The Shawshank Redemption         4.428007            91082\n",
       "1                       The Godfather         4.338309            57070\n",
       "457                The Usual Suspects         4.298787            59271\n",
       "44                   Schindler's List         4.265336            67662\n",
       "2              The Godfather: Part II         4.261279            36679\n",
       "195                     Seven Samurai         4.249373            13994\n",
       "7                          Fight Club         4.229409            60024\n",
       "482                       Rear Window         4.228878            21335\n",
       "104   One Flew Over the Cuckoo's Nest         4.227183            40103\n",
       "1250                     12 Angry Men         4.226578            16896"
      ]
     },
     "execution_count": 40,
     "metadata": {},
     "output_type": "execute_result"
    }
   ],
   "source": [
    "# Top 10 highly-scored movies\n",
    "df[['title','weighted_rating','votes_per_movie']].sort_values(by = 'weighted_rating', ascending=False)[:10]"
   ]
  },
  {
   "cell_type": "markdown",
   "metadata": {},
   "source": [
    "**Findings**\n",
    "1. The average rating per movie is normally distributed, with majority of movies score in the middle (between 3-3.5) and less receiving high score above 4 and low below 2."
   ]
  },
  {
   "cell_type": "markdown",
   "metadata": {},
   "source": [
    "### How do users tend to rate a movie?"
   ]
  },
  {
   "cell_type": "code",
   "execution_count": 41,
   "metadata": {},
   "outputs": [
    {
     "data": {
      "text/plain": [
       "count    2.602429e+07\n",
       "mean     3.528090e+00\n",
       "std      1.065443e+00\n",
       "min      5.000000e-01\n",
       "25%      3.000000e+00\n",
       "50%      3.500000e+00\n",
       "75%      4.000000e+00\n",
       "max      5.000000e+00\n",
       "Name: rating, dtype: float64"
      ]
     },
     "execution_count": 41,
     "metadata": {},
     "output_type": "execute_result"
    },
    {
     "data": {
      "image/png": "[encoded data removed]",
      "text/plain": [
       "<Figure size 432x288 with 1 Axes>"
      ]
     },
     "metadata": {
      "needs_background": "light"
     },
     "output_type": "display_data"
    }
   ],
   "source": [
    "# Calculate the distribution of each rating interval, ranging from 0.5 to 5\n",
    "ratings.groupby('rating').size().plot(kind = 'bar')\n",
    "plt.title(\"Users' Tendecy Rating\")\n",
    "plt.xlabel('score scale')\n",
    "plt.ylabel('frequency (number of rates)')\n",
    "\n",
    "ratings.rating.describe()"
   ]
  },
  {
   "cell_type": "markdown",
   "metadata": {},
   "source": [
    "**Findings**\n",
    "1. Users are actually very generous, with more giving high scores (above 3) rather than low scores. "
   ]
  },
  {
   "cell_type": "markdown",
   "metadata": {},
   "source": [
    "## Numerical Variables"
   ]
  },
  {
   "cell_type": "markdown",
   "metadata": {},
   "source": [
    "### How many ratings a movie receive?"
   ]
  },
  {
   "cell_type": "code",
   "execution_count": 42,
   "metadata": {},
   "outputs": [
    {
     "data": {
      "text/plain": [
       "count     4532.000000\n",
       "mean      4522.890997\n",
       "std       8346.593498\n",
       "min         67.000000\n",
       "25%        421.000000\n",
       "50%       1334.500000\n",
       "75%       4836.000000\n",
       "max      91921.000000\n",
       "Name: votes_per_movie, dtype: float64"
      ]
     },
     "execution_count": 42,
     "metadata": {},
     "output_type": "execute_result"
    },
    {
     "data": {
      "image/png": "[encoded data removed]",
      "text/plain": [
       "<Figure size 432x288 with 1 Axes>"
      ]
     },
     "metadata": {
      "needs_background": "light"
     },
     "output_type": "display_data"
    }
   ],
   "source": [
    "np.log(df.votes_per_movie).hist()\n",
    "plt.title('Frequency Distribution of Votes Per Movie')\n",
    "plt.xlabel('number of votes (log)')\n",
    "plt.ylabel('frequency (number of movies)')\n",
    "\n",
    "df.votes_per_movie.describe()"
   ]
  },
  {
   "cell_type": "code",
   "execution_count": 43,
   "metadata": {},
   "outputs": [
    {
     "data": {
      "text/plain": [
       "'Forrest Gump'"
      ]
     },
     "execution_count": 43,
     "metadata": {},
     "output_type": "execute_result"
    }
   ],
   "source": [
    "# Get the row of max value in votes_per_movie\n",
    "df.loc[df['votes_per_movie'].idxmax()]['title']"
   ]
  },
  {
   "cell_type": "markdown",
   "metadata": {},
   "source": [
    "**Findings**\n",
    "- The distribution of votes per movie is skewed to the right, with mean (4522) larger than median (1334). There are outliers with large number of votes observed, which in our case, is 'Forrest Gump'."
   ]
  },
  {
   "cell_type": "markdown",
   "metadata": {},
   "source": [
    "### Money Matters: Could higher budget guarantee more positive revenue or ratings?\n",
    "Budget as the key financing element that movie companies could decide in an early stage of a movie production. As the scatter plot showed that the movie budget has positive relationship with movie revenue. I'd like to also investigate whether high budget could also buy audience's preference."
   ]
  },
  {
   "cell_type": "code",
   "execution_count": 44,
   "metadata": {
    "scrolled": false
   },
   "outputs": [],
   "source": [
    "# Correct budget values\n",
    "def multiple_million(series):\n",
    "    if len(str(series)) < 3:\n",
    "        return series * 1000000\n",
    "    else:\n",
    "        return series\n",
    "df['budget'] = df['budget'].apply(multiple_million)\n",
    "df['revenue'] = df['revenue'].apply(multiple_million)\n",
    "\n",
    "# Only four data whose budget values don't make sense left,\n",
    "# I decided to manually check the info online and correct them accordingly\n",
    "df.iloc[1453,3] = 11300000\n",
    "df.iloc[4412,3] = 250000"
   ]
  },
  {
   "cell_type": "markdown",
   "metadata": {},
   "source": [
    "### Higher budget often leads to higher revenue"
   ]
  },
  {
   "cell_type": "code",
   "execution_count": 45,
   "metadata": {
    "scrolled": true
   },
   "outputs": [
    {
     "data": {
      "image/png": "[encoded data removed]",
      "text/plain": [
       "<Figure size 432x288 with 1 Axes>"
      ]
     },
     "metadata": {
      "needs_background": "light"
     },
     "output_type": "display_data"
    },
    {
     "name": "stdout",
     "output_type": "stream",
     "text": [
      "correlation:0.722, p-value0.000\n"
     ]
    }
   ],
   "source": [
    "# Plot the relationship between budget and revenue\n",
    "sns.scatterplot(x = 'budget', y = 'revenue', data = df, s = 15)\n",
    "plt.title('Relationship between budget and revenue')\n",
    "plt.xlabel('Budget')\n",
    "plt.ylabel('Revenue')\n",
    "\n",
    "# perform a linear regrssion using np.polyfit()\n",
    "slope, intercept = np.polyfit(df.budget, df.revenue, 1)\n",
    "# Make theoretical line to plot\n",
    "x = np.array([0, df.budget.max()])\n",
    "y = slope * x + intercept\n",
    "# add regression line\n",
    "ax = plt.plot(x,y,c='orange',linewidth=2)\n",
    "\n",
    "plt.show()\n",
    "\n",
    "# Calculate correlation value\n",
    "corr,p = scipy.stats.pearsonr(df.budget, df.revenue)\n",
    "print (\"correlation:%.3f, p-value%.3f\" %(corr,p))"
   ]
  },
  {
   "cell_type": "markdown",
   "metadata": {},
   "source": [
    "**Thought Process**\n",
    "\n",
    "The strong correlation between budget and revenue suggested that they are very similar features. I would only keep 'budget' column when fitting a model later."
   ]
  },
  {
   "cell_type": "code",
   "execution_count": 46,
   "metadata": {
    "scrolled": true
   },
   "outputs": [
    {
     "data": {
      "text/plain": [
       "count    4.337000e+03\n",
       "mean     3.681534e+07\n",
       "std      4.229836e+07\n",
       "min      1.000000e+06\n",
       "25%      9.000000e+06\n",
       "50%      2.200000e+07\n",
       "75%      5.000000e+07\n",
       "max      3.800000e+08\n",
       "Name: budget, dtype: float64"
      ]
     },
     "execution_count": 46,
     "metadata": {},
     "output_type": "execute_result"
    },
    {
     "data": {
      "image/png": "[encoded data removed]",
      "text/plain": [
       "<Figure size 432x288 with 1 Axes>"
      ]
     },
     "metadata": {
      "needs_background": "light"
     },
     "output_type": "display_data"
    }
   ],
   "source": [
    "df = df[df['budget'] >= 1000000]\n",
    "\n",
    "# log the budget value\n",
    "ax = np.log(df.budget).hist(bins=30) \n",
    "plt.title('Frequency Distribution of Budget')\n",
    "plt.xlabel('budget (log)')\n",
    "plt.ylabel('number of movies')\n",
    "\n",
    "df.budget.describe()"
   ]
  },
  {
   "cell_type": "markdown",
   "metadata": {},
   "source": [
    "### Movie budget doesn't align with the audience preference"
   ]
  },
  {
   "cell_type": "code",
   "execution_count": 48,
   "metadata": {},
   "outputs": [
    {
     "data": {
      "image/png": "[encoded data removed]",
      "text/plain": [
       "<Figure size 432x288 with 1 Axes>"
      ]
     },
     "metadata": {
      "needs_background": "light"
     },
     "output_type": "display_data"
    },
    {
     "name": "stdout",
     "output_type": "stream",
     "text": [
      "correlation:-0.165, p-value0.000\n"
     ]
    }
   ],
   "source": [
    "# plot the budget versus weighted rating\n",
    "ax = plt.plot(np.log(df.budget),df.weighted_rating, 'o', markersize = 2, alpha = 0.2)\n",
    "plt.title('Relationship between budget and rating')\n",
    "plt.xlabel('budget (log)')\n",
    "plt.ylabel('rating scale')\n",
    "\n",
    "# perform a linear regrssion using np.polyfit()\n",
    "slope, intercept = np.polyfit(np.log(df.budget), df.weighted_rating, 1)\n",
    "# make theoretical line to plot\n",
    "x = np.array([0, 20])\n",
    "y = slope * x + intercept\n",
    "# add regression line\n",
    "ax = plt.plot(x,y)\n",
    "\n",
    "plt.show()\n",
    "\n",
    "# calculate correlation value\n",
    "corr,p = scipy.stats.pearsonr(np.log(df.budget), df.weighted_rating)\n",
    "print (\"correlation:%.3f, p-value%.3f\" %(corr,p))"
   ]
  },
  {
   "cell_type": "markdown",
   "metadata": {},
   "source": [
    "### Production Sides: What's the influence of movie length and release timing  on ratings?"
   ]
  },
  {
   "cell_type": "markdown",
   "metadata": {},
   "source": [
    "### Longer story attract audience more"
   ]
  },
  {
   "cell_type": "code",
   "execution_count": 49,
   "metadata": {},
   "outputs": [
    {
     "data": {
      "image/png": "[encoded data removed]",
      "text/plain": [
       "<Figure size 432x288 with 1 Axes>"
      ]
     },
     "metadata": {
      "needs_background": "light"
     },
     "output_type": "display_data"
    },
    {
     "name": "stdout",
     "output_type": "stream",
     "text": [
      "correlation:0.379, p-value0.000\n"
     ]
    }
   ],
   "source": [
    "# plot the revenue versus weighted rating\n",
    "ax = plt.plot(df.runtime ,df.weighted_rating, 'o', markersize = 2, alpha = 0.2)\n",
    "plt.title('Relationship between runtime and rating')\n",
    "plt.xlabel('runtime (mins)')\n",
    "plt.ylabel('rating scale')\n",
    "\n",
    "# perform a linear regrssion using np.polyfit()\n",
    "slope, intercept = np.polyfit(df.runtime, df.weighted_rating, 1)\n",
    "# make theoretical line to plot\n",
    "x = np.array([0, 340])\n",
    "y = slope * x + intercept\n",
    "# add regression line\n",
    "ax = plt.plot(x,y)\n",
    "\n",
    "plt.show()\n",
    "\n",
    "# calculate correlation value\n",
    "corr,p = scipy.stats.pearsonr(df.runtime, df.weighted_rating)\n",
    "print (\"correlation:%.3f, p-value%.3f\" %(corr,p))\n",
    "# 95% confidence in the relationship between features"
   ]
  },
  {
   "cell_type": "markdown",
   "metadata": {},
   "source": [
    "### Timing seems to have less affect on movie ratings"
   ]
  },
  {
   "cell_type": "code",
   "execution_count": 50,
   "metadata": {
    "scrolled": false
   },
   "outputs": [
    {
     "data": {
      "text/plain": [
       "Text(0, 0.5, 'ratings')"
      ]
     },
     "execution_count": 50,
     "metadata": {},
     "output_type": "execute_result"
    },
    {
     "data": {
      "image/png": "[encoded data removed]",
      "text/plain": [
       "<Figure size 864x432 with 1 Axes>"
      ]
     },
     "metadata": {
      "needs_background": "light"
     },
     "output_type": "display_data"
    }
   ],
   "source": [
    "_ = plt.figure(figsize=(12,6))\n",
    "_ = sns.boxplot(x = 'month', y = 'weighted_rating', data = df,color = 'cornflowerblue',medianprops={'color':'gold'} )\n",
    "plt.title('Relationship between released month and ratings')\n",
    "plt.xlabel('month')\n",
    "plt.ylabel('ratings')"
   ]
  },
  {
   "cell_type": "code",
   "execution_count": 51,
   "metadata": {
    "scrolled": true
   },
   "outputs": [
    {
     "name": "stdout",
     "output_type": "stream",
     "text": [
      "correlation:-0.152, p-value0.000\n"
     ]
    },
    {
     "data": {
      "image/png": "[encoded data removed]",
      "text/plain": [
       "<Figure size 432x288 with 1 Axes>"
      ]
     },
     "metadata": {
      "needs_background": "light"
     },
     "output_type": "display_data"
    }
   ],
   "source": [
    "# plot the year versus weighted rating\n",
    "ax = plt.plot(df.year ,df.weighted_rating, 'o', markersize = 2, alpha = 0.2)\n",
    "plt.title('Relationship between year and rating')\n",
    "plt.xlabel('year')\n",
    "plt.ylabel('rating scale')\n",
    "\n",
    "# Calculate correlation value\n",
    "corr,p = scipy.stats.pearsonr(df.year ,df.weighted_rating)\n",
    "print (\"correlation:%.3f, p-value%.3f\" %(corr,p))"
   ]
  },
  {
   "cell_type": "markdown",
   "metadata": {},
   "source": [
    "**Thought Process**\n",
    "1. The above graphs fail to capture the relationship between timing (month and year) and movie rating clearly. I would perform statistical tests to do more precise evaluation."
   ]
  },
  {
   "cell_type": "markdown",
   "metadata": {},
   "source": [
    "### Production Sides: What's the influence of production sites and studio on ratings?"
   ]
  },
  {
   "cell_type": "code",
   "execution_count": 52,
   "metadata": {},
   "outputs": [
    {
     "data": {
      "text/plain": [
       "United States of America    2985\n",
       "United Kingdom               335\n",
       "Germany                      173\n",
       "France                       172\n",
       "Canada                       169\n",
       "Name: production_countries, dtype: int64"
      ]
     },
     "execution_count": 52,
     "metadata": {},
     "output_type": "execute_result"
    }
   ],
   "source": [
    "df['production_countries'].value_counts(ascending = False)[:5]"
   ]
  },
  {
   "cell_type": "code",
   "execution_count": 53,
   "metadata": {},
   "outputs": [],
   "source": [
    "# select the top 5 countries with the most productions\n",
    "top_countries = (df['production_countries'] == 'United States of America') | (df['production_countries']== 'United Kingdom') | (df['production_countries']== 'France') | (df['production_countries']== 'Germany')| (df['production_countries']== 'Canada')\n",
    "countries_to_plot = df[top_countries]"
   ]
  },
  {
   "cell_type": "markdown",
   "metadata": {},
   "source": [
    "#### Despite of being the movie-making capital, US's movies don't always get the highest rating score"
   ]
  },
  {
   "cell_type": "code",
   "execution_count": 54,
   "metadata": {},
   "outputs": [
    {
     "data": {
      "image/png": "[encoded data removed]",
      "text/plain": [
       "<Figure size 720x432 with 1 Axes>"
      ]
     },
     "metadata": {
      "needs_background": "light"
     },
     "output_type": "display_data"
    }
   ],
   "source": [
    "_ = plt.figure(figsize=(10,6))\n",
    "_ = sns.violinplot(x=\"production_countries\", y='weighted_rating', data = countries_to_plot, inner=None)\n",
    "_ = sns.swarmplot(x=\"production_countries\", y='weighted_rating', data = countries_to_plot, color=\"white\", edgecolor=\"gray\", size=2)"
   ]
  },
  {
   "cell_type": "markdown",
   "metadata": {},
   "source": [
    "**Thought Process**\n",
    "1. USA is the most dominant country. Its production numbers are way more than others and even nine times more than the second-ranking country, United Kingdom. \n",
    "2. Since the production numbers vary a lot. Only top 5 countries with the most productions are being considered when passing into the model."
   ]
  },
  {
   "cell_type": "markdown",
   "metadata": {},
   "source": [
    "#### Studio size doesn't guarantee the movie rating \n",
    "Major film studios, known as 'Big Six', including Universal Pictures, Paramount Pictures,  Twentieth Century Fox Film Corporation, Warner Bros., Columbia Pictures, Walt Disney Pictures, contributed the most of movie productions in the industry. Yes, suprisinly, their movie raitngs don't seem to be higher than other studios."
   ]
  },
  {
   "cell_type": "code",
   "execution_count": 55,
   "metadata": {},
   "outputs": [],
   "source": [
    "# ignore missing observations and take only the 10 companies with the most productions\n",
    "companies = df[df['production_companies'].map(len) > 0]['production_companies'].value_counts()[:10]"
   ]
  },
  {
   "cell_type": "code",
   "execution_count": 56,
   "metadata": {
    "scrolled": false
   },
   "outputs": [
    {
     "data": {
      "text/plain": [
       "Universal Pictures                        316\n",
       "Paramount Pictures                        314\n",
       "Twentieth Century Fox Film Corporation    233\n",
       "Columbia Pictures                         203\n",
       "New Line Cinema                           159\n",
       "Walt Disney Pictures                      127\n",
       "Warner Bros.                              102\n",
       "Miramax Films                              83\n",
       "Columbia Pictures Corporation              80\n",
       "United Artists                             78\n",
       "Name: production_companies, dtype: int64"
      ]
     },
     "execution_count": 56,
     "metadata": {},
     "output_type": "execute_result"
    },
    {
     "data": {
      "image/png": "[encoded data removed]",
      "text/plain": [
       "<Figure size 432x288 with 1 Axes>"
      ]
     },
     "metadata": {
      "needs_background": "light"
     },
     "output_type": "display_data"
    }
   ],
   "source": [
    "companies.sort_values().plot.barh()\n",
    "plt.xlabel('number of movies')\n",
    "plt.ylabel('company name')\n",
    "plt.title('Most dominant movie companies ')\n",
    "companies.sort_values(ascending = False)"
   ]
  },
  {
   "cell_type": "code",
   "execution_count": 57,
   "metadata": {},
   "outputs": [],
   "source": [
    "def big_six(series):\n",
    "    big_six = ['Universal Pictures', 'Paramount Pictures', 'Twentieth Century Fox Film Corporation', 'Warner Bros.', 'Columbia Pictures', 'Walt Disney Pictures']\n",
    "    if series in big_six:\n",
    "        return 1\n",
    "    else:\n",
    "        return 0\n",
    "df['major_studio'] = df['production_companies'].apply(big_six)"
   ]
  },
  {
   "cell_type": "code",
   "execution_count": 58,
   "metadata": {},
   "outputs": [
    {
     "data": {
      "text/plain": [
       "<matplotlib.axes._subplots.AxesSubplot at 0x1a24a90e10>"
      ]
     },
     "execution_count": 58,
     "metadata": {},
     "output_type": "execute_result"
    },
    {
     "data": {
      "image/png": "[encoded data removed]",
      "text/plain": [
       "<Figure size 432x288 with 1 Axes>"
      ]
     },
     "metadata": {
      "needs_background": "light"
     },
     "output_type": "display_data"
    }
   ],
   "source": [
    "sns.boxplot(x = 'major_studio', y = 'weighted_rating', data = df)"
   ]
  },
  {
   "cell_type": "markdown",
   "metadata": {},
   "source": [
    "### Genre Popularity: What's the relationship between genres and ratings\n",
    "Based on the first chart showing that certain types of genres are more popular in terms of the production numbers, I would plot to check if the taste of movie companies aligned with the audience.\n",
    "\n",
    "Originally, there are 20 genre types in the dataset. After merging subgenres into 10 major genres:\n",
    "- `Drama`(Music/History)\n",
    "- `Comedy`\n",
    "- `Action`(War)\n",
    "- `Thriller`(Mystery/Crime)\n",
    "- `Adventure`(Western)\n",
    "- `Horror`\n",
    "- `Fantasy`(Science Fiction)\n",
    "- `Family`\n",
    "- `Animation`\n",
    "- `Documentary`\n",
    "\n",
    "*Note: TV Movie and Foreign are removed since both of them only have one data point"
   ]
  },
  {
   "cell_type": "code",
   "execution_count": 61,
   "metadata": {},
   "outputs": [],
   "source": [
    "# Merge movie subgenres into major genres\n",
    "\n",
    "def combine_genre(series):\n",
    "    \"\"\"Loop through the list of genres and replace the subgenres with the major types,\n",
    "    and deleter two minor genres: 'TV Movie' and 'Foreign'\n",
    "    \"\"\"\n",
    "    genre_dict = {'Music':'Drama','History':'Drama',\n",
    "              'War':'Action', \n",
    "              'Crime':'Thriller','Mystery':'Thriller',\n",
    "              'Western':'Adventure',\n",
    "              'Science Fiction':'Fantasy'}\n",
    "    try:\n",
    "        for i in range(len(series)):\n",
    "            if series[i] in genre_dict.keys():\n",
    "                series[i] = genre_dict[series[i]]\n",
    "            if series[i] == 'TV Movie':\n",
    "                series.remove('TV Movie')\n",
    "            if series[i] == 'Foreign':\n",
    "                series.remove('Foreign')\n",
    "    except IndexError:\n",
    "        pass\n",
    "    return list(set(series))\n",
    "\n",
    "df['genres'] = df['genres'].apply(combine_genre)"
   ]
  },
  {
   "cell_type": "code",
   "execution_count": 62,
   "metadata": {},
   "outputs": [],
   "source": [
    "# Reshape the genre columns to calculate their total production numbers\n",
    "\n",
    "# Separate the list of genre types from genres column\n",
    "genres_df = pd.concat([df['genres'].apply(pd.Series),df['id']],axis=1)\n",
    "# Keep all genre types within the same column\n",
    "genres_df = pd.melt(genres_df, id_vars='id',value_name='genre').drop(columns='variable').sort_values(by='id')\n",
    "genres_merge = pd.merge(genres_df,df[['weighted_rating','id']], on = 'id').sort_values(by=['id'])\n",
    "genres_merge = genres_merge[pd.notnull(genres_merge['genre'])]\n",
    "\n",
    "# Count the production number of each genre\n",
    "genre_count = pd.DataFrame(genres_merge.groupby('genre').count())\n",
    "genre_count.reset_index(inplace = True)\n",
    "genre_count.drop(columns = 'weighted_rating',inplace = True)\n",
    "genre_count.columns = ['genre','count']\n",
    "genre_count = genre_count.sort_values(by='count',ascending=True)"
   ]
  },
  {
   "cell_type": "markdown",
   "metadata": {},
   "source": [
    "#### Filmmakers produce more Thriller and Drame movies"
   ]
  },
  {
   "cell_type": "code",
   "execution_count": 63,
   "metadata": {
    "scrolled": true
   },
   "outputs": [
    {
     "data": {
      "image/png": "[encoded data removed]",
      "text/plain": [
       "<Figure size 432x288 with 1 Axes>"
      ]
     },
     "metadata": {
      "needs_background": "light"
     },
     "output_type": "display_data"
    }
   ],
   "source": [
    "# Plot total number of movies vs genre\n",
    "genre_count.plot.barh(x = 'genre', y = 'count')\n",
    "plt.xlabel('Number of movies')\n",
    "plt.ylabel('Genre')\n",
    "plt.title('Number of Movies by Genre')\n",
    "\n",
    "plt.show()"
   ]
  },
  {
   "cell_type": "markdown",
   "metadata": {},
   "source": [
    "#### Thriller and Drama are easier to get high positive scores"
   ]
  },
  {
   "cell_type": "code",
   "execution_count": 64,
   "metadata": {
    "scrolled": true
   },
   "outputs": [
    {
     "data": {
      "image/png": "[encoded data removed]",
      "text/plain": [
       "<Figure size 720x360 with 1 Axes>"
      ]
     },
     "metadata": {
      "needs_background": "light"
     },
     "output_type": "display_data"
    }
   ],
   "source": [
    "_ = plt.figure(figsize=(10,5))\n",
    "_ = sns.boxplot(x = 'genre', y = 'weighted_rating', data = genres_merge,color = 'cornflowerblue',medianprops={'color':'gold'} )"
   ]
  },
  {
   "cell_type": "code",
   "execution_count": 65,
   "metadata": {
    "scrolled": true
   },
   "outputs": [
    {
     "data": {
      "text/plain": [
       "<matplotlib.axes._subplots.AxesSubplot at 0x1a38bd7400>"
      ]
     },
     "execution_count": 65,
     "metadata": {},
     "output_type": "execute_result"
    },
    {
     "data": {
      "image/png": "[encoded data removed]",
      "text/plain": [
       "<Figure size 432x288 with 1 Axes>"
      ]
     },
     "metadata": {
      "needs_background": "light"
     },
     "output_type": "display_data"
    }
   ],
   "source": [
    "sns.boxplot(x = 'is_adapted', y = 'weighted_rating', data = df)"
   ]
  },
  {
   "cell_type": "code",
   "execution_count": 66,
   "metadata": {
    "scrolled": true
   },
   "outputs": [
    {
     "data": {
      "text/plain": [
       "<matplotlib.axes._subplots.AxesSubplot at 0x1a3be65fd0>"
      ]
     },
     "execution_count": 66,
     "metadata": {},
     "output_type": "execute_result"
    },
    {
     "data": {
      "image/png": "[encoded data removed]",
      "text/plain": [
       "<Figure size 432x288 with 1 Axes>"
      ]
     },
     "metadata": {
      "needs_background": "light"
     },
     "output_type": "display_data"
    }
   ],
   "source": [
    "sns.boxplot(x = 'is_YA', y = 'weighted_rating', data = df)"
   ]
  },
  {
   "cell_type": "code",
   "execution_count": 67,
   "metadata": {
    "scrolled": true
   },
   "outputs": [
    {
     "data": {
      "text/plain": [
       "<matplotlib.axes._subplots.AxesSubplot at 0x1a372d3940>"
      ]
     },
     "execution_count": 67,
     "metadata": {},
     "output_type": "execute_result"
    },
    {
     "data": {
      "image/png": "[encoded data removed]",
      "text/plain": [
       "<Figure size 432x288 with 1 Axes>"
      ]
     },
     "metadata": {
      "needs_background": "light"
     },
     "output_type": "display_data"
    }
   ],
   "source": [
    "sns.boxplot(x = 'is_collection', y = 'weighted_rating', data = df)"
   ]
  },
  {
   "cell_type": "markdown",
   "metadata": {},
   "source": [
    "## Correlation Matrix"
   ]
  },
  {
   "cell_type": "code",
   "execution_count": 69,
   "metadata": {},
   "outputs": [
    {
     "data": {
      "text/plain": [
       "<matplotlib.axes._subplots.AxesSubplot at 0x1a24a91e10>"
      ]
     },
     "execution_count": 69,
     "metadata": {},
     "output_type": "execute_result"
    },
    {
     "data": {
      "image/png": "[encoded data removed]",
      "text/plain": [
       "<Figure size 720x432 with 2 Axes>"
      ]
     },
     "metadata": {
      "needs_background": "light"
     },
     "output_type": "display_data"
    }
   ],
   "source": [
    "# select numerical variable\n",
    "df_numeric = df[['weighted_rating','votes_per_movie','budget','is_collection','runtime','month','year']]\n",
    "\n",
    "# plot coorelation matrix\n",
    "k = 7 #number of variables for heatmap\n",
    "cols = df_numeric.corr().nlargest(k, 'weighted_rating')['weighted_rating'].index\n",
    "cm = df_numeric[cols].corr()\n",
    "plt.figure(figsize=(10,6))\n",
    "sns.heatmap(cm, annot=True, cmap = 'viridis')\n",
    "\n",
    "# more than 80 or 90 \n",
    "# no varialbe are highly related to each other"
   ]
  },
  {
   "cell_type": "markdown",
   "metadata": {},
   "source": [
    "# Hypothesis Testing\n",
    "I used hypothesis tests on 'month' and 'year', both variables related to movie release timing, to examine which one has the real influence on movie scores.\n",
    "\n",
    "\n",
    "ANOVA test would be used for examining 'month', while two-sample t-test would be used for 'year'. The key assumption behind both hypothesis tests is that the data should be normally distributed. "
   ]
  },
  {
   "cell_type": "markdown",
   "metadata": {},
   "source": [
    "### Examine if the data is normally distributed"
   ]
  },
  {
   "cell_type": "code",
   "execution_count": 68,
   "metadata": {
    "scrolled": true
   },
   "outputs": [
    {
     "data": {
      "image/png": "[encoded data removed]",
      "text/plain": [
       "<Figure size 432x288 with 1 Axes>"
      ]
     },
     "metadata": {
      "needs_background": "light"
     },
     "output_type": "display_data"
    }
   ],
   "source": [
    "# Overlay the theoretical CDF of normal distribution with the empirical CDF of the real data\n",
    "# to verify that the normal distribution describes the observed data\n",
    "\n",
    "def ecdf(data):\n",
    "    \"\"\"Comput ECDF for a one-dimensiona array of measurements.\n",
    "    \"\"\"\n",
    "    # Number of data points: n\n",
    "    n = len(data)\n",
    "    # x-data for the ECDF: x\n",
    "    x = np.sort(data)\n",
    "    # y-data for the ECDF: y\n",
    "    y = np.arange(1, n+1) / n\n",
    "    \n",
    "    return x, y\n",
    "\n",
    "# Generate 50 bootstrape samples for normal distribution\n",
    "for i in range(50):\n",
    "    bs_sample = np.random.choice(df['weighted_rating'], size = len(df['weighted_rating']))\n",
    "    # Plot a ECDF for each sample\n",
    "    x, y = ecdf(bs_sample)\n",
    "    _ = plt.plot(x, y, marker = '.',linestyle = 'none', c = 'darkblue', markersize = 0.5 )\n",
    "\n",
    "    \n",
    "# Plot ECDF for the original data\n",
    "x, y = ecdf(df['weighted_rating'])\n",
    "_ = plt.plot(x, y, marker = '.', linestyle = 'none',  c = 'gold', markersize = 0.5)\n",
    "\n",
    "_ = plt.xlabel('Weighted Ratings')\n",
    "_ = plt.ylabel('ECDF')\n",
    "\n",
    "plt.show()"
   ]
  },
  {
   "cell_type": "markdown",
   "metadata": {},
   "source": [
    "The CDF of a normal distribution computed from bootstrap samples overlay with the empirical CDF computed from real observations. It verifies the data of weighted_ratings is normally distributed, and meets the normality condition of hypothesis test."
   ]
  },
  {
   "cell_type": "markdown",
   "metadata": {},
   "source": [
    "#### Using ANOVA-Test to examine if movie scores differ among month\n",
    "- Stating hypothesis\n",
    "    - H0: The mean of weighted ratings are the same among movies released in 12 months.\n",
    "    - H1: The mean of weighted ratings are different among movies released in 12 months.\n",
    "- Deciding significance level\n",
    "    - The significance level (α) is 0.05."
   ]
  },
  {
   "cell_type": "code",
   "execution_count": 70,
   "metadata": {},
   "outputs": [
    {
     "data": {
      "text/html": [
       "<div>\n",
       "<style scoped>\n",
       "    .dataframe tbody tr th:only-of-type {\n",
       "        vertical-align: middle;\n",
       "    }\n",
       "\n",
       "    .dataframe tbody tr th {\n",
       "        vertical-align: top;\n",
       "    }\n",
       "\n",
       "    .dataframe thead th {\n",
       "        text-align: right;\n",
       "    }\n",
       "</style>\n",
       "<table border=\"1\" class=\"dataframe\">\n",
       "  <thead>\n",
       "    <tr style=\"text-align: right;\">\n",
       "      <th></th>\n",
       "      <th>id</th>\n",
       "      <th>title</th>\n",
       "      <th>revenue</th>\n",
       "      <th>budget</th>\n",
       "      <th>is_collection</th>\n",
       "      <th>genres</th>\n",
       "      <th>runtime</th>\n",
       "      <th>original_language</th>\n",
       "      <th>production_companies</th>\n",
       "      <th>production_countries</th>\n",
       "      <th>...</th>\n",
       "      <th>Apr</th>\n",
       "      <th>May</th>\n",
       "      <th>Jun</th>\n",
       "      <th>Jul</th>\n",
       "      <th>Aug</th>\n",
       "      <th>Sep</th>\n",
       "      <th>Oct</th>\n",
       "      <th>Nov</th>\n",
       "      <th>Dec</th>\n",
       "      <th>intercept</th>\n",
       "    </tr>\n",
       "  </thead>\n",
       "  <tbody>\n",
       "    <tr>\n",
       "      <th>0</th>\n",
       "      <td>197</td>\n",
       "      <td>Braveheart</td>\n",
       "      <td>210000000.0</td>\n",
       "      <td>72000000</td>\n",
       "      <td>0</td>\n",
       "      <td>[Action, Drama]</td>\n",
       "      <td>177.0</td>\n",
       "      <td>en</td>\n",
       "      <td>Icon Entertainment International</td>\n",
       "      <td>United States of America</td>\n",
       "      <td>...</td>\n",
       "      <td>0</td>\n",
       "      <td>1</td>\n",
       "      <td>0</td>\n",
       "      <td>0</td>\n",
       "      <td>0</td>\n",
       "      <td>0</td>\n",
       "      <td>0</td>\n",
       "      <td>0</td>\n",
       "      <td>0</td>\n",
       "      <td>1</td>\n",
       "    </tr>\n",
       "    <tr>\n",
       "      <th>1</th>\n",
       "      <td>238</td>\n",
       "      <td>The Godfather</td>\n",
       "      <td>245066411.0</td>\n",
       "      <td>6000000</td>\n",
       "      <td>1</td>\n",
       "      <td>[Thriller, Drama]</td>\n",
       "      <td>175.0</td>\n",
       "      <td>en</td>\n",
       "      <td>Paramount Pictures</td>\n",
       "      <td>United States of America</td>\n",
       "      <td>...</td>\n",
       "      <td>0</td>\n",
       "      <td>0</td>\n",
       "      <td>0</td>\n",
       "      <td>0</td>\n",
       "      <td>0</td>\n",
       "      <td>0</td>\n",
       "      <td>0</td>\n",
       "      <td>0</td>\n",
       "      <td>0</td>\n",
       "      <td>1</td>\n",
       "    </tr>\n",
       "    <tr>\n",
       "      <th>2</th>\n",
       "      <td>240</td>\n",
       "      <td>The Godfather: Part II</td>\n",
       "      <td>47542841.0</td>\n",
       "      <td>13000000</td>\n",
       "      <td>1</td>\n",
       "      <td>[Thriller, Drama]</td>\n",
       "      <td>200.0</td>\n",
       "      <td>en</td>\n",
       "      <td>Paramount Pictures</td>\n",
       "      <td>United States of America</td>\n",
       "      <td>...</td>\n",
       "      <td>0</td>\n",
       "      <td>0</td>\n",
       "      <td>0</td>\n",
       "      <td>0</td>\n",
       "      <td>0</td>\n",
       "      <td>0</td>\n",
       "      <td>0</td>\n",
       "      <td>0</td>\n",
       "      <td>1</td>\n",
       "      <td>1</td>\n",
       "    </tr>\n",
       "    <tr>\n",
       "      <th>3</th>\n",
       "      <td>207</td>\n",
       "      <td>Dead Poets Society</td>\n",
       "      <td>235860116.0</td>\n",
       "      <td>16400000</td>\n",
       "      <td>0</td>\n",
       "      <td>[Drama]</td>\n",
       "      <td>129.0</td>\n",
       "      <td>en</td>\n",
       "      <td>Touchstone Pictures</td>\n",
       "      <td>United States of America</td>\n",
       "      <td>...</td>\n",
       "      <td>0</td>\n",
       "      <td>0</td>\n",
       "      <td>1</td>\n",
       "      <td>0</td>\n",
       "      <td>0</td>\n",
       "      <td>0</td>\n",
       "      <td>0</td>\n",
       "      <td>0</td>\n",
       "      <td>0</td>\n",
       "      <td>1</td>\n",
       "    </tr>\n",
       "    <tr>\n",
       "      <th>4</th>\n",
       "      <td>2108</td>\n",
       "      <td>The Breakfast Club</td>\n",
       "      <td>51525171.0</td>\n",
       "      <td>1000000</td>\n",
       "      <td>0</td>\n",
       "      <td>[Drama, Comedy]</td>\n",
       "      <td>97.0</td>\n",
       "      <td>en</td>\n",
       "      <td>Universal Pictures</td>\n",
       "      <td>United States of America</td>\n",
       "      <td>...</td>\n",
       "      <td>0</td>\n",
       "      <td>0</td>\n",
       "      <td>0</td>\n",
       "      <td>0</td>\n",
       "      <td>0</td>\n",
       "      <td>0</td>\n",
       "      <td>0</td>\n",
       "      <td>0</td>\n",
       "      <td>0</td>\n",
       "      <td>1</td>\n",
       "    </tr>\n",
       "  </tbody>\n",
       "</table>\n",
       "<p>5 rows × 32 columns</p>\n",
       "</div>"
      ],
      "text/plain": [
       "     id                   title      revenue    budget  is_collection  \\\n",
       "0   197              Braveheart  210000000.0  72000000              0   \n",
       "1   238           The Godfather  245066411.0   6000000              1   \n",
       "2   240  The Godfather: Part II   47542841.0  13000000              1   \n",
       "3   207      Dead Poets Society  235860116.0  16400000              0   \n",
       "4  2108      The Breakfast Club   51525171.0   1000000              0   \n",
       "\n",
       "              genres  runtime original_language  \\\n",
       "0    [Action, Drama]    177.0                en   \n",
       "1  [Thriller, Drama]    175.0                en   \n",
       "2  [Thriller, Drama]    200.0                en   \n",
       "3            [Drama]    129.0                en   \n",
       "4    [Drama, Comedy]     97.0                en   \n",
       "\n",
       "               production_companies      production_countries  ... Apr  May  \\\n",
       "0  Icon Entertainment International  United States of America  ...   0    1   \n",
       "1                Paramount Pictures  United States of America  ...   0    0   \n",
       "2                Paramount Pictures  United States of America  ...   0    0   \n",
       "3               Touchstone Pictures  United States of America  ...   0    0   \n",
       "4                Universal Pictures  United States of America  ...   0    0   \n",
       "\n",
       "   Jun Jul  Aug  Sep  Oct  Nov  Dec  intercept  \n",
       "0    0   0    0    0    0    0    0          1  \n",
       "1    0   0    0    0    0    0    0          1  \n",
       "2    0   0    0    0    0    0    1          1  \n",
       "3    1   0    0    0    0    0    0          1  \n",
       "4    0   0    0    0    0    0    0          1  \n",
       "\n",
       "[5 rows x 32 columns]"
      ]
     },
     "execution_count": 70,
     "metadata": {},
     "output_type": "execute_result"
    }
   ],
   "source": [
    "# dummy-encoding\n",
    "df_new = df\n",
    "df_new[['Jan','Feb','Mar','Apr','May','Jun','Jul','Aug','Sep','Oct','Nov','Dec']] = pd.get_dummies(df['month'])[[1,2,3,4,5,6,7,8,9,10,11,12]]\n",
    "df_new['intercept'] = 1\n",
    "df_new.head()"
   ]
  },
  {
   "cell_type": "code",
   "execution_count": 71,
   "metadata": {},
   "outputs": [
    {
     "data": {
      "text/html": [
       "<table class=\"simpletable\">\n",
       "<caption>OLS Regression Results</caption>\n",
       "<tr>\n",
       "  <th>Dep. Variable:</th>     <td>weighted_rating</td> <th>  R-squared:         </th> <td>   0.027</td>\n",
       "</tr>\n",
       "<tr>\n",
       "  <th>Model:</th>                   <td>OLS</td>       <th>  Adj. R-squared:    </th> <td>   0.024</td>\n",
       "</tr>\n",
       "<tr>\n",
       "  <th>Method:</th>             <td>Least Squares</td>  <th>  F-statistic:       </th> <td>   10.80</td>\n",
       "</tr>\n",
       "<tr>\n",
       "  <th>Date:</th>             <td>Wed, 06 Nov 2019</td> <th>  Prob (F-statistic):</th> <td>6.21e-20</td>\n",
       "</tr>\n",
       "<tr>\n",
       "  <th>Time:</th>                 <td>23:49:38</td>     <th>  Log-Likelihood:    </th> <td> -2641.2</td>\n",
       "</tr>\n",
       "<tr>\n",
       "  <th>No. Observations:</th>      <td>  4337</td>      <th>  AIC:               </th> <td>   5306.</td>\n",
       "</tr>\n",
       "<tr>\n",
       "  <th>Df Residuals:</th>          <td>  4325</td>      <th>  BIC:               </th> <td>   5383.</td>\n",
       "</tr>\n",
       "<tr>\n",
       "  <th>Df Model:</th>              <td>    11</td>      <th>                     </th>     <td> </td>   \n",
       "</tr>\n",
       "<tr>\n",
       "  <th>Covariance Type:</th>      <td>nonrobust</td>    <th>                     </th>     <td> </td>   \n",
       "</tr>\n",
       "</table>\n",
       "<table class=\"simpletable\">\n",
       "<tr>\n",
       "      <td></td>         <th>coef</th>     <th>std err</th>      <th>t</th>      <th>P>|t|</th>  <th>[0.025</th>    <th>0.975]</th>  \n",
       "</tr>\n",
       "<tr>\n",
       "  <th>intercept</th> <td>    2.9708</td> <td>    0.006</td> <td>  467.484</td> <td> 0.000</td> <td>    2.958</td> <td>    2.983</td>\n",
       "</tr>\n",
       "<tr>\n",
       "  <th>Jan</th>       <td>    0.1706</td> <td>    0.027</td> <td>    6.369</td> <td> 0.000</td> <td>    0.118</td> <td>    0.223</td>\n",
       "</tr>\n",
       "<tr>\n",
       "  <th>Feb</th>       <td>    0.1849</td> <td>    0.025</td> <td>    7.526</td> <td> 0.000</td> <td>    0.137</td> <td>    0.233</td>\n",
       "</tr>\n",
       "<tr>\n",
       "  <th>Mar</th>       <td>    0.2007</td> <td>    0.024</td> <td>    8.539</td> <td> 0.000</td> <td>    0.155</td> <td>    0.247</td>\n",
       "</tr>\n",
       "<tr>\n",
       "  <th>Apr</th>       <td>    0.2067</td> <td>    0.024</td> <td>    8.514</td> <td> 0.000</td> <td>    0.159</td> <td>    0.254</td>\n",
       "</tr>\n",
       "<tr>\n",
       "  <th>May</th>       <td>    0.3049</td> <td>    0.023</td> <td>   13.065</td> <td> 0.000</td> <td>    0.259</td> <td>    0.351</td>\n",
       "</tr>\n",
       "<tr>\n",
       "  <th>Jun</th>       <td>    0.2294</td> <td>    0.022</td> <td>   10.422</td> <td> 0.000</td> <td>    0.186</td> <td>    0.273</td>\n",
       "</tr>\n",
       "<tr>\n",
       "  <th>Jul</th>       <td>    0.2053</td> <td>    0.023</td> <td>    9.026</td> <td> 0.000</td> <td>    0.161</td> <td>    0.250</td>\n",
       "</tr>\n",
       "<tr>\n",
       "  <th>Aug</th>       <td>    0.1689</td> <td>    0.022</td> <td>    7.670</td> <td> 0.000</td> <td>    0.126</td> <td>    0.212</td>\n",
       "</tr>\n",
       "<tr>\n",
       "  <th>Sep</th>       <td>    0.3531</td> <td>    0.019</td> <td>   18.185</td> <td> 0.000</td> <td>    0.315</td> <td>    0.391</td>\n",
       "</tr>\n",
       "<tr>\n",
       "  <th>Oct</th>       <td>    0.2759</td> <td>    0.021</td> <td>   12.848</td> <td> 0.000</td> <td>    0.234</td> <td>    0.318</td>\n",
       "</tr>\n",
       "<tr>\n",
       "  <th>Nov</th>       <td>    0.2800</td> <td>    0.023</td> <td>   12.095</td> <td> 0.000</td> <td>    0.235</td> <td>    0.325</td>\n",
       "</tr>\n",
       "<tr>\n",
       "  <th>Dec</th>       <td>    0.3904</td> <td>    0.020</td> <td>   19.742</td> <td> 0.000</td> <td>    0.352</td> <td>    0.429</td>\n",
       "</tr>\n",
       "</table>\n",
       "<table class=\"simpletable\">\n",
       "<tr>\n",
       "  <th>Omnibus:</th>       <td>108.714</td> <th>  Durbin-Watson:     </th> <td>   1.285</td>\n",
       "</tr>\n",
       "<tr>\n",
       "  <th>Prob(Omnibus):</th> <td> 0.000</td>  <th>  Jarque-Bera (JB):  </th> <td> 117.178</td>\n",
       "</tr>\n",
       "<tr>\n",
       "  <th>Skew:</th>          <td>-0.383</td>  <th>  Prob(JB):          </th> <td>3.59e-26</td>\n",
       "</tr>\n",
       "<tr>\n",
       "  <th>Kurtosis:</th>      <td> 3.245</td>  <th>  Cond. No.          </th> <td>2.83e+15</td>\n",
       "</tr>\n",
       "</table><br/><br/>Warnings:<br/>[1] Standard Errors assume that the covariance matrix of the errors is correctly specified.<br/>[2] The smallest eigenvalue is 5.89e-28. This might indicate that there are<br/>strong multicollinearity problems or that the design matrix is singular."
      ],
      "text/plain": [
       "<class 'statsmodels.iolib.summary.Summary'>\n",
       "\"\"\"\n",
       "                            OLS Regression Results                            \n",
       "==============================================================================\n",
       "Dep. Variable:        weighted_rating   R-squared:                       0.027\n",
       "Model:                            OLS   Adj. R-squared:                  0.024\n",
       "Method:                 Least Squares   F-statistic:                     10.80\n",
       "Date:                Wed, 06 Nov 2019   Prob (F-statistic):           6.21e-20\n",
       "Time:                        23:49:38   Log-Likelihood:                -2641.2\n",
       "No. Observations:                4337   AIC:                             5306.\n",
       "Df Residuals:                    4325   BIC:                             5383.\n",
       "Df Model:                          11                                         \n",
       "Covariance Type:            nonrobust                                         \n",
       "==============================================================================\n",
       "                 coef    std err          t      P>|t|      [0.025      0.975]\n",
       "------------------------------------------------------------------------------\n",
       "intercept      2.9708      0.006    467.484      0.000       2.958       2.983\n",
       "Jan            0.1706      0.027      6.369      0.000       0.118       0.223\n",
       "Feb            0.1849      0.025      7.526      0.000       0.137       0.233\n",
       "Mar            0.2007      0.024      8.539      0.000       0.155       0.247\n",
       "Apr            0.2067      0.024      8.514      0.000       0.159       0.254\n",
       "May            0.3049      0.023     13.065      0.000       0.259       0.351\n",
       "Jun            0.2294      0.022     10.422      0.000       0.186       0.273\n",
       "Jul            0.2053      0.023      9.026      0.000       0.161       0.250\n",
       "Aug            0.1689      0.022      7.670      0.000       0.126       0.212\n",
       "Sep            0.3531      0.019     18.185      0.000       0.315       0.391\n",
       "Oct            0.2759      0.021     12.848      0.000       0.234       0.318\n",
       "Nov            0.2800      0.023     12.095      0.000       0.235       0.325\n",
       "Dec            0.3904      0.020     19.742      0.000       0.352       0.429\n",
       "==============================================================================\n",
       "Omnibus:                      108.714   Durbin-Watson:                   1.285\n",
       "Prob(Omnibus):                  0.000   Jarque-Bera (JB):              117.178\n",
       "Skew:                          -0.383   Prob(JB):                     3.59e-26\n",
       "Kurtosis:                       3.245   Cond. No.                     2.83e+15\n",
       "==============================================================================\n",
       "\n",
       "Warnings:\n",
       "[1] Standard Errors assume that the covariance matrix of the errors is correctly specified.\n",
       "[2] The smallest eigenvalue is 5.89e-28. This might indicate that there are\n",
       "strong multicollinearity problems or that the design matrix is singular.\n",
       "\"\"\""
      ]
     },
     "execution_count": 71,
     "metadata": {},
     "output_type": "execute_result"
    }
   ],
   "source": [
    "# import module\n",
    "import statsmodels.api as sm\n",
    "\n",
    "# fit and summarize OLS model\n",
    "mod = sm.OLS(df_new['weighted_rating'], df_new[['intercept','Jan','Feb','Mar','Apr','May','Jun','Jul','Aug','Sep','Oct','Nov','Dec']])\n",
    "results = mod.fit()\n",
    "\n",
    "results.summary()"
   ]
  },
  {
   "cell_type": "markdown",
   "metadata": {},
   "source": [
    "**Thought Process**: \n",
    "\n",
    "P-value(P >|t|) is less than the alpha value. Null hypothesis is rejected. There's statistically significant difference in scores between movies released in different months. Thus, we will pass the variable 'month' to the prediction machine since it might affect how people scores the movies."
   ]
  },
  {
   "cell_type": "markdown",
   "metadata": {},
   "source": [
    "#### Using t-test to examine if movie scores differ among years\n",
    "Assuming that movies in the different periouds should receive different scores, we select two samples, one with movies released in the earlies and latest five years to perform independent t-test.\n",
    "\n",
    "- Stating hypothesis\n",
    "    - H0: The mean of weighted ratings are the **same** for two samples.\n",
    "    - HA: The mean of weighted ratings are **different** for two samples.\n",
    "- Deciding significance level\n",
    "    - The significance level (α) is 0.05."
   ]
  },
  {
   "cell_type": "code",
   "execution_count": 72,
   "metadata": {},
   "outputs": [
    {
     "name": "stdout",
     "output_type": "stream",
     "text": [
      "statistics=-2.477 , p=0.013\n",
      "Reject the null hypothesis that the means are equal.\n"
     ]
    }
   ],
   "source": [
    "# sampling\n",
    "previous_5_year = df[df['year'] > 1914 & (df['year'] < 1920)]['weighted_rating']\n",
    "last_5_year = df[(df['year'] > 2012) & (df['year'] <= 2017)]['weighted_rating']\n",
    "\n",
    "# independent t-test\n",
    "from scipy import stats\n",
    "t_stat, p = stats.ttest_ind(previous_5_year, last_5_year)\n",
    "print ('statistics=%.3f , p=%.3f' %(t_stat,p))\n",
    "\n",
    "# interpret via p-vaule\n",
    "alpha = 0.05\n",
    "if p > alpha:\n",
    "    print('Accept null hypothesis that the means are equal.')\n",
    "else:\n",
    "    print('Reject the null hypothesis that the means are equal.')"
   ]
  },
  {
   "cell_type": "markdown",
   "metadata": {},
   "source": [
    "**Thought Process**:\n",
    "\n",
    "With p-value larger than alpha value, null hypothesis fails to be rejected. No statistically significant difference in scores between movies released in different years. Because the variable 'year' might be a less useful factor to predict movie scores, we dedcide to drop it."
   ]
  },
  {
   "cell_type": "markdown",
   "metadata": {},
   "source": [
    "# Dummy Encoding\n",
    "Before feeding the data into prediction models, we need to drop text variables that don't fit to our project scope and convert categorical variables to numerical with dummy encoding. "
   ]
  },
  {
   "cell_type": "code",
   "execution_count": 73,
   "metadata": {
    "scrolled": true
   },
   "outputs": [
    {
     "data": {
      "text/plain": [
       "Index(['id', 'title', 'revenue', 'budget', 'is_collection', 'genres',\n",
       "       'runtime', 'original_language', 'production_companies',\n",
       "       'production_countries', 'cast', 'votes_per_movie', 'weighted_rating',\n",
       "       'director', 'month', 'year', 'is_adapted', 'is_YA', 'major_studio',\n",
       "       'Jan', 'Feb', 'Mar', 'Apr', 'May', 'Jun', 'Jul', 'Aug', 'Sep', 'Oct',\n",
       "       'Nov', 'Dec', 'intercept'],\n",
       "      dtype='object')"
      ]
     },
     "execution_count": 73,
     "metadata": {},
     "output_type": "execute_result"
    }
   ],
   "source": [
    "df.columns"
   ]
  },
  {
   "cell_type": "code",
   "execution_count": 74,
   "metadata": {},
   "outputs": [],
   "source": [
    "# only keep variables that will be fed into the model\n",
    "df_2 = df[['budget', 'is_collection', 'genres',\n",
    "       'runtime', 'original_language',\n",
    "       'production_countries', 'cast', 'votes_per_movie', 'weighted_rating',\n",
    "       'director', 'month', 'is_adapted', 'is_YA', 'major_studio']]"
   ]
  },
  {
   "cell_type": "code",
   "execution_count": 75,
   "metadata": {},
   "outputs": [
    {
     "name": "stderr",
     "output_type": "stream",
     "text": [
      "/anaconda3/lib/python3.7/site-packages/ipykernel_launcher.py:10: SettingWithCopyWarning: \n",
      "A value is trying to be set on a copy of a slice from a DataFrame.\n",
      "Try using .loc[row_indexer,col_indexer] = value instead\n",
      "\n",
      "See the caveats in the documentation: http://pandas.pydata.org/pandas-docs/stable/indexing.html#indexing-view-versus-copy\n",
      "  # Remove the CWD from sys.path while we load stuff.\n",
      "/anaconda3/lib/python3.7/site-packages/ipykernel_launcher.py:11: SettingWithCopyWarning: \n",
      "A value is trying to be set on a copy of a slice from a DataFrame.\n",
      "Try using .loc[row_indexer,col_indexer] = value instead\n",
      "\n",
      "See the caveats in the documentation: http://pandas.pydata.org/pandas-docs/stable/indexing.html#indexing-view-versus-copy\n",
      "  # This is added back by InteractiveShellApp.init_path()\n",
      "/anaconda3/lib/python3.7/site-packages/ipykernel_launcher.py:12: SettingWithCopyWarning: \n",
      "A value is trying to be set on a copy of a slice from a DataFrame.\n",
      "Try using .loc[row_indexer,col_indexer] = value instead\n",
      "\n",
      "See the caveats in the documentation: http://pandas.pydata.org/pandas-docs/stable/indexing.html#indexing-view-versus-copy\n",
      "  if sys.path[0] == '':\n"
     ]
    }
   ],
   "source": [
    "# for the column 'director', 'production_companies', 'production_countries', 'original_language'\n",
    "# convert the values with less occurence to 'Others'\n",
    "def convert_to_others(df, col, x, num):\n",
    "    top = df[col].value_counts()[:num]\n",
    "    if x in top:\n",
    "        return x\n",
    "    if x not in top:\n",
    "        return 'Others'\n",
    "    \n",
    "df_2['director'] = df_2['director'].apply(lambda x: convert_to_others(df_2, 'director', x, 10))\n",
    "df_2['production_countries'] = df_2['production_countries'].apply(lambda x: convert_to_others(df_2, 'production_countries', x, 5))\n",
    "df_2['original_language'] = df_2['original_language'].apply(lambda x: convert_to_others(df_2, 'original_language', x, 5))"
   ]
  },
  {
   "cell_type": "code",
   "execution_count": 76,
   "metadata": {},
   "outputs": [],
   "source": [
    "# get dummy variables \n",
    "columns = ['director','production_countries', 'original_language']\n",
    "prefix_dic = {'director': 'director','production_countries':'country','original_language': 'language'}\n",
    "df_dummy = pd.get_dummies(df_2, columns = columns, prefix = prefix_dic)"
   ]
  },
  {
   "cell_type": "code",
   "execution_count": 77,
   "metadata": {},
   "outputs": [],
   "source": [
    "# drop column 'Others' from the dataframe\n",
    "df_dummy.drop(columns = ['director_Others', 'language_Others', 'country_Others'], inplace = True)"
   ]
  },
  {
   "cell_type": "code",
   "execution_count": 78,
   "metadata": {},
   "outputs": [],
   "source": [
    "# dummy encoding for genre\n",
    "df_genre = pd.get_dummies(pd.Series(df['genres']).apply(pd.Series).stack()).sum(level=0).drop(columns = 'Documentary')"
   ]
  },
  {
   "cell_type": "code",
   "execution_count": 79,
   "metadata": {},
   "outputs": [],
   "source": [
    "# for 'cast' column, we only select top 30 movie stars with the most appearance \n",
    "# and convert the rest to 'Others'\n",
    "# compute the top casts\n",
    "from collections import Counter\n",
    "def occurence(Series):\n",
    "    cnt = Counter()\n",
    "    \n",
    "    def cast_dict(x):\n",
    "        cast_dict = Counter()\n",
    "        for cast in x:\n",
    "            cast_dict[cast] += 1\n",
    "        return cast_dict\n",
    "    for d in Series.apply(cast_dict):\n",
    "        cnt += d\n",
    "    return cnt"
   ]
  },
  {
   "cell_type": "code",
   "execution_count": 80,
   "metadata": {},
   "outputs": [
    {
     "name": "stdout",
     "output_type": "stream",
     "text": [
      "['Robert De Niro', 'Nicolas Cage', 'Bruce Willis', 'Tom Hanks', 'Johnny Depp', 'Matt Damon', 'Samuel L. Jackson', 'Sylvester Stallone', 'Harrison Ford', 'Tom Cruise']\n"
     ]
    }
   ],
   "source": [
    "top_cast = sorted(occurence(df.cast), key = occurence(df.cast).get, reverse = True) [:10]\n",
    "print (top_cast)"
   ]
  },
  {
   "cell_type": "code",
   "execution_count": 81,
   "metadata": {},
   "outputs": [
    {
     "name": "stderr",
     "output_type": "stream",
     "text": [
      "/anaconda3/lib/python3.7/site-packages/ipykernel_launcher.py:11: SettingWithCopyWarning: \n",
      "A value is trying to be set on a copy of a slice from a DataFrame.\n",
      "Try using .loc[row_indexer,col_indexer] = value instead\n",
      "\n",
      "See the caveats in the documentation: http://pandas.pydata.org/pandas-docs/stable/indexing.html#indexing-view-versus-copy\n",
      "  # This is added back by InteractiveShellApp.init_path()\n"
     ]
    }
   ],
   "source": [
    "# iterate through each list\n",
    "# turn each list into a set\n",
    "# compare the set with the set(top_cast)\n",
    "# return the elements appearing in both set\n",
    "\n",
    "def compare_two_sets(x):\n",
    "    if bool(set(x) & set(top_cast)):\n",
    "        return list(set(x) & set(top_cast))\n",
    "    else:\n",
    "        return ['Others']\n",
    "df_2['cast'] = df_2['cast'].apply(compare_two_sets)"
   ]
  },
  {
   "cell_type": "code",
   "execution_count": 82,
   "metadata": {},
   "outputs": [],
   "source": [
    "# dummy encoding for cast\n",
    "df_cast = pd.get_dummies(pd.Series(df_2['cast']).apply(pd.Series).stack()).sum(level=0).drop(columns = 'Others')"
   ]
  },
  {
   "cell_type": "code",
   "execution_count": 83,
   "metadata": {},
   "outputs": [],
   "source": [
    "# dummy encoding for month\n",
    "df_month = pd.get_dummies(df['month'], drop_first = True)\n",
    "df_month.rename(columns = {2:'Feb',3:'Mar',4:'Apr',5:'May',6:'Jun',7:'Jul',8:'Aug',9:'Sep',10:'Oct',11:'Nov',12:'Dec'}, inplace = True)"
   ]
  },
  {
   "cell_type": "code",
   "execution_count": 84,
   "metadata": {},
   "outputs": [],
   "source": [
    "# concate the dataframe\n",
    "df_clean = pd.concat([df_dummy, df_cast, df_genre, df_month], axis = 1).drop(columns = ['genres','cast','month'])"
   ]
  },
  {
   "cell_type": "code",
   "execution_count": 85,
   "metadata": {
    "scrolled": false
   },
   "outputs": [
    {
     "data": {
      "text/html": [
       "<div>\n",
       "<style scoped>\n",
       "    .dataframe tbody tr th:only-of-type {\n",
       "        vertical-align: middle;\n",
       "    }\n",
       "\n",
       "    .dataframe tbody tr th {\n",
       "        vertical-align: top;\n",
       "    }\n",
       "\n",
       "    .dataframe thead th {\n",
       "        text-align: right;\n",
       "    }\n",
       "</style>\n",
       "<table border=\"1\" class=\"dataframe\">\n",
       "  <thead>\n",
       "    <tr style=\"text-align: right;\">\n",
       "      <th></th>\n",
       "      <th>budget</th>\n",
       "      <th>is_collection</th>\n",
       "      <th>runtime</th>\n",
       "      <th>votes_per_movie</th>\n",
       "      <th>weighted_rating</th>\n",
       "      <th>is_adapted</th>\n",
       "      <th>is_YA</th>\n",
       "      <th>major_studio</th>\n",
       "      <th>director_Alfred Hitchcock</th>\n",
       "      <th>director_Clint Eastwood</th>\n",
       "      <th>...</th>\n",
       "      <th>Mar</th>\n",
       "      <th>Apr</th>\n",
       "      <th>May</th>\n",
       "      <th>Jun</th>\n",
       "      <th>Jul</th>\n",
       "      <th>Aug</th>\n",
       "      <th>Sep</th>\n",
       "      <th>Oct</th>\n",
       "      <th>Nov</th>\n",
       "      <th>Dec</th>\n",
       "    </tr>\n",
       "  </thead>\n",
       "  <tbody>\n",
       "    <tr>\n",
       "      <th>0</th>\n",
       "      <td>72000000</td>\n",
       "      <td>0</td>\n",
       "      <td>177.0</td>\n",
       "      <td>66512</td>\n",
       "      <td>4.015094</td>\n",
       "      <td>0</td>\n",
       "      <td>0</td>\n",
       "      <td>0</td>\n",
       "      <td>0</td>\n",
       "      <td>0</td>\n",
       "      <td>...</td>\n",
       "      <td>0</td>\n",
       "      <td>0</td>\n",
       "      <td>1</td>\n",
       "      <td>0</td>\n",
       "      <td>0</td>\n",
       "      <td>0</td>\n",
       "      <td>0</td>\n",
       "      <td>0</td>\n",
       "      <td>0</td>\n",
       "      <td>0</td>\n",
       "    </tr>\n",
       "    <tr>\n",
       "      <th>1</th>\n",
       "      <td>6000000</td>\n",
       "      <td>1</td>\n",
       "      <td>175.0</td>\n",
       "      <td>57070</td>\n",
       "      <td>4.338309</td>\n",
       "      <td>0</td>\n",
       "      <td>0</td>\n",
       "      <td>1</td>\n",
       "      <td>0</td>\n",
       "      <td>0</td>\n",
       "      <td>...</td>\n",
       "      <td>1</td>\n",
       "      <td>0</td>\n",
       "      <td>0</td>\n",
       "      <td>0</td>\n",
       "      <td>0</td>\n",
       "      <td>0</td>\n",
       "      <td>0</td>\n",
       "      <td>0</td>\n",
       "      <td>0</td>\n",
       "      <td>0</td>\n",
       "    </tr>\n",
       "    <tr>\n",
       "      <th>2</th>\n",
       "      <td>13000000</td>\n",
       "      <td>1</td>\n",
       "      <td>200.0</td>\n",
       "      <td>36679</td>\n",
       "      <td>4.261279</td>\n",
       "      <td>0</td>\n",
       "      <td>0</td>\n",
       "      <td>1</td>\n",
       "      <td>0</td>\n",
       "      <td>0</td>\n",
       "      <td>...</td>\n",
       "      <td>0</td>\n",
       "      <td>0</td>\n",
       "      <td>0</td>\n",
       "      <td>0</td>\n",
       "      <td>0</td>\n",
       "      <td>0</td>\n",
       "      <td>0</td>\n",
       "      <td>0</td>\n",
       "      <td>0</td>\n",
       "      <td>1</td>\n",
       "    </tr>\n",
       "    <tr>\n",
       "      <th>3</th>\n",
       "      <td>16400000</td>\n",
       "      <td>0</td>\n",
       "      <td>129.0</td>\n",
       "      <td>25752</td>\n",
       "      <td>3.910587</td>\n",
       "      <td>0</td>\n",
       "      <td>0</td>\n",
       "      <td>0</td>\n",
       "      <td>0</td>\n",
       "      <td>0</td>\n",
       "      <td>...</td>\n",
       "      <td>0</td>\n",
       "      <td>0</td>\n",
       "      <td>0</td>\n",
       "      <td>1</td>\n",
       "      <td>0</td>\n",
       "      <td>0</td>\n",
       "      <td>0</td>\n",
       "      <td>0</td>\n",
       "      <td>0</td>\n",
       "      <td>0</td>\n",
       "    </tr>\n",
       "    <tr>\n",
       "      <th>4</th>\n",
       "      <td>1000000</td>\n",
       "      <td>0</td>\n",
       "      <td>97.0</td>\n",
       "      <td>26611</td>\n",
       "      <td>3.825622</td>\n",
       "      <td>0</td>\n",
       "      <td>1</td>\n",
       "      <td>1</td>\n",
       "      <td>0</td>\n",
       "      <td>0</td>\n",
       "      <td>...</td>\n",
       "      <td>0</td>\n",
       "      <td>0</td>\n",
       "      <td>0</td>\n",
       "      <td>0</td>\n",
       "      <td>0</td>\n",
       "      <td>0</td>\n",
       "      <td>0</td>\n",
       "      <td>0</td>\n",
       "      <td>0</td>\n",
       "      <td>0</td>\n",
       "    </tr>\n",
       "  </tbody>\n",
       "</table>\n",
       "<p>5 rows × 59 columns</p>\n",
       "</div>"
      ],
      "text/plain": [
       "     budget  is_collection  runtime  votes_per_movie  weighted_rating  \\\n",
       "0  72000000              0    177.0            66512         4.015094   \n",
       "1   6000000              1    175.0            57070         4.338309   \n",
       "2  13000000              1    200.0            36679         4.261279   \n",
       "3  16400000              0    129.0            25752         3.910587   \n",
       "4   1000000              0     97.0            26611         3.825622   \n",
       "\n",
       "   is_adapted  is_YA  major_studio  director_Alfred Hitchcock  \\\n",
       "0           0      0             0                          0   \n",
       "1           0      0             1                          0   \n",
       "2           0      0             1                          0   \n",
       "3           0      0             0                          0   \n",
       "4           0      1             1                          0   \n",
       "\n",
       "   director_Clint Eastwood  ...  Mar  Apr  May  Jun  Jul  Aug  Sep  Oct  Nov  \\\n",
       "0                        0  ...    0    0    1    0    0    0    0    0    0   \n",
       "1                        0  ...    1    0    0    0    0    0    0    0    0   \n",
       "2                        0  ...    0    0    0    0    0    0    0    0    0   \n",
       "3                        0  ...    0    0    0    1    0    0    0    0    0   \n",
       "4                        0  ...    0    0    0    0    0    0    0    0    0   \n",
       "\n",
       "   Dec  \n",
       "0    0  \n",
       "1    0  \n",
       "2    1  \n",
       "3    0  \n",
       "4    0  \n",
       "\n",
       "[5 rows x 59 columns]"
      ]
     },
     "execution_count": 85,
     "metadata": {},
     "output_type": "execute_result"
    }
   ],
   "source": [
    "df_clean.head()"
   ]
  },
  {
   "cell_type": "code",
   "execution_count": 86,
   "metadata": {},
   "outputs": [
    {
     "data": {
      "text/plain": [
       "(4337, 59)"
      ]
     },
     "execution_count": 86,
     "metadata": {},
     "output_type": "execute_result"
    }
   ],
   "source": [
    "df_clean.shape"
   ]
  },
  {
   "cell_type": "code",
   "execution_count": 87,
   "metadata": {},
   "outputs": [],
   "source": [
    "df_clean.dropna(axis = 0, how = 'any', inplace = True)"
   ]
  },
  {
   "cell_type": "code",
   "execution_count": 88,
   "metadata": {},
   "outputs": [
    {
     "data": {
      "text/plain": [
       "0"
      ]
     },
     "execution_count": 88,
     "metadata": {},
     "output_type": "execute_result"
    }
   ],
   "source": [
    "df_clean.isna().sum().sum()"
   ]
  },
  {
   "cell_type": "markdown",
   "metadata": {},
   "source": [
    "# Check Correlation among Features"
   ]
  },
  {
   "cell_type": "code",
   "execution_count": 89,
   "metadata": {
    "scrolled": true
   },
   "outputs": [
    {
     "name": "stdout",
     "output_type": "stream",
     "text": [
      "Empty DataFrame\n",
      "Columns: []\n",
      "Index: []\n"
     ]
    }
   ],
   "source": [
    "# find highly correlated features with Pearson Correlation higher than 0.7\n",
    "corr_maxtric = df_clean.corr().abs()\n",
    "cols = df_clean.columns\n",
    "correlated_pairs = set()\n",
    "for i in range(len(cols)):\n",
    "    for j in range(i):\n",
    "        if corr_maxtric.iloc[i,j] > 0.7:\n",
    "            correlated_pairs.add((cols[i],cols[j],corr_maxtric.iloc[i,j]))\n",
    "print (pd.DataFrame(correlated_pairs))"
   ]
  },
  {
   "cell_type": "markdown",
   "metadata": {},
   "source": [
    "# Machine Learning Prediction"
   ]
  },
  {
   "cell_type": "markdown",
   "metadata": {},
   "source": [
    "## Using decisiton tree regression"
   ]
  },
  {
   "cell_type": "code",
   "execution_count": 90,
   "metadata": {},
   "outputs": [],
   "source": [
    "#  Import 'r2_score'\n",
    "from sklearn.metrics import r2_score\n",
    "from sklearn.model_selection import ShuffleSplit"
   ]
  },
  {
   "cell_type": "code",
   "execution_count": 91,
   "metadata": {},
   "outputs": [],
   "source": [
    "def performance_metric(y_true, y_predict):\n",
    "    \"\"\" Calculates and returns the performance score between \n",
    "        true and predicted values based on the metric chosen. \"\"\"\n",
    "    \n",
    "    #   Calculate the performance score between 'y_true' and 'y_predict'\n",
    "    score = r2_score(y_true, y_predict)\n",
    "    \n",
    "    # Return the score\n",
    "    return score"
   ]
  },
  {
   "cell_type": "code",
   "execution_count": 92,
   "metadata": {},
   "outputs": [],
   "source": [
    "# split dataset in features and target variable\n",
    "feature_cols = list(df_clean.columns)\n",
    "feature_cols.remove('weighted_rating')\n",
    "x = df_clean[feature_cols] # features\n",
    "y = df_clean['weighted_rating'] # target variable"
   ]
  },
  {
   "cell_type": "code",
   "execution_count": 93,
   "metadata": {},
   "outputs": [],
   "source": [
    "# Import 'make_scorer', 'DecisionTreeRegressor', and 'GridSearchCV'\n",
    "from sklearn.tree import DecisionTreeRegressor\n",
    "from sklearn.metrics import make_scorer\n",
    "from sklearn.model_selection import GridSearchCV\n",
    "\n",
    "def fit_model_dt(x, y):\n",
    "    \"\"\" Performs grid search over the 'max_depth' parameter for a \n",
    "        decision tree regressor trained on the input data [X, y]. \"\"\"\n",
    "    \n",
    "    # Create cross-validation sets from the training data\n",
    "    # sklearn version 0.18: ShuffleSplit(n_splits=10, test_size=0.1, train_size=None, random_state=None)\n",
    "    # sklearn versiin 0.17: ShuffleSplit(n, n_iter=10, test_size=0.1, train_size=None, random_state=None)\n",
    "    cv_sets = ShuffleSplit(n_splits=5, train_size = 0.20, random_state = 0)\n",
    "\n",
    "    #  Create a decision tree regressor object\n",
    "    regressor = DecisionTreeRegressor()\n",
    "\n",
    "    #  Create a dictionary for the parameter 'max_depth' with a range from 1 to 10\n",
    "    params = {'max_depth':range(1,11)}\n",
    "\n",
    "    #  Transform 'performance_metric' into a scoring function using 'make_scorer' \n",
    "    scoring_fnc = make_scorer(performance_metric)\n",
    "\n",
    "    #   Create the grid search cv object --> GridSearchCV()\n",
    "    # Make sure to include the right parameters in the object:\n",
    "    # (estimator, param_grid, scoring, cv) which have values 'regressor', 'params', 'scoring_fnc', and 'cv_sets' respectively.\n",
    "    grid = GridSearchCV(regressor, params, scoring_fnc, cv=cv_sets)\n",
    "\n",
    "    # Fit the grid search object to the data to compute the optimal model\n",
    "    grid = grid.fit(x, y)\n",
    " #   print \"Parameter 'max_depth' is {} for the optimal model.\".format(grid.get_params() )\n",
    "\n",
    "    # Return the optimal model after fitting the data\n",
    "    return grid.best_estimator_"
   ]
  },
  {
   "cell_type": "code",
   "execution_count": 94,
   "metadata": {},
   "outputs": [
    {
     "name": "stderr",
     "output_type": "stream",
     "text": [
      "/anaconda3/lib/python3.7/site-packages/sklearn/model_selection/_split.py:1788: FutureWarning: From version 0.21, test_size will always complement train_size unless both are specified.\n",
      "  FutureWarning)\n"
     ]
    },
    {
     "data": {
      "text/plain": [
       "DecisionTreeRegressor(criterion='mse', max_depth=5, max_features=None,\n",
       "           max_leaf_nodes=None, min_impurity_decrease=0.0,\n",
       "           min_impurity_split=None, min_samples_leaf=1,\n",
       "           min_samples_split=2, min_weight_fraction_leaf=0.0,\n",
       "           presort=False, random_state=None, splitter='best')"
      ]
     },
     "execution_count": 94,
     "metadata": {},
     "output_type": "execute_result"
    }
   ],
   "source": [
    "fit_model_dt(x, y)"
   ]
  },
  {
   "cell_type": "code",
   "execution_count": 95,
   "metadata": {},
   "outputs": [],
   "source": [
    "# import modules\n",
    "from sklearn.model_selection import train_test_split\n",
    "# split the dataframe into two 80% for training and 20% testing.\n",
    "x_train, x_test, y_train, y_test = train_test_split(x, y, test_size=0.2)"
   ]
  },
  {
   "cell_type": "code",
   "execution_count": 96,
   "metadata": {},
   "outputs": [],
   "source": [
    "from sklearn.tree import DecisionTreeRegressor\n",
    "# create decision tree regressor object\n",
    "dt = DecisionTreeRegressor(max_depth=5)\n",
    "# train devision tree classifer\n",
    "dt.fit(x_train, y_train)\n",
    "# predict the response for test dataset\n",
    "y_pred = dt.predict(x_test)"
   ]
  },
  {
   "cell_type": "code",
   "execution_count": 97,
   "metadata": {},
   "outputs": [
    {
     "data": {
      "text/plain": [
       "0.4592117766059448"
      ]
     },
     "execution_count": 97,
     "metadata": {},
     "output_type": "execute_result"
    }
   ],
   "source": [
    "# performance on training data\n",
    "r2_score(y_train, dt.predict(x_train))"
   ]
  },
  {
   "cell_type": "code",
   "execution_count": 98,
   "metadata": {},
   "outputs": [
    {
     "data": {
      "text/plain": [
       "0.3718563849381332"
      ]
     },
     "execution_count": 98,
     "metadata": {},
     "output_type": "execute_result"
    }
   ],
   "source": [
    "# performance on test data\n",
    "r2_score(y_test, y_pred)"
   ]
  },
  {
   "cell_type": "code",
   "execution_count": 99,
   "metadata": {
    "scrolled": false
   },
   "outputs": [
    {
     "data": {
      "text/plain": [
       "array([0.13942152, 0.02657394, 0.10653328, 0.45421029, 0.        ,\n",
       "       0.        , 0.        , 0.        , 0.        , 0.        ,\n",
       "       0.        , 0.        , 0.        , 0.        , 0.        ,\n",
       "       0.        , 0.        , 0.        , 0.        , 0.        ,\n",
       "       0.00492741, 0.        , 0.        , 0.        , 0.        ,\n",
       "       0.        , 0.        , 0.        , 0.        , 0.        ,\n",
       "       0.        , 0.        , 0.        , 0.        , 0.        ,\n",
       "       0.        , 0.        , 0.        , 0.        , 0.01073736,\n",
       "       0.        , 0.25759621, 0.        , 0.        , 0.        ,\n",
       "       0.        , 0.        , 0.        , 0.        , 0.        ,\n",
       "       0.        , 0.        , 0.        , 0.        , 0.        ,\n",
       "       0.        , 0.        , 0.        ])"
      ]
     },
     "execution_count": 99,
     "metadata": {},
     "output_type": "execute_result"
    }
   ],
   "source": [
    "dt.feature_importances_"
   ]
  },
  {
   "cell_type": "code",
   "execution_count": 100,
   "metadata": {
    "scrolled": true
   },
   "outputs": [
    {
     "data": {
      "text/plain": [
       "[('budget', 0.13942151569878117),\n",
       " ('is_collection', 0.02657393752952853),\n",
       " ('runtime', 0.10653328120404108),\n",
       " ('votes_per_movie', 0.45421028837889305),\n",
       " ('is_adapted', 0.0),\n",
       " ('is_YA', 0.0),\n",
       " ('major_studio', 0.0),\n",
       " ('director_Alfred Hitchcock', 0.0),\n",
       " ('director_Clint Eastwood', 0.0),\n",
       " ('director_Martin Scorsese', 0.0),\n",
       " ('director_Oliver Stone', 0.0),\n",
       " ('director_Ridley Scott', 0.0),\n",
       " ('director_Robert Zemeckis', 0.0),\n",
       " ('director_Steven Soderbergh', 0.0),\n",
       " ('director_Steven Spielberg', 0.0),\n",
       " ('director_Tim Burton', 0.0),\n",
       " ('director_Woody Allen', 0.0),\n",
       " ('country_Canada', 0.0),\n",
       " ('country_France', 0.0),\n",
       " ('country_Germany', 0.0),\n",
       " ('country_United Kingdom', 0.004927405791770004),\n",
       " ('country_United States of America', 0.0),\n",
       " ('language_en', 0.0),\n",
       " ('language_es', 0.0),\n",
       " ('language_fr', 0.0),\n",
       " ('language_hi', 0.0),\n",
       " ('language_ja', 0.0),\n",
       " ('Bruce Willis', 0.0),\n",
       " ('Harrison Ford', 0.0),\n",
       " ('Johnny Depp', 0.0),\n",
       " ('Matt Damon', 0.0),\n",
       " ('Nicolas Cage', 0.0),\n",
       " ('Robert De Niro', 0.0),\n",
       " ('Samuel L. Jackson', 0.0),\n",
       " ('Sylvester Stallone', 0.0),\n",
       " ('Tom Cruise', 0.0),\n",
       " ('Tom Hanks', 0.0),\n",
       " ('Action', 0.0),\n",
       " ('Adventure', 0.0),\n",
       " ('Animation', 0.01073736074435777),\n",
       " ('Comedy', 0.0),\n",
       " ('Drama', 0.25759621065262844),\n",
       " ('Family', 0.0),\n",
       " ('Fantasy', 0.0),\n",
       " ('Horror', 0.0),\n",
       " ('Romance', 0.0),\n",
       " ('Thriller', 0.0),\n",
       " ('Feb', 0.0),\n",
       " ('Mar', 0.0),\n",
       " ('Apr', 0.0),\n",
       " ('May', 0.0),\n",
       " ('Jun', 0.0),\n",
       " ('Jul', 0.0),\n",
       " ('Aug', 0.0),\n",
       " ('Sep', 0.0),\n",
       " ('Oct', 0.0),\n",
       " ('Nov', 0.0),\n",
       " ('Dec', 0.0)]"
      ]
     },
     "execution_count": 100,
     "metadata": {},
     "output_type": "execute_result"
    }
   ],
   "source": [
    "list(zip(feature_cols, dt.feature_importances_))"
   ]
  },
  {
   "cell_type": "markdown",
   "metadata": {},
   "source": [
    "## Using Random Forest"
   ]
  },
  {
   "cell_type": "code",
   "execution_count": 101,
   "metadata": {
    "scrolled": true
   },
   "outputs": [
    {
     "name": "stderr",
     "output_type": "stream",
     "text": [
      "/anaconda3/lib/python3.7/site-packages/sklearn/ensemble/forest.py:246: FutureWarning: The default value of n_estimators will change from 10 in version 0.20 to 100 in 0.22.\n",
      "  \"10 in version 0.20 to 100 in 0.22.\", FutureWarning)\n"
     ]
    },
    {
     "data": {
      "text/plain": [
       "0.9039615559806023"
      ]
     },
     "execution_count": 101,
     "metadata": {},
     "output_type": "execute_result"
    }
   ],
   "source": [
    "from sklearn.ensemble import RandomForestRegressor\n",
    "rfr = RandomForestRegressor()\n",
    "rfr.fit(x_train, y_train)\n",
    "rfr.score(x_train, y_train) # yeilds R-squared value"
   ]
  },
  {
   "cell_type": "code",
   "execution_count": 102,
   "metadata": {},
   "outputs": [],
   "source": [
    "# Import 'make_scorer', 'DecisionTreeRegressor', and 'GridSearchCV'\n",
    "from sklearn.ensemble import RandomForestRegressor\n",
    "from sklearn.metrics import make_scorer\n",
    "from sklearn.model_selection import GridSearchCV\n",
    "\n",
    "def fit_model_rfr(x, y):\n",
    "    \"\"\" Performs grid search over the 'max_depth' parameter for a \n",
    "        decision tree regressor trained on the input data [X, y]. \"\"\"\n",
    "    \n",
    "    # Create cross-validation sets from the training data\n",
    "    # sklearn version 0.18: ShuffleSplit(n_splits=10, test_size=0.1, train_size=None, random_state=None)\n",
    "    # sklearn versiin 0.17: ShuffleSplit(n, n_iter=10, test_size=0.1, train_size=None, random_state=None)\n",
    "    cv_sets = ShuffleSplit(n_splits=5, train_size = 0.20, random_state = 0)\n",
    "\n",
    "    #  Create a decision tree regressor object\n",
    "    rfr = RandomForestRegressor()\n",
    "\n",
    "    #  Create a dictionary for the parameter 'max_depth' with a range from 1 to 10\n",
    "    params = {'max_depth':range(1,11)}\n",
    "\n",
    "    #  Transform 'performance_metric' into a scoring function using 'make_scorer' \n",
    "    scoring_fnc = make_scorer(performance_metric)\n",
    "\n",
    "    #   Create the grid search cv object --> GridSearchCV()\n",
    "    # Make sure to include the right parameters in the object:\n",
    "    # (estimator, param_grid, scoring, cv) which have values 'regressor', 'params', 'scoring_fnc', and 'cv_sets' respectively.\n",
    "    grid = GridSearchCV(rfr, params, scoring_fnc, cv=cv_sets)\n",
    "\n",
    "    # Fit the grid search object to the data to compute the optimal model\n",
    "    grid = grid.fit(x, y)\n",
    " #   print \"Parameter 'max_depth' is {} for the optimal model.\".format(grid.get_params() )\n",
    "\n",
    "    # Return the optimal model after fitting the data\n",
    "    return grid.best_estimator_"
   ]
  },
  {
   "cell_type": "code",
   "execution_count": 103,
   "metadata": {
    "scrolled": true
   },
   "outputs": [
    {
     "name": "stderr",
     "output_type": "stream",
     "text": [
      "/anaconda3/lib/python3.7/site-packages/sklearn/model_selection/_split.py:1788: FutureWarning: From version 0.21, test_size will always complement train_size unless both are specified.\n",
      "  FutureWarning)\n",
      "/anaconda3/lib/python3.7/site-packages/sklearn/ensemble/forest.py:246: FutureWarning: The default value of n_estimators will change from 10 in version 0.20 to 100 in 0.22.\n",
      "  \"10 in version 0.20 to 100 in 0.22.\", FutureWarning)\n",
      "/anaconda3/lib/python3.7/site-packages/sklearn/ensemble/forest.py:246: FutureWarning: The default value of n_estimators will change from 10 in version 0.20 to 100 in 0.22.\n",
      "  \"10 in version 0.20 to 100 in 0.22.\", FutureWarning)\n",
      "/anaconda3/lib/python3.7/site-packages/sklearn/ensemble/forest.py:246: FutureWarning: The default value of n_estimators will change from 10 in version 0.20 to 100 in 0.22.\n",
      "  \"10 in version 0.20 to 100 in 0.22.\", FutureWarning)\n",
      "/anaconda3/lib/python3.7/site-packages/sklearn/ensemble/forest.py:246: FutureWarning: The default value of n_estimators will change from 10 in version 0.20 to 100 in 0.22.\n",
      "  \"10 in version 0.20 to 100 in 0.22.\", FutureWarning)\n",
      "/anaconda3/lib/python3.7/site-packages/sklearn/ensemble/forest.py:246: FutureWarning: The default value of n_estimators will change from 10 in version 0.20 to 100 in 0.22.\n",
      "  \"10 in version 0.20 to 100 in 0.22.\", FutureWarning)\n",
      "/anaconda3/lib/python3.7/site-packages/sklearn/ensemble/forest.py:246: FutureWarning: The default value of n_estimators will change from 10 in version 0.20 to 100 in 0.22.\n",
      "  \"10 in version 0.20 to 100 in 0.22.\", FutureWarning)\n",
      "/anaconda3/lib/python3.7/site-packages/sklearn/ensemble/forest.py:246: FutureWarning: The default value of n_estimators will change from 10 in version 0.20 to 100 in 0.22.\n",
      "  \"10 in version 0.20 to 100 in 0.22.\", FutureWarning)\n",
      "/anaconda3/lib/python3.7/site-packages/sklearn/ensemble/forest.py:246: FutureWarning: The default value of n_estimators will change from 10 in version 0.20 to 100 in 0.22.\n",
      "  \"10 in version 0.20 to 100 in 0.22.\", FutureWarning)\n",
      "/anaconda3/lib/python3.7/site-packages/sklearn/ensemble/forest.py:246: FutureWarning: The default value of n_estimators will change from 10 in version 0.20 to 100 in 0.22.\n",
      "  \"10 in version 0.20 to 100 in 0.22.\", FutureWarning)\n",
      "/anaconda3/lib/python3.7/site-packages/sklearn/ensemble/forest.py:246: FutureWarning: The default value of n_estimators will change from 10 in version 0.20 to 100 in 0.22.\n",
      "  \"10 in version 0.20 to 100 in 0.22.\", FutureWarning)\n",
      "/anaconda3/lib/python3.7/site-packages/sklearn/ensemble/forest.py:246: FutureWarning: The default value of n_estimators will change from 10 in version 0.20 to 100 in 0.22.\n",
      "  \"10 in version 0.20 to 100 in 0.22.\", FutureWarning)\n",
      "/anaconda3/lib/python3.7/site-packages/sklearn/ensemble/forest.py:246: FutureWarning: The default value of n_estimators will change from 10 in version 0.20 to 100 in 0.22.\n",
      "  \"10 in version 0.20 to 100 in 0.22.\", FutureWarning)\n",
      "/anaconda3/lib/python3.7/site-packages/sklearn/ensemble/forest.py:246: FutureWarning: The default value of n_estimators will change from 10 in version 0.20 to 100 in 0.22.\n",
      "  \"10 in version 0.20 to 100 in 0.22.\", FutureWarning)\n",
      "/anaconda3/lib/python3.7/site-packages/sklearn/ensemble/forest.py:246: FutureWarning: The default value of n_estimators will change from 10 in version 0.20 to 100 in 0.22.\n",
      "  \"10 in version 0.20 to 100 in 0.22.\", FutureWarning)\n",
      "/anaconda3/lib/python3.7/site-packages/sklearn/ensemble/forest.py:246: FutureWarning: The default value of n_estimators will change from 10 in version 0.20 to 100 in 0.22.\n",
      "  \"10 in version 0.20 to 100 in 0.22.\", FutureWarning)\n",
      "/anaconda3/lib/python3.7/site-packages/sklearn/ensemble/forest.py:246: FutureWarning: The default value of n_estimators will change from 10 in version 0.20 to 100 in 0.22.\n",
      "  \"10 in version 0.20 to 100 in 0.22.\", FutureWarning)\n",
      "/anaconda3/lib/python3.7/site-packages/sklearn/ensemble/forest.py:246: FutureWarning: The default value of n_estimators will change from 10 in version 0.20 to 100 in 0.22.\n",
      "  \"10 in version 0.20 to 100 in 0.22.\", FutureWarning)\n",
      "/anaconda3/lib/python3.7/site-packages/sklearn/ensemble/forest.py:246: FutureWarning: The default value of n_estimators will change from 10 in version 0.20 to 100 in 0.22.\n",
      "  \"10 in version 0.20 to 100 in 0.22.\", FutureWarning)\n",
      "/anaconda3/lib/python3.7/site-packages/sklearn/ensemble/forest.py:246: FutureWarning: The default value of n_estimators will change from 10 in version 0.20 to 100 in 0.22.\n",
      "  \"10 in version 0.20 to 100 in 0.22.\", FutureWarning)\n",
      "/anaconda3/lib/python3.7/site-packages/sklearn/ensemble/forest.py:246: FutureWarning: The default value of n_estimators will change from 10 in version 0.20 to 100 in 0.22.\n",
      "  \"10 in version 0.20 to 100 in 0.22.\", FutureWarning)\n",
      "/anaconda3/lib/python3.7/site-packages/sklearn/ensemble/forest.py:246: FutureWarning: The default value of n_estimators will change from 10 in version 0.20 to 100 in 0.22.\n",
      "  \"10 in version 0.20 to 100 in 0.22.\", FutureWarning)\n",
      "/anaconda3/lib/python3.7/site-packages/sklearn/ensemble/forest.py:246: FutureWarning: The default value of n_estimators will change from 10 in version 0.20 to 100 in 0.22.\n",
      "  \"10 in version 0.20 to 100 in 0.22.\", FutureWarning)\n",
      "/anaconda3/lib/python3.7/site-packages/sklearn/ensemble/forest.py:246: FutureWarning: The default value of n_estimators will change from 10 in version 0.20 to 100 in 0.22.\n",
      "  \"10 in version 0.20 to 100 in 0.22.\", FutureWarning)\n",
      "/anaconda3/lib/python3.7/site-packages/sklearn/ensemble/forest.py:246: FutureWarning: The default value of n_estimators will change from 10 in version 0.20 to 100 in 0.22.\n",
      "  \"10 in version 0.20 to 100 in 0.22.\", FutureWarning)\n",
      "/anaconda3/lib/python3.7/site-packages/sklearn/ensemble/forest.py:246: FutureWarning: The default value of n_estimators will change from 10 in version 0.20 to 100 in 0.22.\n",
      "  \"10 in version 0.20 to 100 in 0.22.\", FutureWarning)\n",
      "/anaconda3/lib/python3.7/site-packages/sklearn/ensemble/forest.py:246: FutureWarning: The default value of n_estimators will change from 10 in version 0.20 to 100 in 0.22.\n",
      "  \"10 in version 0.20 to 100 in 0.22.\", FutureWarning)\n",
      "/anaconda3/lib/python3.7/site-packages/sklearn/ensemble/forest.py:246: FutureWarning: The default value of n_estimators will change from 10 in version 0.20 to 100 in 0.22.\n",
      "  \"10 in version 0.20 to 100 in 0.22.\", FutureWarning)\n",
      "/anaconda3/lib/python3.7/site-packages/sklearn/ensemble/forest.py:246: FutureWarning: The default value of n_estimators will change from 10 in version 0.20 to 100 in 0.22.\n",
      "  \"10 in version 0.20 to 100 in 0.22.\", FutureWarning)\n",
      "/anaconda3/lib/python3.7/site-packages/sklearn/ensemble/forest.py:246: FutureWarning: The default value of n_estimators will change from 10 in version 0.20 to 100 in 0.22.\n",
      "  \"10 in version 0.20 to 100 in 0.22.\", FutureWarning)\n",
      "/anaconda3/lib/python3.7/site-packages/sklearn/ensemble/forest.py:246: FutureWarning: The default value of n_estimators will change from 10 in version 0.20 to 100 in 0.22.\n",
      "  \"10 in version 0.20 to 100 in 0.22.\", FutureWarning)\n",
      "/anaconda3/lib/python3.7/site-packages/sklearn/ensemble/forest.py:246: FutureWarning: The default value of n_estimators will change from 10 in version 0.20 to 100 in 0.22.\n",
      "  \"10 in version 0.20 to 100 in 0.22.\", FutureWarning)\n",
      "/anaconda3/lib/python3.7/site-packages/sklearn/ensemble/forest.py:246: FutureWarning: The default value of n_estimators will change from 10 in version 0.20 to 100 in 0.22.\n",
      "  \"10 in version 0.20 to 100 in 0.22.\", FutureWarning)\n",
      "/anaconda3/lib/python3.7/site-packages/sklearn/ensemble/forest.py:246: FutureWarning: The default value of n_estimators will change from 10 in version 0.20 to 100 in 0.22.\n",
      "  \"10 in version 0.20 to 100 in 0.22.\", FutureWarning)\n",
      "/anaconda3/lib/python3.7/site-packages/sklearn/ensemble/forest.py:246: FutureWarning: The default value of n_estimators will change from 10 in version 0.20 to 100 in 0.22.\n",
      "  \"10 in version 0.20 to 100 in 0.22.\", FutureWarning)\n",
      "/anaconda3/lib/python3.7/site-packages/sklearn/ensemble/forest.py:246: FutureWarning: The default value of n_estimators will change from 10 in version 0.20 to 100 in 0.22.\n",
      "  \"10 in version 0.20 to 100 in 0.22.\", FutureWarning)\n",
      "/anaconda3/lib/python3.7/site-packages/sklearn/ensemble/forest.py:246: FutureWarning: The default value of n_estimators will change from 10 in version 0.20 to 100 in 0.22.\n",
      "  \"10 in version 0.20 to 100 in 0.22.\", FutureWarning)\n",
      "/anaconda3/lib/python3.7/site-packages/sklearn/ensemble/forest.py:246: FutureWarning: The default value of n_estimators will change from 10 in version 0.20 to 100 in 0.22.\n",
      "  \"10 in version 0.20 to 100 in 0.22.\", FutureWarning)\n"
     ]
    },
    {
     "name": "stderr",
     "output_type": "stream",
     "text": [
      "/anaconda3/lib/python3.7/site-packages/sklearn/ensemble/forest.py:246: FutureWarning: The default value of n_estimators will change from 10 in version 0.20 to 100 in 0.22.\n",
      "  \"10 in version 0.20 to 100 in 0.22.\", FutureWarning)\n",
      "/anaconda3/lib/python3.7/site-packages/sklearn/ensemble/forest.py:246: FutureWarning: The default value of n_estimators will change from 10 in version 0.20 to 100 in 0.22.\n",
      "  \"10 in version 0.20 to 100 in 0.22.\", FutureWarning)\n",
      "/anaconda3/lib/python3.7/site-packages/sklearn/ensemble/forest.py:246: FutureWarning: The default value of n_estimators will change from 10 in version 0.20 to 100 in 0.22.\n",
      "  \"10 in version 0.20 to 100 in 0.22.\", FutureWarning)\n",
      "/anaconda3/lib/python3.7/site-packages/sklearn/ensemble/forest.py:246: FutureWarning: The default value of n_estimators will change from 10 in version 0.20 to 100 in 0.22.\n",
      "  \"10 in version 0.20 to 100 in 0.22.\", FutureWarning)\n",
      "/anaconda3/lib/python3.7/site-packages/sklearn/ensemble/forest.py:246: FutureWarning: The default value of n_estimators will change from 10 in version 0.20 to 100 in 0.22.\n",
      "  \"10 in version 0.20 to 100 in 0.22.\", FutureWarning)\n",
      "/anaconda3/lib/python3.7/site-packages/sklearn/ensemble/forest.py:246: FutureWarning: The default value of n_estimators will change from 10 in version 0.20 to 100 in 0.22.\n",
      "  \"10 in version 0.20 to 100 in 0.22.\", FutureWarning)\n",
      "/anaconda3/lib/python3.7/site-packages/sklearn/ensemble/forest.py:246: FutureWarning: The default value of n_estimators will change from 10 in version 0.20 to 100 in 0.22.\n",
      "  \"10 in version 0.20 to 100 in 0.22.\", FutureWarning)\n",
      "/anaconda3/lib/python3.7/site-packages/sklearn/ensemble/forest.py:246: FutureWarning: The default value of n_estimators will change from 10 in version 0.20 to 100 in 0.22.\n",
      "  \"10 in version 0.20 to 100 in 0.22.\", FutureWarning)\n",
      "/anaconda3/lib/python3.7/site-packages/sklearn/ensemble/forest.py:246: FutureWarning: The default value of n_estimators will change from 10 in version 0.20 to 100 in 0.22.\n",
      "  \"10 in version 0.20 to 100 in 0.22.\", FutureWarning)\n",
      "/anaconda3/lib/python3.7/site-packages/sklearn/ensemble/forest.py:246: FutureWarning: The default value of n_estimators will change from 10 in version 0.20 to 100 in 0.22.\n",
      "  \"10 in version 0.20 to 100 in 0.22.\", FutureWarning)\n",
      "/anaconda3/lib/python3.7/site-packages/sklearn/ensemble/forest.py:246: FutureWarning: The default value of n_estimators will change from 10 in version 0.20 to 100 in 0.22.\n",
      "  \"10 in version 0.20 to 100 in 0.22.\", FutureWarning)\n",
      "/anaconda3/lib/python3.7/site-packages/sklearn/ensemble/forest.py:246: FutureWarning: The default value of n_estimators will change from 10 in version 0.20 to 100 in 0.22.\n",
      "  \"10 in version 0.20 to 100 in 0.22.\", FutureWarning)\n",
      "/anaconda3/lib/python3.7/site-packages/sklearn/ensemble/forest.py:246: FutureWarning: The default value of n_estimators will change from 10 in version 0.20 to 100 in 0.22.\n",
      "  \"10 in version 0.20 to 100 in 0.22.\", FutureWarning)\n",
      "/anaconda3/lib/python3.7/site-packages/sklearn/ensemble/forest.py:246: FutureWarning: The default value of n_estimators will change from 10 in version 0.20 to 100 in 0.22.\n",
      "  \"10 in version 0.20 to 100 in 0.22.\", FutureWarning)\n"
     ]
    },
    {
     "data": {
      "text/plain": [
       "RandomForestRegressor(bootstrap=True, criterion='mse', max_depth=7,\n",
       "           max_features='auto', max_leaf_nodes=None,\n",
       "           min_impurity_decrease=0.0, min_impurity_split=None,\n",
       "           min_samples_leaf=1, min_samples_split=2,\n",
       "           min_weight_fraction_leaf=0.0, n_estimators=10, n_jobs=None,\n",
       "           oob_score=False, random_state=None, verbose=0, warm_start=False)"
      ]
     },
     "execution_count": 103,
     "metadata": {},
     "output_type": "execute_result"
    }
   ],
   "source": [
    "fit_model_rfr(x, y)"
   ]
  },
  {
   "cell_type": "code",
   "execution_count": 104,
   "metadata": {
    "scrolled": true
   },
   "outputs": [
    {
     "name": "stderr",
     "output_type": "stream",
     "text": [
      "/anaconda3/lib/python3.7/site-packages/sklearn/ensemble/forest.py:246: FutureWarning: The default value of n_estimators will change from 10 in version 0.20 to 100 in 0.22.\n",
      "  \"10 in version 0.20 to 100 in 0.22.\", FutureWarning)\n"
     ]
    }
   ],
   "source": [
    "rfr = RandomForestRegressor(max_depth=7)\n",
    "# train devision tree classifer\n",
    "rfr.fit(x_train, y_train)\n",
    "# predict the response for test dataset\n",
    "y_pred = rfr.predict(x_test)"
   ]
  },
  {
   "cell_type": "code",
   "execution_count": 105,
   "metadata": {},
   "outputs": [
    {
     "data": {
      "text/plain": [
       "0.6129422653152055"
      ]
     },
     "execution_count": 105,
     "metadata": {},
     "output_type": "execute_result"
    }
   ],
   "source": [
    "# performance on training data\n",
    "r2_score(y_train, rfr.predict(x_train))"
   ]
  },
  {
   "cell_type": "code",
   "execution_count": 106,
   "metadata": {},
   "outputs": [
    {
     "data": {
      "text/plain": [
       "0.469943496966596"
      ]
     },
     "execution_count": 106,
     "metadata": {},
     "output_type": "execute_result"
    }
   ],
   "source": [
    "# performance on test data\n",
    "r2_score(y_test, y_pred)"
   ]
  },
  {
   "cell_type": "markdown",
   "metadata": {},
   "source": [
    "## Using GaussianProcessRegressor"
   ]
  },
  {
   "cell_type": "code",
   "execution_count": 107,
   "metadata": {},
   "outputs": [],
   "source": [
    "import sklearn.gaussian_process as gp"
   ]
  },
  {
   "cell_type": "code",
   "execution_count": 108,
   "metadata": {},
   "outputs": [],
   "source": [
    "kernel = gp.kernels.ConstantKernel(1.0, (1e-1, 1e3)) * gp.kernels.RBF(10.0, (1e-3, 1e3))"
   ]
  },
  {
   "cell_type": "code",
   "execution_count": 109,
   "metadata": {},
   "outputs": [],
   "source": [
    "gpr = model = gp.GaussianProcessRegressor(kernel=kernel, n_restarts_optimizer=10, alpha=0.1, normalize_y=True)"
   ]
  },
  {
   "cell_type": "code",
   "execution_count": 110,
   "metadata": {},
   "outputs": [
    {
     "data": {
      "text/plain": [
       "GaussianProcessRegressor(alpha=0.1, copy_X_train=True,\n",
       "             kernel=1**2 * RBF(length_scale=10), n_restarts_optimizer=10,\n",
       "             normalize_y=True, optimizer='fmin_l_bfgs_b',\n",
       "             random_state=None)"
      ]
     },
     "execution_count": 110,
     "metadata": {},
     "output_type": "execute_result"
    }
   ],
   "source": [
    "gpr.fit(x_train, y_train)"
   ]
  },
  {
   "cell_type": "code",
   "execution_count": 111,
   "metadata": {},
   "outputs": [],
   "source": [
    "y_pred = gpr.predict(x_test)"
   ]
  },
  {
   "cell_type": "code",
   "execution_count": 112,
   "metadata": {},
   "outputs": [
    {
     "data": {
      "text/plain": [
       "0.6337752737139567"
      ]
     },
     "execution_count": 112,
     "metadata": {},
     "output_type": "execute_result"
    }
   ],
   "source": [
    "r2_score(y_train, gpr.predict(x_train))"
   ]
  },
  {
   "cell_type": "code",
   "execution_count": 113,
   "metadata": {},
   "outputs": [
    {
     "data": {
      "text/plain": [
       "0.03310725012161542"
      ]
     },
     "execution_count": 113,
     "metadata": {},
     "output_type": "execute_result"
    }
   ],
   "source": [
    "r2_score(y_test, y_pred)"
   ]
  }
 ],
 "metadata": {
  "kernelspec": {
   "display_name": "Python 3",
   "language": "python",
   "name": "python3"
  },
  "language_info": {
   "codemirror_mode": {
    "name": "ipython",
    "version": 3
   },
   "file_extension": ".py",
   "mimetype": "text/x-python",
   "name": "python",
   "nbconvert_exporter": "python",
   "pygments_lexer": "ipython3",
   "version": "3.7.3"
  }
 },
 "nbformat": 4,
 "nbformat_minor": 2
}
