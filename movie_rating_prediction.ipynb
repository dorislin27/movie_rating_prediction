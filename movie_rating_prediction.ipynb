{
 "cells": [
  {
   "cell_type": "markdown",
   "metadata": {
    "toc": true
   },
   "source": [
    "<h1>Table of Contents<span class=\"tocSkip\"></span></h1>\n",
    "<div class=\"toc\"><ul class=\"toc-item\"><li><span><a href=\"#Data-Preparation\" data-toc-modified-id=\"Data-Preparation-1\">Data Preparation</a></span><ul class=\"toc-item\"><li><span><a href=\"#Load-Datasets\" data-toc-modified-id=\"Load-Datasets-1.1\">Load Datasets</a></span></li><li><span><a href=\"#Merge-Datasets\" data-toc-modified-id=\"Merge-Datasets-1.2\">Merge Datasets</a></span></li></ul></li><li><span><a href=\"#Data-Cleaning\" data-toc-modified-id=\"Data-Cleaning-2\">Data Cleaning</a></span></li><li><span><a href=\"#Exploratory-Data-Analysis\" data-toc-modified-id=\"Exploratory-Data-Analysis-3\">Exploratory Data Analysis</a></span><ul class=\"toc-item\"><li><span><a href=\"#Correlation-Matrix\" data-toc-modified-id=\"Correlation-Matrix-3.1\">Correlation Matrix</a></span></li></ul></li><li><span><a href=\"#Statistical-Tests\" data-toc-modified-id=\"Statistical-Tests-4\">Statistical Tests</a></span></li><li><span><a href=\"#Feature-Engineering\" data-toc-modified-id=\"Feature-Engineering-5\">Feature Engineering</a></span><ul class=\"toc-item\"><li><span><a href=\"#Dummy-Encoding\" data-toc-modified-id=\"Dummy-Encoding-5.1\">Dummy Encoding</a></span></li></ul></li><li><span><a href=\"#Machine-Learning-Prediction\" data-toc-modified-id=\"Machine-Learning-Prediction-6\">Machine Learning Prediction</a></span><ul class=\"toc-item\"><li><span><a href=\"#Decision-Tree\" data-toc-modified-id=\"Decision-Tree-6.1\">Decision Tree</a></span></li><li><span><a href=\"#Random-Forest\" data-toc-modified-id=\"Random-Forest-6.2\">Random Forest</a></span></li></ul></li><li><span><a href=\"#Conclusion\" data-toc-modified-id=\"Conclusion-7\">Conclusion</a></span></li></ul></div>"
   ]
  },
  {
   "cell_type": "markdown",
   "metadata": {},
   "source": [
    "# Data Preparation"
   ]
  },
  {
   "cell_type": "code",
   "execution_count": 1,
   "metadata": {},
   "outputs": [],
   "source": [
    "# import modules\n",
    "import pandas as pd\n",
    "import numpy as np\n",
    "import matplotlib.pyplot as plt\n",
    "import seaborn as sns\n",
    "sns.set()\n",
    "from ast import literal_eval"
   ]
  },
  {
   "cell_type": "markdown",
   "metadata": {},
   "source": [
    "## Load Datasets"
   ]
  },
  {
   "cell_type": "code",
   "execution_count": 2,
   "metadata": {
    "scrolled": true
   },
   "outputs": [],
   "source": [
    "# Read the datasets with movie features\n",
    "metadata = pd.read_csv('/Users/dorislin/Desktop/movie rating predictor/the-movies-dataset/movies_metadata.csv', dtype={'popularity': object})\n",
    "credits =  pd.read_csv('/Users/dorislin/Desktop/movie rating predictor/the-movies-dataset/credits.csv')\n",
    "keywords =  pd.read_csv('/Users/dorislin/Desktop/movie rating predictor/the-movies-dataset/keywords.csv')"
   ]
  },
  {
   "cell_type": "code",
   "execution_count": 3,
   "metadata": {},
   "outputs": [],
   "source": [
    "# Read the rating datasets\n",
    "ratings = pd.read_csv('/Users/dorislin/Desktop/movie rating predictor/the-movies-dataset/ratings.csv')\n",
    "links = pd.read_csv('/Users/dorislin/Desktop/movie rating predictor/the-movies-dataset/links.csv')"
   ]
  },
  {
   "cell_type": "markdown",
   "metadata": {},
   "source": [
    "## Merge Datasets\n",
    "\n",
    "Movie features are stored in 'metadata','credits', and 'keywords' datasets; while the rating records are in 'ratings' and 'links'. Before merging them into one single DataFrame, I computed the target variable, 'weighted_rating', from the average rating score and audience number first."
   ]
  },
  {
   "cell_type": "code",
   "execution_count": 4,
   "metadata": {},
   "outputs": [],
   "source": [
    "# Handle misplaced 'id' values \n",
    "\n",
    "# Swap incorrect values between 'id' and 'release_date'\n",
    "swap_condition = metadata['id'].str.contains('-') == True\n",
    "ary = np.where(swap_condition,[metadata.release_date,metadata.id],[metadata.id,metadata.release_date])\n",
    "metadata.id = ary[0]\n",
    "metadata.release_date = ary[1]\n",
    "# Convert the data type of 'id' from string to int\n",
    "metadata['id'] = metadata['id'].astype(int)\n",
    "\n",
    "# Merge datasets with movie features with the key colum 'id'\n",
    "movie = metadata.merge(credits.merge(keywords, on='id'), on='id')"
   ]
  },
  {
   "cell_type": "markdown",
   "metadata": {},
   "source": [
    "### Computing 'weighted_rating' as the target variable\n",
    "\n",
    "Using IMDB weighted rating function\n",
    "`(WR) = (v ÷ (v+m)) × R + (m ÷ (v+m)) × C`\n",
    "\n",
    "wehre: \n",
    "- v: number of votes for each movie\n",
    "- m: the minimum votes required to be listed in the chart\n",
    "- R: average rating for each movie\n",
    "- C: the mean rating of overall movies"
   ]
  },
  {
   "cell_type": "code",
   "execution_count": 5,
   "metadata": {
    "scrolled": false
   },
   "outputs": [
    {
     "data": {
      "text/html": [
       "<div>\n",
       "<style scoped>\n",
       "    .dataframe tbody tr th:only-of-type {\n",
       "        vertical-align: middle;\n",
       "    }\n",
       "\n",
       "    .dataframe tbody tr th {\n",
       "        vertical-align: top;\n",
       "    }\n",
       "\n",
       "    .dataframe thead th {\n",
       "        text-align: right;\n",
       "    }\n",
       "</style>\n",
       "<table border=\"1\" class=\"dataframe\">\n",
       "  <thead>\n",
       "    <tr style=\"text-align: right;\">\n",
       "      <th></th>\n",
       "      <th>userId</th>\n",
       "      <th>movieId</th>\n",
       "      <th>rating</th>\n",
       "      <th>timestamp</th>\n",
       "    </tr>\n",
       "  </thead>\n",
       "  <tbody>\n",
       "    <tr>\n",
       "      <th>0</th>\n",
       "      <td>1</td>\n",
       "      <td>110</td>\n",
       "      <td>1.0</td>\n",
       "      <td>1425941529</td>\n",
       "    </tr>\n",
       "    <tr>\n",
       "      <th>1</th>\n",
       "      <td>1</td>\n",
       "      <td>147</td>\n",
       "      <td>4.5</td>\n",
       "      <td>1425942435</td>\n",
       "    </tr>\n",
       "    <tr>\n",
       "      <th>2</th>\n",
       "      <td>1</td>\n",
       "      <td>858</td>\n",
       "      <td>5.0</td>\n",
       "      <td>1425941523</td>\n",
       "    </tr>\n",
       "    <tr>\n",
       "      <th>3</th>\n",
       "      <td>1</td>\n",
       "      <td>1221</td>\n",
       "      <td>5.0</td>\n",
       "      <td>1425941546</td>\n",
       "    </tr>\n",
       "    <tr>\n",
       "      <th>4</th>\n",
       "      <td>1</td>\n",
       "      <td>1246</td>\n",
       "      <td>5.0</td>\n",
       "      <td>1425941556</td>\n",
       "    </tr>\n",
       "  </tbody>\n",
       "</table>\n",
       "</div>"
      ],
      "text/plain": [
       "   userId  movieId  rating   timestamp\n",
       "0       1      110     1.0  1425941529\n",
       "1       1      147     4.5  1425942435\n",
       "2       1      858     5.0  1425941523\n",
       "3       1     1221     5.0  1425941546\n",
       "4       1     1246     5.0  1425941556"
      ]
     },
     "execution_count": 5,
     "metadata": {},
     "output_type": "execute_result"
    }
   ],
   "source": [
    "# Initial Examination\n",
    "ratings.head()"
   ]
  },
  {
   "cell_type": "markdown",
   "metadata": {},
   "source": [
    "Same movie occurs repeatedly becuas each row represents a rating record by one audience."
   ]
  },
  {
   "cell_type": "code",
   "execution_count": 6,
   "metadata": {},
   "outputs": [],
   "source": [
    "# Comput average rating and number of votes as the formula needed\n",
    "ratings['average_rating'] = ratings.groupby('movieId')['rating'].transform(np.mean)\n",
    "ratings['votes_per_movie'] = ratings.groupby('movieId')['userId'].transform('count')"
   ]
  },
  {
   "cell_type": "code",
   "execution_count": 7,
   "metadata": {
    "scrolled": true
   },
   "outputs": [],
   "source": [
    "# Now movies rated by differenet audience yet shared the same tmdbID has the same averate rating and vote numbers\n",
    "# Drop irrelevant data and remove duplicates\n",
    "ratings = ratings.merge(links, on='movieId')\n",
    "ratings = ratings.drop_duplicates('tmdbId')[['tmdbId','votes_per_movie','average_rating']]\n",
    "ratings = ratings.loc[pd.notnull(ratings['tmdbId']) != False]"
   ]
  },
  {
   "cell_type": "code",
   "execution_count": 8,
   "metadata": {},
   "outputs": [
    {
     "data": {
      "text/plain": [
       "69.0"
      ]
     },
     "execution_count": 8,
     "metadata": {},
     "output_type": "execute_result"
    }
   ],
   "source": [
    "# m: the minumum votes required to be listed in the chart\n",
    "m = ratings['votes_per_movie'].quantile(0.75)\n",
    "m"
   ]
  },
  {
   "cell_type": "code",
   "execution_count": 9,
   "metadata": {},
   "outputs": [
    {
     "data": {
      "text/plain": [
       "3.061092348429485"
      ]
     },
     "execution_count": 9,
     "metadata": {},
     "output_type": "execute_result"
    }
   ],
   "source": [
    "# C: the mean rating across the whole report\n",
    "C = ratings['average_rating'].mean()\n",
    "C"
   ]
  },
  {
   "cell_type": "code",
   "execution_count": 10,
   "metadata": {},
   "outputs": [],
   "source": [
    "# filter the movies qualified for the chart\n",
    "ratings = ratings[ratings['votes_per_movie'] >= m]"
   ]
  },
  {
   "cell_type": "code",
   "execution_count": 11,
   "metadata": {},
   "outputs": [],
   "source": [
    "# Compute weighted_rating\n",
    "def weighted_rating(x):\n",
    "    \"\"\"Use IMDB formula to compute weighted rating\"\"\"\n",
    "    v = x['votes_per_movie']\n",
    "    R = x['average_rating']\n",
    "    return (v/(v+m) * R) + (m/(m+v) * C)\n",
    "ratings.loc[:,'weighted_rating'] = ratings.apply(weighted_rating, axis=1)"
   ]
  },
  {
   "cell_type": "code",
   "execution_count": 12,
   "metadata": {},
   "outputs": [],
   "source": [
    "ratings = ratings.astype({'tmdbId': 'int64'})\n",
    "# Merge raings with movie\n",
    "df = pd.merge(movie, ratings, how = 'inner', left_on = 'id', right_on = 'tmdbId')"
   ]
  },
  {
   "cell_type": "markdown",
   "metadata": {},
   "source": [
    "# Data Cleaning"
   ]
  },
  {
   "cell_type": "code",
   "execution_count": 13,
   "metadata": {
    "scrolled": true
   },
   "outputs": [
    {
     "data": {
      "text/html": [
       "<div>\n",
       "<style scoped>\n",
       "    .dataframe tbody tr th:only-of-type {\n",
       "        vertical-align: middle;\n",
       "    }\n",
       "\n",
       "    .dataframe tbody tr th {\n",
       "        vertical-align: top;\n",
       "    }\n",
       "\n",
       "    .dataframe thead th {\n",
       "        text-align: right;\n",
       "    }\n",
       "</style>\n",
       "<table border=\"1\" class=\"dataframe\">\n",
       "  <thead>\n",
       "    <tr style=\"text-align: right;\">\n",
       "      <th></th>\n",
       "      <th>adult</th>\n",
       "      <th>belongs_to_collection</th>\n",
       "      <th>budget</th>\n",
       "      <th>genres</th>\n",
       "      <th>homepage</th>\n",
       "      <th>id</th>\n",
       "      <th>imdb_id</th>\n",
       "      <th>original_language</th>\n",
       "      <th>original_title</th>\n",
       "      <th>overview</th>\n",
       "      <th>...</th>\n",
       "      <th>video</th>\n",
       "      <th>vote_average</th>\n",
       "      <th>vote_count</th>\n",
       "      <th>cast</th>\n",
       "      <th>crew</th>\n",
       "      <th>keywords</th>\n",
       "      <th>tmdbId</th>\n",
       "      <th>votes_per_movie</th>\n",
       "      <th>average_rating</th>\n",
       "      <th>weighted_rating</th>\n",
       "    </tr>\n",
       "  </thead>\n",
       "  <tbody>\n",
       "    <tr>\n",
       "      <th>0</th>\n",
       "      <td>False</td>\n",
       "      <td>{'id': 10194, 'name': 'Toy Story Collection', ...</td>\n",
       "      <td>30000000</td>\n",
       "      <td>[{'id': 16, 'name': 'Animation'}, {'id': 35, '...</td>\n",
       "      <td>http://toystory.disney.com/toy-story</td>\n",
       "      <td>862</td>\n",
       "      <td>tt0114709</td>\n",
       "      <td>en</td>\n",
       "      <td>Toy Story</td>\n",
       "      <td>Led by Woody, Andy's toys live happily in his ...</td>\n",
       "      <td>...</td>\n",
       "      <td>False</td>\n",
       "      <td>7.7</td>\n",
       "      <td>5415.0</td>\n",
       "      <td>[{'cast_id': 14, 'character': 'Woody (voice)',...</td>\n",
       "      <td>[{'credit_id': '52fe4284c3a36847f8024f49', 'de...</td>\n",
       "      <td>[{'id': 931, 'name': 'jealousy'}, {'id': 4290,...</td>\n",
       "      <td>862</td>\n",
       "      <td>66008</td>\n",
       "      <td>3.888157</td>\n",
       "      <td>3.887294</td>\n",
       "    </tr>\n",
       "    <tr>\n",
       "      <th>1</th>\n",
       "      <td>False</td>\n",
       "      <td>NaN</td>\n",
       "      <td>65000000</td>\n",
       "      <td>[{'id': 12, 'name': 'Adventure'}, {'id': 14, '...</td>\n",
       "      <td>NaN</td>\n",
       "      <td>8844</td>\n",
       "      <td>tt0113497</td>\n",
       "      <td>en</td>\n",
       "      <td>Jumanji</td>\n",
       "      <td>When siblings Judy and Peter discover an encha...</td>\n",
       "      <td>...</td>\n",
       "      <td>False</td>\n",
       "      <td>6.9</td>\n",
       "      <td>2413.0</td>\n",
       "      <td>[{'cast_id': 1, 'character': 'Alan Parrish', '...</td>\n",
       "      <td>[{'credit_id': '52fe44bfc3a36847f80a7cd1', 'de...</td>\n",
       "      <td>[{'id': 10090, 'name': 'board game'}, {'id': 1...</td>\n",
       "      <td>8844</td>\n",
       "      <td>26060</td>\n",
       "      <td>3.236953</td>\n",
       "      <td>3.236489</td>\n",
       "    </tr>\n",
       "    <tr>\n",
       "      <th>2</th>\n",
       "      <td>False</td>\n",
       "      <td>{'id': 119050, 'name': 'Grumpy Old Men Collect...</td>\n",
       "      <td>0</td>\n",
       "      <td>[{'id': 10749, 'name': 'Romance'}, {'id': 35, ...</td>\n",
       "      <td>NaN</td>\n",
       "      <td>15602</td>\n",
       "      <td>tt0113228</td>\n",
       "      <td>en</td>\n",
       "      <td>Grumpier Old Men</td>\n",
       "      <td>A family wedding reignites the ancient feud be...</td>\n",
       "      <td>...</td>\n",
       "      <td>False</td>\n",
       "      <td>6.5</td>\n",
       "      <td>92.0</td>\n",
       "      <td>[{'cast_id': 2, 'character': 'Max Goldman', 'c...</td>\n",
       "      <td>[{'credit_id': '52fe466a9251416c75077a89', 'de...</td>\n",
       "      <td>[{'id': 1495, 'name': 'fishing'}, {'id': 12392...</td>\n",
       "      <td>15602</td>\n",
       "      <td>15497</td>\n",
       "      <td>3.175550</td>\n",
       "      <td>3.175043</td>\n",
       "    </tr>\n",
       "    <tr>\n",
       "      <th>3</th>\n",
       "      <td>False</td>\n",
       "      <td>NaN</td>\n",
       "      <td>16000000</td>\n",
       "      <td>[{'id': 35, 'name': 'Comedy'}, {'id': 18, 'nam...</td>\n",
       "      <td>NaN</td>\n",
       "      <td>31357</td>\n",
       "      <td>tt0114885</td>\n",
       "      <td>en</td>\n",
       "      <td>Waiting to Exhale</td>\n",
       "      <td>Cheated on, mistreated and stepped on, the wom...</td>\n",
       "      <td>...</td>\n",
       "      <td>False</td>\n",
       "      <td>6.1</td>\n",
       "      <td>34.0</td>\n",
       "      <td>[{'cast_id': 1, 'character': \"Savannah 'Vannah...</td>\n",
       "      <td>[{'credit_id': '52fe44779251416c91011acb', 'de...</td>\n",
       "      <td>[{'id': 818, 'name': 'based on novel'}, {'id':...</td>\n",
       "      <td>31357</td>\n",
       "      <td>2981</td>\n",
       "      <td>2.875713</td>\n",
       "      <td>2.879907</td>\n",
       "    </tr>\n",
       "    <tr>\n",
       "      <th>4</th>\n",
       "      <td>False</td>\n",
       "      <td>{'id': 96871, 'name': 'Father of the Bride Col...</td>\n",
       "      <td>0</td>\n",
       "      <td>[{'id': 35, 'name': 'Comedy'}]</td>\n",
       "      <td>NaN</td>\n",
       "      <td>11862</td>\n",
       "      <td>tt0113041</td>\n",
       "      <td>en</td>\n",
       "      <td>Father of the Bride Part II</td>\n",
       "      <td>Just when George Banks has recovered from his ...</td>\n",
       "      <td>...</td>\n",
       "      <td>False</td>\n",
       "      <td>5.7</td>\n",
       "      <td>173.0</td>\n",
       "      <td>[{'cast_id': 1, 'character': 'George Banks', '...</td>\n",
       "      <td>[{'credit_id': '52fe44959251416c75039ed7', 'de...</td>\n",
       "      <td>[{'id': 1009, 'name': 'baby'}, {'id': 1599, 'n...</td>\n",
       "      <td>11862</td>\n",
       "      <td>15258</td>\n",
       "      <td>3.079565</td>\n",
       "      <td>3.079482</td>\n",
       "    </tr>\n",
       "  </tbody>\n",
       "</table>\n",
       "<p>5 rows × 31 columns</p>\n",
       "</div>"
      ],
      "text/plain": [
       "   adult                              belongs_to_collection    budget  \\\n",
       "0  False  {'id': 10194, 'name': 'Toy Story Collection', ...  30000000   \n",
       "1  False                                                NaN  65000000   \n",
       "2  False  {'id': 119050, 'name': 'Grumpy Old Men Collect...         0   \n",
       "3  False                                                NaN  16000000   \n",
       "4  False  {'id': 96871, 'name': 'Father of the Bride Col...         0   \n",
       "\n",
       "                                              genres  \\\n",
       "0  [{'id': 16, 'name': 'Animation'}, {'id': 35, '...   \n",
       "1  [{'id': 12, 'name': 'Adventure'}, {'id': 14, '...   \n",
       "2  [{'id': 10749, 'name': 'Romance'}, {'id': 35, ...   \n",
       "3  [{'id': 35, 'name': 'Comedy'}, {'id': 18, 'nam...   \n",
       "4                     [{'id': 35, 'name': 'Comedy'}]   \n",
       "\n",
       "                               homepage     id    imdb_id original_language  \\\n",
       "0  http://toystory.disney.com/toy-story    862  tt0114709                en   \n",
       "1                                   NaN   8844  tt0113497                en   \n",
       "2                                   NaN  15602  tt0113228                en   \n",
       "3                                   NaN  31357  tt0114885                en   \n",
       "4                                   NaN  11862  tt0113041                en   \n",
       "\n",
       "                original_title  \\\n",
       "0                    Toy Story   \n",
       "1                      Jumanji   \n",
       "2             Grumpier Old Men   \n",
       "3            Waiting to Exhale   \n",
       "4  Father of the Bride Part II   \n",
       "\n",
       "                                            overview  ...  video vote_average  \\\n",
       "0  Led by Woody, Andy's toys live happily in his ...  ...  False          7.7   \n",
       "1  When siblings Judy and Peter discover an encha...  ...  False          6.9   \n",
       "2  A family wedding reignites the ancient feud be...  ...  False          6.5   \n",
       "3  Cheated on, mistreated and stepped on, the wom...  ...  False          6.1   \n",
       "4  Just when George Banks has recovered from his ...  ...  False          5.7   \n",
       "\n",
       "  vote_count                                               cast  \\\n",
       "0     5415.0  [{'cast_id': 14, 'character': 'Woody (voice)',...   \n",
       "1     2413.0  [{'cast_id': 1, 'character': 'Alan Parrish', '...   \n",
       "2       92.0  [{'cast_id': 2, 'character': 'Max Goldman', 'c...   \n",
       "3       34.0  [{'cast_id': 1, 'character': \"Savannah 'Vannah...   \n",
       "4      173.0  [{'cast_id': 1, 'character': 'George Banks', '...   \n",
       "\n",
       "                                                crew  \\\n",
       "0  [{'credit_id': '52fe4284c3a36847f8024f49', 'de...   \n",
       "1  [{'credit_id': '52fe44bfc3a36847f80a7cd1', 'de...   \n",
       "2  [{'credit_id': '52fe466a9251416c75077a89', 'de...   \n",
       "3  [{'credit_id': '52fe44779251416c91011acb', 'de...   \n",
       "4  [{'credit_id': '52fe44959251416c75039ed7', 'de...   \n",
       "\n",
       "                                            keywords  tmdbId votes_per_movie  \\\n",
       "0  [{'id': 931, 'name': 'jealousy'}, {'id': 4290,...     862           66008   \n",
       "1  [{'id': 10090, 'name': 'board game'}, {'id': 1...    8844           26060   \n",
       "2  [{'id': 1495, 'name': 'fishing'}, {'id': 12392...   15602           15497   \n",
       "3  [{'id': 818, 'name': 'based on novel'}, {'id':...   31357            2981   \n",
       "4  [{'id': 1009, 'name': 'baby'}, {'id': 1599, 'n...   11862           15258   \n",
       "\n",
       "  average_rating weighted_rating  \n",
       "0       3.888157        3.887294  \n",
       "1       3.236953        3.236489  \n",
       "2       3.175550        3.175043  \n",
       "3       2.875713        2.879907  \n",
       "4       3.079565        3.079482  \n",
       "\n",
       "[5 rows x 31 columns]"
      ]
     },
     "execution_count": 13,
     "metadata": {},
     "output_type": "execute_result"
    }
   ],
   "source": [
    "# Get an initial feeling of the data\n",
    "df.head()"
   ]
  },
  {
   "cell_type": "code",
   "execution_count": 14,
   "metadata": {
    "scrolled": true
   },
   "outputs": [
    {
     "name": "stdout",
     "output_type": "stream",
     "text": [
      "<class 'pandas.core.frame.DataFrame'>\n",
      "Int64Index: 11366 entries, 0 to 11365\n",
      "Data columns (total 31 columns):\n",
      "adult                    11366 non-null object\n",
      "belongs_to_collection    2016 non-null object\n",
      "budget                   11366 non-null object\n",
      "genres                   11366 non-null object\n",
      "homepage                 2607 non-null object\n",
      "id                       11366 non-null int64\n",
      "imdb_id                  11365 non-null object\n",
      "original_language        11366 non-null object\n",
      "original_title           11366 non-null object\n",
      "overview                 11360 non-null object\n",
      "popularity               11365 non-null object\n",
      "poster_path              11363 non-null object\n",
      "production_companies     11366 non-null object\n",
      "production_countries     11366 non-null object\n",
      "release_date             11365 non-null object\n",
      "revenue                  11364 non-null float64\n",
      "runtime                  11364 non-null float64\n",
      "spoken_languages         11364 non-null object\n",
      "status                   11360 non-null object\n",
      "tagline                  8645 non-null object\n",
      "title                    11364 non-null object\n",
      "video                    11364 non-null object\n",
      "vote_average             11364 non-null float64\n",
      "vote_count               11364 non-null float64\n",
      "cast                     11366 non-null object\n",
      "crew                     11366 non-null object\n",
      "keywords                 11366 non-null object\n",
      "tmdbId                   11366 non-null int64\n",
      "votes_per_movie          11366 non-null int64\n",
      "average_rating           11366 non-null float64\n",
      "weighted_rating          11366 non-null float64\n",
      "dtypes: float64(6), int64(3), object(22)\n",
      "memory usage: 2.8+ MB\n"
     ]
    }
   ],
   "source": [
    "df.info()"
   ]
  },
  {
   "cell_type": "markdown",
   "metadata": {},
   "source": [
    "**Thought Process**\n",
    "1. Identify columns that fit to the objectives of this project and remove irrelevant ones:\n",
    "  - `identifiers`\n",
    "    - id\n",
    "    - title\n",
    "  - `business-side`\n",
    "    -   revenue\n",
    "    -   budget\n",
    "  - `plot`\n",
    "    - belongs_to_collection\n",
    "    - genres\n",
    "    - keywords\n",
    "  - `production-side`\n",
    "    - runtime\n",
    "    - release_date\n",
    "    - original_language\n",
    "    - production_companies\n",
    "    - production_countries\n",
    "  - `team`\n",
    "    - cast\n",
    "    - crew\n",
    "  - `audience`\n",
    "    - votes_per_movie\n",
    "\n",
    "  - `target variable`\n",
    "    - weighted_rating\n",
    "    \n",
    "\n",
    "2. Know which parts require detection of missing values and type conversion."
   ]
  },
  {
   "cell_type": "markdown",
   "metadata": {},
   "source": [
    "### Remove Duplicates and Irrelevant Data"
   ]
  },
  {
   "cell_type": "code",
   "execution_count": 15,
   "metadata": {},
   "outputs": [],
   "source": [
    "# Remove the duplicates with identical values of 'id'\n",
    "df = df.drop_duplicates('id', keep = 'first')"
   ]
  },
  {
   "cell_type": "code",
   "execution_count": 16,
   "metadata": {},
   "outputs": [],
   "source": [
    "# Drop irrelevant data\n",
    "to_keep_features = ['id','title','revenue','budget','belongs_to_collection','genres','keywords','runtime','release_date',\n",
    "                   'original_language','production_companies','production_countries','cast','crew', 'votes_per_movie','weighted_rating']\n",
    "df = df[to_keep_features]"
   ]
  },
  {
   "cell_type": "code",
   "execution_count": 17,
   "metadata": {
    "scrolled": true
   },
   "outputs": [
    {
     "name": "stdout",
     "output_type": "stream",
     "text": [
      "The shape of dataset: (11232, 16)\n",
      "Columns include: ['id', 'title', 'revenue', 'budget', 'belongs_to_collection', 'genres', 'keywords', 'runtime', 'release_date', 'original_language', 'production_companies', 'production_countries', 'cast', 'crew', 'votes_per_movie', 'weighted_rating']\n"
     ]
    }
   ],
   "source": [
    "print ('The shape of dataset:',df.shape)\n",
    "print ('Columns include:',list(df.columns))"
   ]
  },
  {
   "cell_type": "markdown",
   "metadata": {},
   "source": [
    "### Detect Missing Data"
   ]
  },
  {
   "cell_type": "code",
   "execution_count": 18,
   "metadata": {
    "scrolled": false
   },
   "outputs": [
    {
     "name": "stdout",
     "output_type": "stream",
     "text": [
      "<class 'pandas.core.frame.DataFrame'>\n",
      "Int64Index: 11232 entries, 0 to 11365\n",
      "Data columns (total 16 columns):\n",
      "id                       11232 non-null int64\n",
      "title                    11232 non-null object\n",
      "revenue                  11232 non-null float64\n",
      "budget                   11232 non-null object\n",
      "belongs_to_collection    1995 non-null object\n",
      "genres                   11232 non-null object\n",
      "keywords                 11232 non-null object\n",
      "runtime                  11232 non-null float64\n",
      "release_date             11231 non-null object\n",
      "original_language        11232 non-null object\n",
      "production_companies     11232 non-null object\n",
      "production_countries     11232 non-null object\n",
      "cast                     11232 non-null object\n",
      "crew                     11232 non-null object\n",
      "votes_per_movie          11232 non-null int64\n",
      "weighted_rating          11232 non-null float64\n",
      "dtypes: float64(3), int64(2), object(11)\n",
      "memory usage: 1.5+ MB\n"
     ]
    }
   ],
   "source": [
    "df.info()"
   ]
  },
  {
   "cell_type": "code",
   "execution_count": 19,
   "metadata": {
    "scrolled": true
   },
   "outputs": [
    {
     "data": {
      "text/plain": [
       "<matplotlib.axes._subplots.AxesSubplot at 0x1a26517cc0>"
      ]
     },
     "execution_count": 19,
     "metadata": {},
     "output_type": "execute_result"
    },
    {
     "data": {
      "image/png": "[encoded data removed]",
      "text/plain": [
       "<Figure size 1728x720 with 3 Axes>"
      ]
     },
     "metadata": {
      "needs_background": "light"
     },
     "output_type": "display_data"
    }
   ],
   "source": [
    "import missingno as msno\n",
    "msno.bar(df)"
   ]
  },
  {
   "cell_type": "markdown",
   "metadata": {},
   "source": [
    "**Thought Process**\n",
    "1. Besides of 'belongs_to_collection' column, no obvious missing values observed. \n",
    "2. However, I found nonstandard missing values in column 'budget' and 'revenue' when looking closer into the data."
   ]
  },
  {
   "cell_type": "markdown",
   "metadata": {},
   "source": [
    "### Handling Missing data\n",
    "After examination, I found that missing values in 'belongs_to_collection' indicate the movie has no sequence.\n",
    "\n",
    "I used boolean logic to separate movies into two categories: belonging to a collection or without sequence, and compute 1 and 0 to them accordinly."
   ]
  },
  {
   "cell_type": "code",
   "execution_count": 20,
   "metadata": {},
   "outputs": [],
   "source": [
    "# Compute 0 for missing values (the movies without sequence)\n",
    "df['belongs_to_collection'].fillna(0, inplace = True)\n",
    "# Compute 1 for belonging to a collection\n",
    "condition = df['belongs_to_collection'] != 0\n",
    "df.loc[condition, 'belongs_to_collection'] = 1"
   ]
  },
  {
   "cell_type": "markdown",
   "metadata": {},
   "source": [
    "### Nonstandard Missing data"
   ]
  },
  {
   "cell_type": "code",
   "execution_count": 21,
   "metadata": {},
   "outputs": [
    {
     "data": {
      "text/html": [
       "<div>\n",
       "<style scoped>\n",
       "    .dataframe tbody tr th:only-of-type {\n",
       "        vertical-align: middle;\n",
       "    }\n",
       "\n",
       "    .dataframe tbody tr th {\n",
       "        vertical-align: top;\n",
       "    }\n",
       "\n",
       "    .dataframe thead th {\n",
       "        text-align: right;\n",
       "    }\n",
       "</style>\n",
       "<table border=\"1\" class=\"dataframe\">\n",
       "  <thead>\n",
       "    <tr style=\"text-align: right;\">\n",
       "      <th></th>\n",
       "      <th>id</th>\n",
       "      <th>title</th>\n",
       "      <th>revenue</th>\n",
       "      <th>budget</th>\n",
       "      <th>belongs_to_collection</th>\n",
       "      <th>genres</th>\n",
       "      <th>keywords</th>\n",
       "      <th>runtime</th>\n",
       "      <th>release_date</th>\n",
       "      <th>original_language</th>\n",
       "      <th>production_companies</th>\n",
       "      <th>production_countries</th>\n",
       "      <th>cast</th>\n",
       "      <th>crew</th>\n",
       "      <th>votes_per_movie</th>\n",
       "      <th>weighted_rating</th>\n",
       "    </tr>\n",
       "  </thead>\n",
       "  <tbody>\n",
       "    <tr>\n",
       "      <th>7657</th>\n",
       "      <td>67</td>\n",
       "      <td>Paradise Now</td>\n",
       "      <td>3357075.0</td>\n",
       "      <td>0</td>\n",
       "      <td>0</td>\n",
       "      <td>[{'id': 53, 'name': 'Thriller'}, {'id': 80, 'n...</td>\n",
       "      <td>[{'id': 30, 'name': 'individual'}, {'id': 321,...</td>\n",
       "      <td>90.0</td>\n",
       "      <td>2005-02-14</td>\n",
       "      <td>en</td>\n",
       "      <td>[{'name': 'Lama Films', 'id': 15}, {'name': 'A...</td>\n",
       "      <td>[{'iso_3166_1': 'PS', 'name': 'Palestinian Ter...</td>\n",
       "      <td>[{'cast_id': 7, 'character': 'Khaled', 'credit...</td>\n",
       "      <td>[{'credit_id': '52fe4213c3a36847f8001df3', 'de...</td>\n",
       "      <td>444</td>\n",
       "      <td>3.653441</td>\n",
       "    </tr>\n",
       "    <tr>\n",
       "      <th>8366</th>\n",
       "      <td>4953</td>\n",
       "      <td>Be Kind Rewind</td>\n",
       "      <td>0.0</td>\n",
       "      <td>0</td>\n",
       "      <td>0</td>\n",
       "      <td>[{'id': 18, 'name': 'Drama'}, {'id': 35, 'name...</td>\n",
       "      <td>[{'id': 2249, 'name': 'camcorder'}, {'id': 329...</td>\n",
       "      <td>102.0</td>\n",
       "      <td>2008-01-20</td>\n",
       "      <td>en</td>\n",
       "      <td>[{'name': 'New Line Cinema', 'id': 12}, {'name...</td>\n",
       "      <td>[{'iso_3166_1': 'US', 'name': 'United States o...</td>\n",
       "      <td>[{'cast_id': 12, 'character': 'Jerry', 'credit...</td>\n",
       "      <td>[{'credit_id': '52fe43e7c3a36847f80773d5', 'de...</td>\n",
       "      <td>2113</td>\n",
       "      <td>3.175397</td>\n",
       "    </tr>\n",
       "    <tr>\n",
       "      <th>7623</th>\n",
       "      <td>13994</td>\n",
       "      <td>Romance &amp; Cigarettes</td>\n",
       "      <td>2945242.0</td>\n",
       "      <td>0</td>\n",
       "      <td>0</td>\n",
       "      <td>[{'id': 35, 'name': 'Comedy'}, {'id': 10402, '...</td>\n",
       "      <td>[{'id': 1326, 'name': 'infidelity'}, {'id': 46...</td>\n",
       "      <td>105.0</td>\n",
       "      <td>2005-09-13</td>\n",
       "      <td>en</td>\n",
       "      <td>[{'name': 'United Artists', 'id': 60}]</td>\n",
       "      <td>[{'iso_3166_1': 'US', 'name': 'United States o...</td>\n",
       "      <td>[{'cast_id': 1, 'character': 'Nick Murder', 'c...</td>\n",
       "      <td>[{'credit_id': '52fe45c09251416c75061363', 'de...</td>\n",
       "      <td>76</td>\n",
       "      <td>2.970451</td>\n",
       "    </tr>\n",
       "    <tr>\n",
       "      <th>5732</th>\n",
       "      <td>27117</td>\n",
       "      <td>Sherlock Holmes and the Voice of Terror</td>\n",
       "      <td>0.0</td>\n",
       "      <td>0</td>\n",
       "      <td>1</td>\n",
       "      <td>[{'id': 18, 'name': 'Drama'}, {'id': 9648, 'na...</td>\n",
       "      <td>[{'id': 74, 'name': 'germany'}, {'id': 9401, '...</td>\n",
       "      <td>65.0</td>\n",
       "      <td>1942-09-18</td>\n",
       "      <td>en</td>\n",
       "      <td>[{'name': 'Universal Pictures', 'id': 33}]</td>\n",
       "      <td>[{'iso_3166_1': 'US', 'name': 'United States o...</td>\n",
       "      <td>[{'cast_id': 1, 'character': 'Sherlock Holmes'...</td>\n",
       "      <td>[{'credit_id': '52fe452ec3a368484e04cda7', 'de...</td>\n",
       "      <td>80</td>\n",
       "      <td>3.202788</td>\n",
       "    </tr>\n",
       "    <tr>\n",
       "      <th>2487</th>\n",
       "      <td>52366</td>\n",
       "      <td>Lucie Aubrac</td>\n",
       "      <td>458557.0</td>\n",
       "      <td>0</td>\n",
       "      <td>0</td>\n",
       "      <td>[{'id': 18, 'name': 'Drama'}]</td>\n",
       "      <td>[]</td>\n",
       "      <td>115.0</td>\n",
       "      <td>1997-02-26</td>\n",
       "      <td>fr</td>\n",
       "      <td>[{'name': 'D.A. Films', 'id': 6541}, {'name': ...</td>\n",
       "      <td>[{'iso_3166_1': 'FR', 'name': 'France'}]</td>\n",
       "      <td>[{'cast_id': 4, 'character': 'Lucie Aubrac', '...</td>\n",
       "      <td>[{'credit_id': '52fe4827c3a36847f815a4ad', 'de...</td>\n",
       "      <td>184</td>\n",
       "      <td>3.226148</td>\n",
       "    </tr>\n",
       "  </tbody>\n",
       "</table>\n",
       "</div>"
      ],
      "text/plain": [
       "         id                                    title    revenue budget  \\\n",
       "7657     67                             Paradise Now  3357075.0      0   \n",
       "8366   4953                           Be Kind Rewind        0.0      0   \n",
       "7623  13994                     Romance & Cigarettes  2945242.0      0   \n",
       "5732  27117  Sherlock Holmes and the Voice of Terror        0.0      0   \n",
       "2487  52366                             Lucie Aubrac   458557.0      0   \n",
       "\n",
       "      belongs_to_collection  \\\n",
       "7657                      0   \n",
       "8366                      0   \n",
       "7623                      0   \n",
       "5732                      1   \n",
       "2487                      0   \n",
       "\n",
       "                                                 genres  \\\n",
       "7657  [{'id': 53, 'name': 'Thriller'}, {'id': 80, 'n...   \n",
       "8366  [{'id': 18, 'name': 'Drama'}, {'id': 35, 'name...   \n",
       "7623  [{'id': 35, 'name': 'Comedy'}, {'id': 10402, '...   \n",
       "5732  [{'id': 18, 'name': 'Drama'}, {'id': 9648, 'na...   \n",
       "2487                      [{'id': 18, 'name': 'Drama'}]   \n",
       "\n",
       "                                               keywords  runtime release_date  \\\n",
       "7657  [{'id': 30, 'name': 'individual'}, {'id': 321,...     90.0   2005-02-14   \n",
       "8366  [{'id': 2249, 'name': 'camcorder'}, {'id': 329...    102.0   2008-01-20   \n",
       "7623  [{'id': 1326, 'name': 'infidelity'}, {'id': 46...    105.0   2005-09-13   \n",
       "5732  [{'id': 74, 'name': 'germany'}, {'id': 9401, '...     65.0   1942-09-18   \n",
       "2487                                                 []    115.0   1997-02-26   \n",
       "\n",
       "     original_language                               production_companies  \\\n",
       "7657                en  [{'name': 'Lama Films', 'id': 15}, {'name': 'A...   \n",
       "8366                en  [{'name': 'New Line Cinema', 'id': 12}, {'name...   \n",
       "7623                en             [{'name': 'United Artists', 'id': 60}]   \n",
       "5732                en         [{'name': 'Universal Pictures', 'id': 33}]   \n",
       "2487                fr  [{'name': 'D.A. Films', 'id': 6541}, {'name': ...   \n",
       "\n",
       "                                   production_countries  \\\n",
       "7657  [{'iso_3166_1': 'PS', 'name': 'Palestinian Ter...   \n",
       "8366  [{'iso_3166_1': 'US', 'name': 'United States o...   \n",
       "7623  [{'iso_3166_1': 'US', 'name': 'United States o...   \n",
       "5732  [{'iso_3166_1': 'US', 'name': 'United States o...   \n",
       "2487           [{'iso_3166_1': 'FR', 'name': 'France'}]   \n",
       "\n",
       "                                                   cast  \\\n",
       "7657  [{'cast_id': 7, 'character': 'Khaled', 'credit...   \n",
       "8366  [{'cast_id': 12, 'character': 'Jerry', 'credit...   \n",
       "7623  [{'cast_id': 1, 'character': 'Nick Murder', 'c...   \n",
       "5732  [{'cast_id': 1, 'character': 'Sherlock Holmes'...   \n",
       "2487  [{'cast_id': 4, 'character': 'Lucie Aubrac', '...   \n",
       "\n",
       "                                                   crew  votes_per_movie  \\\n",
       "7657  [{'credit_id': '52fe4213c3a36847f8001df3', 'de...              444   \n",
       "8366  [{'credit_id': '52fe43e7c3a36847f80773d5', 'de...             2113   \n",
       "7623  [{'credit_id': '52fe45c09251416c75061363', 'de...               76   \n",
       "5732  [{'credit_id': '52fe452ec3a368484e04cda7', 'de...               80   \n",
       "2487  [{'credit_id': '52fe4827c3a36847f815a4ad', 'de...              184   \n",
       "\n",
       "      weighted_rating  \n",
       "7657         3.653441  \n",
       "8366         3.175397  \n",
       "7623         2.970451  \n",
       "5732         3.202788  \n",
       "2487         3.226148  "
      ]
     },
     "execution_count": 21,
     "metadata": {},
     "output_type": "execute_result"
    }
   ],
   "source": [
    "# Closer look at observations with zero budget\n",
    "df[df['budget'] == '0'].sample(5)"
   ]
  },
  {
   "cell_type": "code",
   "execution_count": 22,
   "metadata": {},
   "outputs": [
    {
     "name": "stdout",
     "output_type": "stream",
     "text": [
      "rows with zero budget: 5659\n",
      "rows with zero revenue: 5529\n"
     ]
    }
   ],
   "source": [
    "# get the number of zero budget and zero revenue\n",
    "print ('rows with zero budget:', df[df.budget == '0'].shape[0])\n",
    "print ('rows with zero revenue:',df[df.revenue == 0].shape[0])"
   ]
  },
  {
   "cell_type": "markdown",
   "metadata": {},
   "source": [
    "**Thought Process**\n",
    "1. Movies with zero budget often have zero revenue. Some of the movies are made by big companies, such as Warner Bros. and Columbia Pictures Corporation. Thus, zero in 'budget' and 'revenue' are more likely to represent missing values instead of low budget. \n",
    "\n",
    "\n",
    "2. Considering the cost of acquiring other data to compute missing values, and the potential bias caused by large volumns of zero, I decided to remove them from the dataset."
   ]
  },
  {
   "cell_type": "code",
   "execution_count": 23,
   "metadata": {},
   "outputs": [
    {
     "name": "stdout",
     "output_type": "stream",
     "text": [
      "The shape of dataset (4519, 16)\n"
     ]
    }
   ],
   "source": [
    "# Drop the row where revenue and budget both equal to 0\n",
    "df = df[(df['budget'] != '0') & (df['revenue']!=0)].reset_index(drop = True)\n",
    "print (\"The shape of dataset\",df.shape)"
   ]
  },
  {
   "cell_type": "markdown",
   "metadata": {},
   "source": [
    "### Convert Data Type"
   ]
  },
  {
   "cell_type": "code",
   "execution_count": 24,
   "metadata": {},
   "outputs": [],
   "source": [
    "# convert'budget' column from object to integer data type\n",
    "df['budget'] = df['budget'].astype('int64')"
   ]
  },
  {
   "cell_type": "markdown",
   "metadata": {},
   "source": [
    "### Extract Nested Values\n",
    "Columns including 'genres', 'procudtion_countries', 'production_companies', 'cast' and 'crew' are stored in JSON format. "
   ]
  },
  {
   "cell_type": "code",
   "execution_count": 25,
   "metadata": {},
   "outputs": [],
   "source": [
    "# extract director from the crew colum\n",
    "def get_director(x):\n",
    "    for i in x:\n",
    "        if i['job'] == 'Director':\n",
    "            return i['name']\n",
    "df['director'] = df['crew'].apply(literal_eval).apply(get_director)\n",
    "df.drop(columns=['crew'], inplace = True)"
   ]
  },
  {
   "cell_type": "code",
   "execution_count": 26,
   "metadata": {},
   "outputs": [],
   "source": [
    "# Extract the main production country\n",
    "df.production_countries = df.production_countries.fillna('[]').apply(literal_eval).apply(lambda x: [i['name'] for i in x] if isinstance(x, list) else [])\n",
    "df.production_countries = df.production_countries.apply(lambda x: \"\" if len(x) == 0 else x[0])"
   ]
  },
  {
   "cell_type": "code",
   "execution_count": 27,
   "metadata": {},
   "outputs": [],
   "source": [
    "# Extract the main production company\n",
    "df.production_companies = df.production_companies.fillna('[]').apply(literal_eval).apply(lambda x: [i['name'] for i in x] if isinstance(x, list) else [])\n",
    "df.production_companies = df.production_companies.apply(lambda x: \"\" if len(x) == 0 else x[0])"
   ]
  },
  {
   "cell_type": "code",
   "execution_count": 28,
   "metadata": {},
   "outputs": [],
   "source": [
    "# Convert cast and only get the top 3 actors/actess\n",
    "df.cast = df.cast.apply(literal_eval).apply(lambda x: [i['name'] for i in x] if isinstance(x, list) else [])\n",
    "df.cast = df.cast.apply(lambda x: x[:3] if len(x) >=3 else x)"
   ]
  },
  {
   "cell_type": "code",
   "execution_count": 29,
   "metadata": {},
   "outputs": [],
   "source": [
    "# Convert genres\n",
    "df.genres = df.genres.apply(literal_eval).apply(lambda x: [i['name'] for i in x] if isinstance(x, list) else [])"
   ]
  },
  {
   "cell_type": "code",
   "execution_count": 30,
   "metadata": {},
   "outputs": [],
   "source": [
    "# Convert keywords\n",
    "df.keywords = df.keywords.apply(literal_eval).apply(lambda x: [i['name'] for i in x] if isinstance(x, list) else [])"
   ]
  },
  {
   "cell_type": "code",
   "execution_count": 31,
   "metadata": {},
   "outputs": [],
   "source": [
    "# Rename the column\n",
    "col_name = {'belongs_to_collection':'is_collection'}\n",
    "df.rename(columns= col_name, inplace = True)"
   ]
  },
  {
   "cell_type": "markdown",
   "metadata": {},
   "source": [
    "### Create New Variables"
   ]
  },
  {
   "cell_type": "code",
   "execution_count": 32,
   "metadata": {},
   "outputs": [],
   "source": [
    "# Convert 'release_date' to datetime object \n",
    "df['release_date'] = pd.to_datetime(df['release_date'])\n",
    "\n",
    "# Extract the 'month' and 'year' from 'release_date'\n",
    "# Replace missing values with zero\n",
    "df['month'] = df['release_date'].dt.month.astype(np.int64)\n",
    "df['year'] = df['release_date'].dt.year.astype(np.int64)\n",
    "df.drop(labels = 'release_date', axis = 1, inplace = True)"
   ]
  },
  {
   "cell_type": "code",
   "execution_count": 33,
   "metadata": {},
   "outputs": [],
   "source": [
    "# Create two feautres, 'is_adapted' and 'is_YA', based on the keywords information\n",
    "\n",
    "def is_adapted(series):\n",
    "    adapted = ['based on novel',\"based on children's book\"]\n",
    "    for i in adapted:\n",
    "        if i in series:\n",
    "            return 1\n",
    "    return 0\n",
    "df['is_adapted'] = df['keywords'].apply(is_adapted)\n",
    "def is_YA(series):\n",
    "    if 'teenager' in series:\n",
    "        return 1\n",
    "    else:\n",
    "        return 0\n",
    "\n",
    "df['is_YA'] = df['keywords'].apply(is_YA)\n",
    "\n",
    "# Drop keywords column\n",
    "df.drop(columns=['keywords'], inplace = True)"
   ]
  },
  {
   "cell_type": "code",
   "execution_count": 34,
   "metadata": {
    "scrolled": false
   },
   "outputs": [
    {
     "data": {
      "text/html": [
       "<div>\n",
       "<style scoped>\n",
       "    .dataframe tbody tr th:only-of-type {\n",
       "        vertical-align: middle;\n",
       "    }\n",
       "\n",
       "    .dataframe tbody tr th {\n",
       "        vertical-align: top;\n",
       "    }\n",
       "\n",
       "    .dataframe thead th {\n",
       "        text-align: right;\n",
       "    }\n",
       "</style>\n",
       "<table border=\"1\" class=\"dataframe\">\n",
       "  <thead>\n",
       "    <tr style=\"text-align: right;\">\n",
       "      <th></th>\n",
       "      <th>id</th>\n",
       "      <th>title</th>\n",
       "      <th>revenue</th>\n",
       "      <th>budget</th>\n",
       "      <th>is_collection</th>\n",
       "      <th>genres</th>\n",
       "      <th>runtime</th>\n",
       "      <th>original_language</th>\n",
       "      <th>production_companies</th>\n",
       "      <th>production_countries</th>\n",
       "      <th>cast</th>\n",
       "      <th>votes_per_movie</th>\n",
       "      <th>weighted_rating</th>\n",
       "      <th>director</th>\n",
       "      <th>month</th>\n",
       "      <th>year</th>\n",
       "      <th>is_adapted</th>\n",
       "      <th>is_YA</th>\n",
       "    </tr>\n",
       "  </thead>\n",
       "  <tbody>\n",
       "    <tr>\n",
       "      <th>0</th>\n",
       "      <td>862</td>\n",
       "      <td>Toy Story</td>\n",
       "      <td>373554033.0</td>\n",
       "      <td>30000000</td>\n",
       "      <td>1</td>\n",
       "      <td>[Animation, Comedy, Family]</td>\n",
       "      <td>81.0</td>\n",
       "      <td>en</td>\n",
       "      <td>Pixar Animation Studios</td>\n",
       "      <td>United States of America</td>\n",
       "      <td>[Tom Hanks, Tim Allen, Don Rickles]</td>\n",
       "      <td>66008</td>\n",
       "      <td>3.887294</td>\n",
       "      <td>John Lasseter</td>\n",
       "      <td>10</td>\n",
       "      <td>1995</td>\n",
       "      <td>0</td>\n",
       "      <td>0</td>\n",
       "    </tr>\n",
       "    <tr>\n",
       "      <th>1</th>\n",
       "      <td>8844</td>\n",
       "      <td>Jumanji</td>\n",
       "      <td>262797249.0</td>\n",
       "      <td>65000000</td>\n",
       "      <td>0</td>\n",
       "      <td>[Adventure, Fantasy, Family]</td>\n",
       "      <td>104.0</td>\n",
       "      <td>en</td>\n",
       "      <td>TriStar Pictures</td>\n",
       "      <td>United States of America</td>\n",
       "      <td>[Robin Williams, Jonathan Hyde, Kirsten Dunst]</td>\n",
       "      <td>26060</td>\n",
       "      <td>3.236489</td>\n",
       "      <td>Joe Johnston</td>\n",
       "      <td>12</td>\n",
       "      <td>1995</td>\n",
       "      <td>1</td>\n",
       "      <td>0</td>\n",
       "    </tr>\n",
       "    <tr>\n",
       "      <th>2</th>\n",
       "      <td>31357</td>\n",
       "      <td>Waiting to Exhale</td>\n",
       "      <td>81452156.0</td>\n",
       "      <td>16000000</td>\n",
       "      <td>0</td>\n",
       "      <td>[Comedy, Drama, Romance]</td>\n",
       "      <td>127.0</td>\n",
       "      <td>en</td>\n",
       "      <td>Twentieth Century Fox Film Corporation</td>\n",
       "      <td>United States of America</td>\n",
       "      <td>[Whitney Houston, Angela Bassett, Loretta Devine]</td>\n",
       "      <td>2981</td>\n",
       "      <td>2.879907</td>\n",
       "      <td>Forest Whitaker</td>\n",
       "      <td>12</td>\n",
       "      <td>1995</td>\n",
       "      <td>1</td>\n",
       "      <td>0</td>\n",
       "    </tr>\n",
       "    <tr>\n",
       "      <th>3</th>\n",
       "      <td>949</td>\n",
       "      <td>Heat</td>\n",
       "      <td>187436818.0</td>\n",
       "      <td>60000000</td>\n",
       "      <td>0</td>\n",
       "      <td>[Action, Crime, Drama, Thriller]</td>\n",
       "      <td>170.0</td>\n",
       "      <td>en</td>\n",
       "      <td>Regency Enterprises</td>\n",
       "      <td>United States of America</td>\n",
       "      <td>[Al Pacino, Robert De Niro, Val Kilmer]</td>\n",
       "      <td>27895</td>\n",
       "      <td>3.839837</td>\n",
       "      <td>Michael Mann</td>\n",
       "      <td>12</td>\n",
       "      <td>1995</td>\n",
       "      <td>0</td>\n",
       "      <td>0</td>\n",
       "    </tr>\n",
       "    <tr>\n",
       "      <th>4</th>\n",
       "      <td>9091</td>\n",
       "      <td>Sudden Death</td>\n",
       "      <td>64350171.0</td>\n",
       "      <td>35000000</td>\n",
       "      <td>0</td>\n",
       "      <td>[Action, Adventure, Thriller]</td>\n",
       "      <td>106.0</td>\n",
       "      <td>en</td>\n",
       "      <td>Universal Pictures</td>\n",
       "      <td>United States of America</td>\n",
       "      <td>[Jean-Claude Van Damme, Powers Boothe, Dorian ...</td>\n",
       "      <td>4423</td>\n",
       "      <td>3.009175</td>\n",
       "      <td>Peter Hyams</td>\n",
       "      <td>12</td>\n",
       "      <td>1995</td>\n",
       "      <td>0</td>\n",
       "      <td>0</td>\n",
       "    </tr>\n",
       "  </tbody>\n",
       "</table>\n",
       "</div>"
      ],
      "text/plain": [
       "      id              title      revenue    budget  is_collection  \\\n",
       "0    862          Toy Story  373554033.0  30000000              1   \n",
       "1   8844            Jumanji  262797249.0  65000000              0   \n",
       "2  31357  Waiting to Exhale   81452156.0  16000000              0   \n",
       "3    949               Heat  187436818.0  60000000              0   \n",
       "4   9091       Sudden Death   64350171.0  35000000              0   \n",
       "\n",
       "                             genres  runtime original_language  \\\n",
       "0       [Animation, Comedy, Family]     81.0                en   \n",
       "1      [Adventure, Fantasy, Family]    104.0                en   \n",
       "2          [Comedy, Drama, Romance]    127.0                en   \n",
       "3  [Action, Crime, Drama, Thriller]    170.0                en   \n",
       "4     [Action, Adventure, Thriller]    106.0                en   \n",
       "\n",
       "                     production_companies      production_countries  \\\n",
       "0                 Pixar Animation Studios  United States of America   \n",
       "1                        TriStar Pictures  United States of America   \n",
       "2  Twentieth Century Fox Film Corporation  United States of America   \n",
       "3                     Regency Enterprises  United States of America   \n",
       "4                      Universal Pictures  United States of America   \n",
       "\n",
       "                                                cast  votes_per_movie  \\\n",
       "0                [Tom Hanks, Tim Allen, Don Rickles]            66008   \n",
       "1     [Robin Williams, Jonathan Hyde, Kirsten Dunst]            26060   \n",
       "2  [Whitney Houston, Angela Bassett, Loretta Devine]             2981   \n",
       "3            [Al Pacino, Robert De Niro, Val Kilmer]            27895   \n",
       "4  [Jean-Claude Van Damme, Powers Boothe, Dorian ...             4423   \n",
       "\n",
       "   weighted_rating         director  month  year  is_adapted  is_YA  \n",
       "0         3.887294    John Lasseter     10  1995           0      0  \n",
       "1         3.236489     Joe Johnston     12  1995           1      0  \n",
       "2         2.879907  Forest Whitaker     12  1995           1      0  \n",
       "3         3.839837     Michael Mann     12  1995           0      0  \n",
       "4         3.009175      Peter Hyams     12  1995           0      0  "
      ]
     },
     "execution_count": 34,
     "metadata": {},
     "output_type": "execute_result"
    }
   ],
   "source": [
    "df.head()"
   ]
  },
  {
   "cell_type": "code",
   "execution_count": 35,
   "metadata": {},
   "outputs": [
    {
     "data": {
      "text/plain": [
       "['id',\n",
       " 'title',\n",
       " 'revenue',\n",
       " 'budget',\n",
       " 'is_collection',\n",
       " 'genres',\n",
       " 'runtime',\n",
       " 'original_language',\n",
       " 'production_companies',\n",
       " 'production_countries',\n",
       " 'cast',\n",
       " 'votes_per_movie',\n",
       " 'weighted_rating',\n",
       " 'director',\n",
       " 'month',\n",
       " 'year',\n",
       " 'is_adapted',\n",
       " 'is_YA']"
      ]
     },
     "execution_count": 35,
     "metadata": {},
     "output_type": "execute_result"
    }
   ],
   "source": [
    "list(df.columns)"
   ]
  },
  {
   "cell_type": "markdown",
   "metadata": {},
   "source": [
    "# Exploratory Data Analysis"
   ]
  },
  {
   "cell_type": "markdown",
   "metadata": {},
   "source": [
    "### What's the frequency distribution of weighted rating per movie?"
   ]
  },
  {
   "cell_type": "code",
   "execution_count": 36,
   "metadata": {},
   "outputs": [],
   "source": [
    "import statsmodels.api as sm\n",
    "import scipy "
   ]
  },
  {
   "cell_type": "code",
   "execution_count": 37,
   "metadata": {},
   "outputs": [
    {
     "data": {
      "text/plain": [
       "count    4519.000000\n",
       "mean        3.240089\n",
       "std         0.451340\n",
       "min         1.263068\n",
       "25%         2.946566\n",
       "50%         3.261715\n",
       "75%         3.565416\n",
       "max         4.427979\n",
       "Name: weighted_rating, dtype: float64"
      ]
     },
     "execution_count": 37,
     "metadata": {},
     "output_type": "execute_result"
    },
    {
     "data": {
      "image/png": "[encoded data removed]",
      "text/plain": [
       "<Figure size 432x288 with 1 Axes>"
      ]
     },
     "metadata": {
      "needs_background": "light"
     },
     "output_type": "display_data"
    }
   ],
   "source": [
    "# plot a histogram to show the frequency distribution of weighted rating per movie\n",
    "df['weighted_rating'].hist(bins=30, density = True) \n",
    "plt.title('Frequency Distribution of Movie Weighted Ratings')\n",
    "plt.xlabel('score interval')\n",
    "plt.ylabel('PDF')\n",
    "df.weighted_rating.describe()"
   ]
  },
  {
   "cell_type": "code",
   "execution_count": 38,
   "metadata": {},
   "outputs": [
    {
     "data": {
      "text/html": [
       "<div>\n",
       "<style scoped>\n",
       "    .dataframe tbody tr th:only-of-type {\n",
       "        vertical-align: middle;\n",
       "    }\n",
       "\n",
       "    .dataframe tbody tr th {\n",
       "        vertical-align: top;\n",
       "    }\n",
       "\n",
       "    .dataframe thead th {\n",
       "        text-align: right;\n",
       "    }\n",
       "</style>\n",
       "<table border=\"1\" class=\"dataframe\">\n",
       "  <thead>\n",
       "    <tr style=\"text-align: right;\">\n",
       "      <th></th>\n",
       "      <th>title</th>\n",
       "      <th>weighted_rating</th>\n",
       "      <th>votes_per_movie</th>\n",
       "    </tr>\n",
       "  </thead>\n",
       "  <tbody>\n",
       "    <tr>\n",
       "      <th>122</th>\n",
       "      <td>The Shawshank Redemption</td>\n",
       "      <td>4.427979</td>\n",
       "      <td>91082</td>\n",
       "    </tr>\n",
       "    <tr>\n",
       "      <th>278</th>\n",
       "      <td>The Godfather</td>\n",
       "      <td>4.338267</td>\n",
       "      <td>57070</td>\n",
       "    </tr>\n",
       "    <tr>\n",
       "      <th>27</th>\n",
       "      <td>The Usual Suspects</td>\n",
       "      <td>4.298748</td>\n",
       "      <td>59271</td>\n",
       "    </tr>\n",
       "    <tr>\n",
       "      <th>197</th>\n",
       "      <td>Schindler's List</td>\n",
       "      <td>4.265303</td>\n",
       "      <td>67662</td>\n",
       "    </tr>\n",
       "    <tr>\n",
       "      <th>412</th>\n",
       "      <td>The Godfather: Part II</td>\n",
       "      <td>4.261217</td>\n",
       "      <td>36679</td>\n",
       "    </tr>\n",
       "    <tr>\n",
       "      <th>717</th>\n",
       "      <td>Seven Samurai</td>\n",
       "      <td>4.249215</td>\n",
       "      <td>13994</td>\n",
       "    </tr>\n",
       "    <tr>\n",
       "      <th>1076</th>\n",
       "      <td>Fight Club</td>\n",
       "      <td>4.229373</td>\n",
       "      <td>60024</td>\n",
       "    </tr>\n",
       "    <tr>\n",
       "      <th>290</th>\n",
       "      <td>Rear Window</td>\n",
       "      <td>4.228776</td>\n",
       "      <td>21335</td>\n",
       "    </tr>\n",
       "    <tr>\n",
       "      <th>393</th>\n",
       "      <td>One Flew Over the Cuckoo's Nest</td>\n",
       "      <td>4.227129</td>\n",
       "      <td>40103</td>\n",
       "    </tr>\n",
       "    <tr>\n",
       "      <th>399</th>\n",
       "      <td>12 Angry Men</td>\n",
       "      <td>4.226449</td>\n",
       "      <td>16896</td>\n",
       "    </tr>\n",
       "  </tbody>\n",
       "</table>\n",
       "</div>"
      ],
      "text/plain": [
       "                                title  weighted_rating  votes_per_movie\n",
       "122          The Shawshank Redemption         4.427979            91082\n",
       "278                     The Godfather         4.338267            57070\n",
       "27                 The Usual Suspects         4.298748            59271\n",
       "197                  Schindler's List         4.265303            67662\n",
       "412            The Godfather: Part II         4.261217            36679\n",
       "717                     Seven Samurai         4.249215            13994\n",
       "1076                       Fight Club         4.229373            60024\n",
       "290                       Rear Window         4.228776            21335\n",
       "393   One Flew Over the Cuckoo's Nest         4.227129            40103\n",
       "399                      12 Angry Men         4.226449            16896"
      ]
     },
     "execution_count": 38,
     "metadata": {},
     "output_type": "execute_result"
    }
   ],
   "source": [
    "# Top 10 highly-scored movies\n",
    "df[['title','weighted_rating','votes_per_movie']].sort_values(by = 'weighted_rating', ascending=False)[:10]"
   ]
  },
  {
   "cell_type": "markdown",
   "metadata": {},
   "source": [
    "**Findings**\n",
    "1. The average rating per movie is normally distributed, with majority of movies score in the middle (between 3-3.5) and less receiving high score above 4 and low below 2."
   ]
  },
  {
   "cell_type": "markdown",
   "metadata": {},
   "source": [
    "### How many ratings a movie receive?"
   ]
  },
  {
   "cell_type": "code",
   "execution_count": 39,
   "metadata": {
    "scrolled": true
   },
   "outputs": [
    {
     "data": {
      "text/plain": [
       "count     4519.000000\n",
       "mean      4535.707679\n",
       "std       8355.165986\n",
       "min         69.000000\n",
       "25%        426.000000\n",
       "50%       1342.000000\n",
       "75%       4851.000000\n",
       "max      91921.000000\n",
       "Name: votes_per_movie, dtype: float64"
      ]
     },
     "execution_count": 39,
     "metadata": {},
     "output_type": "execute_result"
    },
    {
     "data": {
      "image/png": "[encoded data removed]",
      "text/plain": [
       "<Figure size 432x288 with 1 Axes>"
      ]
     },
     "metadata": {
      "needs_background": "light"
     },
     "output_type": "display_data"
    }
   ],
   "source": [
    "np.log(df.votes_per_movie).hist()\n",
    "plt.title('Frequency Distribution of Votes Per Movie')\n",
    "plt.xlabel('number of votes (log)')\n",
    "plt.ylabel('frequency (number of movies)')\n",
    "\n",
    "df.votes_per_movie.describe()"
   ]
  },
  {
   "cell_type": "code",
   "execution_count": 40,
   "metadata": {},
   "outputs": [
    {
     "data": {
      "text/plain": [
       "'Forrest Gump'"
      ]
     },
     "execution_count": 40,
     "metadata": {},
     "output_type": "execute_result"
    }
   ],
   "source": [
    "# Get the row of max value in votes_per_movie\n",
    "df.loc[df['votes_per_movie'].idxmax()]['title']"
   ]
  },
  {
   "cell_type": "markdown",
   "metadata": {},
   "source": [
    "**Findings**\n",
    "- The distribution of votes per movie is skewed to the right, with mean (4522) larger than median (1334). There are outliers with large number of votes observed, which in our case, is 'Forrest Gump'."
   ]
  },
  {
   "cell_type": "markdown",
   "metadata": {},
   "source": [
    "### Money Matters: Could higher budget guarantee more positive revenue or ratings?\n",
    "Budget as the key financing element that movie companies could decide in an early stage of a movie production. As the scatter plot showed that the movie budget has positive relationship with movie revenue. I'd like to also investigate whether high budget could also buy audience's preference."
   ]
  },
  {
   "cell_type": "code",
   "execution_count": 41,
   "metadata": {
    "scrolled": false
   },
   "outputs": [],
   "source": [
    "# Correct budget values\n",
    "def multiple_million(series):\n",
    "    if len(str(series)) < 3:\n",
    "        return series * 1000000\n",
    "    else:\n",
    "        return series\n",
    "df['budget'] = df['budget'].apply(multiple_million)\n",
    "df['revenue'] = df['revenue'].apply(multiple_million)\n",
    "\n",
    "# Only four data whose budget values don't make sense left,\n",
    "# I decided to manually check the info online and correct them accordingly\n",
    "df.iloc[1453,3] = 11300000\n",
    "df.iloc[4412,3] = 250000"
   ]
  },
  {
   "cell_type": "markdown",
   "metadata": {},
   "source": [
    "### Higher budget often leads to higher revenue"
   ]
  },
  {
   "cell_type": "code",
   "execution_count": 42,
   "metadata": {
    "scrolled": true
   },
   "outputs": [
    {
     "data": {
      "image/png": "[encoded data removed]",
      "text/plain": [
       "<Figure size 432x288 with 1 Axes>"
      ]
     },
     "metadata": {
      "needs_background": "light"
     },
     "output_type": "display_data"
    },
    {
     "name": "stdout",
     "output_type": "stream",
     "text": [
      "correlation:0.722, p-value0.000\n"
     ]
    }
   ],
   "source": [
    "# Plot the relationship between budget and revenue\n",
    "sns.scatterplot(x = 'budget', y = 'revenue', data = df, s = 15)\n",
    "plt.title('Relationship between budget and revenue')\n",
    "plt.xlabel('Budget')\n",
    "plt.ylabel('Revenue')\n",
    "\n",
    "# perform a linear regrssion using np.polyfit()\n",
    "slope, intercept = np.polyfit(df.budget, df.revenue, 1)\n",
    "# Make theoretical line to plot\n",
    "x = np.array([0, df.budget.max()])\n",
    "y = slope * x + intercept\n",
    "# add regression line\n",
    "ax = plt.plot(x,y,c='orange',linewidth=2)\n",
    "\n",
    "plt.show()\n",
    "\n",
    "# Calculate correlation value\n",
    "corr,p = scipy.stats.pearsonr(df.budget, df.revenue)\n",
    "print (\"correlation:%.3f, p-value%.3f\" %(corr,p))"
   ]
  },
  {
   "cell_type": "markdown",
   "metadata": {},
   "source": [
    "**Thought Process**\n",
    "\n",
    "The strong correlation between budget and revenue suggested that they are very similar features. I would only keep 'budget' column when fitting a model later."
   ]
  },
  {
   "cell_type": "code",
   "execution_count": 43,
   "metadata": {
    "scrolled": true
   },
   "outputs": [
    {
     "data": {
      "text/plain": [
       "count    4.322000e+03\n",
       "mean     3.687762e+07\n",
       "std      4.231321e+07\n",
       "min      1.000000e+06\n",
       "25%      9.000000e+06\n",
       "50%      2.200000e+07\n",
       "75%      5.000000e+07\n",
       "max      3.800000e+08\n",
       "Name: budget, dtype: float64"
      ]
     },
     "execution_count": 43,
     "metadata": {},
     "output_type": "execute_result"
    },
    {
     "data": {
      "image/png": "[encoded data removed]",
      "text/plain": [
       "<Figure size 432x288 with 1 Axes>"
      ]
     },
     "metadata": {
      "needs_background": "light"
     },
     "output_type": "display_data"
    }
   ],
   "source": [
    "df = df[df['budget'] >= 1000000]\n",
    "\n",
    "# log the budget value\n",
    "ax = np.log(df.budget).hist(bins=30) \n",
    "plt.title('Frequency Distribution of Budget')\n",
    "plt.xlabel('budget (log)')\n",
    "plt.ylabel('number of movies')\n",
    "\n",
    "df.budget.describe()"
   ]
  },
  {
   "cell_type": "markdown",
   "metadata": {},
   "source": [
    "### Movie budget doesn't align with the audience preference"
   ]
  },
  {
   "cell_type": "code",
   "execution_count": 44,
   "metadata": {},
   "outputs": [
    {
     "data": {
      "image/png": "[encoded data removed]",
      "text/plain": [
       "<Figure size 432x288 with 1 Axes>"
      ]
     },
     "metadata": {
      "needs_background": "light"
     },
     "output_type": "display_data"
    },
    {
     "name": "stdout",
     "output_type": "stream",
     "text": [
      "correlation:-0.167, p-value0.000\n"
     ]
    }
   ],
   "source": [
    "# plot the budget versus weighted rating\n",
    "ax = plt.plot(np.log(df.budget),df.weighted_rating, 'o', markersize = 2, alpha = 0.2)\n",
    "plt.title('Relationship between budget and rating')\n",
    "plt.xlabel('budget (log)')\n",
    "plt.ylabel('rating scale')\n",
    "\n",
    "# perform a linear regrssion using np.polyfit()\n",
    "slope, intercept = np.polyfit(np.log(df.budget), df.weighted_rating, 1)\n",
    "# make theoretical line to plot\n",
    "x = np.array([0, 20])\n",
    "y = slope * x + intercept\n",
    "# add regression line\n",
    "ax = plt.plot(x,y)\n",
    "\n",
    "plt.show()\n",
    "\n",
    "# calculate correlation value\n",
    "corr,p = scipy.stats.pearsonr(np.log(df.budget), df.weighted_rating)\n",
    "print (\"correlation:%.3f, p-value%.3f\" %(corr,p))"
   ]
  },
  {
   "cell_type": "markdown",
   "metadata": {},
   "source": [
    "### Production Sides: What's the influence of movie length and release timing  on ratings?"
   ]
  },
  {
   "cell_type": "markdown",
   "metadata": {},
   "source": [
    "### Longer story attract audience more"
   ]
  },
  {
   "cell_type": "code",
   "execution_count": 45,
   "metadata": {},
   "outputs": [
    {
     "data": {
      "image/png": "[encoded data removed]",
      "text/plain": [
       "<Figure size 432x288 with 1 Axes>"
      ]
     },
     "metadata": {
      "needs_background": "light"
     },
     "output_type": "display_data"
    },
    {
     "name": "stdout",
     "output_type": "stream",
     "text": [
      "correlation:0.379, p-value0.000\n"
     ]
    }
   ],
   "source": [
    "# plot the revenue versus weighted rating\n",
    "ax = plt.plot(df.runtime ,df.weighted_rating, 'o', markersize = 2, alpha = 0.2)\n",
    "plt.title('Relationship between runtime and rating')\n",
    "plt.xlabel('runtime (mins)')\n",
    "plt.ylabel('rating scale')\n",
    "\n",
    "# perform a linear regrssion using np.polyfit()\n",
    "slope, intercept = np.polyfit(df.runtime, df.weighted_rating, 1)\n",
    "# make theoretical line to plot\n",
    "x = np.array([0, 340])\n",
    "y = slope * x + intercept\n",
    "# add regression line\n",
    "ax = plt.plot(x,y)\n",
    "\n",
    "plt.show()\n",
    "\n",
    "# calculate correlation value\n",
    "corr,p = scipy.stats.pearsonr(df.runtime, df.weighted_rating)\n",
    "print (\"correlation:%.3f, p-value%.3f\" %(corr,p))\n",
    "# 95% confidence in the relationship between features"
   ]
  },
  {
   "cell_type": "markdown",
   "metadata": {},
   "source": [
    "### Timing seems to have less affect on movie ratings"
   ]
  },
  {
   "cell_type": "code",
   "execution_count": 46,
   "metadata": {
    "scrolled": false
   },
   "outputs": [
    {
     "data": {
      "text/plain": [
       "Text(0, 0.5, 'ratings')"
      ]
     },
     "execution_count": 46,
     "metadata": {},
     "output_type": "execute_result"
    },
    {
     "data": {
      "image/png": "[encoded data removed]",
      "text/plain": [
       "<Figure size 864x432 with 1 Axes>"
      ]
     },
     "metadata": {
      "needs_background": "light"
     },
     "output_type": "display_data"
    }
   ],
   "source": [
    "_ = plt.figure(figsize=(12,6))\n",
    "_ = sns.boxplot(x = 'month', y = 'weighted_rating', data = df,color = 'cornflowerblue',medianprops={'color':'gold'} )\n",
    "plt.title('Relationship between released month and ratings')\n",
    "plt.xlabel('month')\n",
    "plt.ylabel('ratings')"
   ]
  },
  {
   "cell_type": "code",
   "execution_count": 47,
   "metadata": {
    "scrolled": true
   },
   "outputs": [
    {
     "name": "stdout",
     "output_type": "stream",
     "text": [
      "correlation:-0.153, p-value0.000\n"
     ]
    },
    {
     "data": {
      "image/png": "[encoded data removed]",
      "text/plain": [
       "<Figure size 432x288 with 1 Axes>"
      ]
     },
     "metadata": {
      "needs_background": "light"
     },
     "output_type": "display_data"
    }
   ],
   "source": [
    "# plot the year versus weighted rating\n",
    "ax = plt.plot(df.year ,df.weighted_rating, 'o', markersize = 2, alpha = 0.2)\n",
    "plt.title('Relationship between year and rating')\n",
    "plt.xlabel('year')\n",
    "plt.ylabel('rating scale')\n",
    "\n",
    "# Calculate correlation value\n",
    "corr,p = scipy.stats.pearsonr(df.year ,df.weighted_rating)\n",
    "print (\"correlation:%.3f, p-value%.3f\" %(corr,p))"
   ]
  },
  {
   "cell_type": "markdown",
   "metadata": {},
   "source": [
    "**Thought Process**\n",
    "1. The above graphs fail to capture the relationship between timing (month and year) and movie rating clearly. I would perform statistical tests to do more precise evaluation."
   ]
  },
  {
   "cell_type": "markdown",
   "metadata": {},
   "source": [
    "### Production Sides: What's the influence of production sites and studio on ratings?"
   ]
  },
  {
   "cell_type": "code",
   "execution_count": 48,
   "metadata": {},
   "outputs": [
    {
     "data": {
      "text/plain": [
       "United States of America    2978\n",
       "United Kingdom               334\n",
       "Germany                      172\n",
       "France                       171\n",
       "Canada                       169\n",
       "Name: production_countries, dtype: int64"
      ]
     },
     "execution_count": 48,
     "metadata": {},
     "output_type": "execute_result"
    }
   ],
   "source": [
    "df['production_countries'].value_counts(ascending = False)[:5]"
   ]
  },
  {
   "cell_type": "code",
   "execution_count": 49,
   "metadata": {},
   "outputs": [],
   "source": [
    "# select the top 5 countries with the most productions\n",
    "top_countries = (df['production_countries'] == 'United States of America') | (df['production_countries']== 'United Kingdom') | (df['production_countries']== 'France') | (df['production_countries']== 'Germany')| (df['production_countries']== 'Canada')\n",
    "countries_to_plot = df[top_countries]"
   ]
  },
  {
   "cell_type": "markdown",
   "metadata": {},
   "source": [
    "#### Despite of being the movie-making capital, US's movies don't always get the highest rating score"
   ]
  },
  {
   "cell_type": "code",
   "execution_count": 50,
   "metadata": {},
   "outputs": [
    {
     "data": {
      "image/png": "[encoded data removed]",
      "text/plain": [
       "<Figure size 720x432 with 1 Axes>"
      ]
     },
     "metadata": {
      "needs_background": "light"
     },
     "output_type": "display_data"
    }
   ],
   "source": [
    "_ = plt.figure(figsize=(10,6))\n",
    "_ = sns.violinplot(x=\"production_countries\", y='weighted_rating', data = countries_to_plot, inner=None)\n",
    "_ = sns.swarmplot(x=\"production_countries\", y='weighted_rating', data = countries_to_plot, color=\"white\", edgecolor=\"gray\", size=2)"
   ]
  },
  {
   "cell_type": "markdown",
   "metadata": {},
   "source": [
    "**Thought Process**\n",
    "1. USA is the most dominant country. Its production numbers are way more than others and even nine times more than the second-ranking country, United Kingdom. \n",
    "2. Since the production numbers vary a lot. Only top 5 countries with the most productions are being considered when passing into the model."
   ]
  },
  {
   "cell_type": "markdown",
   "metadata": {},
   "source": [
    "### Studio size doesn't guarantee the movie rating \n",
    "Major film studios, known as 'Big Six', including Universal Pictures, Paramount Pictures,  Twentieth Century Fox Film Corporation, Warner Bros., Columbia Pictures, Walt Disney Pictures, contributed the most of movie productions in the industry. Yes, suprisinly, their movie raitngs don't seem to be higher than other studios."
   ]
  },
  {
   "cell_type": "code",
   "execution_count": 51,
   "metadata": {},
   "outputs": [],
   "source": [
    "# ignore missing observations and take only the 10 companies with the most productions\n",
    "companies = df[df['production_companies'].map(len) > 0]['production_companies'].value_counts()[:10]"
   ]
  },
  {
   "cell_type": "code",
   "execution_count": 52,
   "metadata": {
    "scrolled": false
   },
   "outputs": [
    {
     "data": {
      "text/plain": [
       "Universal Pictures                        316\n",
       "Paramount Pictures                        314\n",
       "Twentieth Century Fox Film Corporation    233\n",
       "Columbia Pictures                         203\n",
       "New Line Cinema                           159\n",
       "Walt Disney Pictures                      126\n",
       "Warner Bros.                              102\n",
       "Miramax Films                              83\n",
       "Columbia Pictures Corporation              79\n",
       "United Artists                             78\n",
       "Name: production_companies, dtype: int64"
      ]
     },
     "execution_count": 52,
     "metadata": {},
     "output_type": "execute_result"
    },
    {
     "data": {
      "image/png": "[encoded data removed]",
      "text/plain": [
       "<Figure size 432x288 with 1 Axes>"
      ]
     },
     "metadata": {
      "needs_background": "light"
     },
     "output_type": "display_data"
    }
   ],
   "source": [
    "companies.sort_values().plot.barh()\n",
    "plt.xlabel('number of movies')\n",
    "plt.ylabel('company name')\n",
    "plt.title('Most dominant movie companies ')\n",
    "companies.sort_values(ascending = False)"
   ]
  },
  {
   "cell_type": "code",
   "execution_count": 53,
   "metadata": {},
   "outputs": [],
   "source": [
    "def big_six(series):\n",
    "    big_six = ['Universal Pictures', 'Paramount Pictures', 'Twentieth Century Fox Film Corporation', 'Warner Bros.', 'Columbia Pictures', 'Walt Disney Pictures']\n",
    "    if series in big_six:\n",
    "        return 1\n",
    "    else:\n",
    "        return 0\n",
    "df['major_studio'] = df['production_companies'].apply(big_six)"
   ]
  },
  {
   "cell_type": "code",
   "execution_count": 54,
   "metadata": {},
   "outputs": [
    {
     "data": {
      "text/plain": [
       "<matplotlib.axes._subplots.AxesSubplot at 0x1a25821128>"
      ]
     },
     "execution_count": 54,
     "metadata": {},
     "output_type": "execute_result"
    },
    {
     "data": {
      "image/png": "[encoded data removed]",
      "text/plain": [
       "<Figure size 432x288 with 1 Axes>"
      ]
     },
     "metadata": {
      "needs_background": "light"
     },
     "output_type": "display_data"
    }
   ],
   "source": [
    "sns.boxplot(x = 'major_studio', y = 'weighted_rating', data = df)"
   ]
  },
  {
   "cell_type": "markdown",
   "metadata": {},
   "source": [
    "### Genre Popularity: What's the relationship between genres and ratings\n",
    "Based on the first chart showing that certain types of genres are more popular in terms of the production numbers, I would plot to check if the taste of movie companies aligned with the audience.\n",
    "\n",
    "Originally, there are 20 genre types in the dataset. After merging subgenres into 10 major genres:\n",
    "- `Drama`(Music/History)\n",
    "- `Comedy`\n",
    "- `Action`(War)\n",
    "- `Thriller`(Mystery/Crime)\n",
    "- `Adventure`(Western)\n",
    "- `Horror`\n",
    "- `Fantasy`(Science Fiction)\n",
    "- `Family`\n",
    "- `Animation`\n",
    "- `Documentary`\n",
    "\n",
    "*Note: TV Movie and Foreign are removed since both of them only have one data point"
   ]
  },
  {
   "cell_type": "code",
   "execution_count": 55,
   "metadata": {},
   "outputs": [],
   "source": [
    "# Merge movie subgenres into major genres\n",
    "\n",
    "def combine_genre(series):\n",
    "    \"\"\"Loop through the list of genres and replace the subgenres with the major types,\n",
    "    and deleter two minor genres: 'TV Movie' and 'Foreign'\n",
    "    \"\"\"\n",
    "    genre_dict = {'Music':'Drama','History':'Drama',\n",
    "              'War':'Action', \n",
    "              'Crime':'Thriller','Mystery':'Thriller',\n",
    "              'Western':'Adventure',\n",
    "              'Science Fiction':'Fantasy'}\n",
    "    try:\n",
    "        for i in range(len(series)):\n",
    "            if series[i] in genre_dict.keys():\n",
    "                series[i] = genre_dict[series[i]]\n",
    "            if series[i] == 'TV Movie':\n",
    "                series.remove('TV Movie')\n",
    "            if series[i] == 'Foreign':\n",
    "                series.remove('Foreign')\n",
    "    except IndexError:\n",
    "        pass\n",
    "    return list(set(series))\n",
    "\n",
    "df['genres'] = df['genres'].apply(combine_genre)"
   ]
  },
  {
   "cell_type": "code",
   "execution_count": 56,
   "metadata": {},
   "outputs": [],
   "source": [
    "# Reshape the genre columns to calculate their total production numbers\n",
    "\n",
    "# Separate the list of genre types from genres column\n",
    "genres_df = pd.concat([df['genres'].apply(pd.Series),df['id']],axis=1)\n",
    "# Keep all genre types within the same column\n",
    "genres_df = pd.melt(genres_df, id_vars='id',value_name='genre').drop(columns='variable').sort_values(by='id')\n",
    "genres_merge = pd.merge(genres_df,df[['weighted_rating','id']], on = 'id').sort_values(by=['id'])\n",
    "genres_merge = genres_merge[pd.notnull(genres_merge['genre'])]\n",
    "\n",
    "# Count the production number of each genre\n",
    "genre_count = pd.DataFrame(genres_merge.groupby('genre').count())\n",
    "genre_count.reset_index(inplace = True)\n",
    "genre_count.drop(columns = 'weighted_rating',inplace = True)\n",
    "genre_count.columns = ['genre','count']\n",
    "genre_count = genre_count.sort_values(by='count',ascending=True)"
   ]
  },
  {
   "cell_type": "markdown",
   "metadata": {},
   "source": [
    "#### Filmmakers produce more Thriller and Drame movies"
   ]
  },
  {
   "cell_type": "code",
   "execution_count": 57,
   "metadata": {
    "scrolled": true
   },
   "outputs": [
    {
     "data": {
      "image/png": "[encoded data removed]",
      "text/plain": [
       "<Figure size 432x288 with 1 Axes>"
      ]
     },
     "metadata": {
      "needs_background": "light"
     },
     "output_type": "display_data"
    }
   ],
   "source": [
    "# Plot total number of movies vs genre\n",
    "genre_count.plot.barh(x = 'genre', y = 'count')\n",
    "plt.xlabel('Number of movies')\n",
    "plt.ylabel('Genre')\n",
    "plt.title('Number of Movies by Genre')\n",
    "\n",
    "plt.show()"
   ]
  },
  {
   "cell_type": "markdown",
   "metadata": {},
   "source": [
    "#### Thriller and Drama are easier to get high positive scores"
   ]
  },
  {
   "cell_type": "code",
   "execution_count": 58,
   "metadata": {
    "scrolled": true
   },
   "outputs": [
    {
     "data": {
      "image/png": "[encoded data removed]",
      "text/plain": [
       "<Figure size 720x360 with 1 Axes>"
      ]
     },
     "metadata": {
      "needs_background": "light"
     },
     "output_type": "display_data"
    }
   ],
   "source": [
    "_ = plt.figure(figsize=(10,5))\n",
    "_ = sns.boxplot(x = 'genre', y = 'weighted_rating', data = genres_merge,color = 'cornflowerblue',medianprops={'color':'gold'} )"
   ]
  },
  {
   "cell_type": "code",
   "execution_count": 59,
   "metadata": {
    "scrolled": true
   },
   "outputs": [
    {
     "data": {
      "text/plain": [
       "<matplotlib.axes._subplots.AxesSubplot at 0x1a3b598898>"
      ]
     },
     "execution_count": 59,
     "metadata": {},
     "output_type": "execute_result"
    },
    {
     "data": {
      "image/png": "[encoded data removed]",
      "text/plain": [
       "<Figure size 432x288 with 1 Axes>"
      ]
     },
     "metadata": {
      "needs_background": "light"
     },
     "output_type": "display_data"
    }
   ],
   "source": [
    "sns.boxplot(x = 'is_adapted', y = 'weighted_rating', data = df)"
   ]
  },
  {
   "cell_type": "code",
   "execution_count": 60,
   "metadata": {
    "scrolled": true
   },
   "outputs": [
    {
     "data": {
      "text/plain": [
       "<matplotlib.axes._subplots.AxesSubplot at 0x1a2561e898>"
      ]
     },
     "execution_count": 60,
     "metadata": {},
     "output_type": "execute_result"
    },
    {
     "data": {
      "image/png": "[encoded data removed]",
      "text/plain": [
       "<Figure size 432x288 with 1 Axes>"
      ]
     },
     "metadata": {
      "needs_background": "light"
     },
     "output_type": "display_data"
    }
   ],
   "source": [
    "sns.boxplot(x = 'is_YA', y = 'weighted_rating', data = df)"
   ]
  },
  {
   "cell_type": "code",
   "execution_count": 61,
   "metadata": {
    "scrolled": true
   },
   "outputs": [
    {
     "data": {
      "text/plain": [
       "<matplotlib.axes._subplots.AxesSubplot at 0x1a2c4319e8>"
      ]
     },
     "execution_count": 61,
     "metadata": {},
     "output_type": "execute_result"
    },
    {
     "data": {
      "image/png": "[encoded data removed]",
      "text/plain": [
       "<Figure size 432x288 with 1 Axes>"
      ]
     },
     "metadata": {
      "needs_background": "light"
     },
     "output_type": "display_data"
    }
   ],
   "source": [
    "sns.boxplot(x = 'is_collection', y = 'weighted_rating', data = df)"
   ]
  },
  {
   "cell_type": "markdown",
   "metadata": {},
   "source": [
    "## Correlation Matrix"
   ]
  },
  {
   "cell_type": "code",
   "execution_count": 62,
   "metadata": {},
   "outputs": [
    {
     "data": {
      "text/plain": [
       "Index(['id', 'title', 'revenue', 'budget', 'is_collection', 'genres',\n",
       "       'runtime', 'original_language', 'production_companies',\n",
       "       'production_countries', 'cast', 'votes_per_movie', 'weighted_rating',\n",
       "       'director', 'month', 'year', 'is_adapted', 'is_YA', 'major_studio'],\n",
       "      dtype='object')"
      ]
     },
     "execution_count": 62,
     "metadata": {},
     "output_type": "execute_result"
    }
   ],
   "source": [
    "df.columns"
   ]
  },
  {
   "cell_type": "code",
   "execution_count": 63,
   "metadata": {},
   "outputs": [
    {
     "data": {
      "text/plain": [
       "<matplotlib.axes._subplots.AxesSubplot at 0x1a2c415a58>"
      ]
     },
     "execution_count": 63,
     "metadata": {},
     "output_type": "execute_result"
    },
    {
     "data": {
      "image/png": "[encoded data removed]",
      "text/plain": [
       "<Figure size 720x432 with 2 Axes>"
      ]
     },
     "metadata": {
      "needs_background": "light"
     },
     "output_type": "display_data"
    }
   ],
   "source": [
    "# select numerical variable\n",
    "df_numeric = df[['weighted_rating','budget','is_collection','is_YA','is_adapted','runtime','month','year','major_studio']]\n",
    "\n",
    "# plot coorelation matrix\n",
    "k = 9 #number of variables for heatmap\n",
    "cols = df_numeric.corr().nlargest(k, 'weighted_rating')['weighted_rating'].index\n",
    "cm = df_numeric[cols].corr()\n",
    "plt.figure(figsize=(10,6))\n",
    "sns.heatmap(cm, annot=True, cmap = 'viridis')"
   ]
  },
  {
   "cell_type": "markdown",
   "metadata": {},
   "source": [
    "If the Pearson correlation values are higher than 80, it suggests that the two input features are considered as highly-corelated features, and one should be removed. Yet, in my case, there no such situation observed."
   ]
  },
  {
   "cell_type": "markdown",
   "metadata": {},
   "source": [
    "# Statistical Tests\n",
    "I used hypothesis tests on 'month' and 'year', both variables related to movie release timing, to examine which one has the real influence on movie scores.\n",
    "\n",
    "\n",
    "ANOVA test would be used for examining 'month', while two-sample t-test would be used for 'year'. The key assumption behind both hypothesis tests is that the data should be normally distributed. "
   ]
  },
  {
   "cell_type": "markdown",
   "metadata": {},
   "source": [
    "### Examine if the data is normally distributed"
   ]
  },
  {
   "cell_type": "code",
   "execution_count": 64,
   "metadata": {
    "scrolled": true
   },
   "outputs": [
    {
     "data": {
      "image/png": "[encoded data removed]",
      "text/plain": [
       "<Figure size 432x288 with 1 Axes>"
      ]
     },
     "metadata": {
      "needs_background": "light"
     },
     "output_type": "display_data"
    }
   ],
   "source": [
    "# Overlay the theoretical CDF of normal distribution with the empirical CDF of the real data\n",
    "# to verify that the normal distribution describes the observed data\n",
    "\n",
    "def ecdf(data):\n",
    "    \"\"\"Comput ECDF for a one-dimensiona array of measurements.\n",
    "    \"\"\"\n",
    "    # Number of data points: n\n",
    "    n = len(data)\n",
    "    # x-data for the ECDF: x\n",
    "    x = np.sort(data)\n",
    "    # y-data for the ECDF: y\n",
    "    y = np.arange(1, n+1) / n\n",
    "    \n",
    "    return x, y\n",
    "\n",
    "# Generate 50 bootstrape samples for normal distribution\n",
    "for i in range(50):\n",
    "    bs_sample = np.random.choice(df['weighted_rating'], size = len(df['weighted_rating']))\n",
    "    # Plot a ECDF for each sample\n",
    "    x, y = ecdf(bs_sample)\n",
    "    _ = plt.plot(x, y, marker = '.',linestyle = 'none', c = 'darkblue', markersize = 0.5 )\n",
    "\n",
    "    \n",
    "# Plot ECDF for the original data\n",
    "x, y = ecdf(df['weighted_rating'])\n",
    "_ = plt.plot(x, y, marker = '.', linestyle = 'none',  c = 'gold', markersize = 0.5)\n",
    "\n",
    "_ = plt.xlabel('Weighted Ratings')\n",
    "_ = plt.ylabel('ECDF')\n",
    "\n",
    "plt.show()"
   ]
  },
  {
   "cell_type": "markdown",
   "metadata": {},
   "source": [
    "The CDF of a normal distribution computed from bootstrap samples overlay with the empirical CDF computed from real observations. It verifies the data of weighted_ratings is normally distributed, and meets the normality condition of hypothesis test."
   ]
  },
  {
   "cell_type": "markdown",
   "metadata": {},
   "source": [
    "#### Using ANOVA-Test to examine if movie scores differ among month\n",
    "- Stating hypothesis\n",
    "    - H0: The mean of weighted ratings are the same among movies released in 12 months.\n",
    "    - H1: The mean of weighted ratings are different among movies released in 12 months.\n",
    "- Deciding significance level\n",
    "    - The significance level (α) is 0.05."
   ]
  },
  {
   "cell_type": "code",
   "execution_count": 65,
   "metadata": {},
   "outputs": [
    {
     "data": {
      "text/html": [
       "<div>\n",
       "<style scoped>\n",
       "    .dataframe tbody tr th:only-of-type {\n",
       "        vertical-align: middle;\n",
       "    }\n",
       "\n",
       "    .dataframe tbody tr th {\n",
       "        vertical-align: top;\n",
       "    }\n",
       "\n",
       "    .dataframe thead th {\n",
       "        text-align: right;\n",
       "    }\n",
       "</style>\n",
       "<table border=\"1\" class=\"dataframe\">\n",
       "  <thead>\n",
       "    <tr style=\"text-align: right;\">\n",
       "      <th></th>\n",
       "      <th>id</th>\n",
       "      <th>title</th>\n",
       "      <th>revenue</th>\n",
       "      <th>budget</th>\n",
       "      <th>is_collection</th>\n",
       "      <th>genres</th>\n",
       "      <th>runtime</th>\n",
       "      <th>original_language</th>\n",
       "      <th>production_companies</th>\n",
       "      <th>production_countries</th>\n",
       "      <th>...</th>\n",
       "      <th>Apr</th>\n",
       "      <th>May</th>\n",
       "      <th>Jun</th>\n",
       "      <th>Jul</th>\n",
       "      <th>Aug</th>\n",
       "      <th>Sep</th>\n",
       "      <th>Oct</th>\n",
       "      <th>Nov</th>\n",
       "      <th>Dec</th>\n",
       "      <th>intercept</th>\n",
       "    </tr>\n",
       "  </thead>\n",
       "  <tbody>\n",
       "    <tr>\n",
       "      <th>0</th>\n",
       "      <td>862</td>\n",
       "      <td>Toy Story</td>\n",
       "      <td>373554033.0</td>\n",
       "      <td>30000000</td>\n",
       "      <td>1</td>\n",
       "      <td>[Comedy, Animation, Family]</td>\n",
       "      <td>81.0</td>\n",
       "      <td>en</td>\n",
       "      <td>Pixar Animation Studios</td>\n",
       "      <td>United States of America</td>\n",
       "      <td>...</td>\n",
       "      <td>0</td>\n",
       "      <td>0</td>\n",
       "      <td>0</td>\n",
       "      <td>0</td>\n",
       "      <td>0</td>\n",
       "      <td>0</td>\n",
       "      <td>1</td>\n",
       "      <td>0</td>\n",
       "      <td>0</td>\n",
       "      <td>1</td>\n",
       "    </tr>\n",
       "    <tr>\n",
       "      <th>1</th>\n",
       "      <td>8844</td>\n",
       "      <td>Jumanji</td>\n",
       "      <td>262797249.0</td>\n",
       "      <td>65000000</td>\n",
       "      <td>0</td>\n",
       "      <td>[Fantasy, Adventure, Family]</td>\n",
       "      <td>104.0</td>\n",
       "      <td>en</td>\n",
       "      <td>TriStar Pictures</td>\n",
       "      <td>United States of America</td>\n",
       "      <td>...</td>\n",
       "      <td>0</td>\n",
       "      <td>0</td>\n",
       "      <td>0</td>\n",
       "      <td>0</td>\n",
       "      <td>0</td>\n",
       "      <td>0</td>\n",
       "      <td>0</td>\n",
       "      <td>0</td>\n",
       "      <td>1</td>\n",
       "      <td>1</td>\n",
       "    </tr>\n",
       "    <tr>\n",
       "      <th>2</th>\n",
       "      <td>31357</td>\n",
       "      <td>Waiting to Exhale</td>\n",
       "      <td>81452156.0</td>\n",
       "      <td>16000000</td>\n",
       "      <td>0</td>\n",
       "      <td>[Romance, Comedy, Drama]</td>\n",
       "      <td>127.0</td>\n",
       "      <td>en</td>\n",
       "      <td>Twentieth Century Fox Film Corporation</td>\n",
       "      <td>United States of America</td>\n",
       "      <td>...</td>\n",
       "      <td>0</td>\n",
       "      <td>0</td>\n",
       "      <td>0</td>\n",
       "      <td>0</td>\n",
       "      <td>0</td>\n",
       "      <td>0</td>\n",
       "      <td>0</td>\n",
       "      <td>0</td>\n",
       "      <td>1</td>\n",
       "      <td>1</td>\n",
       "    </tr>\n",
       "    <tr>\n",
       "      <th>3</th>\n",
       "      <td>949</td>\n",
       "      <td>Heat</td>\n",
       "      <td>187436818.0</td>\n",
       "      <td>60000000</td>\n",
       "      <td>0</td>\n",
       "      <td>[Thriller, Drama, Action]</td>\n",
       "      <td>170.0</td>\n",
       "      <td>en</td>\n",
       "      <td>Regency Enterprises</td>\n",
       "      <td>United States of America</td>\n",
       "      <td>...</td>\n",
       "      <td>0</td>\n",
       "      <td>0</td>\n",
       "      <td>0</td>\n",
       "      <td>0</td>\n",
       "      <td>0</td>\n",
       "      <td>0</td>\n",
       "      <td>0</td>\n",
       "      <td>0</td>\n",
       "      <td>1</td>\n",
       "      <td>1</td>\n",
       "    </tr>\n",
       "    <tr>\n",
       "      <th>4</th>\n",
       "      <td>9091</td>\n",
       "      <td>Sudden Death</td>\n",
       "      <td>64350171.0</td>\n",
       "      <td>35000000</td>\n",
       "      <td>0</td>\n",
       "      <td>[Thriller, Adventure, Action]</td>\n",
       "      <td>106.0</td>\n",
       "      <td>en</td>\n",
       "      <td>Universal Pictures</td>\n",
       "      <td>United States of America</td>\n",
       "      <td>...</td>\n",
       "      <td>0</td>\n",
       "      <td>0</td>\n",
       "      <td>0</td>\n",
       "      <td>0</td>\n",
       "      <td>0</td>\n",
       "      <td>0</td>\n",
       "      <td>0</td>\n",
       "      <td>0</td>\n",
       "      <td>1</td>\n",
       "      <td>1</td>\n",
       "    </tr>\n",
       "  </tbody>\n",
       "</table>\n",
       "<p>5 rows × 32 columns</p>\n",
       "</div>"
      ],
      "text/plain": [
       "      id              title      revenue    budget  is_collection  \\\n",
       "0    862          Toy Story  373554033.0  30000000              1   \n",
       "1   8844            Jumanji  262797249.0  65000000              0   \n",
       "2  31357  Waiting to Exhale   81452156.0  16000000              0   \n",
       "3    949               Heat  187436818.0  60000000              0   \n",
       "4   9091       Sudden Death   64350171.0  35000000              0   \n",
       "\n",
       "                          genres  runtime original_language  \\\n",
       "0    [Comedy, Animation, Family]     81.0                en   \n",
       "1   [Fantasy, Adventure, Family]    104.0                en   \n",
       "2       [Romance, Comedy, Drama]    127.0                en   \n",
       "3      [Thriller, Drama, Action]    170.0                en   \n",
       "4  [Thriller, Adventure, Action]    106.0                en   \n",
       "\n",
       "                     production_companies      production_countries  ... Apr  \\\n",
       "0                 Pixar Animation Studios  United States of America  ...   0   \n",
       "1                        TriStar Pictures  United States of America  ...   0   \n",
       "2  Twentieth Century Fox Film Corporation  United States of America  ...   0   \n",
       "3                     Regency Enterprises  United States of America  ...   0   \n",
       "4                      Universal Pictures  United States of America  ...   0   \n",
       "\n",
       "   May  Jun Jul  Aug  Sep  Oct  Nov  Dec  intercept  \n",
       "0    0    0   0    0    0    1    0    0          1  \n",
       "1    0    0   0    0    0    0    0    1          1  \n",
       "2    0    0   0    0    0    0    0    1          1  \n",
       "3    0    0   0    0    0    0    0    1          1  \n",
       "4    0    0   0    0    0    0    0    1          1  \n",
       "\n",
       "[5 rows x 32 columns]"
      ]
     },
     "execution_count": 65,
     "metadata": {},
     "output_type": "execute_result"
    }
   ],
   "source": [
    "# dummy-encoding\n",
    "df_new = df\n",
    "df_new[['Jan','Feb','Mar','Apr','May','Jun','Jul','Aug','Sep','Oct','Nov','Dec']] = pd.get_dummies(df['month'])[[1,2,3,4,5,6,7,8,9,10,11,12]]\n",
    "df_new['intercept'] = 1\n",
    "df_new.head()"
   ]
  },
  {
   "cell_type": "code",
   "execution_count": 66,
   "metadata": {},
   "outputs": [
    {
     "data": {
      "text/html": [
       "<table class=\"simpletable\">\n",
       "<caption>OLS Regression Results</caption>\n",
       "<tr>\n",
       "  <th>Dep. Variable:</th>     <td>weighted_rating</td> <th>  R-squared:         </th> <td>   0.026</td>\n",
       "</tr>\n",
       "<tr>\n",
       "  <th>Model:</th>                   <td>OLS</td>       <th>  Adj. R-squared:    </th> <td>   0.024</td>\n",
       "</tr>\n",
       "<tr>\n",
       "  <th>Method:</th>             <td>Least Squares</td>  <th>  F-statistic:       </th> <td>   10.63</td>\n",
       "</tr>\n",
       "<tr>\n",
       "  <th>Date:</th>             <td>Thu, 07 Nov 2019</td> <th>  Prob (F-statistic):</th> <td>1.44e-19</td>\n",
       "</tr>\n",
       "<tr>\n",
       "  <th>Time:</th>                 <td>15:50:53</td>     <th>  Log-Likelihood:    </th> <td> -2627.9</td>\n",
       "</tr>\n",
       "<tr>\n",
       "  <th>No. Observations:</th>      <td>  4322</td>      <th>  AIC:               </th> <td>   5280.</td>\n",
       "</tr>\n",
       "<tr>\n",
       "  <th>Df Residuals:</th>          <td>  4310</td>      <th>  BIC:               </th> <td>   5356.</td>\n",
       "</tr>\n",
       "<tr>\n",
       "  <th>Df Model:</th>              <td>    11</td>      <th>                     </th>     <td> </td>   \n",
       "</tr>\n",
       "<tr>\n",
       "  <th>Covariance Type:</th>      <td>nonrobust</td>    <th>                     </th>     <td> </td>   \n",
       "</tr>\n",
       "</table>\n",
       "<table class=\"simpletable\">\n",
       "<tr>\n",
       "      <td></td>         <th>coef</th>     <th>std err</th>      <th>t</th>      <th>P>|t|</th>  <th>[0.025</th>    <th>0.975]</th>  \n",
       "</tr>\n",
       "<tr>\n",
       "  <th>intercept</th> <td>    2.9716</td> <td>    0.006</td> <td>  467.229</td> <td> 0.000</td> <td>    2.959</td> <td>    2.984</td>\n",
       "</tr>\n",
       "<tr>\n",
       "  <th>Jan</th>       <td>    0.1703</td> <td>    0.027</td> <td>    6.364</td> <td> 0.000</td> <td>    0.118</td> <td>    0.223</td>\n",
       "</tr>\n",
       "<tr>\n",
       "  <th>Feb</th>       <td>    0.1857</td> <td>    0.025</td> <td>    7.550</td> <td> 0.000</td> <td>    0.137</td> <td>    0.234</td>\n",
       "</tr>\n",
       "<tr>\n",
       "  <th>Mar</th>       <td>    0.2013</td> <td>    0.024</td> <td>    8.534</td> <td> 0.000</td> <td>    0.155</td> <td>    0.247</td>\n",
       "</tr>\n",
       "<tr>\n",
       "  <th>Apr</th>       <td>    0.2071</td> <td>    0.024</td> <td>    8.515</td> <td> 0.000</td> <td>    0.159</td> <td>    0.255</td>\n",
       "</tr>\n",
       "<tr>\n",
       "  <th>May</th>       <td>    0.3056</td> <td>    0.023</td> <td>   13.085</td> <td> 0.000</td> <td>    0.260</td> <td>    0.351</td>\n",
       "</tr>\n",
       "<tr>\n",
       "  <th>Jun</th>       <td>    0.2303</td> <td>    0.022</td> <td>   10.430</td> <td> 0.000</td> <td>    0.187</td> <td>    0.274</td>\n",
       "</tr>\n",
       "<tr>\n",
       "  <th>Jul</th>       <td>    0.2047</td> <td>    0.023</td> <td>    9.006</td> <td> 0.000</td> <td>    0.160</td> <td>    0.249</td>\n",
       "</tr>\n",
       "<tr>\n",
       "  <th>Aug</th>       <td>    0.1704</td> <td>    0.022</td> <td>    7.710</td> <td> 0.000</td> <td>    0.127</td> <td>    0.214</td>\n",
       "</tr>\n",
       "<tr>\n",
       "  <th>Sep</th>       <td>    0.3521</td> <td>    0.019</td> <td>   18.136</td> <td> 0.000</td> <td>    0.314</td> <td>    0.390</td>\n",
       "</tr>\n",
       "<tr>\n",
       "  <th>Oct</th>       <td>    0.2753</td> <td>    0.021</td> <td>   12.830</td> <td> 0.000</td> <td>    0.233</td> <td>    0.317</td>\n",
       "</tr>\n",
       "<tr>\n",
       "  <th>Nov</th>       <td>    0.2793</td> <td>    0.023</td> <td>   12.076</td> <td> 0.000</td> <td>    0.234</td> <td>    0.325</td>\n",
       "</tr>\n",
       "<tr>\n",
       "  <th>Dec</th>       <td>    0.3895</td> <td>    0.020</td> <td>   19.713</td> <td> 0.000</td> <td>    0.351</td> <td>    0.428</td>\n",
       "</tr>\n",
       "</table>\n",
       "<table class=\"simpletable\">\n",
       "<tr>\n",
       "  <th>Omnibus:</th>       <td>108.543</td> <th>  Durbin-Watson:     </th> <td>   1.705</td>\n",
       "</tr>\n",
       "<tr>\n",
       "  <th>Prob(Omnibus):</th> <td> 0.000</td>  <th>  Jarque-Bera (JB):  </th> <td> 117.001</td>\n",
       "</tr>\n",
       "<tr>\n",
       "  <th>Skew:</th>          <td>-0.384</td>  <th>  Prob(JB):          </th> <td>3.92e-26</td>\n",
       "</tr>\n",
       "<tr>\n",
       "  <th>Kurtosis:</th>      <td> 3.245</td>  <th>  Cond. No.          </th> <td>2.78e+15</td>\n",
       "</tr>\n",
       "</table><br/><br/>Warnings:<br/>[1] Standard Errors assume that the covariance matrix of the errors is correctly specified.<br/>[2] The smallest eigenvalue is 6.09e-28. This might indicate that there are<br/>strong multicollinearity problems or that the design matrix is singular."
      ],
      "text/plain": [
       "<class 'statsmodels.iolib.summary.Summary'>\n",
       "\"\"\"\n",
       "                            OLS Regression Results                            \n",
       "==============================================================================\n",
       "Dep. Variable:        weighted_rating   R-squared:                       0.026\n",
       "Model:                            OLS   Adj. R-squared:                  0.024\n",
       "Method:                 Least Squares   F-statistic:                     10.63\n",
       "Date:                Thu, 07 Nov 2019   Prob (F-statistic):           1.44e-19\n",
       "Time:                        15:50:53   Log-Likelihood:                -2627.9\n",
       "No. Observations:                4322   AIC:                             5280.\n",
       "Df Residuals:                    4310   BIC:                             5356.\n",
       "Df Model:                          11                                         \n",
       "Covariance Type:            nonrobust                                         \n",
       "==============================================================================\n",
       "                 coef    std err          t      P>|t|      [0.025      0.975]\n",
       "------------------------------------------------------------------------------\n",
       "intercept      2.9716      0.006    467.229      0.000       2.959       2.984\n",
       "Jan            0.1703      0.027      6.364      0.000       0.118       0.223\n",
       "Feb            0.1857      0.025      7.550      0.000       0.137       0.234\n",
       "Mar            0.2013      0.024      8.534      0.000       0.155       0.247\n",
       "Apr            0.2071      0.024      8.515      0.000       0.159       0.255\n",
       "May            0.3056      0.023     13.085      0.000       0.260       0.351\n",
       "Jun            0.2303      0.022     10.430      0.000       0.187       0.274\n",
       "Jul            0.2047      0.023      9.006      0.000       0.160       0.249\n",
       "Aug            0.1704      0.022      7.710      0.000       0.127       0.214\n",
       "Sep            0.3521      0.019     18.136      0.000       0.314       0.390\n",
       "Oct            0.2753      0.021     12.830      0.000       0.233       0.317\n",
       "Nov            0.2793      0.023     12.076      0.000       0.234       0.325\n",
       "Dec            0.3895      0.020     19.713      0.000       0.351       0.428\n",
       "==============================================================================\n",
       "Omnibus:                      108.543   Durbin-Watson:                   1.705\n",
       "Prob(Omnibus):                  0.000   Jarque-Bera (JB):              117.001\n",
       "Skew:                          -0.384   Prob(JB):                     3.92e-26\n",
       "Kurtosis:                       3.245   Cond. No.                     2.78e+15\n",
       "==============================================================================\n",
       "\n",
       "Warnings:\n",
       "[1] Standard Errors assume that the covariance matrix of the errors is correctly specified.\n",
       "[2] The smallest eigenvalue is 6.09e-28. This might indicate that there are\n",
       "strong multicollinearity problems or that the design matrix is singular.\n",
       "\"\"\""
      ]
     },
     "execution_count": 66,
     "metadata": {},
     "output_type": "execute_result"
    }
   ],
   "source": [
    "# import module\n",
    "import statsmodels.api as sm\n",
    "\n",
    "# fit and summarize OLS model\n",
    "mod = sm.OLS(df_new['weighted_rating'], df_new[['intercept','Jan','Feb','Mar','Apr','May','Jun','Jul','Aug','Sep','Oct','Nov','Dec']])\n",
    "results = mod.fit()\n",
    "\n",
    "results.summary()"
   ]
  },
  {
   "cell_type": "markdown",
   "metadata": {},
   "source": [
    "**Thought Process**: \n",
    "\n",
    "P-value(P >|t|) is less than the alpha value. Null hypothesis is rejected. There's statistically significant difference in scores between movies released in different months. Thus, we will pass the variable 'month' to the prediction machine since it might affect how people scores the movies."
   ]
  },
  {
   "cell_type": "markdown",
   "metadata": {},
   "source": [
    "#### Using t-test to examine if movie scores differ among years\n",
    "Assuming that movies in the different periouds should receive different scores, we select two samples, one with movies released in the earlies and latest five years to perform independent t-test.\n",
    "\n",
    "- Stating hypothesis\n",
    "    - H0: The mean of weighted ratings are the **same** for two samples.\n",
    "    - HA: The mean of weighted ratings are **different** for two samples.\n",
    "- Deciding significance level\n",
    "    - The significance level (α) is 0.05."
   ]
  },
  {
   "cell_type": "code",
   "execution_count": 67,
   "metadata": {},
   "outputs": [
    {
     "name": "stdout",
     "output_type": "stream",
     "text": [
      "statistics=-2.501 , p=0.012\n",
      "Reject the null hypothesis that the means are equal.\n"
     ]
    }
   ],
   "source": [
    "# sampling\n",
    "previous_5_year = df[df['year'] > 1914 & (df['year'] < 1920)]['weighted_rating']\n",
    "last_5_year = df[(df['year'] > 2012) & (df['year'] <= 2017)]['weighted_rating']\n",
    "\n",
    "# independent t-test\n",
    "from scipy import stats\n",
    "t_stat, p = stats.ttest_ind(previous_5_year, last_5_year)\n",
    "print ('statistics=%.3f , p=%.3f' %(t_stat,p))\n",
    "\n",
    "# interpret via p-vaule\n",
    "alpha = 0.05\n",
    "if p > alpha:\n",
    "    print('Accept null hypothesis that the means are equal.')\n",
    "else:\n",
    "    print('Reject the null hypothesis that the means are equal.')"
   ]
  },
  {
   "cell_type": "markdown",
   "metadata": {},
   "source": [
    "**Thought Process**:\n",
    "\n",
    "With p-value larger than alpha value, null hypothesis fails to be rejected. No statistically significant difference in scores between movies released in different years. Because the variable 'year' might be a less useful factor to predict movie scores, we dedcide to drop it."
   ]
  },
  {
   "cell_type": "markdown",
   "metadata": {},
   "source": [
    "# Feature Engineering\n",
    "## Dummy Encoding\n",
    "Before feeding the data into prediction models, we need to drop text variables that don't fit to our project scope and convert categorical variables to numerical with dummy encoding. "
   ]
  },
  {
   "cell_type": "code",
   "execution_count": 68,
   "metadata": {
    "scrolled": true
   },
   "outputs": [
    {
     "data": {
      "text/plain": [
       "Index(['id', 'title', 'revenue', 'budget', 'is_collection', 'genres',\n",
       "       'runtime', 'original_language', 'production_companies',\n",
       "       'production_countries', 'cast', 'votes_per_movie', 'weighted_rating',\n",
       "       'director', 'month', 'year', 'is_adapted', 'is_YA', 'major_studio',\n",
       "       'Jan', 'Feb', 'Mar', 'Apr', 'May', 'Jun', 'Jul', 'Aug', 'Sep', 'Oct',\n",
       "       'Nov', 'Dec', 'intercept'],\n",
       "      dtype='object')"
      ]
     },
     "execution_count": 68,
     "metadata": {},
     "output_type": "execute_result"
    }
   ],
   "source": [
    "df.columns"
   ]
  },
  {
   "cell_type": "code",
   "execution_count": 69,
   "metadata": {},
   "outputs": [],
   "source": [
    "# only keep variables that will be fed into the model\n",
    "df_2 = df[['budget', 'is_collection', 'genres',\n",
    "       'runtime', 'original_language',\n",
    "       'production_countries', 'cast', 'votes_per_movie', 'weighted_rating',\n",
    "       'director', 'month', 'is_adapted', 'is_YA', 'major_studio']]"
   ]
  },
  {
   "cell_type": "code",
   "execution_count": 70,
   "metadata": {},
   "outputs": [
    {
     "name": "stderr",
     "output_type": "stream",
     "text": [
      "/anaconda3/lib/python3.7/site-packages/pandas/core/indexing.py:543: SettingWithCopyWarning: \n",
      "A value is trying to be set on a copy of a slice from a DataFrame.\n",
      "Try using .loc[row_indexer,col_indexer] = value instead\n",
      "\n",
      "See the caveats in the documentation: http://pandas.pydata.org/pandas-docs/stable/indexing.html#indexing-view-versus-copy\n",
      "  self.obj[item] = s\n"
     ]
    }
   ],
   "source": [
    "# for the column 'director', 'production_companies', 'production_countries', 'original_language'\n",
    "# convert the values with less occurence to 'Others'\n",
    "def convert_to_others(df, col, x, num):\n",
    "    top = df[col].value_counts()[:num]\n",
    "    if x in top:\n",
    "        return x\n",
    "    if x not in top:\n",
    "        return 'Others'\n",
    "    \n",
    "df_2.loc[:,'director'] = df_2['director'].apply(lambda x: convert_to_others(df_2, 'director', x, 10))\n",
    "df_2.loc[:,'production_countries'] = df_2['production_countries'].apply(lambda x: convert_to_others(df_2, 'production_countries', x, 5))\n",
    "df_2.loc[:,'original_language'] = df_2['original_language'].apply(lambda x: convert_to_others(df_2, 'original_language', x, 5))"
   ]
  },
  {
   "cell_type": "code",
   "execution_count": 71,
   "metadata": {},
   "outputs": [],
   "source": [
    "# get dummy variables \n",
    "columns = ['director','production_countries', 'original_language']\n",
    "prefix_dic = {'director': 'director','production_countries':'country','original_language': 'language'}\n",
    "df_dummy = pd.get_dummies(df_2, columns = columns, prefix = prefix_dic)"
   ]
  },
  {
   "cell_type": "code",
   "execution_count": 72,
   "metadata": {},
   "outputs": [],
   "source": [
    "# drop column 'Others' from the dataframe\n",
    "df_dummy.drop(columns = ['director_Others', 'language_Others', 'country_Others'], inplace = True)"
   ]
  },
  {
   "cell_type": "code",
   "execution_count": 73,
   "metadata": {},
   "outputs": [],
   "source": [
    "# dummy encoding for genre\n",
    "df_genre = pd.get_dummies(pd.Series(df['genres']).apply(pd.Series).stack()).sum(level=0).drop(columns = 'Documentary')"
   ]
  },
  {
   "cell_type": "code",
   "execution_count": 74,
   "metadata": {},
   "outputs": [],
   "source": [
    "# for 'cast' column, we only select top 30 movie stars with the most appearance \n",
    "# and convert the rest to 'Others'\n",
    "# compute the top casts\n",
    "from collections import Counter\n",
    "def occurence(Series):\n",
    "    cnt = Counter()\n",
    "    \n",
    "    def cast_dict(x):\n",
    "        cast_dict = Counter()\n",
    "        for cast in x:\n",
    "            cast_dict[cast] += 1\n",
    "        return cast_dict\n",
    "    for d in Series.apply(cast_dict):\n",
    "        cnt += d\n",
    "    return cnt"
   ]
  },
  {
   "cell_type": "code",
   "execution_count": 75,
   "metadata": {},
   "outputs": [
    {
     "name": "stdout",
     "output_type": "stream",
     "text": [
      "['Robert De Niro', 'Nicolas Cage', 'Bruce Willis', 'Tom Hanks', 'Johnny Depp', 'Matt Damon', 'Sylvester Stallone', 'Samuel L. Jackson', 'Tom Cruise', 'Harrison Ford']\n"
     ]
    }
   ],
   "source": [
    "top_cast = sorted(occurence(df.cast), key = occurence(df.cast).get, reverse = True) [:10]\n",
    "print (top_cast)"
   ]
  },
  {
   "cell_type": "code",
   "execution_count": 76,
   "metadata": {},
   "outputs": [],
   "source": [
    "# iterate through each list\n",
    "# turn each list into a set\n",
    "# compare the set with the set(top_cast)\n",
    "# return the elements appearing in both set\n",
    "\n",
    "def compare_two_sets(x):\n",
    "    if bool(set(x) & set(top_cast)):\n",
    "        return list(set(x) & set(top_cast))\n",
    "    else:\n",
    "        return ['Others']\n",
    "df_2.loc[:,'cast'] = df_2['cast'].apply(compare_two_sets)"
   ]
  },
  {
   "cell_type": "code",
   "execution_count": 77,
   "metadata": {},
   "outputs": [],
   "source": [
    "# dummy encoding for cast\n",
    "df_cast = pd.get_dummies(pd.Series(df_2['cast']).apply(pd.Series).stack()).sum(level=0).drop(columns = 'Others')"
   ]
  },
  {
   "cell_type": "code",
   "execution_count": 78,
   "metadata": {},
   "outputs": [],
   "source": [
    "# dummy encoding for month\n",
    "df_month = pd.get_dummies(df['month'], drop_first = True)\n",
    "df_month.rename(columns = {2:'Feb',3:'Mar',4:'Apr',5:'May',6:'Jun',7:'Jul',8:'Aug',9:'Sep',10:'Oct',11:'Nov',12:'Dec'}, inplace = True)"
   ]
  },
  {
   "cell_type": "code",
   "execution_count": 79,
   "metadata": {},
   "outputs": [],
   "source": [
    "# concate the dataframe\n",
    "df_clean = pd.concat([df_dummy, df_cast, df_genre, df_month], axis = 1).drop(columns = ['genres','cast','month'])"
   ]
  },
  {
   "cell_type": "code",
   "execution_count": 80,
   "metadata": {
    "scrolled": false
   },
   "outputs": [
    {
     "data": {
      "text/html": [
       "<div>\n",
       "<style scoped>\n",
       "    .dataframe tbody tr th:only-of-type {\n",
       "        vertical-align: middle;\n",
       "    }\n",
       "\n",
       "    .dataframe tbody tr th {\n",
       "        vertical-align: top;\n",
       "    }\n",
       "\n",
       "    .dataframe thead th {\n",
       "        text-align: right;\n",
       "    }\n",
       "</style>\n",
       "<table border=\"1\" class=\"dataframe\">\n",
       "  <thead>\n",
       "    <tr style=\"text-align: right;\">\n",
       "      <th></th>\n",
       "      <th>budget</th>\n",
       "      <th>is_collection</th>\n",
       "      <th>runtime</th>\n",
       "      <th>votes_per_movie</th>\n",
       "      <th>weighted_rating</th>\n",
       "      <th>is_adapted</th>\n",
       "      <th>is_YA</th>\n",
       "      <th>major_studio</th>\n",
       "      <th>director_Alfred Hitchcock</th>\n",
       "      <th>director_Clint Eastwood</th>\n",
       "      <th>...</th>\n",
       "      <th>Mar</th>\n",
       "      <th>Apr</th>\n",
       "      <th>May</th>\n",
       "      <th>Jun</th>\n",
       "      <th>Jul</th>\n",
       "      <th>Aug</th>\n",
       "      <th>Sep</th>\n",
       "      <th>Oct</th>\n",
       "      <th>Nov</th>\n",
       "      <th>Dec</th>\n",
       "    </tr>\n",
       "  </thead>\n",
       "  <tbody>\n",
       "    <tr>\n",
       "      <th>0</th>\n",
       "      <td>30000000</td>\n",
       "      <td>1</td>\n",
       "      <td>81.0</td>\n",
       "      <td>66008</td>\n",
       "      <td>3.887294</td>\n",
       "      <td>0</td>\n",
       "      <td>0</td>\n",
       "      <td>0</td>\n",
       "      <td>0</td>\n",
       "      <td>0</td>\n",
       "      <td>...</td>\n",
       "      <td>0</td>\n",
       "      <td>0</td>\n",
       "      <td>0</td>\n",
       "      <td>0</td>\n",
       "      <td>0</td>\n",
       "      <td>0</td>\n",
       "      <td>0</td>\n",
       "      <td>1</td>\n",
       "      <td>0</td>\n",
       "      <td>0</td>\n",
       "    </tr>\n",
       "    <tr>\n",
       "      <th>1</th>\n",
       "      <td>65000000</td>\n",
       "      <td>0</td>\n",
       "      <td>104.0</td>\n",
       "      <td>26060</td>\n",
       "      <td>3.236489</td>\n",
       "      <td>1</td>\n",
       "      <td>0</td>\n",
       "      <td>0</td>\n",
       "      <td>0</td>\n",
       "      <td>0</td>\n",
       "      <td>...</td>\n",
       "      <td>0</td>\n",
       "      <td>0</td>\n",
       "      <td>0</td>\n",
       "      <td>0</td>\n",
       "      <td>0</td>\n",
       "      <td>0</td>\n",
       "      <td>0</td>\n",
       "      <td>0</td>\n",
       "      <td>0</td>\n",
       "      <td>1</td>\n",
       "    </tr>\n",
       "    <tr>\n",
       "      <th>2</th>\n",
       "      <td>16000000</td>\n",
       "      <td>0</td>\n",
       "      <td>127.0</td>\n",
       "      <td>2981</td>\n",
       "      <td>2.879907</td>\n",
       "      <td>1</td>\n",
       "      <td>0</td>\n",
       "      <td>1</td>\n",
       "      <td>0</td>\n",
       "      <td>0</td>\n",
       "      <td>...</td>\n",
       "      <td>0</td>\n",
       "      <td>0</td>\n",
       "      <td>0</td>\n",
       "      <td>0</td>\n",
       "      <td>0</td>\n",
       "      <td>0</td>\n",
       "      <td>0</td>\n",
       "      <td>0</td>\n",
       "      <td>0</td>\n",
       "      <td>1</td>\n",
       "    </tr>\n",
       "    <tr>\n",
       "      <th>3</th>\n",
       "      <td>60000000</td>\n",
       "      <td>0</td>\n",
       "      <td>170.0</td>\n",
       "      <td>27895</td>\n",
       "      <td>3.839837</td>\n",
       "      <td>0</td>\n",
       "      <td>0</td>\n",
       "      <td>0</td>\n",
       "      <td>0</td>\n",
       "      <td>0</td>\n",
       "      <td>...</td>\n",
       "      <td>0</td>\n",
       "      <td>0</td>\n",
       "      <td>0</td>\n",
       "      <td>0</td>\n",
       "      <td>0</td>\n",
       "      <td>0</td>\n",
       "      <td>0</td>\n",
       "      <td>0</td>\n",
       "      <td>0</td>\n",
       "      <td>1</td>\n",
       "    </tr>\n",
       "    <tr>\n",
       "      <th>4</th>\n",
       "      <td>35000000</td>\n",
       "      <td>0</td>\n",
       "      <td>106.0</td>\n",
       "      <td>4423</td>\n",
       "      <td>3.009175</td>\n",
       "      <td>0</td>\n",
       "      <td>0</td>\n",
       "      <td>1</td>\n",
       "      <td>0</td>\n",
       "      <td>0</td>\n",
       "      <td>...</td>\n",
       "      <td>0</td>\n",
       "      <td>0</td>\n",
       "      <td>0</td>\n",
       "      <td>0</td>\n",
       "      <td>0</td>\n",
       "      <td>0</td>\n",
       "      <td>0</td>\n",
       "      <td>0</td>\n",
       "      <td>0</td>\n",
       "      <td>1</td>\n",
       "    </tr>\n",
       "  </tbody>\n",
       "</table>\n",
       "<p>5 rows × 59 columns</p>\n",
       "</div>"
      ],
      "text/plain": [
       "     budget  is_collection  runtime  votes_per_movie  weighted_rating  \\\n",
       "0  30000000              1     81.0            66008         3.887294   \n",
       "1  65000000              0    104.0            26060         3.236489   \n",
       "2  16000000              0    127.0             2981         2.879907   \n",
       "3  60000000              0    170.0            27895         3.839837   \n",
       "4  35000000              0    106.0             4423         3.009175   \n",
       "\n",
       "   is_adapted  is_YA  major_studio  director_Alfred Hitchcock  \\\n",
       "0           0      0             0                          0   \n",
       "1           1      0             0                          0   \n",
       "2           1      0             1                          0   \n",
       "3           0      0             0                          0   \n",
       "4           0      0             1                          0   \n",
       "\n",
       "   director_Clint Eastwood  ...  Mar  Apr  May  Jun  Jul  Aug  Sep  Oct  Nov  \\\n",
       "0                        0  ...    0    0    0    0    0    0    0    1    0   \n",
       "1                        0  ...    0    0    0    0    0    0    0    0    0   \n",
       "2                        0  ...    0    0    0    0    0    0    0    0    0   \n",
       "3                        0  ...    0    0    0    0    0    0    0    0    0   \n",
       "4                        0  ...    0    0    0    0    0    0    0    0    0   \n",
       "\n",
       "   Dec  \n",
       "0    0  \n",
       "1    1  \n",
       "2    1  \n",
       "3    1  \n",
       "4    1  \n",
       "\n",
       "[5 rows x 59 columns]"
      ]
     },
     "execution_count": 80,
     "metadata": {},
     "output_type": "execute_result"
    }
   ],
   "source": [
    "df_clean.head()"
   ]
  },
  {
   "cell_type": "code",
   "execution_count": 81,
   "metadata": {},
   "outputs": [
    {
     "data": {
      "text/plain": [
       "(4322, 59)"
      ]
     },
     "execution_count": 81,
     "metadata": {},
     "output_type": "execute_result"
    }
   ],
   "source": [
    "df_clean.shape"
   ]
  },
  {
   "cell_type": "code",
   "execution_count": 82,
   "metadata": {},
   "outputs": [],
   "source": [
    "# Ensure there no NaN values before fitting the model\n",
    "df_clean.dropna(axis = 0, how = 'any', inplace = True)"
   ]
  },
  {
   "cell_type": "code",
   "execution_count": 83,
   "metadata": {},
   "outputs": [
    {
     "data": {
      "text/plain": [
       "0"
      ]
     },
     "execution_count": 83,
     "metadata": {},
     "output_type": "execute_result"
    }
   ],
   "source": [
    "df_clean.isna().sum().sum()"
   ]
  },
  {
   "cell_type": "markdown",
   "metadata": {},
   "source": [
    "### Final Check Correlation among Features\n",
    "After data transformation process using dummy encoding, I re-check the correlation values among variables before passing the data to models."
   ]
  },
  {
   "cell_type": "code",
   "execution_count": 84,
   "metadata": {
    "scrolled": true
   },
   "outputs": [
    {
     "name": "stdout",
     "output_type": "stream",
     "text": [
      "Empty DataFrame\n",
      "Columns: []\n",
      "Index: []\n"
     ]
    }
   ],
   "source": [
    "# find highly correlated features with Pearson Correlation higher than 0.7\n",
    "corr_maxtric = df_clean.corr().abs()\n",
    "cols = df_clean.columns\n",
    "correlated_pairs = set()\n",
    "for i in range(len(cols)):\n",
    "    for j in range(i):\n",
    "        if corr_maxtric.iloc[i,j] > 0.7:\n",
    "            correlated_pairs.add((cols[i],cols[j],corr_maxtric.iloc[i,j]))\n",
    "print (pd.DataFrame(correlated_pairs))"
   ]
  },
  {
   "cell_type": "markdown",
   "metadata": {},
   "source": [
    "# Machine Learning Prediction"
   ]
  },
  {
   "cell_type": "markdown",
   "metadata": {},
   "source": [
    "## Decision Tree"
   ]
  },
  {
   "cell_type": "code",
   "execution_count": 85,
   "metadata": {},
   "outputs": [],
   "source": [
    "#  Import 'r2_score'\n",
    "from sklearn.metrics import r2_score\n",
    "from sklearn.model_selection import ShuffleSplit"
   ]
  },
  {
   "cell_type": "code",
   "execution_count": 86,
   "metadata": {},
   "outputs": [],
   "source": [
    "def performance_metric(y_true, y_predict):\n",
    "    \"\"\" Calculates and returns the performance score between \n",
    "        true and predicted values based on the metric chosen. \"\"\"\n",
    "    \n",
    "    #   Calculate the performance score between 'y_true' and 'y_predict'\n",
    "    score = r2_score(y_true, y_predict)\n",
    "    \n",
    "    # Return the score\n",
    "    return score"
   ]
  },
  {
   "cell_type": "code",
   "execution_count": 87,
   "metadata": {},
   "outputs": [],
   "source": [
    "# split dataset in features and target variable\n",
    "feature_cols = list(df_clean.columns)\n",
    "feature_cols.remove('weighted_rating')\n",
    "x = df_clean[feature_cols] # features\n",
    "y = df_clean['weighted_rating'] # target variable"
   ]
  },
  {
   "cell_type": "code",
   "execution_count": 88,
   "metadata": {},
   "outputs": [],
   "source": [
    "# Import 'make_scorer', 'DecisionTreeRegressor', and 'GridSearchCV'\n",
    "from sklearn.tree import DecisionTreeRegressor\n",
    "from sklearn.metrics import make_scorer\n",
    "from sklearn.model_selection import GridSearchCV\n",
    "\n",
    "def fit_model_dt(x, y):\n",
    "    \"\"\" Performs grid search over the 'max_depth' parameter for a \n",
    "        decision tree regressor trained on the input data [X, y]. \"\"\"\n",
    "    \n",
    "    # Create cross-validation sets from the training data\n",
    "    cv_sets = ShuffleSplit(n_splits=5, train_size = 0.20, random_state = 0)\n",
    "\n",
    "    #  Create a decision tree regressor object\n",
    "    regressor = DecisionTreeRegressor()\n",
    "\n",
    "    #  Create a dictionary for the parameter 'max_depth' with a range from 1 to 10\n",
    "    params = {'max_depth':range(1,11)}\n",
    "\n",
    "    #  Transform 'performance_metric' into a scoring function using 'make_scorer' \n",
    "    scoring_fnc = make_scorer(performance_metric)\n",
    "\n",
    "    #   Create the grid search cv object --> GridSearchCV()\n",
    "    # Make sure to include the right parameters in the object:\n",
    "    # (estimator, param_grid, scoring, cv) which have values 'regressor', 'params', 'scoring_fnc', and 'cv_sets' respectively.\n",
    "    grid = GridSearchCV(regressor, params, scoring_fnc, cv=cv_sets)\n",
    "\n",
    "    # Fit the grid search object to the data to compute the optimal model\n",
    "    grid = grid.fit(x, y)\n",
    "    \n",
    "    # Return the optimal model after fitting the data\n",
    "    return grid.best_estimator_"
   ]
  },
  {
   "cell_type": "code",
   "execution_count": 89,
   "metadata": {},
   "outputs": [
    {
     "name": "stderr",
     "output_type": "stream",
     "text": [
      "/anaconda3/lib/python3.7/site-packages/sklearn/model_selection/_split.py:1788: FutureWarning: From version 0.21, test_size will always complement train_size unless both are specified.\n",
      "  FutureWarning)\n"
     ]
    },
    {
     "data": {
      "text/plain": [
       "DecisionTreeRegressor(criterion='mse', max_depth=4, max_features=None,\n",
       "           max_leaf_nodes=None, min_impurity_decrease=0.0,\n",
       "           min_impurity_split=None, min_samples_leaf=1,\n",
       "           min_samples_split=2, min_weight_fraction_leaf=0.0,\n",
       "           presort=False, random_state=None, splitter='best')"
      ]
     },
     "execution_count": 89,
     "metadata": {},
     "output_type": "execute_result"
    }
   ],
   "source": [
    "# Get the best parameter\n",
    "fit_model_dt(x, y)"
   ]
  },
  {
   "cell_type": "code",
   "execution_count": 90,
   "metadata": {},
   "outputs": [],
   "source": [
    "# Split the dataframe into two 80% for training and 20% testing\n",
    "from sklearn.model_selection import train_test_split\n",
    "x_train, x_test, y_train, y_test = train_test_split(x, y, test_size=0.2)"
   ]
  },
  {
   "cell_type": "code",
   "execution_count": 116,
   "metadata": {},
   "outputs": [],
   "source": [
    "# Train regression tree model\n",
    "dt = DecisionTreeRegressor(max_depth=4)\n",
    "dt.fit(x_train, y_train)\n",
    "# Predict the response for test dataset\n",
    "y_pred_dt = dt.predict(x_test)"
   ]
  },
  {
   "cell_type": "code",
   "execution_count": 117,
   "metadata": {},
   "outputs": [
    {
     "data": {
      "text/plain": [
       "0.4065637129682883"
      ]
     },
     "execution_count": 117,
     "metadata": {},
     "output_type": "execute_result"
    }
   ],
   "source": [
    "# Performance on training data\n",
    "r2_score(y_train, dt.predict(x_train))"
   ]
  },
  {
   "cell_type": "code",
   "execution_count": 118,
   "metadata": {},
   "outputs": [
    {
     "data": {
      "text/plain": [
       "0.3446569408727942"
      ]
     },
     "execution_count": 118,
     "metadata": {},
     "output_type": "execute_result"
    }
   ],
   "source": [
    "# Performance on test data\n",
    "r2_score(y_test, y_pred_dt)"
   ]
  },
  {
   "cell_type": "code",
   "execution_count": 94,
   "metadata": {
    "scrolled": false
   },
   "outputs": [
    {
     "data": {
      "text/plain": [
       "array([0.11030713, 0.02760448, 0.09260292, 0.48184469, 0.        ,\n",
       "       0.        , 0.        , 0.        , 0.        , 0.        ,\n",
       "       0.        , 0.        , 0.        , 0.        , 0.        ,\n",
       "       0.        , 0.        , 0.        , 0.        , 0.        ,\n",
       "       0.        , 0.        , 0.        , 0.        , 0.        ,\n",
       "       0.        , 0.        , 0.        , 0.        , 0.        ,\n",
       "       0.        , 0.        , 0.        , 0.        , 0.        ,\n",
       "       0.        , 0.        , 0.        , 0.        , 0.        ,\n",
       "       0.        , 0.28764079, 0.        , 0.        , 0.        ,\n",
       "       0.        , 0.        , 0.        , 0.        , 0.        ,\n",
       "       0.        , 0.        , 0.        , 0.        , 0.        ,\n",
       "       0.        , 0.        , 0.        ])"
      ]
     },
     "execution_count": 94,
     "metadata": {},
     "output_type": "execute_result"
    }
   ],
   "source": [
    "dt.feature_importances_"
   ]
  },
  {
   "cell_type": "code",
   "execution_count": 95,
   "metadata": {
    "scrolled": true
   },
   "outputs": [
    {
     "data": {
      "text/plain": [
       "[('budget', 0.11030712542426006),\n",
       " ('is_collection', 0.027604477415886883),\n",
       " ('runtime', 0.09260291859458526),\n",
       " ('votes_per_movie', 0.48184468820681847),\n",
       " ('is_adapted', 0.0),\n",
       " ('is_YA', 0.0),\n",
       " ('major_studio', 0.0),\n",
       " ('director_Alfred Hitchcock', 0.0),\n",
       " ('director_Clint Eastwood', 0.0),\n",
       " ('director_Martin Scorsese', 0.0),\n",
       " ('director_Oliver Stone', 0.0),\n",
       " ('director_Ridley Scott', 0.0),\n",
       " ('director_Robert Zemeckis', 0.0),\n",
       " ('director_Steven Soderbergh', 0.0),\n",
       " ('director_Steven Spielberg', 0.0),\n",
       " ('director_Tim Burton', 0.0),\n",
       " ('director_Woody Allen', 0.0),\n",
       " ('country_Canada', 0.0),\n",
       " ('country_France', 0.0),\n",
       " ('country_Germany', 0.0),\n",
       " ('country_United Kingdom', 0.0),\n",
       " ('country_United States of America', 0.0),\n",
       " ('language_en', 0.0),\n",
       " ('language_es', 0.0),\n",
       " ('language_fr', 0.0),\n",
       " ('language_hi', 0.0),\n",
       " ('language_ja', 0.0),\n",
       " ('Bruce Willis', 0.0),\n",
       " ('Harrison Ford', 0.0),\n",
       " ('Johnny Depp', 0.0),\n",
       " ('Matt Damon', 0.0),\n",
       " ('Nicolas Cage', 0.0),\n",
       " ('Robert De Niro', 0.0),\n",
       " ('Samuel L. Jackson', 0.0),\n",
       " ('Sylvester Stallone', 0.0),\n",
       " ('Tom Cruise', 0.0),\n",
       " ('Tom Hanks', 0.0),\n",
       " ('Action', 0.0),\n",
       " ('Adventure', 0.0),\n",
       " ('Animation', 0.0),\n",
       " ('Comedy', 0.0),\n",
       " ('Drama', 0.2876407903584492),\n",
       " ('Family', 0.0),\n",
       " ('Fantasy', 0.0),\n",
       " ('Horror', 0.0),\n",
       " ('Romance', 0.0),\n",
       " ('Thriller', 0.0),\n",
       " ('Feb', 0.0),\n",
       " ('Mar', 0.0),\n",
       " ('Apr', 0.0),\n",
       " ('May', 0.0),\n",
       " ('Jun', 0.0),\n",
       " ('Jul', 0.0),\n",
       " ('Aug', 0.0),\n",
       " ('Sep', 0.0),\n",
       " ('Oct', 0.0),\n",
       " ('Nov', 0.0),\n",
       " ('Dec', 0.0)]"
      ]
     },
     "execution_count": 95,
     "metadata": {},
     "output_type": "execute_result"
    }
   ],
   "source": [
    "list(zip(feature_cols, dt.feature_importances_))"
   ]
  },
  {
   "cell_type": "markdown",
   "metadata": {},
   "source": [
    "## Random Forest"
   ]
  },
  {
   "cell_type": "code",
   "execution_count": 96,
   "metadata": {
    "scrolled": true
   },
   "outputs": [
    {
     "name": "stderr",
     "output_type": "stream",
     "text": [
      "/anaconda3/lib/python3.7/site-packages/sklearn/ensemble/forest.py:246: FutureWarning: The default value of n_estimators will change from 10 in version 0.20 to 100 in 0.22.\n",
      "  \"10 in version 0.20 to 100 in 0.22.\", FutureWarning)\n"
     ]
    },
    {
     "data": {
      "text/plain": [
       "0.904345992231273"
      ]
     },
     "execution_count": 96,
     "metadata": {},
     "output_type": "execute_result"
    }
   ],
   "source": [
    "from sklearn.ensemble import RandomForestRegressor\n",
    "rfr = RandomForestRegressor()\n",
    "rfr.fit(x_train, y_train)\n",
    "rfr.score(x_train, y_train) # yeilds R-squared value"
   ]
  },
  {
   "cell_type": "code",
   "execution_count": 97,
   "metadata": {},
   "outputs": [],
   "source": [
    "# Import 'make_scorer', 'DecisionTreeRegressor', and 'GridSearchCV'\n",
    "from sklearn.ensemble import RandomForestRegressor\n",
    "from sklearn.metrics import make_scorer\n",
    "from sklearn.model_selection import GridSearchCV\n",
    "\n",
    "def fit_model_rfr(x, y):\n",
    "    \"\"\" Performs grid search over the 'max_depth' parameter for a \n",
    "        decision tree regressor trained on the input data [X, y]. \"\"\"\n",
    "    \n",
    "    # Create cross-validation sets from the training data\n",
    "    # sklearn version 0.18: ShuffleSplit(n_splits=10, test_size=0.1, train_size=None, random_state=None)\n",
    "    # sklearn versiin 0.17: ShuffleSplit(n, n_iter=10, test_size=0.1, train_size=None, random_state=None)\n",
    "    cv_sets = ShuffleSplit(n_splits=5, train_size = 0.20, random_state = 0)\n",
    "\n",
    "    #  Create a decision tree regressor object\n",
    "    rfr = RandomForestRegressor()\n",
    "\n",
    "    #  Create a dictionary for the parameter 'max_depth' with a range from 1 to 10\n",
    "    params = {'max_depth':range(1,11)}\n",
    "\n",
    "    #  Transform 'performance_metric' into a scoring function using 'make_scorer' \n",
    "    scoring_fnc = make_scorer(performance_metric)\n",
    "\n",
    "    #   Create the grid search cv object --> GridSearchCV()\n",
    "    # Make sure to include the right parameters in the object:\n",
    "    # (estimator, param_grid, scoring, cv) which have values 'regressor', 'params', 'scoring_fnc', and 'cv_sets' respectively.\n",
    "    grid = GridSearchCV(rfr, params, scoring_fnc, cv=cv_sets)\n",
    "\n",
    "    # Fit the grid search object to the data to compute the optimal model\n",
    "    grid = grid.fit(x, y)\n",
    " #   print \"Parameter 'max_depth' is {} for the optimal model.\".format(grid.get_params() )\n",
    "\n",
    "    # Return the optimal model after fitting the data\n",
    "    return grid.best_estimator_"
   ]
  },
  {
   "cell_type": "code",
   "execution_count": 98,
   "metadata": {
    "scrolled": true
   },
   "outputs": [
    {
     "name": "stderr",
     "output_type": "stream",
     "text": [
      "/anaconda3/lib/python3.7/site-packages/sklearn/model_selection/_split.py:1788: FutureWarning: From version 0.21, test_size will always complement train_size unless both are specified.\n",
      "  FutureWarning)\n",
      "/anaconda3/lib/python3.7/site-packages/sklearn/ensemble/forest.py:246: FutureWarning: The default value of n_estimators will change from 10 in version 0.20 to 100 in 0.22.\n",
      "  \"10 in version 0.20 to 100 in 0.22.\", FutureWarning)\n",
      "/anaconda3/lib/python3.7/site-packages/sklearn/ensemble/forest.py:246: FutureWarning: The default value of n_estimators will change from 10 in version 0.20 to 100 in 0.22.\n",
      "  \"10 in version 0.20 to 100 in 0.22.\", FutureWarning)\n",
      "/anaconda3/lib/python3.7/site-packages/sklearn/ensemble/forest.py:246: FutureWarning: The default value of n_estimators will change from 10 in version 0.20 to 100 in 0.22.\n",
      "  \"10 in version 0.20 to 100 in 0.22.\", FutureWarning)\n",
      "/anaconda3/lib/python3.7/site-packages/sklearn/ensemble/forest.py:246: FutureWarning: The default value of n_estimators will change from 10 in version 0.20 to 100 in 0.22.\n",
      "  \"10 in version 0.20 to 100 in 0.22.\", FutureWarning)\n",
      "/anaconda3/lib/python3.7/site-packages/sklearn/ensemble/forest.py:246: FutureWarning: The default value of n_estimators will change from 10 in version 0.20 to 100 in 0.22.\n",
      "  \"10 in version 0.20 to 100 in 0.22.\", FutureWarning)\n",
      "/anaconda3/lib/python3.7/site-packages/sklearn/ensemble/forest.py:246: FutureWarning: The default value of n_estimators will change from 10 in version 0.20 to 100 in 0.22.\n",
      "  \"10 in version 0.20 to 100 in 0.22.\", FutureWarning)\n",
      "/anaconda3/lib/python3.7/site-packages/sklearn/ensemble/forest.py:246: FutureWarning: The default value of n_estimators will change from 10 in version 0.20 to 100 in 0.22.\n",
      "  \"10 in version 0.20 to 100 in 0.22.\", FutureWarning)\n",
      "/anaconda3/lib/python3.7/site-packages/sklearn/ensemble/forest.py:246: FutureWarning: The default value of n_estimators will change from 10 in version 0.20 to 100 in 0.22.\n",
      "  \"10 in version 0.20 to 100 in 0.22.\", FutureWarning)\n",
      "/anaconda3/lib/python3.7/site-packages/sklearn/ensemble/forest.py:246: FutureWarning: The default value of n_estimators will change from 10 in version 0.20 to 100 in 0.22.\n",
      "  \"10 in version 0.20 to 100 in 0.22.\", FutureWarning)\n",
      "/anaconda3/lib/python3.7/site-packages/sklearn/ensemble/forest.py:246: FutureWarning: The default value of n_estimators will change from 10 in version 0.20 to 100 in 0.22.\n",
      "  \"10 in version 0.20 to 100 in 0.22.\", FutureWarning)\n",
      "/anaconda3/lib/python3.7/site-packages/sklearn/ensemble/forest.py:246: FutureWarning: The default value of n_estimators will change from 10 in version 0.20 to 100 in 0.22.\n",
      "  \"10 in version 0.20 to 100 in 0.22.\", FutureWarning)\n",
      "/anaconda3/lib/python3.7/site-packages/sklearn/ensemble/forest.py:246: FutureWarning: The default value of n_estimators will change from 10 in version 0.20 to 100 in 0.22.\n",
      "  \"10 in version 0.20 to 100 in 0.22.\", FutureWarning)\n",
      "/anaconda3/lib/python3.7/site-packages/sklearn/ensemble/forest.py:246: FutureWarning: The default value of n_estimators will change from 10 in version 0.20 to 100 in 0.22.\n",
      "  \"10 in version 0.20 to 100 in 0.22.\", FutureWarning)\n",
      "/anaconda3/lib/python3.7/site-packages/sklearn/ensemble/forest.py:246: FutureWarning: The default value of n_estimators will change from 10 in version 0.20 to 100 in 0.22.\n",
      "  \"10 in version 0.20 to 100 in 0.22.\", FutureWarning)\n",
      "/anaconda3/lib/python3.7/site-packages/sklearn/ensemble/forest.py:246: FutureWarning: The default value of n_estimators will change from 10 in version 0.20 to 100 in 0.22.\n",
      "  \"10 in version 0.20 to 100 in 0.22.\", FutureWarning)\n",
      "/anaconda3/lib/python3.7/site-packages/sklearn/ensemble/forest.py:246: FutureWarning: The default value of n_estimators will change from 10 in version 0.20 to 100 in 0.22.\n",
      "  \"10 in version 0.20 to 100 in 0.22.\", FutureWarning)\n",
      "/anaconda3/lib/python3.7/site-packages/sklearn/ensemble/forest.py:246: FutureWarning: The default value of n_estimators will change from 10 in version 0.20 to 100 in 0.22.\n",
      "  \"10 in version 0.20 to 100 in 0.22.\", FutureWarning)\n",
      "/anaconda3/lib/python3.7/site-packages/sklearn/ensemble/forest.py:246: FutureWarning: The default value of n_estimators will change from 10 in version 0.20 to 100 in 0.22.\n",
      "  \"10 in version 0.20 to 100 in 0.22.\", FutureWarning)\n",
      "/anaconda3/lib/python3.7/site-packages/sklearn/ensemble/forest.py:246: FutureWarning: The default value of n_estimators will change from 10 in version 0.20 to 100 in 0.22.\n",
      "  \"10 in version 0.20 to 100 in 0.22.\", FutureWarning)\n",
      "/anaconda3/lib/python3.7/site-packages/sklearn/ensemble/forest.py:246: FutureWarning: The default value of n_estimators will change from 10 in version 0.20 to 100 in 0.22.\n",
      "  \"10 in version 0.20 to 100 in 0.22.\", FutureWarning)\n",
      "/anaconda3/lib/python3.7/site-packages/sklearn/ensemble/forest.py:246: FutureWarning: The default value of n_estimators will change from 10 in version 0.20 to 100 in 0.22.\n",
      "  \"10 in version 0.20 to 100 in 0.22.\", FutureWarning)\n",
      "/anaconda3/lib/python3.7/site-packages/sklearn/ensemble/forest.py:246: FutureWarning: The default value of n_estimators will change from 10 in version 0.20 to 100 in 0.22.\n",
      "  \"10 in version 0.20 to 100 in 0.22.\", FutureWarning)\n",
      "/anaconda3/lib/python3.7/site-packages/sklearn/ensemble/forest.py:246: FutureWarning: The default value of n_estimators will change from 10 in version 0.20 to 100 in 0.22.\n",
      "  \"10 in version 0.20 to 100 in 0.22.\", FutureWarning)\n",
      "/anaconda3/lib/python3.7/site-packages/sklearn/ensemble/forest.py:246: FutureWarning: The default value of n_estimators will change from 10 in version 0.20 to 100 in 0.22.\n",
      "  \"10 in version 0.20 to 100 in 0.22.\", FutureWarning)\n",
      "/anaconda3/lib/python3.7/site-packages/sklearn/ensemble/forest.py:246: FutureWarning: The default value of n_estimators will change from 10 in version 0.20 to 100 in 0.22.\n",
      "  \"10 in version 0.20 to 100 in 0.22.\", FutureWarning)\n",
      "/anaconda3/lib/python3.7/site-packages/sklearn/ensemble/forest.py:246: FutureWarning: The default value of n_estimators will change from 10 in version 0.20 to 100 in 0.22.\n",
      "  \"10 in version 0.20 to 100 in 0.22.\", FutureWarning)\n",
      "/anaconda3/lib/python3.7/site-packages/sklearn/ensemble/forest.py:246: FutureWarning: The default value of n_estimators will change from 10 in version 0.20 to 100 in 0.22.\n",
      "  \"10 in version 0.20 to 100 in 0.22.\", FutureWarning)\n",
      "/anaconda3/lib/python3.7/site-packages/sklearn/ensemble/forest.py:246: FutureWarning: The default value of n_estimators will change from 10 in version 0.20 to 100 in 0.22.\n",
      "  \"10 in version 0.20 to 100 in 0.22.\", FutureWarning)\n",
      "/anaconda3/lib/python3.7/site-packages/sklearn/ensemble/forest.py:246: FutureWarning: The default value of n_estimators will change from 10 in version 0.20 to 100 in 0.22.\n",
      "  \"10 in version 0.20 to 100 in 0.22.\", FutureWarning)\n",
      "/anaconda3/lib/python3.7/site-packages/sklearn/ensemble/forest.py:246: FutureWarning: The default value of n_estimators will change from 10 in version 0.20 to 100 in 0.22.\n",
      "  \"10 in version 0.20 to 100 in 0.22.\", FutureWarning)\n",
      "/anaconda3/lib/python3.7/site-packages/sklearn/ensemble/forest.py:246: FutureWarning: The default value of n_estimators will change from 10 in version 0.20 to 100 in 0.22.\n",
      "  \"10 in version 0.20 to 100 in 0.22.\", FutureWarning)\n",
      "/anaconda3/lib/python3.7/site-packages/sklearn/ensemble/forest.py:246: FutureWarning: The default value of n_estimators will change from 10 in version 0.20 to 100 in 0.22.\n",
      "  \"10 in version 0.20 to 100 in 0.22.\", FutureWarning)\n",
      "/anaconda3/lib/python3.7/site-packages/sklearn/ensemble/forest.py:246: FutureWarning: The default value of n_estimators will change from 10 in version 0.20 to 100 in 0.22.\n",
      "  \"10 in version 0.20 to 100 in 0.22.\", FutureWarning)\n",
      "/anaconda3/lib/python3.7/site-packages/sklearn/ensemble/forest.py:246: FutureWarning: The default value of n_estimators will change from 10 in version 0.20 to 100 in 0.22.\n",
      "  \"10 in version 0.20 to 100 in 0.22.\", FutureWarning)\n",
      "/anaconda3/lib/python3.7/site-packages/sklearn/ensemble/forest.py:246: FutureWarning: The default value of n_estimators will change from 10 in version 0.20 to 100 in 0.22.\n",
      "  \"10 in version 0.20 to 100 in 0.22.\", FutureWarning)\n",
      "/anaconda3/lib/python3.7/site-packages/sklearn/ensemble/forest.py:246: FutureWarning: The default value of n_estimators will change from 10 in version 0.20 to 100 in 0.22.\n",
      "  \"10 in version 0.20 to 100 in 0.22.\", FutureWarning)\n",
      "/anaconda3/lib/python3.7/site-packages/sklearn/ensemble/forest.py:246: FutureWarning: The default value of n_estimators will change from 10 in version 0.20 to 100 in 0.22.\n",
      "  \"10 in version 0.20 to 100 in 0.22.\", FutureWarning)\n"
     ]
    },
    {
     "name": "stderr",
     "output_type": "stream",
     "text": [
      "/anaconda3/lib/python3.7/site-packages/sklearn/ensemble/forest.py:246: FutureWarning: The default value of n_estimators will change from 10 in version 0.20 to 100 in 0.22.\n",
      "  \"10 in version 0.20 to 100 in 0.22.\", FutureWarning)\n",
      "/anaconda3/lib/python3.7/site-packages/sklearn/ensemble/forest.py:246: FutureWarning: The default value of n_estimators will change from 10 in version 0.20 to 100 in 0.22.\n",
      "  \"10 in version 0.20 to 100 in 0.22.\", FutureWarning)\n",
      "/anaconda3/lib/python3.7/site-packages/sklearn/ensemble/forest.py:246: FutureWarning: The default value of n_estimators will change from 10 in version 0.20 to 100 in 0.22.\n",
      "  \"10 in version 0.20 to 100 in 0.22.\", FutureWarning)\n",
      "/anaconda3/lib/python3.7/site-packages/sklearn/ensemble/forest.py:246: FutureWarning: The default value of n_estimators will change from 10 in version 0.20 to 100 in 0.22.\n",
      "  \"10 in version 0.20 to 100 in 0.22.\", FutureWarning)\n",
      "/anaconda3/lib/python3.7/site-packages/sklearn/ensemble/forest.py:246: FutureWarning: The default value of n_estimators will change from 10 in version 0.20 to 100 in 0.22.\n",
      "  \"10 in version 0.20 to 100 in 0.22.\", FutureWarning)\n",
      "/anaconda3/lib/python3.7/site-packages/sklearn/ensemble/forest.py:246: FutureWarning: The default value of n_estimators will change from 10 in version 0.20 to 100 in 0.22.\n",
      "  \"10 in version 0.20 to 100 in 0.22.\", FutureWarning)\n",
      "/anaconda3/lib/python3.7/site-packages/sklearn/ensemble/forest.py:246: FutureWarning: The default value of n_estimators will change from 10 in version 0.20 to 100 in 0.22.\n",
      "  \"10 in version 0.20 to 100 in 0.22.\", FutureWarning)\n",
      "/anaconda3/lib/python3.7/site-packages/sklearn/ensemble/forest.py:246: FutureWarning: The default value of n_estimators will change from 10 in version 0.20 to 100 in 0.22.\n",
      "  \"10 in version 0.20 to 100 in 0.22.\", FutureWarning)\n",
      "/anaconda3/lib/python3.7/site-packages/sklearn/ensemble/forest.py:246: FutureWarning: The default value of n_estimators will change from 10 in version 0.20 to 100 in 0.22.\n",
      "  \"10 in version 0.20 to 100 in 0.22.\", FutureWarning)\n",
      "/anaconda3/lib/python3.7/site-packages/sklearn/ensemble/forest.py:246: FutureWarning: The default value of n_estimators will change from 10 in version 0.20 to 100 in 0.22.\n",
      "  \"10 in version 0.20 to 100 in 0.22.\", FutureWarning)\n",
      "/anaconda3/lib/python3.7/site-packages/sklearn/ensemble/forest.py:246: FutureWarning: The default value of n_estimators will change from 10 in version 0.20 to 100 in 0.22.\n",
      "  \"10 in version 0.20 to 100 in 0.22.\", FutureWarning)\n",
      "/anaconda3/lib/python3.7/site-packages/sklearn/ensemble/forest.py:246: FutureWarning: The default value of n_estimators will change from 10 in version 0.20 to 100 in 0.22.\n",
      "  \"10 in version 0.20 to 100 in 0.22.\", FutureWarning)\n",
      "/anaconda3/lib/python3.7/site-packages/sklearn/ensemble/forest.py:246: FutureWarning: The default value of n_estimators will change from 10 in version 0.20 to 100 in 0.22.\n",
      "  \"10 in version 0.20 to 100 in 0.22.\", FutureWarning)\n",
      "/anaconda3/lib/python3.7/site-packages/sklearn/ensemble/forest.py:246: FutureWarning: The default value of n_estimators will change from 10 in version 0.20 to 100 in 0.22.\n",
      "  \"10 in version 0.20 to 100 in 0.22.\", FutureWarning)\n"
     ]
    },
    {
     "data": {
      "text/plain": [
       "RandomForestRegressor(bootstrap=True, criterion='mse', max_depth=7,\n",
       "           max_features='auto', max_leaf_nodes=None,\n",
       "           min_impurity_decrease=0.0, min_impurity_split=None,\n",
       "           min_samples_leaf=1, min_samples_split=2,\n",
       "           min_weight_fraction_leaf=0.0, n_estimators=10, n_jobs=None,\n",
       "           oob_score=False, random_state=None, verbose=0, warm_start=False)"
      ]
     },
     "execution_count": 98,
     "metadata": {},
     "output_type": "execute_result"
    }
   ],
   "source": [
    "fit_model_rfr(x, y)"
   ]
  },
  {
   "cell_type": "code",
   "execution_count": 99,
   "metadata": {
    "scrolled": true
   },
   "outputs": [
    {
     "name": "stderr",
     "output_type": "stream",
     "text": [
      "/anaconda3/lib/python3.7/site-packages/sklearn/ensemble/forest.py:246: FutureWarning: The default value of n_estimators will change from 10 in version 0.20 to 100 in 0.22.\n",
      "  \"10 in version 0.20 to 100 in 0.22.\", FutureWarning)\n"
     ]
    }
   ],
   "source": [
    "rfr = RandomForestRegressor(max_depth=7)\n",
    "# train devision tree classifer\n",
    "rfr.fit(x_train, y_train)\n",
    "# predict the response for test dataset\n",
    "y_pred = rfr.predict(x_test)"
   ]
  },
  {
   "cell_type": "code",
   "execution_count": 100,
   "metadata": {},
   "outputs": [
    {
     "data": {
      "text/plain": [
       "0.6136262211885304"
      ]
     },
     "execution_count": 100,
     "metadata": {},
     "output_type": "execute_result"
    }
   ],
   "source": [
    "# performance on training data\n",
    "r2_score(y_train, rfr.predict(x_train))"
   ]
  },
  {
   "cell_type": "code",
   "execution_count": 101,
   "metadata": {},
   "outputs": [
    {
     "data": {
      "text/plain": [
       "0.4727894914009436"
      ]
     },
     "execution_count": 101,
     "metadata": {},
     "output_type": "execute_result"
    }
   ],
   "source": [
    "# performance on test data\n",
    "r2_score(y_test, y_pred)"
   ]
  },
  {
   "cell_type": "code",
   "execution_count": 121,
   "metadata": {},
   "outputs": [
    {
     "data": {
      "text/plain": [
       "[('budget', 0.14497985026483037),\n",
       " ('is_collection', 0.03162903843372648),\n",
       " ('runtime', 0.11892773063507749),\n",
       " ('votes_per_movie', 0.41162548400756005),\n",
       " ('is_adapted', 0.0023057181732954873),\n",
       " ('is_YA', 0.001229465996693221),\n",
       " ('major_studio', 0.005059530532898692),\n",
       " ('director_Alfred Hitchcock', 0.00019246685751997083),\n",
       " ('director_Clint Eastwood', 0.0),\n",
       " ('director_Martin Scorsese', 5.6352118638213435e-05),\n",
       " ('director_Oliver Stone', 0.000206930222107543),\n",
       " ('director_Ridley Scott', 0.0),\n",
       " ('director_Robert Zemeckis', 0.0),\n",
       " ('director_Steven Soderbergh', 0.0),\n",
       " ('director_Steven Spielberg', 0.0003124581339283077),\n",
       " ('director_Tim Burton', 4.795368104355616e-05),\n",
       " ('director_Woody Allen', 0.0004419336483714617),\n",
       " ('country_Canada', 0.00026736501097771525),\n",
       " ('country_France', 0.003985062801207218),\n",
       " ('country_Germany', 6.100193653198436e-06),\n",
       " ('country_United Kingdom', 0.0022116166834235847),\n",
       " ('country_United States of America', 0.007878697547200313),\n",
       " ('language_en', 0.0038488174684547087),\n",
       " ('language_es', 0.0),\n",
       " ('language_fr', 0.0006729209828250799),\n",
       " ('language_hi', 0.0),\n",
       " ('language_ja', 0.0010076123058404322),\n",
       " ('Bruce Willis', 0.0011287884530844015),\n",
       " ('Harrison Ford', 0.0002936866536250876),\n",
       " ('Johnny Depp', 0.0002026059832300807),\n",
       " ('Matt Damon', 0.0),\n",
       " ('Nicolas Cage', 0.0004996537912685293),\n",
       " ('Robert De Niro', 0.00019878333094639815),\n",
       " ('Samuel L. Jackson', 0.0),\n",
       " ('Sylvester Stallone', 0.0028483372319410443),\n",
       " ('Tom Cruise', 0.00015218946383615972),\n",
       " ('Tom Hanks', 6.334538700378873e-05),\n",
       " ('Action', 0.004074983206085547),\n",
       " ('Adventure', 0.0018184545610540402),\n",
       " ('Animation', 0.01091362076572689),\n",
       " ('Comedy', 0.0020310063072950203),\n",
       " ('Drama', 0.19443756996945855),\n",
       " ('Family', 0.002843949701986672),\n",
       " ('Fantasy', 0.002374380504050455),\n",
       " ('Horror', 0.0112852765151624),\n",
       " ('Romance', 0.003739355992844455),\n",
       " ('Thriller', 0.0022736594236810554),\n",
       " ('Feb', 0.0014053577196759168),\n",
       " ('Mar', 0.0007453972932913164),\n",
       " ('Apr', 0.000634121602111303),\n",
       " ('May', 0.0025634668535908763),\n",
       " ('Jun', 0.004003775758396047),\n",
       " ('Jul', 0.002302774294797509),\n",
       " ('Aug', 0.0015646353503403344),\n",
       " ('Sep', 0.0018337041107721601),\n",
       " ('Oct', 0.0019896132789171883),\n",
       " ('Nov', 0.0024092141217306852),\n",
       " ('Dec', 0.002475186674822996)]"
      ]
     },
     "execution_count": 121,
     "metadata": {},
     "output_type": "execute_result"
    }
   ],
   "source": [
    "list(zip(feature_cols, rfr.feature_importances_))"
   ]
  },
  {
   "cell_type": "markdown",
   "metadata": {},
   "source": [
    "# Conclusion"
   ]
  },
  {
   "cell_type": "markdown",
   "metadata": {},
   "source": [
    "In this project, I use decision tree regressor and random forest regressor to predict the weighted values of movie ratings. For both models, ,'budget','runtime','votes_per_movie', 'drama' serve as the more important feature for the prediction accuracy, with 'votes_per_movie' being the most crucial one. The popularity of a movie highly depends on how many audience watch it. \n",
    "\n",
    "**What to improve in the future**\n",
    "1. When trying to simplify features with many categories, besides of qualitative categorization, it's also worth trying to aggregate those categories based on whether they have similar values of target variables. For example, for genre, 'documentary', 'horror', and 'drama' should stay as individual category since their average values of weighted rating distinguish from others. But for the rest of genre types, they can be combined into one group since they perform similarily.\n",
    "2. When extracting new features, such as whether the movie is adapted from novels and whether it is a Young Adult fiction, the information from the dataset could be better verified with other resources to ensure the data is valid. "
   ]
  }
 ],
 "metadata": {
  "kernelspec": {
   "display_name": "Python 3",
   "language": "python",
   "name": "python3"
  },
  "language_info": {
   "codemirror_mode": {
    "name": "ipython",
    "version": 3
   },
   "file_extension": ".py",
   "mimetype": "text/x-python",
   "name": "python",
   "nbconvert_exporter": "python",
   "pygments_lexer": "ipython3",
   "version": "3.7.3"
  },
  "toc": {
   "base_numbering": 1,
   "nav_menu": {},
   "number_sections": false,
   "sideBar": true,
   "skip_h1_title": false,
   "title_cell": "Table of Contents",
   "title_sidebar": "Contents",
   "toc_cell": true,
   "toc_position": {},
   "toc_section_display": true,
   "toc_window_display": true
  }
 },
 "nbformat": 4,
 "nbformat_minor": 2
}
